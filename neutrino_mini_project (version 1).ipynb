{
  "nbformat": 4,
  "nbformat_minor": 0,
  "metadata": {
    "colab": {
      "name": "neutrino mini-project.ipynb",
      "provenance": [],
      "collapsed_sections": [],
      "authorship_tag": "ABX9TyPVnqXzmUsWJ4su6sTCGrKg",
      "include_colab_link": true
    },
    "kernelspec": {
      "display_name": "Python 3",
      "name": "python3"
    },
    "widgets": {
      "application/vnd.jupyter.widget-state+json": {
        "15d7cb86489d41d4aab14380f0a7fb42": {
          "model_module": "@jupyter-widgets/controls",
          "model_name": "HBoxModel",
          "state": {
            "_view_name": "HBoxView",
            "_dom_classes": [],
            "_model_name": "HBoxModel",
            "_view_module": "@jupyter-widgets/controls",
            "_model_module_version": "1.5.0",
            "_view_count": null,
            "_view_module_version": "1.5.0",
            "box_style": "",
            "layout": "IPY_MODEL_3724cff7838f4c04a844c65cae615186",
            "_model_module": "@jupyter-widgets/controls",
            "children": [
              "IPY_MODEL_e27fa603e8824c5b8dd511edba946f96",
              "IPY_MODEL_589b8c94745b4670b1a82b1a33671cc7"
            ]
          }
        },
        "3724cff7838f4c04a844c65cae615186": {
          "model_module": "@jupyter-widgets/base",
          "model_name": "LayoutModel",
          "state": {
            "_view_name": "LayoutView",
            "grid_template_rows": null,
            "right": null,
            "justify_content": null,
            "_view_module": "@jupyter-widgets/base",
            "overflow": null,
            "_model_module_version": "1.2.0",
            "_view_count": null,
            "flex_flow": null,
            "width": null,
            "min_width": null,
            "border": null,
            "align_items": null,
            "bottom": null,
            "_model_module": "@jupyter-widgets/base",
            "top": null,
            "grid_column": null,
            "overflow_y": null,
            "overflow_x": null,
            "grid_auto_flow": null,
            "grid_area": null,
            "grid_template_columns": null,
            "flex": null,
            "_model_name": "LayoutModel",
            "justify_items": null,
            "grid_row": null,
            "max_height": null,
            "align_content": null,
            "visibility": null,
            "align_self": null,
            "height": null,
            "min_height": null,
            "padding": null,
            "grid_auto_rows": null,
            "grid_gap": null,
            "max_width": null,
            "order": null,
            "_view_module_version": "1.2.0",
            "grid_template_areas": null,
            "object_position": null,
            "object_fit": null,
            "grid_auto_columns": null,
            "margin": null,
            "display": null,
            "left": null
          }
        },
        "e27fa603e8824c5b8dd511edba946f96": {
          "model_module": "@jupyter-widgets/controls",
          "model_name": "FloatProgressModel",
          "state": {
            "_view_name": "ProgressView",
            "style": "IPY_MODEL_800d16c98d7d439b80ba8fbfa6488d6d",
            "_dom_classes": [],
            "description": "100%",
            "_model_name": "FloatProgressModel",
            "bar_style": "success",
            "max": 7,
            "_view_module": "@jupyter-widgets/controls",
            "_model_module_version": "1.5.0",
            "value": 7,
            "_view_count": null,
            "_view_module_version": "1.5.0",
            "orientation": "horizontal",
            "min": 0,
            "description_tooltip": null,
            "_model_module": "@jupyter-widgets/controls",
            "layout": "IPY_MODEL_9fab5a568ec941e8ae3e2b8cdaf9f6ff"
          }
        },
        "589b8c94745b4670b1a82b1a33671cc7": {
          "model_module": "@jupyter-widgets/controls",
          "model_name": "HTMLModel",
          "state": {
            "_view_name": "HTMLView",
            "style": "IPY_MODEL_fc3a3225ba9a4d2cb52f929655ed3e91",
            "_dom_classes": [],
            "description": "",
            "_model_name": "HTMLModel",
            "placeholder": "​",
            "_view_module": "@jupyter-widgets/controls",
            "_model_module_version": "1.5.0",
            "value": " 7/7 [02:19&lt;00:00, 19.95s/it]",
            "_view_count": null,
            "_view_module_version": "1.5.0",
            "description_tooltip": null,
            "_model_module": "@jupyter-widgets/controls",
            "layout": "IPY_MODEL_2dd6b378aa1e4ada8a4d17400b60ed48"
          }
        },
        "800d16c98d7d439b80ba8fbfa6488d6d": {
          "model_module": "@jupyter-widgets/controls",
          "model_name": "ProgressStyleModel",
          "state": {
            "_view_name": "StyleView",
            "_model_name": "ProgressStyleModel",
            "description_width": "initial",
            "_view_module": "@jupyter-widgets/base",
            "_model_module_version": "1.5.0",
            "_view_count": null,
            "_view_module_version": "1.2.0",
            "bar_color": null,
            "_model_module": "@jupyter-widgets/controls"
          }
        },
        "9fab5a568ec941e8ae3e2b8cdaf9f6ff": {
          "model_module": "@jupyter-widgets/base",
          "model_name": "LayoutModel",
          "state": {
            "_view_name": "LayoutView",
            "grid_template_rows": null,
            "right": null,
            "justify_content": null,
            "_view_module": "@jupyter-widgets/base",
            "overflow": null,
            "_model_module_version": "1.2.0",
            "_view_count": null,
            "flex_flow": null,
            "width": null,
            "min_width": null,
            "border": null,
            "align_items": null,
            "bottom": null,
            "_model_module": "@jupyter-widgets/base",
            "top": null,
            "grid_column": null,
            "overflow_y": null,
            "overflow_x": null,
            "grid_auto_flow": null,
            "grid_area": null,
            "grid_template_columns": null,
            "flex": null,
            "_model_name": "LayoutModel",
            "justify_items": null,
            "grid_row": null,
            "max_height": null,
            "align_content": null,
            "visibility": null,
            "align_self": null,
            "height": null,
            "min_height": null,
            "padding": null,
            "grid_auto_rows": null,
            "grid_gap": null,
            "max_width": null,
            "order": null,
            "_view_module_version": "1.2.0",
            "grid_template_areas": null,
            "object_position": null,
            "object_fit": null,
            "grid_auto_columns": null,
            "margin": null,
            "display": null,
            "left": null
          }
        },
        "fc3a3225ba9a4d2cb52f929655ed3e91": {
          "model_module": "@jupyter-widgets/controls",
          "model_name": "DescriptionStyleModel",
          "state": {
            "_view_name": "StyleView",
            "_model_name": "DescriptionStyleModel",
            "description_width": "",
            "_view_module": "@jupyter-widgets/base",
            "_model_module_version": "1.5.0",
            "_view_count": null,
            "_view_module_version": "1.2.0",
            "_model_module": "@jupyter-widgets/controls"
          }
        },
        "2dd6b378aa1e4ada8a4d17400b60ed48": {
          "model_module": "@jupyter-widgets/base",
          "model_name": "LayoutModel",
          "state": {
            "_view_name": "LayoutView",
            "grid_template_rows": null,
            "right": null,
            "justify_content": null,
            "_view_module": "@jupyter-widgets/base",
            "overflow": null,
            "_model_module_version": "1.2.0",
            "_view_count": null,
            "flex_flow": null,
            "width": null,
            "min_width": null,
            "border": null,
            "align_items": null,
            "bottom": null,
            "_model_module": "@jupyter-widgets/base",
            "top": null,
            "grid_column": null,
            "overflow_y": null,
            "overflow_x": null,
            "grid_auto_flow": null,
            "grid_area": null,
            "grid_template_columns": null,
            "flex": null,
            "_model_name": "LayoutModel",
            "justify_items": null,
            "grid_row": null,
            "max_height": null,
            "align_content": null,
            "visibility": null,
            "align_self": null,
            "height": null,
            "min_height": null,
            "padding": null,
            "grid_auto_rows": null,
            "grid_gap": null,
            "max_width": null,
            "order": null,
            "_view_module_version": "1.2.0",
            "grid_template_areas": null,
            "object_position": null,
            "object_fit": null,
            "grid_auto_columns": null,
            "margin": null,
            "display": null,
            "left": null
          }
        },
        "ef562d73075c42398c99dd88b9c6e621": {
          "model_module": "@jupyter-widgets/controls",
          "model_name": "HBoxModel",
          "state": {
            "_view_name": "HBoxView",
            "_dom_classes": [],
            "_model_name": "HBoxModel",
            "_view_module": "@jupyter-widgets/controls",
            "_model_module_version": "1.5.0",
            "_view_count": null,
            "_view_module_version": "1.5.0",
            "box_style": "",
            "layout": "IPY_MODEL_289b196efa394d6a883e3952c8455be5",
            "_model_module": "@jupyter-widgets/controls",
            "children": [
              "IPY_MODEL_c0acbc62f2594955bcbcc88da7004b2a",
              "IPY_MODEL_a6301c1f630843fc8406ff101cec5c2f"
            ]
          }
        },
        "289b196efa394d6a883e3952c8455be5": {
          "model_module": "@jupyter-widgets/base",
          "model_name": "LayoutModel",
          "state": {
            "_view_name": "LayoutView",
            "grid_template_rows": null,
            "right": null,
            "justify_content": null,
            "_view_module": "@jupyter-widgets/base",
            "overflow": null,
            "_model_module_version": "1.2.0",
            "_view_count": null,
            "flex_flow": null,
            "width": null,
            "min_width": null,
            "border": null,
            "align_items": null,
            "bottom": null,
            "_model_module": "@jupyter-widgets/base",
            "top": null,
            "grid_column": null,
            "overflow_y": null,
            "overflow_x": null,
            "grid_auto_flow": null,
            "grid_area": null,
            "grid_template_columns": null,
            "flex": null,
            "_model_name": "LayoutModel",
            "justify_items": null,
            "grid_row": null,
            "max_height": null,
            "align_content": null,
            "visibility": null,
            "align_self": null,
            "height": null,
            "min_height": null,
            "padding": null,
            "grid_auto_rows": null,
            "grid_gap": null,
            "max_width": null,
            "order": null,
            "_view_module_version": "1.2.0",
            "grid_template_areas": null,
            "object_position": null,
            "object_fit": null,
            "grid_auto_columns": null,
            "margin": null,
            "display": null,
            "left": null
          }
        },
        "c0acbc62f2594955bcbcc88da7004b2a": {
          "model_module": "@jupyter-widgets/controls",
          "model_name": "FloatProgressModel",
          "state": {
            "_view_name": "ProgressView",
            "style": "IPY_MODEL_246d4e57b9504622a12ae29f6b84aa86",
            "_dom_classes": [],
            "description": "100%",
            "_model_name": "FloatProgressModel",
            "bar_style": "success",
            "max": 7,
            "_view_module": "@jupyter-widgets/controls",
            "_model_module_version": "1.5.0",
            "value": 7,
            "_view_count": null,
            "_view_module_version": "1.5.0",
            "orientation": "horizontal",
            "min": 0,
            "description_tooltip": null,
            "_model_module": "@jupyter-widgets/controls",
            "layout": "IPY_MODEL_715f9068db6c49129ece143420796e3d"
          }
        },
        "a6301c1f630843fc8406ff101cec5c2f": {
          "model_module": "@jupyter-widgets/controls",
          "model_name": "HTMLModel",
          "state": {
            "_view_name": "HTMLView",
            "style": "IPY_MODEL_30bd8373b30f4ef89bb24708e8e57dcc",
            "_dom_classes": [],
            "description": "",
            "_model_name": "HTMLModel",
            "placeholder": "​",
            "_view_module": "@jupyter-widgets/controls",
            "_model_module_version": "1.5.0",
            "value": " 7/7 [00:36&lt;00:00,  5.16s/it]",
            "_view_count": null,
            "_view_module_version": "1.5.0",
            "description_tooltip": null,
            "_model_module": "@jupyter-widgets/controls",
            "layout": "IPY_MODEL_261d542857454ec69d37171914f8ff0e"
          }
        },
        "246d4e57b9504622a12ae29f6b84aa86": {
          "model_module": "@jupyter-widgets/controls",
          "model_name": "ProgressStyleModel",
          "state": {
            "_view_name": "StyleView",
            "_model_name": "ProgressStyleModel",
            "description_width": "initial",
            "_view_module": "@jupyter-widgets/base",
            "_model_module_version": "1.5.0",
            "_view_count": null,
            "_view_module_version": "1.2.0",
            "bar_color": null,
            "_model_module": "@jupyter-widgets/controls"
          }
        },
        "715f9068db6c49129ece143420796e3d": {
          "model_module": "@jupyter-widgets/base",
          "model_name": "LayoutModel",
          "state": {
            "_view_name": "LayoutView",
            "grid_template_rows": null,
            "right": null,
            "justify_content": null,
            "_view_module": "@jupyter-widgets/base",
            "overflow": null,
            "_model_module_version": "1.2.0",
            "_view_count": null,
            "flex_flow": null,
            "width": null,
            "min_width": null,
            "border": null,
            "align_items": null,
            "bottom": null,
            "_model_module": "@jupyter-widgets/base",
            "top": null,
            "grid_column": null,
            "overflow_y": null,
            "overflow_x": null,
            "grid_auto_flow": null,
            "grid_area": null,
            "grid_template_columns": null,
            "flex": null,
            "_model_name": "LayoutModel",
            "justify_items": null,
            "grid_row": null,
            "max_height": null,
            "align_content": null,
            "visibility": null,
            "align_self": null,
            "height": null,
            "min_height": null,
            "padding": null,
            "grid_auto_rows": null,
            "grid_gap": null,
            "max_width": null,
            "order": null,
            "_view_module_version": "1.2.0",
            "grid_template_areas": null,
            "object_position": null,
            "object_fit": null,
            "grid_auto_columns": null,
            "margin": null,
            "display": null,
            "left": null
          }
        },
        "30bd8373b30f4ef89bb24708e8e57dcc": {
          "model_module": "@jupyter-widgets/controls",
          "model_name": "DescriptionStyleModel",
          "state": {
            "_view_name": "StyleView",
            "_model_name": "DescriptionStyleModel",
            "description_width": "",
            "_view_module": "@jupyter-widgets/base",
            "_model_module_version": "1.5.0",
            "_view_count": null,
            "_view_module_version": "1.2.0",
            "_model_module": "@jupyter-widgets/controls"
          }
        },
        "261d542857454ec69d37171914f8ff0e": {
          "model_module": "@jupyter-widgets/base",
          "model_name": "LayoutModel",
          "state": {
            "_view_name": "LayoutView",
            "grid_template_rows": null,
            "right": null,
            "justify_content": null,
            "_view_module": "@jupyter-widgets/base",
            "overflow": null,
            "_model_module_version": "1.2.0",
            "_view_count": null,
            "flex_flow": null,
            "width": null,
            "min_width": null,
            "border": null,
            "align_items": null,
            "bottom": null,
            "_model_module": "@jupyter-widgets/base",
            "top": null,
            "grid_column": null,
            "overflow_y": null,
            "overflow_x": null,
            "grid_auto_flow": null,
            "grid_area": null,
            "grid_template_columns": null,
            "flex": null,
            "_model_name": "LayoutModel",
            "justify_items": null,
            "grid_row": null,
            "max_height": null,
            "align_content": null,
            "visibility": null,
            "align_self": null,
            "height": null,
            "min_height": null,
            "padding": null,
            "grid_auto_rows": null,
            "grid_gap": null,
            "max_width": null,
            "order": null,
            "_view_module_version": "1.2.0",
            "grid_template_areas": null,
            "object_position": null,
            "object_fit": null,
            "grid_auto_columns": null,
            "margin": null,
            "display": null,
            "left": null
          }
        },
        "2a9d99809e76449584d2cd12b23b6918": {
          "model_module": "@jupyter-widgets/controls",
          "model_name": "HBoxModel",
          "state": {
            "_view_name": "HBoxView",
            "_dom_classes": [],
            "_model_name": "HBoxModel",
            "_view_module": "@jupyter-widgets/controls",
            "_model_module_version": "1.5.0",
            "_view_count": null,
            "_view_module_version": "1.5.0",
            "box_style": "",
            "layout": "IPY_MODEL_70a50bf824bd42e98e63fb4a79f338b5",
            "_model_module": "@jupyter-widgets/controls",
            "children": [
              "IPY_MODEL_c16514bb0db14b768e728ebd9ecda6bc",
              "IPY_MODEL_2c75123046bb4e9587af0c7aa2660143"
            ]
          }
        },
        "70a50bf824bd42e98e63fb4a79f338b5": {
          "model_module": "@jupyter-widgets/base",
          "model_name": "LayoutModel",
          "state": {
            "_view_name": "LayoutView",
            "grid_template_rows": null,
            "right": null,
            "justify_content": null,
            "_view_module": "@jupyter-widgets/base",
            "overflow": null,
            "_model_module_version": "1.2.0",
            "_view_count": null,
            "flex_flow": null,
            "width": null,
            "min_width": null,
            "border": null,
            "align_items": null,
            "bottom": null,
            "_model_module": "@jupyter-widgets/base",
            "top": null,
            "grid_column": null,
            "overflow_y": null,
            "overflow_x": null,
            "grid_auto_flow": null,
            "grid_area": null,
            "grid_template_columns": null,
            "flex": null,
            "_model_name": "LayoutModel",
            "justify_items": null,
            "grid_row": null,
            "max_height": null,
            "align_content": null,
            "visibility": null,
            "align_self": null,
            "height": null,
            "min_height": null,
            "padding": null,
            "grid_auto_rows": null,
            "grid_gap": null,
            "max_width": null,
            "order": null,
            "_view_module_version": "1.2.0",
            "grid_template_areas": null,
            "object_position": null,
            "object_fit": null,
            "grid_auto_columns": null,
            "margin": null,
            "display": null,
            "left": null
          }
        },
        "c16514bb0db14b768e728ebd9ecda6bc": {
          "model_module": "@jupyter-widgets/controls",
          "model_name": "FloatProgressModel",
          "state": {
            "_view_name": "ProgressView",
            "style": "IPY_MODEL_38bb74dde9ba4e0a9f0a4a6b44834c4e",
            "_dom_classes": [],
            "description": "100%",
            "_model_name": "FloatProgressModel",
            "bar_style": "success",
            "max": 1,
            "_view_module": "@jupyter-widgets/controls",
            "_model_module_version": "1.5.0",
            "value": 1,
            "_view_count": null,
            "_view_module_version": "1.5.0",
            "orientation": "horizontal",
            "min": 0,
            "description_tooltip": null,
            "_model_module": "@jupyter-widgets/controls",
            "layout": "IPY_MODEL_25eebd3792b042d3a1d8d549bb60f590"
          }
        },
        "2c75123046bb4e9587af0c7aa2660143": {
          "model_module": "@jupyter-widgets/controls",
          "model_name": "HTMLModel",
          "state": {
            "_view_name": "HTMLView",
            "style": "IPY_MODEL_7e05f088a9b24e529be9b6c802a270ca",
            "_dom_classes": [],
            "description": "",
            "_model_name": "HTMLModel",
            "placeholder": "​",
            "_view_module": "@jupyter-widgets/controls",
            "_model_module_version": "1.5.0",
            "value": " 1/1 [00:27&lt;00:00, 27.93s/it]",
            "_view_count": null,
            "_view_module_version": "1.5.0",
            "description_tooltip": null,
            "_model_module": "@jupyter-widgets/controls",
            "layout": "IPY_MODEL_ea6c1c9e96d04aff8c66068dd493d138"
          }
        },
        "38bb74dde9ba4e0a9f0a4a6b44834c4e": {
          "model_module": "@jupyter-widgets/controls",
          "model_name": "ProgressStyleModel",
          "state": {
            "_view_name": "StyleView",
            "_model_name": "ProgressStyleModel",
            "description_width": "initial",
            "_view_module": "@jupyter-widgets/base",
            "_model_module_version": "1.5.0",
            "_view_count": null,
            "_view_module_version": "1.2.0",
            "bar_color": null,
            "_model_module": "@jupyter-widgets/controls"
          }
        },
        "25eebd3792b042d3a1d8d549bb60f590": {
          "model_module": "@jupyter-widgets/base",
          "model_name": "LayoutModel",
          "state": {
            "_view_name": "LayoutView",
            "grid_template_rows": null,
            "right": null,
            "justify_content": null,
            "_view_module": "@jupyter-widgets/base",
            "overflow": null,
            "_model_module_version": "1.2.0",
            "_view_count": null,
            "flex_flow": null,
            "width": null,
            "min_width": null,
            "border": null,
            "align_items": null,
            "bottom": null,
            "_model_module": "@jupyter-widgets/base",
            "top": null,
            "grid_column": null,
            "overflow_y": null,
            "overflow_x": null,
            "grid_auto_flow": null,
            "grid_area": null,
            "grid_template_columns": null,
            "flex": null,
            "_model_name": "LayoutModel",
            "justify_items": null,
            "grid_row": null,
            "max_height": null,
            "align_content": null,
            "visibility": null,
            "align_self": null,
            "height": null,
            "min_height": null,
            "padding": null,
            "grid_auto_rows": null,
            "grid_gap": null,
            "max_width": null,
            "order": null,
            "_view_module_version": "1.2.0",
            "grid_template_areas": null,
            "object_position": null,
            "object_fit": null,
            "grid_auto_columns": null,
            "margin": null,
            "display": null,
            "left": null
          }
        },
        "7e05f088a9b24e529be9b6c802a270ca": {
          "model_module": "@jupyter-widgets/controls",
          "model_name": "DescriptionStyleModel",
          "state": {
            "_view_name": "StyleView",
            "_model_name": "DescriptionStyleModel",
            "description_width": "",
            "_view_module": "@jupyter-widgets/base",
            "_model_module_version": "1.5.0",
            "_view_count": null,
            "_view_module_version": "1.2.0",
            "_model_module": "@jupyter-widgets/controls"
          }
        },
        "ea6c1c9e96d04aff8c66068dd493d138": {
          "model_module": "@jupyter-widgets/base",
          "model_name": "LayoutModel",
          "state": {
            "_view_name": "LayoutView",
            "grid_template_rows": null,
            "right": null,
            "justify_content": null,
            "_view_module": "@jupyter-widgets/base",
            "overflow": null,
            "_model_module_version": "1.2.0",
            "_view_count": null,
            "flex_flow": null,
            "width": null,
            "min_width": null,
            "border": null,
            "align_items": null,
            "bottom": null,
            "_model_module": "@jupyter-widgets/base",
            "top": null,
            "grid_column": null,
            "overflow_y": null,
            "overflow_x": null,
            "grid_auto_flow": null,
            "grid_area": null,
            "grid_template_columns": null,
            "flex": null,
            "_model_name": "LayoutModel",
            "justify_items": null,
            "grid_row": null,
            "max_height": null,
            "align_content": null,
            "visibility": null,
            "align_self": null,
            "height": null,
            "min_height": null,
            "padding": null,
            "grid_auto_rows": null,
            "grid_gap": null,
            "max_width": null,
            "order": null,
            "_view_module_version": "1.2.0",
            "grid_template_areas": null,
            "object_position": null,
            "object_fit": null,
            "grid_auto_columns": null,
            "margin": null,
            "display": null,
            "left": null
          }
        },
        "0f88126d6f6346a1ae23ad0778091397": {
          "model_module": "@jupyter-widgets/controls",
          "model_name": "HBoxModel",
          "state": {
            "_view_name": "HBoxView",
            "_dom_classes": [],
            "_model_name": "HBoxModel",
            "_view_module": "@jupyter-widgets/controls",
            "_model_module_version": "1.5.0",
            "_view_count": null,
            "_view_module_version": "1.5.0",
            "box_style": "",
            "layout": "IPY_MODEL_19d52343499147a285c0af927199c68b",
            "_model_module": "@jupyter-widgets/controls",
            "children": [
              "IPY_MODEL_1a4a7e32045e4ff4b3b4cd30bf968cbf",
              "IPY_MODEL_80deebb16dcb43e0b67d96e7708c4216"
            ]
          }
        },
        "19d52343499147a285c0af927199c68b": {
          "model_module": "@jupyter-widgets/base",
          "model_name": "LayoutModel",
          "state": {
            "_view_name": "LayoutView",
            "grid_template_rows": null,
            "right": null,
            "justify_content": null,
            "_view_module": "@jupyter-widgets/base",
            "overflow": null,
            "_model_module_version": "1.2.0",
            "_view_count": null,
            "flex_flow": null,
            "width": null,
            "min_width": null,
            "border": null,
            "align_items": null,
            "bottom": null,
            "_model_module": "@jupyter-widgets/base",
            "top": null,
            "grid_column": null,
            "overflow_y": null,
            "overflow_x": null,
            "grid_auto_flow": null,
            "grid_area": null,
            "grid_template_columns": null,
            "flex": null,
            "_model_name": "LayoutModel",
            "justify_items": null,
            "grid_row": null,
            "max_height": null,
            "align_content": null,
            "visibility": null,
            "align_self": null,
            "height": null,
            "min_height": null,
            "padding": null,
            "grid_auto_rows": null,
            "grid_gap": null,
            "max_width": null,
            "order": null,
            "_view_module_version": "1.2.0",
            "grid_template_areas": null,
            "object_position": null,
            "object_fit": null,
            "grid_auto_columns": null,
            "margin": null,
            "display": null,
            "left": null
          }
        },
        "1a4a7e32045e4ff4b3b4cd30bf968cbf": {
          "model_module": "@jupyter-widgets/controls",
          "model_name": "FloatProgressModel",
          "state": {
            "_view_name": "ProgressView",
            "style": "IPY_MODEL_ac8f65f4bd404062b3e086e76a34459c",
            "_dom_classes": [],
            "description": "100%",
            "_model_name": "FloatProgressModel",
            "bar_style": "success",
            "max": 70,
            "_view_module": "@jupyter-widgets/controls",
            "_model_module_version": "1.5.0",
            "value": 70,
            "_view_count": null,
            "_view_module_version": "1.5.0",
            "orientation": "horizontal",
            "min": 0,
            "description_tooltip": null,
            "_model_module": "@jupyter-widgets/controls",
            "layout": "IPY_MODEL_da04a233fb024021ae2510be2eac1990"
          }
        },
        "80deebb16dcb43e0b67d96e7708c4216": {
          "model_module": "@jupyter-widgets/controls",
          "model_name": "HTMLModel",
          "state": {
            "_view_name": "HTMLView",
            "style": "IPY_MODEL_1b96104c7d1c4e858c9ff4b2567d1fc6",
            "_dom_classes": [],
            "description": "",
            "_model_name": "HTMLModel",
            "placeholder": "​",
            "_view_module": "@jupyter-widgets/controls",
            "_model_module_version": "1.5.0",
            "value": " 70/70 [02:53&lt;00:00,  2.48s/it]",
            "_view_count": null,
            "_view_module_version": "1.5.0",
            "description_tooltip": null,
            "_model_module": "@jupyter-widgets/controls",
            "layout": "IPY_MODEL_d4aa8272fc214ba7928866507501ec2f"
          }
        },
        "ac8f65f4bd404062b3e086e76a34459c": {
          "model_module": "@jupyter-widgets/controls",
          "model_name": "ProgressStyleModel",
          "state": {
            "_view_name": "StyleView",
            "_model_name": "ProgressStyleModel",
            "description_width": "initial",
            "_view_module": "@jupyter-widgets/base",
            "_model_module_version": "1.5.0",
            "_view_count": null,
            "_view_module_version": "1.2.0",
            "bar_color": null,
            "_model_module": "@jupyter-widgets/controls"
          }
        },
        "da04a233fb024021ae2510be2eac1990": {
          "model_module": "@jupyter-widgets/base",
          "model_name": "LayoutModel",
          "state": {
            "_view_name": "LayoutView",
            "grid_template_rows": null,
            "right": null,
            "justify_content": null,
            "_view_module": "@jupyter-widgets/base",
            "overflow": null,
            "_model_module_version": "1.2.0",
            "_view_count": null,
            "flex_flow": null,
            "width": null,
            "min_width": null,
            "border": null,
            "align_items": null,
            "bottom": null,
            "_model_module": "@jupyter-widgets/base",
            "top": null,
            "grid_column": null,
            "overflow_y": null,
            "overflow_x": null,
            "grid_auto_flow": null,
            "grid_area": null,
            "grid_template_columns": null,
            "flex": null,
            "_model_name": "LayoutModel",
            "justify_items": null,
            "grid_row": null,
            "max_height": null,
            "align_content": null,
            "visibility": null,
            "align_self": null,
            "height": null,
            "min_height": null,
            "padding": null,
            "grid_auto_rows": null,
            "grid_gap": null,
            "max_width": null,
            "order": null,
            "_view_module_version": "1.2.0",
            "grid_template_areas": null,
            "object_position": null,
            "object_fit": null,
            "grid_auto_columns": null,
            "margin": null,
            "display": null,
            "left": null
          }
        },
        "1b96104c7d1c4e858c9ff4b2567d1fc6": {
          "model_module": "@jupyter-widgets/controls",
          "model_name": "DescriptionStyleModel",
          "state": {
            "_view_name": "StyleView",
            "_model_name": "DescriptionStyleModel",
            "description_width": "",
            "_view_module": "@jupyter-widgets/base",
            "_model_module_version": "1.5.0",
            "_view_count": null,
            "_view_module_version": "1.2.0",
            "_model_module": "@jupyter-widgets/controls"
          }
        },
        "d4aa8272fc214ba7928866507501ec2f": {
          "model_module": "@jupyter-widgets/base",
          "model_name": "LayoutModel",
          "state": {
            "_view_name": "LayoutView",
            "grid_template_rows": null,
            "right": null,
            "justify_content": null,
            "_view_module": "@jupyter-widgets/base",
            "overflow": null,
            "_model_module_version": "1.2.0",
            "_view_count": null,
            "flex_flow": null,
            "width": null,
            "min_width": null,
            "border": null,
            "align_items": null,
            "bottom": null,
            "_model_module": "@jupyter-widgets/base",
            "top": null,
            "grid_column": null,
            "overflow_y": null,
            "overflow_x": null,
            "grid_auto_flow": null,
            "grid_area": null,
            "grid_template_columns": null,
            "flex": null,
            "_model_name": "LayoutModel",
            "justify_items": null,
            "grid_row": null,
            "max_height": null,
            "align_content": null,
            "visibility": null,
            "align_self": null,
            "height": null,
            "min_height": null,
            "padding": null,
            "grid_auto_rows": null,
            "grid_gap": null,
            "max_width": null,
            "order": null,
            "_view_module_version": "1.2.0",
            "grid_template_areas": null,
            "object_position": null,
            "object_fit": null,
            "grid_auto_columns": null,
            "margin": null,
            "display": null,
            "left": null
          }
        },
        "507524982141496db7b25fe8e0925efe": {
          "model_module": "@jupyter-widgets/controls",
          "model_name": "HBoxModel",
          "state": {
            "_view_name": "HBoxView",
            "_dom_classes": [],
            "_model_name": "HBoxModel",
            "_view_module": "@jupyter-widgets/controls",
            "_model_module_version": "1.5.0",
            "_view_count": null,
            "_view_module_version": "1.5.0",
            "box_style": "",
            "layout": "IPY_MODEL_2783b8c01bf845169b1171af9e8ed884",
            "_model_module": "@jupyter-widgets/controls",
            "children": [
              "IPY_MODEL_65b8e14115964656a0ffdab3ae9ce04e",
              "IPY_MODEL_46f87ac7627c4ec58fc973adcb17366f"
            ]
          }
        },
        "2783b8c01bf845169b1171af9e8ed884": {
          "model_module": "@jupyter-widgets/base",
          "model_name": "LayoutModel",
          "state": {
            "_view_name": "LayoutView",
            "grid_template_rows": null,
            "right": null,
            "justify_content": null,
            "_view_module": "@jupyter-widgets/base",
            "overflow": null,
            "_model_module_version": "1.2.0",
            "_view_count": null,
            "flex_flow": null,
            "width": null,
            "min_width": null,
            "border": null,
            "align_items": null,
            "bottom": null,
            "_model_module": "@jupyter-widgets/base",
            "top": null,
            "grid_column": null,
            "overflow_y": null,
            "overflow_x": null,
            "grid_auto_flow": null,
            "grid_area": null,
            "grid_template_columns": null,
            "flex": null,
            "_model_name": "LayoutModel",
            "justify_items": null,
            "grid_row": null,
            "max_height": null,
            "align_content": null,
            "visibility": null,
            "align_self": null,
            "height": null,
            "min_height": null,
            "padding": null,
            "grid_auto_rows": null,
            "grid_gap": null,
            "max_width": null,
            "order": null,
            "_view_module_version": "1.2.0",
            "grid_template_areas": null,
            "object_position": null,
            "object_fit": null,
            "grid_auto_columns": null,
            "margin": null,
            "display": null,
            "left": null
          }
        },
        "65b8e14115964656a0ffdab3ae9ce04e": {
          "model_module": "@jupyter-widgets/controls",
          "model_name": "FloatProgressModel",
          "state": {
            "_view_name": "ProgressView",
            "style": "IPY_MODEL_f3c7281be2764c5b84d85f14a906133b",
            "_dom_classes": [],
            "description": "100%",
            "_model_name": "FloatProgressModel",
            "bar_style": "success",
            "max": 70,
            "_view_module": "@jupyter-widgets/controls",
            "_model_module_version": "1.5.0",
            "value": 70,
            "_view_count": null,
            "_view_module_version": "1.5.0",
            "orientation": "horizontal",
            "min": 0,
            "description_tooltip": null,
            "_model_module": "@jupyter-widgets/controls",
            "layout": "IPY_MODEL_657dbec805664b289a99e1a227e1cd1b"
          }
        },
        "46f87ac7627c4ec58fc973adcb17366f": {
          "model_module": "@jupyter-widgets/controls",
          "model_name": "HTMLModel",
          "state": {
            "_view_name": "HTMLView",
            "style": "IPY_MODEL_7d28d1592e6440e28f761da7c93a49a5",
            "_dom_classes": [],
            "description": "",
            "_model_name": "HTMLModel",
            "placeholder": "​",
            "_view_module": "@jupyter-widgets/controls",
            "_model_module_version": "1.5.0",
            "value": " 70/70 [02:48&lt;00:00,  2.41s/it]",
            "_view_count": null,
            "_view_module_version": "1.5.0",
            "description_tooltip": null,
            "_model_module": "@jupyter-widgets/controls",
            "layout": "IPY_MODEL_ed139d65e410495c9799044aa747c4fc"
          }
        },
        "f3c7281be2764c5b84d85f14a906133b": {
          "model_module": "@jupyter-widgets/controls",
          "model_name": "ProgressStyleModel",
          "state": {
            "_view_name": "StyleView",
            "_model_name": "ProgressStyleModel",
            "description_width": "initial",
            "_view_module": "@jupyter-widgets/base",
            "_model_module_version": "1.5.0",
            "_view_count": null,
            "_view_module_version": "1.2.0",
            "bar_color": null,
            "_model_module": "@jupyter-widgets/controls"
          }
        },
        "657dbec805664b289a99e1a227e1cd1b": {
          "model_module": "@jupyter-widgets/base",
          "model_name": "LayoutModel",
          "state": {
            "_view_name": "LayoutView",
            "grid_template_rows": null,
            "right": null,
            "justify_content": null,
            "_view_module": "@jupyter-widgets/base",
            "overflow": null,
            "_model_module_version": "1.2.0",
            "_view_count": null,
            "flex_flow": null,
            "width": null,
            "min_width": null,
            "border": null,
            "align_items": null,
            "bottom": null,
            "_model_module": "@jupyter-widgets/base",
            "top": null,
            "grid_column": null,
            "overflow_y": null,
            "overflow_x": null,
            "grid_auto_flow": null,
            "grid_area": null,
            "grid_template_columns": null,
            "flex": null,
            "_model_name": "LayoutModel",
            "justify_items": null,
            "grid_row": null,
            "max_height": null,
            "align_content": null,
            "visibility": null,
            "align_self": null,
            "height": null,
            "min_height": null,
            "padding": null,
            "grid_auto_rows": null,
            "grid_gap": null,
            "max_width": null,
            "order": null,
            "_view_module_version": "1.2.0",
            "grid_template_areas": null,
            "object_position": null,
            "object_fit": null,
            "grid_auto_columns": null,
            "margin": null,
            "display": null,
            "left": null
          }
        },
        "7d28d1592e6440e28f761da7c93a49a5": {
          "model_module": "@jupyter-widgets/controls",
          "model_name": "DescriptionStyleModel",
          "state": {
            "_view_name": "StyleView",
            "_model_name": "DescriptionStyleModel",
            "description_width": "",
            "_view_module": "@jupyter-widgets/base",
            "_model_module_version": "1.5.0",
            "_view_count": null,
            "_view_module_version": "1.2.0",
            "_model_module": "@jupyter-widgets/controls"
          }
        },
        "ed139d65e410495c9799044aa747c4fc": {
          "model_module": "@jupyter-widgets/base",
          "model_name": "LayoutModel",
          "state": {
            "_view_name": "LayoutView",
            "grid_template_rows": null,
            "right": null,
            "justify_content": null,
            "_view_module": "@jupyter-widgets/base",
            "overflow": null,
            "_model_module_version": "1.2.0",
            "_view_count": null,
            "flex_flow": null,
            "width": null,
            "min_width": null,
            "border": null,
            "align_items": null,
            "bottom": null,
            "_model_module": "@jupyter-widgets/base",
            "top": null,
            "grid_column": null,
            "overflow_y": null,
            "overflow_x": null,
            "grid_auto_flow": null,
            "grid_area": null,
            "grid_template_columns": null,
            "flex": null,
            "_model_name": "LayoutModel",
            "justify_items": null,
            "grid_row": null,
            "max_height": null,
            "align_content": null,
            "visibility": null,
            "align_self": null,
            "height": null,
            "min_height": null,
            "padding": null,
            "grid_auto_rows": null,
            "grid_gap": null,
            "max_width": null,
            "order": null,
            "_view_module_version": "1.2.0",
            "grid_template_areas": null,
            "object_position": null,
            "object_fit": null,
            "grid_auto_columns": null,
            "margin": null,
            "display": null,
            "left": null
          }
        },
        "f7259e7ecb2c418a9a2fbf4a5cd04e78": {
          "model_module": "@jupyter-widgets/controls",
          "model_name": "HBoxModel",
          "state": {
            "_view_name": "HBoxView",
            "_dom_classes": [],
            "_model_name": "HBoxModel",
            "_view_module": "@jupyter-widgets/controls",
            "_model_module_version": "1.5.0",
            "_view_count": null,
            "_view_module_version": "1.5.0",
            "box_style": "",
            "layout": "IPY_MODEL_6f7054431685421c8deb286f443ea3bc",
            "_model_module": "@jupyter-widgets/controls",
            "children": [
              "IPY_MODEL_5539624e6c704206860326820cb678dc",
              "IPY_MODEL_8673efc79b9146428b19e77e99a6c6c8"
            ]
          }
        },
        "6f7054431685421c8deb286f443ea3bc": {
          "model_module": "@jupyter-widgets/base",
          "model_name": "LayoutModel",
          "state": {
            "_view_name": "LayoutView",
            "grid_template_rows": null,
            "right": null,
            "justify_content": null,
            "_view_module": "@jupyter-widgets/base",
            "overflow": null,
            "_model_module_version": "1.2.0",
            "_view_count": null,
            "flex_flow": null,
            "width": null,
            "min_width": null,
            "border": null,
            "align_items": null,
            "bottom": null,
            "_model_module": "@jupyter-widgets/base",
            "top": null,
            "grid_column": null,
            "overflow_y": null,
            "overflow_x": null,
            "grid_auto_flow": null,
            "grid_area": null,
            "grid_template_columns": null,
            "flex": null,
            "_model_name": "LayoutModel",
            "justify_items": null,
            "grid_row": null,
            "max_height": null,
            "align_content": null,
            "visibility": null,
            "align_self": null,
            "height": null,
            "min_height": null,
            "padding": null,
            "grid_auto_rows": null,
            "grid_gap": null,
            "max_width": null,
            "order": null,
            "_view_module_version": "1.2.0",
            "grid_template_areas": null,
            "object_position": null,
            "object_fit": null,
            "grid_auto_columns": null,
            "margin": null,
            "display": null,
            "left": null
          }
        },
        "5539624e6c704206860326820cb678dc": {
          "model_module": "@jupyter-widgets/controls",
          "model_name": "FloatProgressModel",
          "state": {
            "_view_name": "ProgressView",
            "style": "IPY_MODEL_78d3cc7e0d5f456b98b0b4b1910c101a",
            "_dom_classes": [],
            "description": "100%",
            "_model_name": "FloatProgressModel",
            "bar_style": "success",
            "max": 7,
            "_view_module": "@jupyter-widgets/controls",
            "_model_module_version": "1.5.0",
            "value": 7,
            "_view_count": null,
            "_view_module_version": "1.5.0",
            "orientation": "horizontal",
            "min": 0,
            "description_tooltip": null,
            "_model_module": "@jupyter-widgets/controls",
            "layout": "IPY_MODEL_37f3d1fb85094c03b5a27ef0d9c0d55a"
          }
        },
        "8673efc79b9146428b19e77e99a6c6c8": {
          "model_module": "@jupyter-widgets/controls",
          "model_name": "HTMLModel",
          "state": {
            "_view_name": "HTMLView",
            "style": "IPY_MODEL_8499ee9a316f4d328dd5b2d378a18480",
            "_dom_classes": [],
            "description": "",
            "_model_name": "HTMLModel",
            "placeholder": "​",
            "_view_module": "@jupyter-widgets/controls",
            "_model_module_version": "1.5.0",
            "value": " 7/7 [03:35&lt;00:00, 30.84s/it]",
            "_view_count": null,
            "_view_module_version": "1.5.0",
            "description_tooltip": null,
            "_model_module": "@jupyter-widgets/controls",
            "layout": "IPY_MODEL_9030897320894d2faa7bcc8f2c1fb158"
          }
        },
        "78d3cc7e0d5f456b98b0b4b1910c101a": {
          "model_module": "@jupyter-widgets/controls",
          "model_name": "ProgressStyleModel",
          "state": {
            "_view_name": "StyleView",
            "_model_name": "ProgressStyleModel",
            "description_width": "initial",
            "_view_module": "@jupyter-widgets/base",
            "_model_module_version": "1.5.0",
            "_view_count": null,
            "_view_module_version": "1.2.0",
            "bar_color": null,
            "_model_module": "@jupyter-widgets/controls"
          }
        },
        "37f3d1fb85094c03b5a27ef0d9c0d55a": {
          "model_module": "@jupyter-widgets/base",
          "model_name": "LayoutModel",
          "state": {
            "_view_name": "LayoutView",
            "grid_template_rows": null,
            "right": null,
            "justify_content": null,
            "_view_module": "@jupyter-widgets/base",
            "overflow": null,
            "_model_module_version": "1.2.0",
            "_view_count": null,
            "flex_flow": null,
            "width": null,
            "min_width": null,
            "border": null,
            "align_items": null,
            "bottom": null,
            "_model_module": "@jupyter-widgets/base",
            "top": null,
            "grid_column": null,
            "overflow_y": null,
            "overflow_x": null,
            "grid_auto_flow": null,
            "grid_area": null,
            "grid_template_columns": null,
            "flex": null,
            "_model_name": "LayoutModel",
            "justify_items": null,
            "grid_row": null,
            "max_height": null,
            "align_content": null,
            "visibility": null,
            "align_self": null,
            "height": null,
            "min_height": null,
            "padding": null,
            "grid_auto_rows": null,
            "grid_gap": null,
            "max_width": null,
            "order": null,
            "_view_module_version": "1.2.0",
            "grid_template_areas": null,
            "object_position": null,
            "object_fit": null,
            "grid_auto_columns": null,
            "margin": null,
            "display": null,
            "left": null
          }
        },
        "8499ee9a316f4d328dd5b2d378a18480": {
          "model_module": "@jupyter-widgets/controls",
          "model_name": "DescriptionStyleModel",
          "state": {
            "_view_name": "StyleView",
            "_model_name": "DescriptionStyleModel",
            "description_width": "",
            "_view_module": "@jupyter-widgets/base",
            "_model_module_version": "1.5.0",
            "_view_count": null,
            "_view_module_version": "1.2.0",
            "_model_module": "@jupyter-widgets/controls"
          }
        },
        "9030897320894d2faa7bcc8f2c1fb158": {
          "model_module": "@jupyter-widgets/base",
          "model_name": "LayoutModel",
          "state": {
            "_view_name": "LayoutView",
            "grid_template_rows": null,
            "right": null,
            "justify_content": null,
            "_view_module": "@jupyter-widgets/base",
            "overflow": null,
            "_model_module_version": "1.2.0",
            "_view_count": null,
            "flex_flow": null,
            "width": null,
            "min_width": null,
            "border": null,
            "align_items": null,
            "bottom": null,
            "_model_module": "@jupyter-widgets/base",
            "top": null,
            "grid_column": null,
            "overflow_y": null,
            "overflow_x": null,
            "grid_auto_flow": null,
            "grid_area": null,
            "grid_template_columns": null,
            "flex": null,
            "_model_name": "LayoutModel",
            "justify_items": null,
            "grid_row": null,
            "max_height": null,
            "align_content": null,
            "visibility": null,
            "align_self": null,
            "height": null,
            "min_height": null,
            "padding": null,
            "grid_auto_rows": null,
            "grid_gap": null,
            "max_width": null,
            "order": null,
            "_view_module_version": "1.2.0",
            "grid_template_areas": null,
            "object_position": null,
            "object_fit": null,
            "grid_auto_columns": null,
            "margin": null,
            "display": null,
            "left": null
          }
        },
        "b0e17f4972574acab4db3144f4acfb3e": {
          "model_module": "@jupyter-widgets/controls",
          "model_name": "HBoxModel",
          "state": {
            "_view_name": "HBoxView",
            "_dom_classes": [],
            "_model_name": "HBoxModel",
            "_view_module": "@jupyter-widgets/controls",
            "_model_module_version": "1.5.0",
            "_view_count": null,
            "_view_module_version": "1.5.0",
            "box_style": "",
            "layout": "IPY_MODEL_32ac3409510a4ed8810bbdaae8693f2b",
            "_model_module": "@jupyter-widgets/controls",
            "children": [
              "IPY_MODEL_cef7be6b4e0142ebb93f0debd945d54f",
              "IPY_MODEL_7d2808d7b8de43a8a76e7b1d89f488a3"
            ]
          }
        },
        "32ac3409510a4ed8810bbdaae8693f2b": {
          "model_module": "@jupyter-widgets/base",
          "model_name": "LayoutModel",
          "state": {
            "_view_name": "LayoutView",
            "grid_template_rows": null,
            "right": null,
            "justify_content": null,
            "_view_module": "@jupyter-widgets/base",
            "overflow": null,
            "_model_module_version": "1.2.0",
            "_view_count": null,
            "flex_flow": null,
            "width": null,
            "min_width": null,
            "border": null,
            "align_items": null,
            "bottom": null,
            "_model_module": "@jupyter-widgets/base",
            "top": null,
            "grid_column": null,
            "overflow_y": null,
            "overflow_x": null,
            "grid_auto_flow": null,
            "grid_area": null,
            "grid_template_columns": null,
            "flex": null,
            "_model_name": "LayoutModel",
            "justify_items": null,
            "grid_row": null,
            "max_height": null,
            "align_content": null,
            "visibility": null,
            "align_self": null,
            "height": null,
            "min_height": null,
            "padding": null,
            "grid_auto_rows": null,
            "grid_gap": null,
            "max_width": null,
            "order": null,
            "_view_module_version": "1.2.0",
            "grid_template_areas": null,
            "object_position": null,
            "object_fit": null,
            "grid_auto_columns": null,
            "margin": null,
            "display": null,
            "left": null
          }
        },
        "cef7be6b4e0142ebb93f0debd945d54f": {
          "model_module": "@jupyter-widgets/controls",
          "model_name": "FloatProgressModel",
          "state": {
            "_view_name": "ProgressView",
            "style": "IPY_MODEL_e7faf17cef7640efa19f8e20b7dd5367",
            "_dom_classes": [],
            "description": "100%",
            "_model_name": "FloatProgressModel",
            "bar_style": "success",
            "max": 70,
            "_view_module": "@jupyter-widgets/controls",
            "_model_module_version": "1.5.0",
            "value": 70,
            "_view_count": null,
            "_view_module_version": "1.5.0",
            "orientation": "horizontal",
            "min": 0,
            "description_tooltip": null,
            "_model_module": "@jupyter-widgets/controls",
            "layout": "IPY_MODEL_6bb860d0a0aa4374bb3c1dbd1f67c826"
          }
        },
        "7d2808d7b8de43a8a76e7b1d89f488a3": {
          "model_module": "@jupyter-widgets/controls",
          "model_name": "HTMLModel",
          "state": {
            "_view_name": "HTMLView",
            "style": "IPY_MODEL_aba0706059a44ca0883dd1087ab769c4",
            "_dom_classes": [],
            "description": "",
            "_model_name": "HTMLModel",
            "placeholder": "​",
            "_view_module": "@jupyter-widgets/controls",
            "_model_module_version": "1.5.0",
            "value": " 70/70 [03:06&lt;00:00,  2.66s/it]",
            "_view_count": null,
            "_view_module_version": "1.5.0",
            "description_tooltip": null,
            "_model_module": "@jupyter-widgets/controls",
            "layout": "IPY_MODEL_ce9fe4cd3ec64577a17fb472daeb2db4"
          }
        },
        "e7faf17cef7640efa19f8e20b7dd5367": {
          "model_module": "@jupyter-widgets/controls",
          "model_name": "ProgressStyleModel",
          "state": {
            "_view_name": "StyleView",
            "_model_name": "ProgressStyleModel",
            "description_width": "initial",
            "_view_module": "@jupyter-widgets/base",
            "_model_module_version": "1.5.0",
            "_view_count": null,
            "_view_module_version": "1.2.0",
            "bar_color": null,
            "_model_module": "@jupyter-widgets/controls"
          }
        },
        "6bb860d0a0aa4374bb3c1dbd1f67c826": {
          "model_module": "@jupyter-widgets/base",
          "model_name": "LayoutModel",
          "state": {
            "_view_name": "LayoutView",
            "grid_template_rows": null,
            "right": null,
            "justify_content": null,
            "_view_module": "@jupyter-widgets/base",
            "overflow": null,
            "_model_module_version": "1.2.0",
            "_view_count": null,
            "flex_flow": null,
            "width": null,
            "min_width": null,
            "border": null,
            "align_items": null,
            "bottom": null,
            "_model_module": "@jupyter-widgets/base",
            "top": null,
            "grid_column": null,
            "overflow_y": null,
            "overflow_x": null,
            "grid_auto_flow": null,
            "grid_area": null,
            "grid_template_columns": null,
            "flex": null,
            "_model_name": "LayoutModel",
            "justify_items": null,
            "grid_row": null,
            "max_height": null,
            "align_content": null,
            "visibility": null,
            "align_self": null,
            "height": null,
            "min_height": null,
            "padding": null,
            "grid_auto_rows": null,
            "grid_gap": null,
            "max_width": null,
            "order": null,
            "_view_module_version": "1.2.0",
            "grid_template_areas": null,
            "object_position": null,
            "object_fit": null,
            "grid_auto_columns": null,
            "margin": null,
            "display": null,
            "left": null
          }
        },
        "aba0706059a44ca0883dd1087ab769c4": {
          "model_module": "@jupyter-widgets/controls",
          "model_name": "DescriptionStyleModel",
          "state": {
            "_view_name": "StyleView",
            "_model_name": "DescriptionStyleModel",
            "description_width": "",
            "_view_module": "@jupyter-widgets/base",
            "_model_module_version": "1.5.0",
            "_view_count": null,
            "_view_module_version": "1.2.0",
            "_model_module": "@jupyter-widgets/controls"
          }
        },
        "ce9fe4cd3ec64577a17fb472daeb2db4": {
          "model_module": "@jupyter-widgets/base",
          "model_name": "LayoutModel",
          "state": {
            "_view_name": "LayoutView",
            "grid_template_rows": null,
            "right": null,
            "justify_content": null,
            "_view_module": "@jupyter-widgets/base",
            "overflow": null,
            "_model_module_version": "1.2.0",
            "_view_count": null,
            "flex_flow": null,
            "width": null,
            "min_width": null,
            "border": null,
            "align_items": null,
            "bottom": null,
            "_model_module": "@jupyter-widgets/base",
            "top": null,
            "grid_column": null,
            "overflow_y": null,
            "overflow_x": null,
            "grid_auto_flow": null,
            "grid_area": null,
            "grid_template_columns": null,
            "flex": null,
            "_model_name": "LayoutModel",
            "justify_items": null,
            "grid_row": null,
            "max_height": null,
            "align_content": null,
            "visibility": null,
            "align_self": null,
            "height": null,
            "min_height": null,
            "padding": null,
            "grid_auto_rows": null,
            "grid_gap": null,
            "max_width": null,
            "order": null,
            "_view_module_version": "1.2.0",
            "grid_template_areas": null,
            "object_position": null,
            "object_fit": null,
            "grid_auto_columns": null,
            "margin": null,
            "display": null,
            "left": null
          }
        },
        "7b2eb2058fa3479bbdce14ec6bc762f6": {
          "model_module": "@jupyter-widgets/controls",
          "model_name": "HBoxModel",
          "state": {
            "_view_name": "HBoxView",
            "_dom_classes": [],
            "_model_name": "HBoxModel",
            "_view_module": "@jupyter-widgets/controls",
            "_model_module_version": "1.5.0",
            "_view_count": null,
            "_view_module_version": "1.5.0",
            "box_style": "",
            "layout": "IPY_MODEL_6f495a38c056416794a2af9e41ba2a8d",
            "_model_module": "@jupyter-widgets/controls",
            "children": [
              "IPY_MODEL_1c9b3988cf2241468c733572e19ac476",
              "IPY_MODEL_f84c67bfbcc047a8adbdc008fcdc7f8e"
            ]
          }
        },
        "6f495a38c056416794a2af9e41ba2a8d": {
          "model_module": "@jupyter-widgets/base",
          "model_name": "LayoutModel",
          "state": {
            "_view_name": "LayoutView",
            "grid_template_rows": null,
            "right": null,
            "justify_content": null,
            "_view_module": "@jupyter-widgets/base",
            "overflow": null,
            "_model_module_version": "1.2.0",
            "_view_count": null,
            "flex_flow": null,
            "width": null,
            "min_width": null,
            "border": null,
            "align_items": null,
            "bottom": null,
            "_model_module": "@jupyter-widgets/base",
            "top": null,
            "grid_column": null,
            "overflow_y": null,
            "overflow_x": null,
            "grid_auto_flow": null,
            "grid_area": null,
            "grid_template_columns": null,
            "flex": null,
            "_model_name": "LayoutModel",
            "justify_items": null,
            "grid_row": null,
            "max_height": null,
            "align_content": null,
            "visibility": null,
            "align_self": null,
            "height": null,
            "min_height": null,
            "padding": null,
            "grid_auto_rows": null,
            "grid_gap": null,
            "max_width": null,
            "order": null,
            "_view_module_version": "1.2.0",
            "grid_template_areas": null,
            "object_position": null,
            "object_fit": null,
            "grid_auto_columns": null,
            "margin": null,
            "display": null,
            "left": null
          }
        },
        "1c9b3988cf2241468c733572e19ac476": {
          "model_module": "@jupyter-widgets/controls",
          "model_name": "FloatProgressModel",
          "state": {
            "_view_name": "ProgressView",
            "style": "IPY_MODEL_b6baf26c78f44f74b5999eef4242301e",
            "_dom_classes": [],
            "description": "100%",
            "_model_name": "FloatProgressModel",
            "bar_style": "success",
            "max": 200,
            "_view_module": "@jupyter-widgets/controls",
            "_model_module_version": "1.5.0",
            "value": 200,
            "_view_count": null,
            "_view_module_version": "1.5.0",
            "orientation": "horizontal",
            "min": 0,
            "description_tooltip": null,
            "_model_module": "@jupyter-widgets/controls",
            "layout": "IPY_MODEL_cb341920443f407eb5b6374053bf366d"
          }
        },
        "f84c67bfbcc047a8adbdc008fcdc7f8e": {
          "model_module": "@jupyter-widgets/controls",
          "model_name": "HTMLModel",
          "state": {
            "_view_name": "HTMLView",
            "style": "IPY_MODEL_0d7bf5645c4b45d0925cb7d64902990b",
            "_dom_classes": [],
            "description": "",
            "_model_name": "HTMLModel",
            "placeholder": "​",
            "_view_module": "@jupyter-widgets/controls",
            "_model_module_version": "1.5.0",
            "value": " 200/200 [07:09&lt;00:00,  2.15s/it]",
            "_view_count": null,
            "_view_module_version": "1.5.0",
            "description_tooltip": null,
            "_model_module": "@jupyter-widgets/controls",
            "layout": "IPY_MODEL_b614f1f64e25459a94289ef1fb1230bd"
          }
        },
        "b6baf26c78f44f74b5999eef4242301e": {
          "model_module": "@jupyter-widgets/controls",
          "model_name": "ProgressStyleModel",
          "state": {
            "_view_name": "StyleView",
            "_model_name": "ProgressStyleModel",
            "description_width": "initial",
            "_view_module": "@jupyter-widgets/base",
            "_model_module_version": "1.5.0",
            "_view_count": null,
            "_view_module_version": "1.2.0",
            "bar_color": null,
            "_model_module": "@jupyter-widgets/controls"
          }
        },
        "cb341920443f407eb5b6374053bf366d": {
          "model_module": "@jupyter-widgets/base",
          "model_name": "LayoutModel",
          "state": {
            "_view_name": "LayoutView",
            "grid_template_rows": null,
            "right": null,
            "justify_content": null,
            "_view_module": "@jupyter-widgets/base",
            "overflow": null,
            "_model_module_version": "1.2.0",
            "_view_count": null,
            "flex_flow": null,
            "width": null,
            "min_width": null,
            "border": null,
            "align_items": null,
            "bottom": null,
            "_model_module": "@jupyter-widgets/base",
            "top": null,
            "grid_column": null,
            "overflow_y": null,
            "overflow_x": null,
            "grid_auto_flow": null,
            "grid_area": null,
            "grid_template_columns": null,
            "flex": null,
            "_model_name": "LayoutModel",
            "justify_items": null,
            "grid_row": null,
            "max_height": null,
            "align_content": null,
            "visibility": null,
            "align_self": null,
            "height": null,
            "min_height": null,
            "padding": null,
            "grid_auto_rows": null,
            "grid_gap": null,
            "max_width": null,
            "order": null,
            "_view_module_version": "1.2.0",
            "grid_template_areas": null,
            "object_position": null,
            "object_fit": null,
            "grid_auto_columns": null,
            "margin": null,
            "display": null,
            "left": null
          }
        },
        "0d7bf5645c4b45d0925cb7d64902990b": {
          "model_module": "@jupyter-widgets/controls",
          "model_name": "DescriptionStyleModel",
          "state": {
            "_view_name": "StyleView",
            "_model_name": "DescriptionStyleModel",
            "description_width": "",
            "_view_module": "@jupyter-widgets/base",
            "_model_module_version": "1.5.0",
            "_view_count": null,
            "_view_module_version": "1.2.0",
            "_model_module": "@jupyter-widgets/controls"
          }
        },
        "b614f1f64e25459a94289ef1fb1230bd": {
          "model_module": "@jupyter-widgets/base",
          "model_name": "LayoutModel",
          "state": {
            "_view_name": "LayoutView",
            "grid_template_rows": null,
            "right": null,
            "justify_content": null,
            "_view_module": "@jupyter-widgets/base",
            "overflow": null,
            "_model_module_version": "1.2.0",
            "_view_count": null,
            "flex_flow": null,
            "width": null,
            "min_width": null,
            "border": null,
            "align_items": null,
            "bottom": null,
            "_model_module": "@jupyter-widgets/base",
            "top": null,
            "grid_column": null,
            "overflow_y": null,
            "overflow_x": null,
            "grid_auto_flow": null,
            "grid_area": null,
            "grid_template_columns": null,
            "flex": null,
            "_model_name": "LayoutModel",
            "justify_items": null,
            "grid_row": null,
            "max_height": null,
            "align_content": null,
            "visibility": null,
            "align_self": null,
            "height": null,
            "min_height": null,
            "padding": null,
            "grid_auto_rows": null,
            "grid_gap": null,
            "max_width": null,
            "order": null,
            "_view_module_version": "1.2.0",
            "grid_template_areas": null,
            "object_position": null,
            "object_fit": null,
            "grid_auto_columns": null,
            "margin": null,
            "display": null,
            "left": null
          }
        },
        "4ffa2d0c96184339a2276f0dd0418fc3": {
          "model_module": "@jupyter-widgets/controls",
          "model_name": "HBoxModel",
          "state": {
            "_view_name": "HBoxView",
            "_dom_classes": [],
            "_model_name": "HBoxModel",
            "_view_module": "@jupyter-widgets/controls",
            "_model_module_version": "1.5.0",
            "_view_count": null,
            "_view_module_version": "1.5.0",
            "box_style": "",
            "layout": "IPY_MODEL_55f1c9c28950439f8a11f5f2972ce5c0",
            "_model_module": "@jupyter-widgets/controls",
            "children": [
              "IPY_MODEL_63aaec2c4b55409cadad2912fd24aa72",
              "IPY_MODEL_f10cc85d81d64bf1abcbcf844b3ae241"
            ]
          }
        },
        "55f1c9c28950439f8a11f5f2972ce5c0": {
          "model_module": "@jupyter-widgets/base",
          "model_name": "LayoutModel",
          "state": {
            "_view_name": "LayoutView",
            "grid_template_rows": null,
            "right": null,
            "justify_content": null,
            "_view_module": "@jupyter-widgets/base",
            "overflow": null,
            "_model_module_version": "1.2.0",
            "_view_count": null,
            "flex_flow": null,
            "width": null,
            "min_width": null,
            "border": null,
            "align_items": null,
            "bottom": null,
            "_model_module": "@jupyter-widgets/base",
            "top": null,
            "grid_column": null,
            "overflow_y": null,
            "overflow_x": null,
            "grid_auto_flow": null,
            "grid_area": null,
            "grid_template_columns": null,
            "flex": null,
            "_model_name": "LayoutModel",
            "justify_items": null,
            "grid_row": null,
            "max_height": null,
            "align_content": null,
            "visibility": null,
            "align_self": null,
            "height": null,
            "min_height": null,
            "padding": null,
            "grid_auto_rows": null,
            "grid_gap": null,
            "max_width": null,
            "order": null,
            "_view_module_version": "1.2.0",
            "grid_template_areas": null,
            "object_position": null,
            "object_fit": null,
            "grid_auto_columns": null,
            "margin": null,
            "display": null,
            "left": null
          }
        },
        "63aaec2c4b55409cadad2912fd24aa72": {
          "model_module": "@jupyter-widgets/controls",
          "model_name": "FloatProgressModel",
          "state": {
            "_view_name": "ProgressView",
            "style": "IPY_MODEL_9999ee0ef1834dd88ec50ff55c8a3284",
            "_dom_classes": [],
            "description": " 54%",
            "_model_name": "FloatProgressModel",
            "bar_style": "",
            "max": 200,
            "_view_module": "@jupyter-widgets/controls",
            "_model_module_version": "1.5.0",
            "value": 107,
            "_view_count": null,
            "_view_module_version": "1.5.0",
            "orientation": "horizontal",
            "min": 0,
            "description_tooltip": null,
            "_model_module": "@jupyter-widgets/controls",
            "layout": "IPY_MODEL_5f9634790d864e28a68399d7de8f3134"
          }
        },
        "f10cc85d81d64bf1abcbcf844b3ae241": {
          "model_module": "@jupyter-widgets/controls",
          "model_name": "HTMLModel",
          "state": {
            "_view_name": "HTMLView",
            "style": "IPY_MODEL_3d77f68f2b5e451da47fc7171b9f4cc3",
            "_dom_classes": [],
            "description": "",
            "_model_name": "HTMLModel",
            "placeholder": "​",
            "_view_module": "@jupyter-widgets/controls",
            "_model_module_version": "1.5.0",
            "value": " 107/200 [04:22&lt;03:51,  2.49s/it]",
            "_view_count": null,
            "_view_module_version": "1.5.0",
            "description_tooltip": null,
            "_model_module": "@jupyter-widgets/controls",
            "layout": "IPY_MODEL_ee7f91d95dfe4f9ea17bf8d1c980f58b"
          }
        },
        "9999ee0ef1834dd88ec50ff55c8a3284": {
          "model_module": "@jupyter-widgets/controls",
          "model_name": "ProgressStyleModel",
          "state": {
            "_view_name": "StyleView",
            "_model_name": "ProgressStyleModel",
            "description_width": "initial",
            "_view_module": "@jupyter-widgets/base",
            "_model_module_version": "1.5.0",
            "_view_count": null,
            "_view_module_version": "1.2.0",
            "bar_color": null,
            "_model_module": "@jupyter-widgets/controls"
          }
        },
        "5f9634790d864e28a68399d7de8f3134": {
          "model_module": "@jupyter-widgets/base",
          "model_name": "LayoutModel",
          "state": {
            "_view_name": "LayoutView",
            "grid_template_rows": null,
            "right": null,
            "justify_content": null,
            "_view_module": "@jupyter-widgets/base",
            "overflow": null,
            "_model_module_version": "1.2.0",
            "_view_count": null,
            "flex_flow": null,
            "width": null,
            "min_width": null,
            "border": null,
            "align_items": null,
            "bottom": null,
            "_model_module": "@jupyter-widgets/base",
            "top": null,
            "grid_column": null,
            "overflow_y": null,
            "overflow_x": null,
            "grid_auto_flow": null,
            "grid_area": null,
            "grid_template_columns": null,
            "flex": null,
            "_model_name": "LayoutModel",
            "justify_items": null,
            "grid_row": null,
            "max_height": null,
            "align_content": null,
            "visibility": null,
            "align_self": null,
            "height": null,
            "min_height": null,
            "padding": null,
            "grid_auto_rows": null,
            "grid_gap": null,
            "max_width": null,
            "order": null,
            "_view_module_version": "1.2.0",
            "grid_template_areas": null,
            "object_position": null,
            "object_fit": null,
            "grid_auto_columns": null,
            "margin": null,
            "display": null,
            "left": null
          }
        },
        "3d77f68f2b5e451da47fc7171b9f4cc3": {
          "model_module": "@jupyter-widgets/controls",
          "model_name": "DescriptionStyleModel",
          "state": {
            "_view_name": "StyleView",
            "_model_name": "DescriptionStyleModel",
            "description_width": "",
            "_view_module": "@jupyter-widgets/base",
            "_model_module_version": "1.5.0",
            "_view_count": null,
            "_view_module_version": "1.2.0",
            "_model_module": "@jupyter-widgets/controls"
          }
        },
        "ee7f91d95dfe4f9ea17bf8d1c980f58b": {
          "model_module": "@jupyter-widgets/base",
          "model_name": "LayoutModel",
          "state": {
            "_view_name": "LayoutView",
            "grid_template_rows": null,
            "right": null,
            "justify_content": null,
            "_view_module": "@jupyter-widgets/base",
            "overflow": null,
            "_model_module_version": "1.2.0",
            "_view_count": null,
            "flex_flow": null,
            "width": null,
            "min_width": null,
            "border": null,
            "align_items": null,
            "bottom": null,
            "_model_module": "@jupyter-widgets/base",
            "top": null,
            "grid_column": null,
            "overflow_y": null,
            "overflow_x": null,
            "grid_auto_flow": null,
            "grid_area": null,
            "grid_template_columns": null,
            "flex": null,
            "_model_name": "LayoutModel",
            "justify_items": null,
            "grid_row": null,
            "max_height": null,
            "align_content": null,
            "visibility": null,
            "align_self": null,
            "height": null,
            "min_height": null,
            "padding": null,
            "grid_auto_rows": null,
            "grid_gap": null,
            "max_width": null,
            "order": null,
            "_view_module_version": "1.2.0",
            "grid_template_areas": null,
            "object_position": null,
            "object_fit": null,
            "grid_auto_columns": null,
            "margin": null,
            "display": null,
            "left": null
          }
        }
      }
    },
    "accelerator": "GPU"
  },
  "cells": [
    {
      "cell_type": "markdown",
      "metadata": {
        "id": "view-in-github",
        "colab_type": "text"
      },
      "source": [
        "<a href=\"https://colab.research.google.com/github/karinadw/Neutrino-classification-CNN/blob/main/neutrino_mini_project%20(version%201).ipynb\" target=\"_parent\"><img src=\"https://colab.research.google.com/assets/colab-badge.svg\" alt=\"Open In Colab\"/></a>"
      ]
    },
    {
      "cell_type": "markdown",
      "metadata": {
        "id": "TNOpqLwlj6o-"
      },
      "source": [
        "# NEUTRINO EVENT CLASSIFICATION\r\n",
        "\r\n",
        "### Machine learning mini project\r\n",
        "\r\n",
        "### Karina Dansinghani Wadhwani"
      ]
    },
    {
      "cell_type": "markdown",
      "metadata": {
        "id": "Pqd4GNoiZYbp"
      },
      "source": [
        "[Task 1 and Task 2](#cell-id)"
      ]
    },
    {
      "cell_type": "code",
      "metadata": {
        "colab": {
          "base_uri": "https://localhost:8080/"
        },
        "id": "4FBom04jrZ6S",
        "outputId": "622b9e86-f62a-41ce-c5c5-18ce5b9f76d0"
      },
      "source": [
        "## IMPORTING ALL THE NECESSARY MODULES\r\n",
        "\r\n",
        "import matplotlib.pyplot as plt\r\n",
        "import numpy as np\r\n",
        "import math\r\n",
        "import h5py\r\n",
        "\r\n",
        "# TensorFlow and tf.keras\r\n",
        "import tensorflow as tf\r\n",
        "from tensorflow import keras\r\n",
        "from keras.layers import Input, Dense, Flatten, Dropout, Conv2D, MaxPooling2D, Activation, concatenate, AveragePooling2D\r\n",
        "from keras.models import Model\r\n",
        "from keras.callbacks import ModelCheckpoint\r\n",
        "from keras import callbacks \r\n",
        "\r\n",
        "import matplotlib.style                     \r\n",
        "import matplotlib as mpl                    \r\n",
        "\r\n",
        "from tqdm.notebook import tqdm              # imports a progress bar\r\n",
        "from IPython.display import display, Math\r\n",
        "\r\n",
        "#Set default figure size\r\n",
        "mpl.rcParams[\"legend.frameon\"] = False\r\n",
        "mpl.rcParams['figure.dpi'] = 200            # dots per inch\r\n",
        "\r\n",
        "#Useful for debugging problems\r\n",
        "print(\"Tensorflow version: \", tf.__version__)"
      ],
      "execution_count": 1,
      "outputs": [
        {
          "output_type": "stream",
          "text": [
            "Tensorflow version:  2.4.0\n"
          ],
          "name": "stdout"
        }
      ]
    },
    {
      "cell_type": "code",
      "metadata": {
        "id": "Rk-98en1yAkO"
      },
      "source": [
        "import enum \n",
        "class Interaction(enum.Enum):\n",
        "    kNumuQE =0           # Numu CC QE interaction\n",
        "    kNumuRes =1           # Numu CC Resonant interaction\n",
        "    kNumuDIS = 2          # Numu CC DIS interaction\n",
        "    kNumuOther = 3        # Numu CC, other than above\n",
        "    kNueQE = 4            # Nue CC QE interaction\n",
        "    kNueRes = 5           # Nue CC Resonant interaction\n",
        "    kNueDIS = 6           # Nue CC DIS interaction\n",
        "    kNueOther = 7         # Nue CC, other than above\n",
        "    kNutauQE = 8          # Nutau CC QE interaction\n",
        "    kNutauRes = 9         # Nutau CC Resonant interaction\n",
        "    kNutauDIS =10         # Nutau CC DIS interaction\n",
        "    kNutauOther =11       # Nutau CC, other than above\n",
        "    kNuElectronElastic = 12# NC Nu On E Scattering\n",
        "    kNC =13                # NC interaction\n",
        "    kCosmic =14           # Cosmic ray background\n",
        "    kOther =15            # Something else.  Tau?  Hopefully we don't use this\n",
        "    kNIntType=16          # Number of interaction types, used like a vector size\n",
        "\n",
        "    \n",
        "class FinalState(enum.Enum):\n",
        "    kNumu0tr0sh=0          # Numu CC - no track no shower\n",
        "    kNumu0tr1sh=1          # Numu CC - no track  1 shower\n",
        "    kNumu0tr2sh=enum.auto()          # Numu CC - no track  2 shower\n",
        "    kNumu0trMsh=enum.auto()          # Numu CC - no track 3+ shower\n",
        "    kNumu1tr0sh=enum.auto()          # Numu CC -  1 track no shower\n",
        "    kNumu1tr1sh=enum.auto()          # Numu CC -  1 track  1 shower\n",
        "    kNumu1tr2sh=enum.auto()          # Numu CC -  1 track  2 shower\n",
        "    kNumu1trMsh=enum.auto()          # Numu CC -  1 track 3+ shower\n",
        "    kNumu2tr0sh=enum.auto()          # Numu CC -  2 track no shower\n",
        "    kNumu2tr1sh=enum.auto()          # Numu CC -  2 track  1 shower\n",
        "    kNumu2tr2sh=enum.auto()          # Numu CC -  2 track  2 shower\n",
        "    kNumu2trMsh=enum.auto()          # Numu CC -  2 track 3+ shower\n",
        "    kNumuMtr0sh=enum.auto()          # Numu CC - 3+ track no showe\n",
        "    kNumuMtr1sh=enum.auto()          # Numu CC - 3+ track  1 shower\n",
        "    kNumuMtr2sh=enum.auto()          # Numu CC - 3+ track  2 showe\n",
        "    kNumuMtrMsh=enum.auto()          # Numu CC - 3+ track 3+ shower\n",
        "    kNue0tr0sh=enum.auto()           # Nue CC - no track no shower\n",
        "    kNue0tr1sh=enum.auto()           # Nue CC - no track  1 shower\n",
        "    kNue0tr2sh=enum.auto()           # Nue CC - no track  2 showe\n",
        "    kNue0trMsh=enum.auto()           # Nue CC - no track 3+ shower\n",
        "    kNue1tr0sh=enum.auto()           # Nue CC -  1 track no shower\n",
        "    kNue1tr1sh=enum.auto()           # Nue CC -  1 track  1 shower\n",
        "    kNue1tr2sh=enum.auto()           # Nue CC -  1 track  2 shower\n",
        "    kNue1trMsh=enum.auto()           # Nue CC -  1 track 3+ shower\n",
        "    kNue2tr0sh=enum.auto()           # Nue CC -  2 track no shower\n",
        "    kNue2tr1sh=enum.auto()           # Nue CC -  2 track  1 shower\n",
        "    kNue2tr2sh=enum.auto()           # Nue CC -  2 track  2 shower\n",
        "    kNue2trMsh=enum.auto()           # Nue CC -  2 track 3+ shower\n",
        "    kNueMtr0sh=enum.auto()           # Nue CC - 3+ track no shower\n",
        "    kNueMtr1sh=enum.auto()           # Nue CC - 3+ track  1 shower\n",
        "    kNueMtr2sh=enum.auto()           # Nue CC - 3+ track  2 shower\n",
        "    kNueMtrMsh=enum.auto()           # Nue CC - 3+ track 3+ shower\n",
        "    kNC0tr0sh=enum.auto()           # NC CC - no track no shower\n",
        "    kNC0tr1sh=enum.auto()           # NC CC - no track  1 shower\n",
        "    kNC0tr2sh=enum.auto()           # NC CC - no track  2 shower\n",
        "    kNC0trMsh=enum.auto()           # NC CC - no track 3+ shower\n",
        "    kNC1tr0sh=enum.auto()           # NC CC -  1 track no shower\n",
        "    kNC1tr1sh=enum.auto()           # NC CC -  1 track  1 shower\n",
        "    kNC1tr2sh=enum.auto()           # NC CC -  1 track  2 shower\n",
        "    kNC1trMsh=enum.auto()           # NC CC -  1 track 3+ shower\n",
        "    kNC2tr0sh=enum.auto()           # NC CC -  2 track no shower\n",
        "    kNC2tr1sh=enum.auto()           # NC CC -  2 track  1 shower\n",
        "    kNC2tr2sh=enum.auto()           # NC CC -  2 track  2 shower\n",
        "    kNC2trMsh=enum.auto()           # NC CC -  2 track 3+ shower\n",
        "    kNCMtr0sh=enum.auto()           # NC CC - 3+ track no shower\n",
        "    kNCMtr1sh=enum.auto()           # NC CC - 3+ track  1 shower\n",
        "    kNCMtr2sh=enum.auto()           # NC CC - 3+ track  2 shower\n",
        "    kNCMtrMsh=enum.auto()           # NC CC - 3+ track 3+ shower\n",
        "    kCosmicFS=enum.auto()           # Cosmic ray background\n",
        "    kOtherFS=enum.auto()            # Something else.  Tau?  Hopefully we don't use this\n",
        "    kNFStType=enum.auto()            # Number of interaction types, used like a vector size\n",
        "\n"
      ],
      "execution_count": 2,
      "outputs": []
    },
    {
      "cell_type": "markdown",
      "metadata": {
        "id": "vQ8ZOOdwZkQz"
      },
      "source": [
        "<a name=\"cell-id\"></a>\r\n",
        "# TASK 1 AND TASK 2"
      ]
    },
    {
      "cell_type": "markdown",
      "metadata": {
        "id": "LJR3fDBkPVIE"
      },
      "source": [
        "## Restrieving the data files\r\n",
        "\r\n",
        "Here I am creating a definition to retrieve all the data files and include all the name of the files in an array. "
      ]
    },
    {
      "cell_type": "code",
      "metadata": {
        "id": "VzwAi6_bsR9R"
      },
      "source": [
        "import urllib.request\r\n",
        "\r\n",
        "\r\n",
        "def data_retriever(file_number):\r\n",
        "\r\n",
        "  model_lab=[]\r\n",
        "  model_in_1 = []\r\n",
        "  model_in_2 = []\r\n",
        "  \r\n",
        "  core = 'http://www.hep.ucl.ac.uk/undergrad/0056/other/projects/nova/neutrino'\r\n",
        "  counter = 1\r\n",
        "  end = '.h5'\r\n",
        "  f_name=[]\r\n",
        "  \r\n",
        "  #file_number=10\r\n",
        "\r\n",
        "  for i in tqdm(range(0,file_number)):\r\n",
        "    \r\n",
        "    filename = \"neutrino\" + str(counter) + \".h5\"\r\n",
        "    urllib.request.urlretrieve(core+str(counter)+end, filename)\r\n",
        "    f_name.append(h5py.File(filename, 'r'))\r\n",
        "    counter += 1\r\n",
        "\r\n",
        "  return f_name"
      ],
      "execution_count": 4,
      "outputs": []
    },
    {
      "cell_type": "code",
      "metadata": {
        "id": "TzPbaRHEsDgr"
      },
      "source": [
        "def slice_data(data, frac):\r\n",
        "  \"\"\"\r\n",
        "  Function to slice the simulation data into training and testing datasets\r\n",
        "  \"\"\"\r\n",
        "\r\n",
        "  place = round(len(data)*frac)\r\n",
        "\r\n",
        "  files_1 = data[:place]\r\n",
        "  files_2 = data[place:]\r\n",
        "\r\n",
        "  return files_1, files_2"
      ],
      "execution_count": 17,
      "outputs": []
    },
    {
      "cell_type": "code",
      "metadata": {
        "colab": {
          "base_uri": "https://localhost:8080/",
          "height": 66,
          "referenced_widgets": [
            "15d7cb86489d41d4aab14380f0a7fb42",
            "3724cff7838f4c04a844c65cae615186",
            "e27fa603e8824c5b8dd511edba946f96",
            "589b8c94745b4670b1a82b1a33671cc7",
            "800d16c98d7d439b80ba8fbfa6488d6d",
            "9fab5a568ec941e8ae3e2b8cdaf9f6ff",
            "fc3a3225ba9a4d2cb52f929655ed3e91",
            "2dd6b378aa1e4ada8a4d17400b60ed48"
          ]
        },
        "id": "B8cBpGTjsjhk",
        "outputId": "cadf592c-76c7-4833-be79-a5d05cd65e05"
      },
      "source": [
        "files=data_retriever(7)"
      ],
      "execution_count": 18,
      "outputs": [
        {
          "output_type": "display_data",
          "data": {
            "application/vnd.jupyter.widget-view+json": {
              "model_id": "15d7cb86489d41d4aab14380f0a7fb42",
              "version_minor": 0,
              "version_major": 2
            },
            "text/plain": [
              "HBox(children=(FloatProgress(value=0.0, max=7.0), HTML(value='')))"
            ]
          },
          "metadata": {
            "tags": []
          }
        },
        {
          "output_type": "stream",
          "text": [
            "\n"
          ],
          "name": "stdout"
        }
      ]
    },
    {
      "cell_type": "code",
      "metadata": {
        "colab": {
          "base_uri": "https://localhost:8080/",
          "height": 114,
          "referenced_widgets": [
            "ef562d73075c42398c99dd88b9c6e621",
            "289b196efa394d6a883e3952c8455be5",
            "c0acbc62f2594955bcbcc88da7004b2a",
            "a6301c1f630843fc8406ff101cec5c2f",
            "246d4e57b9504622a12ae29f6b84aa86",
            "715f9068db6c49129ece143420796e3d",
            "30bd8373b30f4ef89bb24708e8e57dcc",
            "261d542857454ec69d37171914f8ff0e",
            "2a9d99809e76449584d2cd12b23b6918",
            "70a50bf824bd42e98e63fb4a79f338b5",
            "c16514bb0db14b768e728ebd9ecda6bc",
            "2c75123046bb4e9587af0c7aa2660143",
            "38bb74dde9ba4e0a9f0a4a6b44834c4e",
            "25eebd3792b042d3a1d8d549bb60f590",
            "7e05f088a9b24e529be9b6c802a270ca",
            "ea6c1c9e96d04aff8c66068dd493d138"
          ]
        },
        "id": "PliUciK7YVjF",
        "outputId": "9f7ab181-c0c7-4fa5-c133-05d4c78a271c"
      },
      "source": [
        "model_lab = []\r\n",
        "model_in_1 = []\r\n",
        "model_in_2 = []\r\n",
        "\r\n",
        "for i in tqdm(range(0,7)):\r\n",
        "  data_length = len(files[i]['neutrino']['interaction'])\r\n",
        "\r\n",
        "  for j in range(data_length):  \r\n",
        "    if (files[i]['neutrino']['interaction'][j])>3: \r\n",
        "      m = (files[i]['cvnmap'][j]).reshape((2,100,80))\r\n",
        "      model_in_1.append(m[0])\r\n",
        "      model_in_2.append(m[1])\r\n",
        "      model_lab.append(int(0)) # 0 is Not muon charged-current event\r\n",
        "    else:\r\n",
        "      pass\r\n",
        "    \r\n",
        "\r\n",
        "for z in tqdm(range(0,1)):\r\n",
        "  data_length = len(files[z]['neutrino']['interaction'])\r\n",
        "  for k in range(data_length):\r\n",
        "    if (files[z]['neutrino']['interaction'][k])<=3:\r\n",
        "      m = (files[z]['cvnmap'][k]).reshape((2,100,80))\r\n",
        "      model_in_1.append(m[0])\r\n",
        "      model_in_2.append(m[1])\r\n",
        "      model_lab.append(int(1)) # 1 is muon charged-current event\r\n",
        "    else:\r\n",
        "      pass\r\n",
        "  \r\n"
      ],
      "execution_count": 19,
      "outputs": [
        {
          "output_type": "display_data",
          "data": {
            "application/vnd.jupyter.widget-view+json": {
              "model_id": "ef562d73075c42398c99dd88b9c6e621",
              "version_minor": 0,
              "version_major": 2
            },
            "text/plain": [
              "HBox(children=(FloatProgress(value=0.0, max=7.0), HTML(value='')))"
            ]
          },
          "metadata": {
            "tags": []
          }
        },
        {
          "output_type": "stream",
          "text": [
            "\n"
          ],
          "name": "stdout"
        },
        {
          "output_type": "display_data",
          "data": {
            "application/vnd.jupyter.widget-view+json": {
              "model_id": "2a9d99809e76449584d2cd12b23b6918",
              "version_minor": 0,
              "version_major": 2
            },
            "text/plain": [
              "HBox(children=(FloatProgress(value=0.0, max=1.0), HTML(value='')))"
            ]
          },
          "metadata": {
            "tags": []
          }
        },
        {
          "output_type": "stream",
          "text": [
            "\n"
          ],
          "name": "stdout"
        }
      ]
    },
    {
      "cell_type": "code",
      "metadata": {
        "colab": {
          "base_uri": "https://localhost:8080/",
          "height": 775
        },
        "id": "NqUsxLD4INs7",
        "outputId": "d183fd79-e5d3-4980-8003-a1ad71c64c68"
      },
      "source": [
        "plt.hist(model_lab)"
      ],
      "execution_count": 20,
      "outputs": [
        {
          "output_type": "execute_result",
          "data": {
            "text/plain": [
              "(array([5789.,    0.,    0.,    0.,    0.,    0.,    0.,    0.,    0.,\n",
              "        6156.]),\n",
              " array([0. , 0.1, 0.2, 0.3, 0.4, 0.5, 0.6, 0.7, 0.8, 0.9, 1. ]),\n",
              " <a list of 10 Patch objects>)"
            ]
          },
          "metadata": {
            "tags": []
          },
          "execution_count": 20
        },
        {
          "output_type": "display_data",
          "data": {
            "image/png": "[encoded data removed]",
            "text/plain": [
              "<Figure size 1200x800 with 1 Axes>"
            ]
          },
          "metadata": {
            "tags": [],
            "needs_background": "light"
          }
        }
      ]
    },
    {
      "cell_type": "code",
      "metadata": {
        "id": "4AxOlANZwvaI"
      },
      "source": [
        "def shuffle_data(labels, image_set_1, image_set_2):\r\n",
        "\r\n",
        "  c = list(zip(labels, image_set_1, image_set_2))\r\n",
        "  np.random.shuffle(c)\r\n",
        "  labels, image_set_1, image_set_2 = zip(*c)\r\n",
        "\r\n",
        "  return labels, image_set_1, image_set_2"
      ],
      "execution_count": 21,
      "outputs": []
    },
    {
      "cell_type": "code",
      "metadata": {
        "id": "aAV21Hm_zY4N"
      },
      "source": [
        "model_lab, model_in_1, model_in_2 = shuffle_data(model_lab, model_in_1, model_in_2)"
      ],
      "execution_count": 22,
      "outputs": []
    },
    {
      "cell_type": "code",
      "metadata": {
        "colab": {
          "base_uri": "https://localhost:8080/"
        },
        "id": "Wv-aN7yE1-7y",
        "outputId": "2f7fe736-f2e2-45b6-b0e0-9d17f5a23517"
      },
      "source": [
        "## I am just checking that everything has the correct shape\r\n",
        "\r\n",
        "print(np.shape(model_in_1))\r\n",
        "print(np.shape(model_in_2))\r\n",
        "print(np.shape(model_lab))"
      ],
      "execution_count": 23,
      "outputs": [
        {
          "output_type": "stream",
          "text": [
            "(11945, 100, 80)\n",
            "(11945, 100, 80)\n",
            "(11945,)\n"
          ],
          "name": "stdout"
        }
      ]
    },
    {
      "cell_type": "code",
      "metadata": {
        "id": "rt-iy6TtOlre"
      },
      "source": [
        "model_in_1 = tf.expand_dims(model_in_1, axis = 3)\r\n",
        "model_in_2 = tf.expand_dims(model_in_2, axis = 3)"
      ],
      "execution_count": 24,
      "outputs": []
    },
    {
      "cell_type": "code",
      "metadata": {
        "id": "Acm4dBm-Lomj"
      },
      "source": [
        "def data (model_input_1, model_input_2, model_labels):\r\n",
        "\r\n",
        "\r\n",
        "  model_in_1 = np.array(model_input_1)\r\n",
        "  model_in_2 = np.array(model_input_2)\r\n",
        "  model_lab = np.array(model_labels)\r\n",
        "\r\n",
        "  tr_input_1, te_input_1 = slice_data(model_in_1, 0.8)\r\n",
        "  tr_input_2, te_input_2 = slice_data(model_in_2, 0.8)\r\n",
        "  tr_labels, te_labels = slice_data(model_lab, 0.8)\r\n",
        "\r\n",
        "  train_input_1, val_input_1 = slice_data(tr_input_1, 0.8)\r\n",
        "  train_input_2, val_input_2 = slice_data(tr_input_2, 0.8)\r\n",
        "  train_labels, val_labels =slice_data(tr_labels, 0.8)\r\n",
        "\r\n",
        "  train_input_1 = train_input_1.astype('float32') / 255.0\r\n",
        "  val_input_1 = val_input_1.astype('float32') / 255.0\r\n",
        "  te_input_1 = te_input_1.astype('float32') / 255.0\r\n",
        "\r\n",
        "  train_input_2 = train_input_2.astype('float32') / 255.0\r\n",
        "  val_input_2 = val_input_2.astype('float32') / 255.0\r\n",
        "  te_input_2 = te_input_2.astype('float32') / 255.0\r\n",
        "\r\n",
        "  tr_labels = train_labels.astype('float32')\r\n",
        "  val_labels = val_labels.astype('float32')\r\n",
        "  te_labels = te_labels.astype('float32')\r\n",
        "\r\n",
        "  return (train_input_1, te_input_1, val_input_1, train_input_2, te_input_2, val_input_2, tr_labels, val_labels, te_labels)\r\n"
      ],
      "execution_count": 25,
      "outputs": []
    },
    {
      "cell_type": "code",
      "metadata": {
        "id": "4ypWO0uPNJbk"
      },
      "source": [
        "train_input_1, te_input_1, val_input_1, train_input_2, te_input_2, val_input_2, train_labels, val_labels, te_labels = data(model_in_1, model_in_2, model_lab)"
      ],
      "execution_count": 26,
      "outputs": []
    },
    {
      "cell_type": "markdown",
      "metadata": {
        "id": "3MivD7i4vf2B"
      },
      "source": [
        "### 1. Develop a machine learning classifier that can successfully identify $\\nu_\\mu$ charged-current events\r\n",
        "\r\n",
        "This is essentially a binary classification problem. \r\n",
        "\r\n",
        "Binary classification is the task of classifying the elements of a set into two groups on the basis of a classification rule. Typical binary classification problems include:\r\n",
        "\r\n",
        "Medical testing to determine if a patient has certain disease or not;\r\n",
        "Quality control in industry, deciding whether a specification has been met;\r\n",
        "In information retrieval, deciding whether a page should be in the result set of a search or not.\r\n",
        "Binary classification is dichotomization applied to a practical situation.\r\n",
        "\r\n",
        "Source: https://en.wikipedia.org/wiki/Binary_classification\r\n",
        "\r\n",
        "We are going to label the $\\nu_\\mu$ charged-current events as 1 and the rest as 0 to be able to easily identify these events. \r\n"
      ]
    },
    {
      "cell_type": "markdown",
      "metadata": {
        "id": "Qd1qmUrz92Qt"
      },
      "source": [
        "## KERAS CONV2D STRUCTURE\r\n",
        "tensorflow.keras.layers.Conv2D(filters, kernel_size, strides=(1, 1),\r\n",
        "  padding='valid', data_format=None, dilation_rate=(1, 1),\r\n",
        "  activation=None, use_bias=True, kernel_initializer='glorot_uniform',\r\n",
        "  bias_initializer='zeros', kernel_regularizer=None,\r\n",
        "  bias_regularizer=None, activity_regularizer=None,\r\n",
        "  kernel_constraint=None, bias_constraint=None)\r\n"
      ]
    },
    {
      "cell_type": "markdown",
      "metadata": {
        "id": "F8x-N38aAZko"
      },
      "source": [
        "### Filters\r\n",
        "\r\n",
        "The first required Conv2D parameter is the number of filters that the convolutional layer will learn.\r\n",
        "\r\n",
        "Layers early in the network architecture (i.e., closer to the actual input image) learn fewer convolutional filters while layers deeper in the network (i.e., closer to the output predictions) will learn more filters.\r\n",
        "\r\n",
        "Conv2D layers in between will learn more filters than the early Conv2D layers but fewer filters than the layers closer to the output.\r\n"
      ]
    },
    {
      "cell_type": "markdown",
      "metadata": {
        "id": "NFM7TU8tAcBL"
      },
      "source": [
        "### Kernel_size\r\n",
        "The second required parameter you need to provide to the Keras Conv2D class is the kernel_size , a 2-tuple specifying the width and height of the 2D convolution window.\r\n",
        "\r\n",
        "The kernel_size must be an odd integer as well.\r\n",
        "\r\n",
        "Typical values for kernel_size include: (1, 1) , (3, 3) , (5, 5) , (7, 7) . It’s rare to see kernel sizes larger than 7×7.\r\n",
        "\r\n",
        "So, when do you use each?\r\n",
        "\r\n",
        "If your input images are greater than 128×128 you may choose to use a kernel size > 3 to help (1) learn larger spatial filters and (2) to help reduce volume size."
      ]
    },
    {
      "cell_type": "markdown",
      "metadata": {
        "id": "BsfIpJOfA2Rx"
      },
      "source": [
        "### Padding \r\n",
        "The padding parameter to the Keras Conv2D class can take on one of two values: valid or same .\r\n",
        "\r\n",
        "With the valid parameter the input volume is not zero-padded and the spatial dimensions are allowed to reduce via the natural application of convolution.\r\n",
        "\r\n",
        "If you instead want to preserve the spatial dimensions of the volume such that the output volume size matches the input volume size, then you would want to supply a value of same for the padding"
      ]
    },
    {
      "cell_type": "code",
      "metadata": {
        "id": "0VMuMoY2HF7d"
      },
      "source": [
        "def create_convolution_layers(input_img):\r\n",
        "\r\n",
        "  model = Conv2D(8, (3, 3), activation = \"relu\", padding='same', input_shape=input_shape[1:])(input_img)\r\n",
        "  model = MaxPooling2D((2, 2),padding='same')(model)\r\n",
        "  model = Dropout(0.25)(model)\r\n",
        "  \r\n",
        "  model = Conv2D(16, (3, 3), padding='same')(model)\r\n",
        "  model = MaxPooling2D(pool_size=(2, 2),padding='same')(model)\r\n",
        "  model = Dropout(0.4)(model)\r\n",
        "    \r\n",
        "  model = Conv2D(32, (3, 3), padding='same')(model)\r\n",
        "  model = MaxPooling2D(pool_size=(2, 2),padding='same')(model)\r\n",
        "  model = Dropout(0.4)(model)\r\n",
        "\r\n",
        "    \r\n",
        "  return model"
      ],
      "execution_count": 27,
      "outputs": []
    },
    {
      "cell_type": "markdown",
      "metadata": {
        "id": "Jw5b1lICdJta"
      },
      "source": [
        "I need to carefully check the parameters being used in the cnn. I need to find the perfect balance between overfitting the data and underfitting. \r\n",
        "\r\n",
        "https://towardsdatascience.com/a-guide-to-an-efficient-way-to-build-neural-network-architectures-part-ii-hyper-parameter-42efca01e5d7\r\n"
      ]
    },
    {
      "cell_type": "code",
      "metadata": {
        "colab": {
          "base_uri": "https://localhost:8080/"
        },
        "id": "khayf5t88hAD",
        "outputId": "f951bf3d-a8e2-42c7-ebbd-0d243f021bc0"
      },
      "source": [
        "input_shape = np.shape(model_in_1)\r\n",
        "print(input_shape)"
      ],
      "execution_count": 28,
      "outputs": [
        {
          "output_type": "stream",
          "text": [
            "(11945, 100, 80, 1)\n"
          ],
          "name": "stdout"
        }
      ]
    },
    {
      "cell_type": "code",
      "metadata": {
        "colab": {
          "base_uri": "https://localhost:8080/"
        },
        "id": "vCWqLbvPHq99",
        "outputId": "86224d06-d181-421b-e2c7-6e37e569f228"
      },
      "source": [
        "xy_input = Input(shape= input_shape[1:])\r\n",
        "xy_model = create_convolution_layers(xy_input)\r\n",
        "\r\n",
        "yz_input = Input(shape=input_shape[1:])\r\n",
        "yz_model = create_convolution_layers(yz_input)\r\n",
        "\r\n",
        "conv = concatenate([xy_model, yz_model])\r\n",
        "conv = Flatten()(conv)\r\n",
        "\r\n",
        "dense = Dense(32, activation = \"relu\")(conv)\r\n",
        "dense = Dropout(0.5)(dense)\r\n",
        "dense = Dense(64, activation = \"relu\")(dense)\r\n",
        "dense = Dropout(0.5)(dense)\r\n",
        "dense = Dense(32, activation = \"relu\")(dense)\r\n",
        "dense = Dropout(0.5)(dense)\r\n",
        "\r\n",
        "output = Dense(1, activation =\"sigmoid\")(dense)\r\n",
        "\r\n",
        "model = Model(inputs = [xy_input, yz_input], outputs = [output])\r\n",
        "\r\n",
        "\r\n",
        "model.compile(loss=tf.keras.losses.binary_crossentropy,\r\n",
        "              optimizer='adam',\r\n",
        "              metrics=['accuracy']) \r\n",
        "\r\n",
        "model.summary()"
      ],
      "execution_count": 29,
      "outputs": [
        {
          "output_type": "stream",
          "text": [
            "Model: \"model\"\n",
            "__________________________________________________________________________________________________\n",
            "Layer (type)                    Output Shape         Param #     Connected to                     \n",
            "==================================================================================================\n",
            "input_1 (InputLayer)            [(None, 100, 80, 1)] 0                                            \n",
            "__________________________________________________________________________________________________\n",
            "input_2 (InputLayer)            [(None, 100, 80, 1)] 0                                            \n",
            "__________________________________________________________________________________________________\n",
            "conv2d (Conv2D)                 (None, 100, 80, 8)   80          input_1[0][0]                    \n",
            "__________________________________________________________________________________________________\n",
            "conv2d_3 (Conv2D)               (None, 100, 80, 8)   80          input_2[0][0]                    \n",
            "__________________________________________________________________________________________________\n",
            "max_pooling2d (MaxPooling2D)    (None, 50, 40, 8)    0           conv2d[0][0]                     \n",
            "__________________________________________________________________________________________________\n",
            "max_pooling2d_3 (MaxPooling2D)  (None, 50, 40, 8)    0           conv2d_3[0][0]                   \n",
            "__________________________________________________________________________________________________\n",
            "dropout (Dropout)               (None, 50, 40, 8)    0           max_pooling2d[0][0]              \n",
            "__________________________________________________________________________________________________\n",
            "dropout_3 (Dropout)             (None, 50, 40, 8)    0           max_pooling2d_3[0][0]            \n",
            "__________________________________________________________________________________________________\n",
            "conv2d_1 (Conv2D)               (None, 50, 40, 16)   1168        dropout[0][0]                    \n",
            "__________________________________________________________________________________________________\n",
            "conv2d_4 (Conv2D)               (None, 50, 40, 16)   1168        dropout_3[0][0]                  \n",
            "__________________________________________________________________________________________________\n",
            "max_pooling2d_1 (MaxPooling2D)  (None, 25, 20, 16)   0           conv2d_1[0][0]                   \n",
            "__________________________________________________________________________________________________\n",
            "max_pooling2d_4 (MaxPooling2D)  (None, 25, 20, 16)   0           conv2d_4[0][0]                   \n",
            "__________________________________________________________________________________________________\n",
            "dropout_1 (Dropout)             (None, 25, 20, 16)   0           max_pooling2d_1[0][0]            \n",
            "__________________________________________________________________________________________________\n",
            "dropout_4 (Dropout)             (None, 25, 20, 16)   0           max_pooling2d_4[0][0]            \n",
            "__________________________________________________________________________________________________\n",
            "conv2d_2 (Conv2D)               (None, 25, 20, 32)   4640        dropout_1[0][0]                  \n",
            "__________________________________________________________________________________________________\n",
            "conv2d_5 (Conv2D)               (None, 25, 20, 32)   4640        dropout_4[0][0]                  \n",
            "__________________________________________________________________________________________________\n",
            "max_pooling2d_2 (MaxPooling2D)  (None, 13, 10, 32)   0           conv2d_2[0][0]                   \n",
            "__________________________________________________________________________________________________\n",
            "max_pooling2d_5 (MaxPooling2D)  (None, 13, 10, 32)   0           conv2d_5[0][0]                   \n",
            "__________________________________________________________________________________________________\n",
            "dropout_2 (Dropout)             (None, 13, 10, 32)   0           max_pooling2d_2[0][0]            \n",
            "__________________________________________________________________________________________________\n",
            "dropout_5 (Dropout)             (None, 13, 10, 32)   0           max_pooling2d_5[0][0]            \n",
            "__________________________________________________________________________________________________\n",
            "concatenate (Concatenate)       (None, 13, 10, 64)   0           dropout_2[0][0]                  \n",
            "                                                                 dropout_5[0][0]                  \n",
            "__________________________________________________________________________________________________\n",
            "flatten (Flatten)               (None, 8320)         0           concatenate[0][0]                \n",
            "__________________________________________________________________________________________________\n",
            "dense (Dense)                   (None, 32)           266272      flatten[0][0]                    \n",
            "__________________________________________________________________________________________________\n",
            "dropout_6 (Dropout)             (None, 32)           0           dense[0][0]                      \n",
            "__________________________________________________________________________________________________\n",
            "dense_1 (Dense)                 (None, 64)           2112        dropout_6[0][0]                  \n",
            "__________________________________________________________________________________________________\n",
            "dropout_7 (Dropout)             (None, 64)           0           dense_1[0][0]                    \n",
            "__________________________________________________________________________________________________\n",
            "dense_2 (Dense)                 (None, 32)           2080        dropout_7[0][0]                  \n",
            "__________________________________________________________________________________________________\n",
            "dropout_8 (Dropout)             (None, 32)           0           dense_2[0][0]                    \n",
            "__________________________________________________________________________________________________\n",
            "dense_3 (Dense)                 (None, 1)            33          dropout_8[0][0]                  \n",
            "==================================================================================================\n",
            "Total params: 282,273\n",
            "Trainable params: 282,273\n",
            "Non-trainable params: 0\n",
            "__________________________________________________________________________________________________\n"
          ],
          "name": "stdout"
        }
      ]
    },
    {
      "cell_type": "code",
      "metadata": {
        "colab": {
          "base_uri": "https://localhost:8080/"
        },
        "id": "0nRQphgWolP4",
        "outputId": "ba249670-bd92-4a4a-88b3-bab59fdaa19f"
      },
      "source": [
        "earlystopping = callbacks.EarlyStopping(monitor =\"val_loss\", mode =\"min\", patience = 5, restore_best_weights = True) \r\n",
        "\r\n",
        "history = model.fit(x=[train_input_1,train_input_2],y=train_labels, batch_size=64, epochs=25,validation_data=([val_input_1,val_input_2],val_labels), callbacks =[earlystopping])"
      ],
      "execution_count": 30,
      "outputs": [
        {
          "output_type": "stream",
          "text": [
            "Epoch 1/25\n",
            "120/120 [==============================] - 10s 17ms/step - loss: 0.6901 - accuracy: 0.5259 - val_loss: 0.6395 - val_accuracy: 0.6384\n",
            "Epoch 2/25\n",
            "120/120 [==============================] - 2s 13ms/step - loss: 0.6435 - accuracy: 0.6358 - val_loss: 0.6074 - val_accuracy: 0.6525\n",
            "Epoch 3/25\n",
            "120/120 [==============================] - 2s 13ms/step - loss: 0.6046 - accuracy: 0.6794 - val_loss: 0.5623 - val_accuracy: 0.7038\n",
            "Epoch 4/25\n",
            "120/120 [==============================] - 2s 13ms/step - loss: 0.5712 - accuracy: 0.7105 - val_loss: 0.5373 - val_accuracy: 0.7242\n",
            "Epoch 5/25\n",
            "120/120 [==============================] - 2s 13ms/step - loss: 0.5753 - accuracy: 0.7131 - val_loss: 0.5225 - val_accuracy: 0.7347\n",
            "Epoch 6/25\n",
            "120/120 [==============================] - 2s 13ms/step - loss: 0.5218 - accuracy: 0.7396 - val_loss: 0.5274 - val_accuracy: 0.7363\n",
            "Epoch 7/25\n",
            "120/120 [==============================] - 2s 13ms/step - loss: 0.5301 - accuracy: 0.7443 - val_loss: 0.5228 - val_accuracy: 0.7263\n",
            "Epoch 8/25\n",
            "120/120 [==============================] - 2s 13ms/step - loss: 0.5080 - accuracy: 0.7605 - val_loss: 0.5031 - val_accuracy: 0.7588\n",
            "Epoch 9/25\n",
            "120/120 [==============================] - 2s 13ms/step - loss: 0.4988 - accuracy: 0.7474 - val_loss: 0.5074 - val_accuracy: 0.7525\n",
            "Epoch 10/25\n",
            "120/120 [==============================] - 2s 13ms/step - loss: 0.4787 - accuracy: 0.7698 - val_loss: 0.5104 - val_accuracy: 0.7467\n",
            "Epoch 11/25\n",
            "120/120 [==============================] - 2s 13ms/step - loss: 0.5032 - accuracy: 0.7536 - val_loss: 0.5011 - val_accuracy: 0.7656\n",
            "Epoch 12/25\n",
            "120/120 [==============================] - 2s 14ms/step - loss: 0.4899 - accuracy: 0.7700 - val_loss: 0.4999 - val_accuracy: 0.7677\n",
            "Epoch 13/25\n",
            "120/120 [==============================] - 2s 13ms/step - loss: 0.4842 - accuracy: 0.7628 - val_loss: 0.5220 - val_accuracy: 0.7462\n",
            "Epoch 14/25\n",
            "120/120 [==============================] - 2s 13ms/step - loss: 0.4714 - accuracy: 0.7710 - val_loss: 0.4982 - val_accuracy: 0.7760\n",
            "Epoch 15/25\n",
            "120/120 [==============================] - 2s 14ms/step - loss: 0.4796 - accuracy: 0.7758 - val_loss: 0.4977 - val_accuracy: 0.7724\n",
            "Epoch 16/25\n",
            "120/120 [==============================] - 2s 14ms/step - loss: 0.4627 - accuracy: 0.7889 - val_loss: 0.4937 - val_accuracy: 0.7734\n",
            "Epoch 17/25\n",
            "120/120 [==============================] - 2s 13ms/step - loss: 0.4683 - accuracy: 0.7779 - val_loss: 0.5037 - val_accuracy: 0.7776\n",
            "Epoch 18/25\n",
            "120/120 [==============================] - 2s 14ms/step - loss: 0.4555 - accuracy: 0.7901 - val_loss: 0.5059 - val_accuracy: 0.7760\n",
            "Epoch 19/25\n",
            "120/120 [==============================] - 2s 14ms/step - loss: 0.4447 - accuracy: 0.7910 - val_loss: 0.5126 - val_accuracy: 0.7724\n",
            "Epoch 20/25\n",
            "120/120 [==============================] - 2s 13ms/step - loss: 0.4544 - accuracy: 0.7838 - val_loss: 0.5484 - val_accuracy: 0.7436\n",
            "Epoch 21/25\n",
            "120/120 [==============================] - 2s 14ms/step - loss: 0.4510 - accuracy: 0.7869 - val_loss: 0.5173 - val_accuracy: 0.7760\n"
          ],
          "name": "stdout"
        }
      ]
    },
    {
      "cell_type": "code",
      "metadata": {
        "colab": {
          "base_uri": "https://localhost:8080/"
        },
        "id": "dfv6xn39pMR9",
        "outputId": "6e43fe3a-75f0-4419-c6cb-816aa237b6fe"
      },
      "source": [
        "test_loss, test_acc = model.evaluate([te_input_1,te_input_2],  te_labels, verbose=2)"
      ],
      "execution_count": 31,
      "outputs": [
        {
          "output_type": "stream",
          "text": [
            "75/75 - 0s - loss: 0.4859 - accuracy: 0.7648\n"
          ],
          "name": "stdout"
        }
      ]
    },
    {
      "cell_type": "code",
      "metadata": {
        "colab": {
          "base_uri": "https://localhost:8080/",
          "height": 807
        },
        "id": "dKNWTpQqxyoC",
        "outputId": "fc688adb-d73c-4bcd-b22f-2b073a97708d"
      },
      "source": [
        "plt.plot(history.history['accuracy'], label='accuracy')\r\n",
        "plt.plot(history.history['val_accuracy'], label = 'val_accuracy')\r\n",
        "plt.xlabel('Epoch')\r\n",
        "plt.ylabel('Accuracy')\r\n",
        "plt.legend(loc='lower right')\r\n",
        "plt.grid()\r\n",
        "plt.title('Accuracy of model')"
      ],
      "execution_count": 32,
      "outputs": [
        {
          "output_type": "execute_result",
          "data": {
            "text/plain": [
              "Text(0.5, 1.0, 'Accuracy of model')"
            ]
          },
          "metadata": {
            "tags": []
          },
          "execution_count": 32
        },
        {
          "output_type": "display_data",
          "data": {
            "image/png": "[encoded data removed]",
            "text/plain": [
              "<Figure size 1200x800 with 1 Axes>"
            ]
          },
          "metadata": {
            "tags": [],
            "needs_background": "light"
          }
        }
      ]
    },
    {
      "cell_type": "markdown",
      "metadata": {
        "id": "YGIkzivWY8J4"
      },
      "source": [
        "### OVERFITTING \r\n",
        "\r\n",
        "https://datascience.stackexchange.com/questions/19124/how-to-know-the-model-has-started-overfitting\r\n",
        "\r\n",
        "https://towardsdatascience.com/deep-learning-3-more-on-cnns-handling-overfitting-2bd5d99abe5d\r\n"
      ]
    },
    {
      "cell_type": "markdown",
      "metadata": {
        "id": "xkWvpPkGSVh2"
      },
      "source": [
        "## TASK 2"
      ]
    },
    {
      "cell_type": "code",
      "metadata": {
        "colab": {
          "base_uri": "https://localhost:8080/",
          "height": 66,
          "referenced_widgets": [
            "0f88126d6f6346a1ae23ad0778091397",
            "19d52343499147a285c0af927199c68b",
            "1a4a7e32045e4ff4b3b4cd30bf968cbf",
            "80deebb16dcb43e0b67d96e7708c4216",
            "ac8f65f4bd404062b3e086e76a34459c",
            "da04a233fb024021ae2510be2eac1990",
            "1b96104c7d1c4e858c9ff4b2567d1fc6",
            "d4aa8272fc214ba7928866507501ec2f"
          ]
        },
        "id": "D3NXgGcmSW4P",
        "outputId": "442e3132-54b0-4c6b-a883-d72e9b92ad28"
      },
      "source": [
        "files_t2 = data_retriever(70)"
      ],
      "execution_count": 33,
      "outputs": [
        {
          "output_type": "display_data",
          "data": {
            "application/vnd.jupyter.widget-view+json": {
              "model_id": "0f88126d6f6346a1ae23ad0778091397",
              "version_minor": 0,
              "version_major": 2
            },
            "text/plain": [
              "HBox(children=(FloatProgress(value=0.0, max=70.0), HTML(value='')))"
            ]
          },
          "metadata": {
            "tags": []
          }
        },
        {
          "output_type": "stream",
          "text": [
            "\n"
          ],
          "name": "stdout"
        }
      ]
    },
    {
      "cell_type": "code",
      "metadata": {
        "colab": {
          "base_uri": "https://localhost:8080/",
          "height": 66,
          "referenced_widgets": [
            "507524982141496db7b25fe8e0925efe",
            "2783b8c01bf845169b1171af9e8ed884",
            "65b8e14115964656a0ffdab3ae9ce04e",
            "46f87ac7627c4ec58fc973adcb17366f",
            "f3c7281be2764c5b84d85f14a906133b",
            "657dbec805664b289a99e1a227e1cd1b",
            "7d28d1592e6440e28f761da7c93a49a5",
            "ed139d65e410495c9799044aa747c4fc"
          ]
        },
        "id": "Adv0L7Ide6iD",
        "outputId": "92cbad85-5694-46cd-f9fd-64e047c5b601"
      },
      "source": [
        "numu_counter = 0\r\n",
        "nue_counter = 0\r\n",
        "nutau_counter = 0\r\n",
        "other_counter = 0\r\n",
        "\r\n",
        "for i in tqdm(range(len(files_t2))):\r\n",
        "  \r\n",
        "  for j in range(len(files_t2[i]['neutrino']['interaction'])):\r\n",
        "\r\n",
        "    if files_t2[i]['neutrino']['interaction'][j] <= 3:\r\n",
        "\r\n",
        "      numu_counter= numu_counter + 1\r\n",
        "\r\n",
        "    elif files_t2[i]['neutrino']['interaction'][j] > 4 and files_t2[i]['neutrino']['interaction'][j] <= 7:\r\n",
        "\r\n",
        "      nue_counter= nue_counter + 1\r\n",
        "\r\n",
        "    elif files_t2[i]['neutrino']['interaction'][j] > 7 and files_t2[i]['neutrino']['interaction'][j] <= 11:\r\n",
        "\r\n",
        "      nutau_counter= nutau_counter + 1\r\n",
        "\r\n",
        "    else:\r\n",
        "\r\n",
        "      other_counter = other_counter + 1\r\n",
        "\r\n",
        "totalevents = numu_counter + nue_counter + nutau_counter + other_counter"
      ],
      "execution_count": 34,
      "outputs": [
        {
          "output_type": "display_data",
          "data": {
            "application/vnd.jupyter.widget-view+json": {
              "model_id": "507524982141496db7b25fe8e0925efe",
              "version_minor": 0,
              "version_major": 2
            },
            "text/plain": [
              "HBox(children=(FloatProgress(value=0.0, max=70.0), HTML(value='')))"
            ]
          },
          "metadata": {
            "tags": []
          }
        },
        {
          "output_type": "stream",
          "text": [
            "\n"
          ],
          "name": "stdout"
        }
      ]
    },
    {
      "cell_type": "code",
      "metadata": {
        "colab": {
          "base_uri": "https://localhost:8080/",
          "height": 103
        },
        "id": "ToBKTIcCxe0N",
        "outputId": "e6cf8ec9-2c11-422c-82e9-f77f69c0738e"
      },
      "source": [
        "## Displaying the number of events and its percentages\r\n",
        "\r\n",
        "display(Math(r'There \\; are \\; {} \\; \\nu_\\mu \\; charged-current \\; events. \\; This \\; represents \\; {} \\% \\; of \\; the \\; events \\; in \\; {} \\; meta \\; data \\; files.'.format(numu_counter, round(((numu_counter / totalevents ) * 100),2), len(files_t2))))\r\n",
        "display(Math(r'There \\; are \\; {} \\; \\nu_\\tau \\; charged-current \\; events. \\; This \\; represents \\; {} \\% \\; of \\; the \\; events \\; in \\; {} \\; meta \\; data \\; files.'.format(nutau_counter, round(((nutau_counter / totalevents ) * 100),2), len(files_t2))))\r\n",
        "display(Math(r'There \\; are \\; {} \\; \\nu_e \\; charged-current \\; events. \\; This \\; represents \\; {} \\% \\; of \\; the \\; events \\; in \\; {} \\; meta \\; data \\; files.'.format(nue_counter, round(((nue_counter / totalevents ) * 100),2), len(files_t2))))\r\n",
        "display(Math(r'There \\; are \\; {} \\; other \\; events. \\; This \\; represents \\; {} \\% \\; of \\; the \\; events \\; in \\; {} \\; meta \\; data \\; files.'.format(other_counter, round(((other_counter / totalevents ) * 100),2), len(files_t2))))"
      ],
      "execution_count": 35,
      "outputs": [
        {
          "output_type": "display_data",
          "data": {
            "text/latex": "$$There \\; are \\; 428951 \\; \\nu_\\mu \\; charged-current \\; events. \\; This \\; represents \\; 88.15 \\% \\; of \\; the \\; events \\; in \\; 70 \\; meta \\; data \\; files.$$",
            "text/plain": [
              "<IPython.core.display.Math object>"
            ]
          },
          "metadata": {
            "tags": []
          }
        },
        {
          "output_type": "display_data",
          "data": {
            "text/latex": "$$There \\; are \\; 0 \\; \\nu_\\tau \\; charged-current \\; events. \\; This \\; represents \\; 0.0 \\% \\; of \\; the \\; events \\; in \\; 70 \\; meta \\; data \\; files.$$",
            "text/plain": [
              "<IPython.core.display.Math object>"
            ]
          },
          "metadata": {
            "tags": []
          }
        },
        {
          "output_type": "display_data",
          "data": {
            "text/latex": "$$There \\; are \\; 5444 \\; \\nu_e \\; charged-current \\; events. \\; This \\; represents \\; 1.12 \\% \\; of \\; the \\; events \\; in \\; 70 \\; meta \\; data \\; files.$$",
            "text/plain": [
              "<IPython.core.display.Math object>"
            ]
          },
          "metadata": {
            "tags": []
          }
        },
        {
          "output_type": "display_data",
          "data": {
            "text/latex": "$$There \\; are \\; 52220 \\; other \\; events. \\; This \\; represents \\; 10.73 \\% \\; of \\; the \\; events \\; in \\; 70 \\; meta \\; data \\; files.$$",
            "text/plain": [
              "<IPython.core.display.Math object>"
            ]
          },
          "metadata": {
            "tags": []
          }
        }
      ]
    },
    {
      "cell_type": "code",
      "metadata": {
        "colab": {
          "base_uri": "https://localhost:8080/",
          "height": 66,
          "referenced_widgets": [
            "f7259e7ecb2c418a9a2fbf4a5cd04e78",
            "6f7054431685421c8deb286f443ea3bc",
            "5539624e6c704206860326820cb678dc",
            "8673efc79b9146428b19e77e99a6c6c8",
            "78d3cc7e0d5f456b98b0b4b1910c101a",
            "37f3d1fb85094c03b5a27ef0d9c0d55a",
            "8499ee9a316f4d328dd5b2d378a18480",
            "9030897320894d2faa7bcc8f2c1fb158"
          ]
        },
        "id": "5JGYFRm62BcH",
        "outputId": "b9db413c-c94f-4d25-a99d-2a485d717040"
      },
      "source": [
        "## BINARY CLASSIFICATION TO IDENTIFY ELECTRON NEUTRINO EVENTS \r\n",
        "\r\n",
        "model_lab_tau_inc=[]\r\n",
        "model_in_1_tau_inc = []\r\n",
        "model_in_2_tau_inc = []\r\n",
        "\r\n",
        "for i in tqdm(range(0,7)):\r\n",
        "\r\n",
        "    for j in range(len(files_t2[i]['neutrino']['interaction'])):\r\n",
        "      model = files_t2[i]['cvnmap'][j].reshape((2,100,80))\r\n",
        "      model_in_1_tau_inc.append(model[0])\r\n",
        "      model_in_2_tau_inc.append(model[1])\r\n",
        "\r\n",
        "      if files_t2[i]['neutrino']['interaction'][j] > 3 and files_t2[i]['neutrino']['interaction'][j] <= 7:\r\n",
        "        model_lab_tau_inc.append(int(1)) # CC electron neutrino events as 1\r\n",
        "\r\n",
        "      else:\r\n",
        "        model_lab_tau_inc.append(int(0)) # other events have labels of 0"
      ],
      "execution_count": 36,
      "outputs": [
        {
          "output_type": "display_data",
          "data": {
            "application/vnd.jupyter.widget-view+json": {
              "model_id": "f7259e7ecb2c418a9a2fbf4a5cd04e78",
              "version_minor": 0,
              "version_major": 2
            },
            "text/plain": [
              "HBox(children=(FloatProgress(value=0.0, max=7.0), HTML(value='')))"
            ]
          },
          "metadata": {
            "tags": []
          }
        },
        {
          "output_type": "stream",
          "text": [
            "\n"
          ],
          "name": "stdout"
        }
      ]
    },
    {
      "cell_type": "code",
      "metadata": {
        "colab": {
          "base_uri": "https://localhost:8080/",
          "height": 66,
          "referenced_widgets": [
            "b0e17f4972574acab4db3144f4acfb3e",
            "32ac3409510a4ed8810bbdaae8693f2b",
            "cef7be6b4e0142ebb93f0debd945d54f",
            "7d2808d7b8de43a8a76e7b1d89f488a3",
            "e7faf17cef7640efa19f8e20b7dd5367",
            "6bb860d0a0aa4374bb3c1dbd1f67c826",
            "aba0706059a44ca0883dd1087ab769c4",
            "ce9fe4cd3ec64577a17fb472daeb2db4"
          ]
        },
        "id": "EKndjtXhES49",
        "outputId": "549ab2a8-86da-4c49-f362-60c83e075ea3"
      },
      "source": [
        "model_lab_tau = []\r\n",
        "model_in_1_tau = []\r\n",
        "model_in_2_tau = []\r\n",
        "\r\n",
        "for i in tqdm(range(0,70)):\r\n",
        "  data_length = len(files_t2[i]['neutrino']['interaction'])\r\n",
        "  for j in range(data_length):  \r\n",
        "    if (files_t2[i]['neutrino']['interaction'][j])>=4 and (files_t2[i]['neutrino']['interaction'][j])<=7: \r\n",
        "      m = (files_t2[i]['cvnmap'][j]).reshape((2,100,80))\r\n",
        "      model_in_1_tau.append(m[0])\r\n",
        "      model_in_2_tau.append(m[1])\r\n",
        "      model_lab_tau.append(int(1)) # 1 is electron neutrino charged-current event\r\n",
        "    else:\r\n",
        "      pass\r\n",
        "    \r\n",
        "\r\n",
        "for z in range(0,1):\r\n",
        "  data_length = len(files_t2[i]['neutrino']['interaction'])\r\n",
        "  for k in range(data_length):\r\n",
        "    if (files_t2[z]['neutrino']['interaction'][k])<=3 or (files_t2[z]['neutrino']['interaction'][k])>=8:\r\n",
        "      m = (files_t2[i]['cvnmap'][j]).reshape((2,100,80))\r\n",
        "      model_in_1_tau.append(m[0])\r\n",
        "      model_in_2_tau.append(m[1])\r\n",
        "      model_lab_tau.append(int(0)) # 0 is not electron neutrino charged-current event\r\n",
        "    else:\r\n",
        "      pass"
      ],
      "execution_count": 37,
      "outputs": [
        {
          "output_type": "display_data",
          "data": {
            "application/vnd.jupyter.widget-view+json": {
              "model_id": "b0e17f4972574acab4db3144f4acfb3e",
              "version_minor": 0,
              "version_major": 2
            },
            "text/plain": [
              "HBox(children=(FloatProgress(value=0.0, max=70.0), HTML(value='')))"
            ]
          },
          "metadata": {
            "tags": []
          }
        },
        {
          "output_type": "stream",
          "text": [
            "\n"
          ],
          "name": "stdout"
        }
      ]
    },
    {
      "cell_type": "code",
      "metadata": {
        "colab": {
          "base_uri": "https://localhost:8080/",
          "height": 730
        },
        "id": "HhIDUj1W-anK",
        "outputId": "0c759a01-1a9a-48bd-e601-b3e9a8d6f40c"
      },
      "source": [
        "plt.hist(model_lab_tau_inc)\r\n",
        "plt.xlim(0,2)"
      ],
      "execution_count": 38,
      "outputs": [
        {
          "output_type": "execute_result",
          "data": {
            "text/plain": [
              "(0.0, 2.0)"
            ]
          },
          "metadata": {
            "tags": []
          },
          "execution_count": 38
        },
        {
          "output_type": "display_data",
          "data": {
            "image/png": "[encoded data removed]",
            "text/plain": [
              "<Figure size 1200x800 with 1 Axes>"
            ]
          },
          "metadata": {
            "tags": [],
            "needs_background": "light"
          }
        }
      ]
    },
    {
      "cell_type": "markdown",
      "metadata": {
        "id": "hG2ML30YCDSA"
      },
      "source": [
        "From the histogram above I would expect to have a really low accuracy from the CNN when I try to detect electron neutrinos. "
      ]
    },
    {
      "cell_type": "code",
      "metadata": {
        "colab": {
          "base_uri": "https://localhost:8080/",
          "height": 775
        },
        "id": "9qaATI2iHEnV",
        "outputId": "cf9ce19d-f524-4de7-8cf7-0166152676c7"
      },
      "source": [
        "plt.hist(model_lab_tau)"
      ],
      "execution_count": 39,
      "outputs": [
        {
          "output_type": "execute_result",
          "data": {
            "text/plain": [
              "(array([6799.,    0.,    0.,    0.,    0.,    0.,    0.,    0.,    0.,\n",
              "        5990.]),\n",
              " array([0. , 0.1, 0.2, 0.3, 0.4, 0.5, 0.6, 0.7, 0.8, 0.9, 1. ]),\n",
              " <a list of 10 Patch objects>)"
            ]
          },
          "metadata": {
            "tags": []
          },
          "execution_count": 39
        },
        {
          "output_type": "display_data",
          "data": {
            "image/png": "[encoded data removed]",
            "text/plain": [
              "<Figure size 1200x800 with 1 Axes>"
            ]
          },
          "metadata": {
            "tags": [],
            "needs_background": "light"
          }
        }
      ]
    },
    {
      "cell_type": "code",
      "metadata": {
        "id": "au9oqxbq3lI-"
      },
      "source": [
        "model_in_1_tau = tf.expand_dims(model_in_1_tau, axis = 3)\r\n",
        "model_in_2_tau = tf.expand_dims(model_in_2_tau, axis = 3)"
      ],
      "execution_count": 40,
      "outputs": []
    },
    {
      "cell_type": "code",
      "metadata": {
        "id": "Gany9zqQKhHq"
      },
      "source": [
        "train_input_1_tau, te_input_1_tau, val_input_1_tau, train_input_2_tau, te_input_2_tau, val_input_2_tau, train_labels_tau, val_labels_tau, te_labels_tau = data(model_in_1_tau, model_in_2_tau, model_lab_tau)"
      ],
      "execution_count": 41,
      "outputs": []
    },
    {
      "cell_type": "code",
      "metadata": {
        "colab": {
          "base_uri": "https://localhost:8080/"
        },
        "id": "gTZKNuTmTZ7c",
        "outputId": "8212775c-1267-42ed-9cea-2c29c115f632"
      },
      "source": [
        "input_shape = np.shape(model_in_1_tau)\r\n",
        "print(input_shape)"
      ],
      "execution_count": 42,
      "outputs": [
        {
          "output_type": "stream",
          "text": [
            "(12789, 100, 80, 1)\n"
          ],
          "name": "stdout"
        }
      ]
    },
    {
      "cell_type": "code",
      "metadata": {
        "colab": {
          "base_uri": "https://localhost:8080/"
        },
        "id": "nscf3t2-TkgI",
        "outputId": "8886557a-93b9-4a5c-a9ad-5e4d8d48a795"
      },
      "source": [
        "xy_input = Input(shape= input_shape[1:])\r\n",
        "xy_model = create_convolution_layers(xy_input)\r\n",
        "\r\n",
        "yz_input = Input(shape=input_shape[1:])\r\n",
        "yz_model = create_convolution_layers(yz_input)\r\n",
        "\r\n",
        "conv = concatenate([xy_model, yz_model])\r\n",
        "conv = Flatten()(conv)\r\n",
        "\r\n",
        "dense = Dense(32, activation = \"relu\")(conv)\r\n",
        "dense = Dropout(0.5)(dense)\r\n",
        "#dense = Dense(32, activation = \"relu\")(dense)\r\n",
        "#dense = Dropout(0.5)(dense)\r\n",
        "#dense = Dense(32, activation = \"relu\")(dense)\r\n",
        "#dense = Dropout(0.5)(dense)\r\n",
        "\r\n",
        "output = Dense(1, activation = \"sigmoid\")(dense)\r\n",
        "\r\n",
        "model = Model(inputs = [xy_input, yz_input], outputs = [output])\r\n",
        "\r\n",
        "\r\n",
        "model.compile(loss=tf.keras.losses.binary_crossentropy,\r\n",
        "              optimizer='adam',\r\n",
        "              metrics=['accuracy']) \r\n",
        "\r\n",
        "model.summary()"
      ],
      "execution_count": 43,
      "outputs": [
        {
          "output_type": "stream",
          "text": [
            "Model: \"model_1\"\n",
            "__________________________________________________________________________________________________\n",
            "Layer (type)                    Output Shape         Param #     Connected to                     \n",
            "==================================================================================================\n",
            "input_3 (InputLayer)            [(None, 100, 80, 1)] 0                                            \n",
            "__________________________________________________________________________________________________\n",
            "input_4 (InputLayer)            [(None, 100, 80, 1)] 0                                            \n",
            "__________________________________________________________________________________________________\n",
            "conv2d_6 (Conv2D)               (None, 100, 80, 8)   80          input_3[0][0]                    \n",
            "__________________________________________________________________________________________________\n",
            "conv2d_9 (Conv2D)               (None, 100, 80, 8)   80          input_4[0][0]                    \n",
            "__________________________________________________________________________________________________\n",
            "max_pooling2d_6 (MaxPooling2D)  (None, 50, 40, 8)    0           conv2d_6[0][0]                   \n",
            "__________________________________________________________________________________________________\n",
            "max_pooling2d_9 (MaxPooling2D)  (None, 50, 40, 8)    0           conv2d_9[0][0]                   \n",
            "__________________________________________________________________________________________________\n",
            "dropout_9 (Dropout)             (None, 50, 40, 8)    0           max_pooling2d_6[0][0]            \n",
            "__________________________________________________________________________________________________\n",
            "dropout_12 (Dropout)            (None, 50, 40, 8)    0           max_pooling2d_9[0][0]            \n",
            "__________________________________________________________________________________________________\n",
            "conv2d_7 (Conv2D)               (None, 50, 40, 16)   1168        dropout_9[0][0]                  \n",
            "__________________________________________________________________________________________________\n",
            "conv2d_10 (Conv2D)              (None, 50, 40, 16)   1168        dropout_12[0][0]                 \n",
            "__________________________________________________________________________________________________\n",
            "max_pooling2d_7 (MaxPooling2D)  (None, 25, 20, 16)   0           conv2d_7[0][0]                   \n",
            "__________________________________________________________________________________________________\n",
            "max_pooling2d_10 (MaxPooling2D) (None, 25, 20, 16)   0           conv2d_10[0][0]                  \n",
            "__________________________________________________________________________________________________\n",
            "dropout_10 (Dropout)            (None, 25, 20, 16)   0           max_pooling2d_7[0][0]            \n",
            "__________________________________________________________________________________________________\n",
            "dropout_13 (Dropout)            (None, 25, 20, 16)   0           max_pooling2d_10[0][0]           \n",
            "__________________________________________________________________________________________________\n",
            "conv2d_8 (Conv2D)               (None, 25, 20, 32)   4640        dropout_10[0][0]                 \n",
            "__________________________________________________________________________________________________\n",
            "conv2d_11 (Conv2D)              (None, 25, 20, 32)   4640        dropout_13[0][0]                 \n",
            "__________________________________________________________________________________________________\n",
            "max_pooling2d_8 (MaxPooling2D)  (None, 13, 10, 32)   0           conv2d_8[0][0]                   \n",
            "__________________________________________________________________________________________________\n",
            "max_pooling2d_11 (MaxPooling2D) (None, 13, 10, 32)   0           conv2d_11[0][0]                  \n",
            "__________________________________________________________________________________________________\n",
            "dropout_11 (Dropout)            (None, 13, 10, 32)   0           max_pooling2d_8[0][0]            \n",
            "__________________________________________________________________________________________________\n",
            "dropout_14 (Dropout)            (None, 13, 10, 32)   0           max_pooling2d_11[0][0]           \n",
            "__________________________________________________________________________________________________\n",
            "concatenate_1 (Concatenate)     (None, 13, 10, 64)   0           dropout_11[0][0]                 \n",
            "                                                                 dropout_14[0][0]                 \n",
            "__________________________________________________________________________________________________\n",
            "flatten_1 (Flatten)             (None, 8320)         0           concatenate_1[0][0]              \n",
            "__________________________________________________________________________________________________\n",
            "dense_4 (Dense)                 (None, 32)           266272      flatten_1[0][0]                  \n",
            "__________________________________________________________________________________________________\n",
            "dropout_15 (Dropout)            (None, 32)           0           dense_4[0][0]                    \n",
            "__________________________________________________________________________________________________\n",
            "dense_5 (Dense)                 (None, 1)            33          dropout_15[0][0]                 \n",
            "==================================================================================================\n",
            "Total params: 278,081\n",
            "Trainable params: 278,081\n",
            "Non-trainable params: 0\n",
            "__________________________________________________________________________________________________\n"
          ],
          "name": "stdout"
        }
      ]
    },
    {
      "cell_type": "code",
      "metadata": {
        "colab": {
          "base_uri": "https://localhost:8080/"
        },
        "id": "td83JI3OT6dz",
        "outputId": "a36ea89c-d96e-4c94-af2f-c95a5dd03841"
      },
      "source": [
        "earlystopping = callbacks.EarlyStopping(monitor =\"val_loss\", mode =\"min\", patience = 5, restore_best_weights = True) \r\n",
        "\r\n",
        "history = model.fit(x=[train_input_1_tau,train_input_2_tau],y=train_labels_tau, batch_size=300, epochs=20,validation_data=([val_input_1_tau,val_input_2_tau],val_labels_tau), callbacks =[earlystopping])"
      ],
      "execution_count": 44,
      "outputs": [
        {
          "output_type": "stream",
          "text": [
            "Epoch 1/20\n",
            "28/28 [==============================] - 3s 64ms/step - loss: 0.5110 - accuracy: 0.8036 - val_loss: 0.0484 - val_accuracy: 1.0000\n",
            "Epoch 2/20\n",
            "28/28 [==============================] - 1s 50ms/step - loss: 0.0359 - accuracy: 0.9952 - val_loss: 0.0112 - val_accuracy: 1.0000\n",
            "Epoch 3/20\n",
            "28/28 [==============================] - 1s 50ms/step - loss: 0.0095 - accuracy: 0.9979 - val_loss: 0.0011 - val_accuracy: 1.0000\n",
            "Epoch 4/20\n",
            "28/28 [==============================] - 1s 51ms/step - loss: 0.0039 - accuracy: 0.9985 - val_loss: 1.6536e-04 - val_accuracy: 1.0000\n",
            "Epoch 5/20\n",
            "28/28 [==============================] - 1s 50ms/step - loss: 0.0031 - accuracy: 0.9985 - val_loss: 6.9115e-05 - val_accuracy: 1.0000\n",
            "Epoch 6/20\n",
            "28/28 [==============================] - 1s 50ms/step - loss: 0.0026 - accuracy: 0.9989 - val_loss: 4.2668e-05 - val_accuracy: 1.0000\n",
            "Epoch 7/20\n",
            "28/28 [==============================] - 1s 50ms/step - loss: 0.0039 - accuracy: 0.9985 - val_loss: 3.8881e-05 - val_accuracy: 1.0000\n",
            "Epoch 8/20\n",
            "28/28 [==============================] - 1s 50ms/step - loss: 0.0017 - accuracy: 0.9991 - val_loss: 1.2186e-05 - val_accuracy: 1.0000\n",
            "Epoch 9/20\n",
            "28/28 [==============================] - 1s 50ms/step - loss: 0.0019 - accuracy: 0.9984 - val_loss: 3.7465e-06 - val_accuracy: 1.0000\n",
            "Epoch 10/20\n",
            "28/28 [==============================] - 1s 51ms/step - loss: 0.0011 - accuracy: 0.9992 - val_loss: 1.0173e-06 - val_accuracy: 1.0000\n",
            "Epoch 11/20\n",
            "28/28 [==============================] - 1s 50ms/step - loss: 0.0018 - accuracy: 0.9987 - val_loss: 8.8505e-06 - val_accuracy: 1.0000\n",
            "Epoch 12/20\n",
            "28/28 [==============================] - 1s 51ms/step - loss: 0.0014 - accuracy: 0.9992 - val_loss: 8.5728e-06 - val_accuracy: 1.0000\n",
            "Epoch 13/20\n",
            "28/28 [==============================] - 1s 50ms/step - loss: 0.0013 - accuracy: 0.9991 - val_loss: 2.8353e-06 - val_accuracy: 1.0000\n",
            "Epoch 14/20\n",
            "28/28 [==============================] - 1s 50ms/step - loss: 0.0012 - accuracy: 0.9989 - val_loss: 5.5297e-07 - val_accuracy: 1.0000\n",
            "Epoch 15/20\n",
            "28/28 [==============================] - 1s 50ms/step - loss: 8.2538e-04 - accuracy: 0.9991 - val_loss: 1.9392e-07 - val_accuracy: 1.0000\n",
            "Epoch 16/20\n",
            "28/28 [==============================] - 1s 50ms/step - loss: 9.8792e-04 - accuracy: 0.9989 - val_loss: 8.3553e-08 - val_accuracy: 1.0000\n",
            "Epoch 17/20\n",
            "28/28 [==============================] - 1s 50ms/step - loss: 9.6921e-04 - accuracy: 0.9988 - val_loss: 5.5101e-08 - val_accuracy: 1.0000\n",
            "Epoch 18/20\n",
            "28/28 [==============================] - 1s 50ms/step - loss: 6.0813e-04 - accuracy: 0.9995 - val_loss: 4.3763e-08 - val_accuracy: 1.0000\n",
            "Epoch 19/20\n",
            "28/28 [==============================] - 1s 50ms/step - loss: 6.1396e-04 - accuracy: 0.9993 - val_loss: 1.5173e-08 - val_accuracy: 1.0000\n",
            "Epoch 20/20\n",
            "28/28 [==============================] - 1s 50ms/step - loss: 6.3601e-04 - accuracy: 0.9992 - val_loss: 1.1415e-08 - val_accuracy: 1.0000\n"
          ],
          "name": "stdout"
        }
      ]
    },
    {
      "cell_type": "code",
      "metadata": {
        "colab": {
          "base_uri": "https://localhost:8080/"
        },
        "id": "qeHXkBO1HWfR",
        "outputId": "0389974e-146e-42fe-c271-5f1b9584d59f"
      },
      "source": [
        "test_loss, test_acc = model.evaluate([te_input_1_tau,te_input_2_tau],  te_labels_tau, verbose=2)"
      ],
      "execution_count": 45,
      "outputs": [
        {
          "output_type": "stream",
          "text": [
            "80/80 - 0s - loss: 1.1415e-08 - accuracy: 1.0000\n"
          ],
          "name": "stdout"
        }
      ]
    },
    {
      "cell_type": "code",
      "metadata": {
        "colab": {
          "base_uri": "https://localhost:8080/",
          "height": 807
        },
        "id": "dSwKIMWXcUUD",
        "outputId": "671d35fb-2b3c-4dc7-ceab-de9d74afcbc8"
      },
      "source": [
        "plt.plot(history.history['accuracy'], label='accuracy')\r\n",
        "plt.plot(history.history['val_accuracy'], label = 'val_accuracy')\r\n",
        "plt.xlabel('Epoch')\r\n",
        "plt.ylabel('Accuracy')\r\n",
        "plt.legend(loc='lower right')\r\n",
        "plt.grid()\r\n",
        "plt.title('Accuracy of model')"
      ],
      "execution_count": 46,
      "outputs": [
        {
          "output_type": "execute_result",
          "data": {
            "text/plain": [
              "Text(0.5, 1.0, 'Accuracy of model')"
            ]
          },
          "metadata": {
            "tags": []
          },
          "execution_count": 46
        },
        {
          "output_type": "display_data",
          "data": {
            "image/png": "[encoded data removed]",
            "text/plain": [
              "<Figure size 1200x800 with 1 Axes>"
            ]
          },
          "metadata": {
            "tags": [],
            "needs_background": "light"
          }
        }
      ]
    },
    {
      "cell_type": "markdown",
      "metadata": {
        "id": "fbPEh0aiUDC_"
      },
      "source": [
        "I expected to see a lower accuracy for electron neutrinos as there is a lower percentage of these events in the data and I thought the network wouldn't have been able to learn that much to identify these events. \r\n",
        "\r\n",
        "Investigating this issue I came across the data imbalance paradox and realised I need to fix my data in order to get better results. \r\n",
        "\r\n",
        "I revisit task 1 and task 2 to fix the data imbalance and see how the accuracy of the network improves. \r\n",
        "\r\n",
        "(I should plots histograms here to show how I balance out the 0s and 1s)"
      ]
    },
    {
      "cell_type": "markdown",
      "metadata": {
        "id": "e5XISpZGCBj9"
      },
      "source": [
        "# EXTENSIONS\r\n",
        "\r\n",
        "### TASK 2: Write a machine learning algorithm to determine the flavour of the neutrino"
      ]
    },
    {
      "cell_type": "code",
      "metadata": {
        "colab": {
          "base_uri": "https://localhost:8080/",
          "height": 66,
          "referenced_widgets": [
            "7b2eb2058fa3479bbdce14ec6bc762f6",
            "6f495a38c056416794a2af9e41ba2a8d",
            "1c9b3988cf2241468c733572e19ac476",
            "f84c67bfbcc047a8adbdc008fcdc7f8e",
            "b6baf26c78f44f74b5999eef4242301e",
            "cb341920443f407eb5b6374053bf366d",
            "0d7bf5645c4b45d0925cb7d64902990b",
            "b614f1f64e25459a94289ef1fb1230bd"
          ]
        },
        "id": "Dutt-O5-WjmP",
        "outputId": "2ad07fd4-b04f-4dce-df39-16047ab3946b"
      },
      "source": [
        "files_e2 = data_retriever(200)"
      ],
      "execution_count": 47,
      "outputs": [
        {
          "output_type": "display_data",
          "data": {
            "application/vnd.jupyter.widget-view+json": {
              "model_id": "7b2eb2058fa3479bbdce14ec6bc762f6",
              "version_minor": 0,
              "version_major": 2
            },
            "text/plain": [
              "HBox(children=(FloatProgress(value=0.0, max=200.0), HTML(value='')))"
            ]
          },
          "metadata": {
            "tags": []
          }
        },
        {
          "output_type": "stream",
          "text": [
            "\n"
          ],
          "name": "stdout"
        }
      ]
    },
    {
      "cell_type": "code",
      "metadata": {
        "colab": {
          "base_uri": "https://localhost:8080/",
          "height": 49,
          "referenced_widgets": [
            "4ffa2d0c96184339a2276f0dd0418fc3",
            "55f1c9c28950439f8a11f5f2972ce5c0",
            "63aaec2c4b55409cadad2912fd24aa72",
            "f10cc85d81d64bf1abcbcf844b3ae241",
            "9999ee0ef1834dd88ec50ff55c8a3284",
            "5f9634790d864e28a68399d7de8f3134",
            "3d77f68f2b5e451da47fc7171b9f4cc3",
            "ee7f91d95dfe4f9ea17bf8d1c980f58b"
          ]
        },
        "id": "cOOo4DF8lx3J",
        "outputId": "8b71868c-706e-4c99-b6b5-769f405947af"
      },
      "source": [
        "numu_counter = 0\r\n",
        "nue_counter = 0\r\n",
        "nutau_counter = 0\r\n",
        "other_counter = 0\r\n",
        "\r\n",
        "for i in tqdm(range(len(files_e2))):\r\n",
        "  \r\n",
        "  for j in range(len(files_e2[i]['neutrino']['interaction'])):\r\n",
        "\r\n",
        "    if files_e2[i]['neutrino']['interaction'][j] <= 3:\r\n",
        "\r\n",
        "      numu_counter= numu_counter + 1\r\n",
        "\r\n",
        "    elif files_e2[i]['neutrino']['interaction'][j] > 4 and files_e2[i]['neutrino']['interaction'][j] <= 7:\r\n",
        "\r\n",
        "      nue_counter= nue_counter + 1\r\n",
        "\r\n",
        "    elif files_e2[i]['neutrino']['interaction'][j] > 7 and files_e2[i]['neutrino']['interaction'][j] <= 11:\r\n",
        "\r\n",
        "      nutau_counter= nutau_counter + 1\r\n",
        "\r\n",
        "    else:\r\n",
        "\r\n",
        "      other_counter = other_counter + 1\r\n",
        "\r\n",
        "totalevents = numu_counter + nue_counter + nutau_counter + other_counter"
      ],
      "execution_count": null,
      "outputs": [
        {
          "output_type": "display_data",
          "data": {
            "application/vnd.jupyter.widget-view+json": {
              "model_id": "4ffa2d0c96184339a2276f0dd0418fc3",
              "version_minor": 0,
              "version_major": 2
            },
            "text/plain": [
              "HBox(children=(FloatProgress(value=0.0, max=200.0), HTML(value='')))"
            ]
          },
          "metadata": {
            "tags": []
          }
        }
      ]
    },
    {
      "cell_type": "code",
      "metadata": {
        "id": "TaplyXU5mAC0"
      },
      "source": [
        "## Displaying the number of events and its percentages\r\n",
        "\r\n",
        "display(Math(r'There \\; are \\; {} \\; \\nu_\\mu \\; charged-current \\; events. \\; This \\; represents \\; {} \\% \\; of \\; the \\; events \\; in \\; {} \\; meta \\; data \\; files.'.format(numu_counter, round(((numu_counter / totalevents ) * 100),2), len(files_e2))))\r\n",
        "display(Math(r'There \\; are \\; {} \\; \\nu_\\tau \\; charged-current \\; events. \\; This \\; represents \\; {} \\% \\; of \\; the \\; events \\; in \\; {} \\; meta \\; data \\; files.'.format(nutau_counter, round(((nutau_counter / totalevents ) * 100),2), len(files_e2))))\r\n",
        "display(Math(r'There \\; are \\; {} \\; \\nu_e \\; charged-current \\; events. \\; This \\; represents \\; {} \\% \\; of \\; the \\; events \\; in \\; {} \\; meta \\; data \\; files.'.format(nue_counter, round(((nue_counter / totalevents ) * 100),2), len(files_e2))))\r\n",
        "display(Math(r'There \\; are \\; {} \\; other \\; events. \\; This \\; represents \\; {} \\% \\; of \\; the \\; events \\; in \\; {} \\; meta \\; data \\; files.'.format(other_counter, round(((other_counter / totalevents ) * 100),2), len(files_e2))))"
      ],
      "execution_count": null,
      "outputs": []
    },
    {
      "cell_type": "code",
      "metadata": {
        "id": "uz5A_eLQeCGA"
      },
      "source": [
        "## LABELLING MU AS 1, ELECTRON AS 2 AND TAU AS 3\r\n",
        "\r\n",
        "model_lab = []\r\n",
        "model_in_1 = []\r\n",
        "model_in_2 = []\r\n",
        "\r\n",
        "for i in tqdm(range(0,7)):\r\n",
        "  data_length = len(files_e2[i]['neutrino']['interaction'])\r\n",
        "\r\n",
        "  for j in range(data_length): \r\n",
        "\r\n",
        "    if (files_e2[i]['neutrino']['interaction'][j]) < 3: \r\n",
        "\r\n",
        "      m = (files_e2[i]['cvnmap'][j]).reshape((2,100,80))\r\n",
        "      model_in_1.append(m[0])\r\n",
        "      model_in_2.append(m[1])\r\n",
        "      model_lab.append(int(1)) # 1 is for mu neutrinos \r\n",
        "    \r\n",
        "    elif (files_e2[i]['neutrino']['interaction'][j]) > 3 and (files_e2[i]['neutrino']['interaction'][j]) <= 7:\r\n",
        "      m = (files_e2[i]['cvnmap'][j]).reshape((2,100,80))\r\n",
        "      model_in_1.append(m[0])\r\n",
        "      model_in_2.append(m[1])\r\n",
        "      model_lab.append(int(2)) # 2 is for electron neutrinos \r\n",
        "    \r\n",
        "    elif (files_e2[i]['neutrino']['interaction'][j]) > 7 and (files_e2[i]['neutrino']['interaction'][j]) <= 11:\r\n",
        "      m = (files_e2[i]['cvnmap'][j]).reshape((2,100,80))\r\n",
        "      model_in_1.append(m[0])\r\n",
        "      model_in_2.append(m[1])\r\n",
        "      model_lab.append(int(3)) # 0 is Not muon charged-current event\r\n",
        "\r\n",
        "    else:\r\n",
        "      m = (files_e2[i]['cvnmap'][j]).reshape((2,100,80))\r\n",
        "      model_in_1.append(m[0])\r\n",
        "      model_in_2.append(m[1])\r\n",
        "      model_lab.append(int(0)) # 0 is Not muon charged-current event\r\n"
      ],
      "execution_count": null,
      "outputs": []
    },
    {
      "cell_type": "markdown",
      "metadata": {
        "id": "xuqUvqgUpu4f"
      },
      "source": [
        "There are no tau flavoured neutrinos in the 200 files, therefore there is no data for this flavour to feed into the network. The network will only be able to distinguish between electron and mu neutrinos. \r\n",
        "\r\n",
        "I am only going to train my network for these two "
      ]
    },
    {
      "cell_type": "code",
      "metadata": {
        "id": "V-HswYeGh-lw"
      },
      "source": [
        "plt.hist(model_lab)"
      ],
      "execution_count": null,
      "outputs": []
    },
    {
      "cell_type": "code",
      "metadata": {
        "id": "2_lZKE-fjF26"
      },
      "source": [
        ""
      ],
      "execution_count": null,
      "outputs": []
    }
  ]
}