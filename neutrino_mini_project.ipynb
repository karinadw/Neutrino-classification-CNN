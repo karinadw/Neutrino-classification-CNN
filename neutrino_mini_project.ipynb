{
  "nbformat": 4,
  "nbformat_minor": 0,
  "metadata": {
    "colab": {
      "name": "neutrino mini-project.ipynb",
      "provenance": [],
      "collapsed_sections": [],
      "authorship_tag": "ABX9TyPd2aKS8db+k/wOFYtUB8Tp",
      "include_colab_link": true
    },
    "kernelspec": {
      "display_name": "Python 3",
      "name": "python3"
    },
    "widgets": {
      "application/vnd.jupyter.widget-state+json": {
        "7ca03216de784080bcccffdcf4d89b6e": {
          "model_module": "@jupyter-widgets/controls",
          "model_name": "HBoxModel",
          "state": {
            "_view_name": "HBoxView",
            "_dom_classes": [],
            "_model_name": "HBoxModel",
            "_view_module": "@jupyter-widgets/controls",
            "_model_module_version": "1.5.0",
            "_view_count": null,
            "_view_module_version": "1.5.0",
            "box_style": "",
            "layout": "IPY_MODEL_3cbe71fd808544bc857fecfad1d4010b",
            "_model_module": "@jupyter-widgets/controls",
            "children": [
              "IPY_MODEL_c4b1e9497afb42cab0e42e0fd435a8b3",
              "IPY_MODEL_a403f7d92d7a4734ab418e964d578915"
            ]
          }
        },
        "3cbe71fd808544bc857fecfad1d4010b": {
          "model_module": "@jupyter-widgets/base",
          "model_name": "LayoutModel",
          "state": {
            "_view_name": "LayoutView",
            "grid_template_rows": null,
            "right": null,
            "justify_content": null,
            "_view_module": "@jupyter-widgets/base",
            "overflow": null,
            "_model_module_version": "1.2.0",
            "_view_count": null,
            "flex_flow": null,
            "width": null,
            "min_width": null,
            "border": null,
            "align_items": null,
            "bottom": null,
            "_model_module": "@jupyter-widgets/base",
            "top": null,
            "grid_column": null,
            "overflow_y": null,
            "overflow_x": null,
            "grid_auto_flow": null,
            "grid_area": null,
            "grid_template_columns": null,
            "flex": null,
            "_model_name": "LayoutModel",
            "justify_items": null,
            "grid_row": null,
            "max_height": null,
            "align_content": null,
            "visibility": null,
            "align_self": null,
            "height": null,
            "min_height": null,
            "padding": null,
            "grid_auto_rows": null,
            "grid_gap": null,
            "max_width": null,
            "order": null,
            "_view_module_version": "1.2.0",
            "grid_template_areas": null,
            "object_position": null,
            "object_fit": null,
            "grid_auto_columns": null,
            "margin": null,
            "display": null,
            "left": null
          }
        },
        "c4b1e9497afb42cab0e42e0fd435a8b3": {
          "model_module": "@jupyter-widgets/controls",
          "model_name": "FloatProgressModel",
          "state": {
            "_view_name": "ProgressView",
            "style": "IPY_MODEL_e71e1886fe7c44058324ad28dff373e6",
            "_dom_classes": [],
            "description": "100%",
            "_model_name": "FloatProgressModel",
            "bar_style": "success",
            "max": 7,
            "_view_module": "@jupyter-widgets/controls",
            "_model_module_version": "1.5.0",
            "value": 7,
            "_view_count": null,
            "_view_module_version": "1.5.0",
            "orientation": "horizontal",
            "min": 0,
            "description_tooltip": null,
            "_model_module": "@jupyter-widgets/controls",
            "layout": "IPY_MODEL_cfea5646438141cfacbe71dbf82e4a56"
          }
        },
        "a403f7d92d7a4734ab418e964d578915": {
          "model_module": "@jupyter-widgets/controls",
          "model_name": "HTMLModel",
          "state": {
            "_view_name": "HTMLView",
            "style": "IPY_MODEL_10d514bd5e994b08bc018a045986f7b5",
            "_dom_classes": [],
            "description": "",
            "_model_name": "HTMLModel",
            "placeholder": "​",
            "_view_module": "@jupyter-widgets/controls",
            "_model_module_version": "1.5.0",
            "value": " 7/7 [05:26&lt;00:00, 46.57s/it]",
            "_view_count": null,
            "_view_module_version": "1.5.0",
            "description_tooltip": null,
            "_model_module": "@jupyter-widgets/controls",
            "layout": "IPY_MODEL_a43cece045e8409e97a12f4520b1137a"
          }
        },
        "e71e1886fe7c44058324ad28dff373e6": {
          "model_module": "@jupyter-widgets/controls",
          "model_name": "ProgressStyleModel",
          "state": {
            "_view_name": "StyleView",
            "_model_name": "ProgressStyleModel",
            "description_width": "initial",
            "_view_module": "@jupyter-widgets/base",
            "_model_module_version": "1.5.0",
            "_view_count": null,
            "_view_module_version": "1.2.0",
            "bar_color": null,
            "_model_module": "@jupyter-widgets/controls"
          }
        },
        "cfea5646438141cfacbe71dbf82e4a56": {
          "model_module": "@jupyter-widgets/base",
          "model_name": "LayoutModel",
          "state": {
            "_view_name": "LayoutView",
            "grid_template_rows": null,
            "right": null,
            "justify_content": null,
            "_view_module": "@jupyter-widgets/base",
            "overflow": null,
            "_model_module_version": "1.2.0",
            "_view_count": null,
            "flex_flow": null,
            "width": null,
            "min_width": null,
            "border": null,
            "align_items": null,
            "bottom": null,
            "_model_module": "@jupyter-widgets/base",
            "top": null,
            "grid_column": null,
            "overflow_y": null,
            "overflow_x": null,
            "grid_auto_flow": null,
            "grid_area": null,
            "grid_template_columns": null,
            "flex": null,
            "_model_name": "LayoutModel",
            "justify_items": null,
            "grid_row": null,
            "max_height": null,
            "align_content": null,
            "visibility": null,
            "align_self": null,
            "height": null,
            "min_height": null,
            "padding": null,
            "grid_auto_rows": null,
            "grid_gap": null,
            "max_width": null,
            "order": null,
            "_view_module_version": "1.2.0",
            "grid_template_areas": null,
            "object_position": null,
            "object_fit": null,
            "grid_auto_columns": null,
            "margin": null,
            "display": null,
            "left": null
          }
        },
        "10d514bd5e994b08bc018a045986f7b5": {
          "model_module": "@jupyter-widgets/controls",
          "model_name": "DescriptionStyleModel",
          "state": {
            "_view_name": "StyleView",
            "_model_name": "DescriptionStyleModel",
            "description_width": "",
            "_view_module": "@jupyter-widgets/base",
            "_model_module_version": "1.5.0",
            "_view_count": null,
            "_view_module_version": "1.2.0",
            "_model_module": "@jupyter-widgets/controls"
          }
        },
        "a43cece045e8409e97a12f4520b1137a": {
          "model_module": "@jupyter-widgets/base",
          "model_name": "LayoutModel",
          "state": {
            "_view_name": "LayoutView",
            "grid_template_rows": null,
            "right": null,
            "justify_content": null,
            "_view_module": "@jupyter-widgets/base",
            "overflow": null,
            "_model_module_version": "1.2.0",
            "_view_count": null,
            "flex_flow": null,
            "width": null,
            "min_width": null,
            "border": null,
            "align_items": null,
            "bottom": null,
            "_model_module": "@jupyter-widgets/base",
            "top": null,
            "grid_column": null,
            "overflow_y": null,
            "overflow_x": null,
            "grid_auto_flow": null,
            "grid_area": null,
            "grid_template_columns": null,
            "flex": null,
            "_model_name": "LayoutModel",
            "justify_items": null,
            "grid_row": null,
            "max_height": null,
            "align_content": null,
            "visibility": null,
            "align_self": null,
            "height": null,
            "min_height": null,
            "padding": null,
            "grid_auto_rows": null,
            "grid_gap": null,
            "max_width": null,
            "order": null,
            "_view_module_version": "1.2.0",
            "grid_template_areas": null,
            "object_position": null,
            "object_fit": null,
            "grid_auto_columns": null,
            "margin": null,
            "display": null,
            "left": null
          }
        },
        "5c7ffdf79d4146cb836cb9c0dfff9967": {
          "model_module": "@jupyter-widgets/controls",
          "model_name": "HBoxModel",
          "state": {
            "_view_name": "HBoxView",
            "_dom_classes": [],
            "_model_name": "HBoxModel",
            "_view_module": "@jupyter-widgets/controls",
            "_model_module_version": "1.5.0",
            "_view_count": null,
            "_view_module_version": "1.5.0",
            "box_style": "",
            "layout": "IPY_MODEL_b65c32023e5843e49c6273e83921aad9",
            "_model_module": "@jupyter-widgets/controls",
            "children": [
              "IPY_MODEL_c4d1af00a1514acfaebf1ca25d90c100",
              "IPY_MODEL_68a6057ef4c84ef49cb38d2928bcd634"
            ]
          }
        },
        "b65c32023e5843e49c6273e83921aad9": {
          "model_module": "@jupyter-widgets/base",
          "model_name": "LayoutModel",
          "state": {
            "_view_name": "LayoutView",
            "grid_template_rows": null,
            "right": null,
            "justify_content": null,
            "_view_module": "@jupyter-widgets/base",
            "overflow": null,
            "_model_module_version": "1.2.0",
            "_view_count": null,
            "flex_flow": null,
            "width": null,
            "min_width": null,
            "border": null,
            "align_items": null,
            "bottom": null,
            "_model_module": "@jupyter-widgets/base",
            "top": null,
            "grid_column": null,
            "overflow_y": null,
            "overflow_x": null,
            "grid_auto_flow": null,
            "grid_area": null,
            "grid_template_columns": null,
            "flex": null,
            "_model_name": "LayoutModel",
            "justify_items": null,
            "grid_row": null,
            "max_height": null,
            "align_content": null,
            "visibility": null,
            "align_self": null,
            "height": null,
            "min_height": null,
            "padding": null,
            "grid_auto_rows": null,
            "grid_gap": null,
            "max_width": null,
            "order": null,
            "_view_module_version": "1.2.0",
            "grid_template_areas": null,
            "object_position": null,
            "object_fit": null,
            "grid_auto_columns": null,
            "margin": null,
            "display": null,
            "left": null
          }
        },
        "c4d1af00a1514acfaebf1ca25d90c100": {
          "model_module": "@jupyter-widgets/controls",
          "model_name": "FloatProgressModel",
          "state": {
            "_view_name": "ProgressView",
            "style": "IPY_MODEL_f81c2aea43ec4b7fb247d4b675beb63a",
            "_dom_classes": [],
            "description": "100%",
            "_model_name": "FloatProgressModel",
            "bar_style": "success",
            "max": 7,
            "_view_module": "@jupyter-widgets/controls",
            "_model_module_version": "1.5.0",
            "value": 7,
            "_view_count": null,
            "_view_module_version": "1.5.0",
            "orientation": "horizontal",
            "min": 0,
            "description_tooltip": null,
            "_model_module": "@jupyter-widgets/controls",
            "layout": "IPY_MODEL_408dba22fa4f4993808afe29972d373b"
          }
        },
        "68a6057ef4c84ef49cb38d2928bcd634": {
          "model_module": "@jupyter-widgets/controls",
          "model_name": "HTMLModel",
          "state": {
            "_view_name": "HTMLView",
            "style": "IPY_MODEL_40dd32a94dfd464295728ee488ce333e",
            "_dom_classes": [],
            "description": "",
            "_model_name": "HTMLModel",
            "placeholder": "​",
            "_view_module": "@jupyter-widgets/controls",
            "_model_module_version": "1.5.0",
            "value": " 7/7 [05:08&lt;00:00, 44.09s/it]",
            "_view_count": null,
            "_view_module_version": "1.5.0",
            "description_tooltip": null,
            "_model_module": "@jupyter-widgets/controls",
            "layout": "IPY_MODEL_c0270c3ca3a64d38b05312645989d420"
          }
        },
        "f81c2aea43ec4b7fb247d4b675beb63a": {
          "model_module": "@jupyter-widgets/controls",
          "model_name": "ProgressStyleModel",
          "state": {
            "_view_name": "StyleView",
            "_model_name": "ProgressStyleModel",
            "description_width": "initial",
            "_view_module": "@jupyter-widgets/base",
            "_model_module_version": "1.5.0",
            "_view_count": null,
            "_view_module_version": "1.2.0",
            "bar_color": null,
            "_model_module": "@jupyter-widgets/controls"
          }
        },
        "408dba22fa4f4993808afe29972d373b": {
          "model_module": "@jupyter-widgets/base",
          "model_name": "LayoutModel",
          "state": {
            "_view_name": "LayoutView",
            "grid_template_rows": null,
            "right": null,
            "justify_content": null,
            "_view_module": "@jupyter-widgets/base",
            "overflow": null,
            "_model_module_version": "1.2.0",
            "_view_count": null,
            "flex_flow": null,
            "width": null,
            "min_width": null,
            "border": null,
            "align_items": null,
            "bottom": null,
            "_model_module": "@jupyter-widgets/base",
            "top": null,
            "grid_column": null,
            "overflow_y": null,
            "overflow_x": null,
            "grid_auto_flow": null,
            "grid_area": null,
            "grid_template_columns": null,
            "flex": null,
            "_model_name": "LayoutModel",
            "justify_items": null,
            "grid_row": null,
            "max_height": null,
            "align_content": null,
            "visibility": null,
            "align_self": null,
            "height": null,
            "min_height": null,
            "padding": null,
            "grid_auto_rows": null,
            "grid_gap": null,
            "max_width": null,
            "order": null,
            "_view_module_version": "1.2.0",
            "grid_template_areas": null,
            "object_position": null,
            "object_fit": null,
            "grid_auto_columns": null,
            "margin": null,
            "display": null,
            "left": null
          }
        },
        "40dd32a94dfd464295728ee488ce333e": {
          "model_module": "@jupyter-widgets/controls",
          "model_name": "DescriptionStyleModel",
          "state": {
            "_view_name": "StyleView",
            "_model_name": "DescriptionStyleModel",
            "description_width": "",
            "_view_module": "@jupyter-widgets/base",
            "_model_module_version": "1.5.0",
            "_view_count": null,
            "_view_module_version": "1.2.0",
            "_model_module": "@jupyter-widgets/controls"
          }
        },
        "c0270c3ca3a64d38b05312645989d420": {
          "model_module": "@jupyter-widgets/base",
          "model_name": "LayoutModel",
          "state": {
            "_view_name": "LayoutView",
            "grid_template_rows": null,
            "right": null,
            "justify_content": null,
            "_view_module": "@jupyter-widgets/base",
            "overflow": null,
            "_model_module_version": "1.2.0",
            "_view_count": null,
            "flex_flow": null,
            "width": null,
            "min_width": null,
            "border": null,
            "align_items": null,
            "bottom": null,
            "_model_module": "@jupyter-widgets/base",
            "top": null,
            "grid_column": null,
            "overflow_y": null,
            "overflow_x": null,
            "grid_auto_flow": null,
            "grid_area": null,
            "grid_template_columns": null,
            "flex": null,
            "_model_name": "LayoutModel",
            "justify_items": null,
            "grid_row": null,
            "max_height": null,
            "align_content": null,
            "visibility": null,
            "align_self": null,
            "height": null,
            "min_height": null,
            "padding": null,
            "grid_auto_rows": null,
            "grid_gap": null,
            "max_width": null,
            "order": null,
            "_view_module_version": "1.2.0",
            "grid_template_areas": null,
            "object_position": null,
            "object_fit": null,
            "grid_auto_columns": null,
            "margin": null,
            "display": null,
            "left": null
          }
        },
        "14cc7a4893e34d3381a19c7ef5e08cf2": {
          "model_module": "@jupyter-widgets/controls",
          "model_name": "HBoxModel",
          "state": {
            "_view_name": "HBoxView",
            "_dom_classes": [],
            "_model_name": "HBoxModel",
            "_view_module": "@jupyter-widgets/controls",
            "_model_module_version": "1.5.0",
            "_view_count": null,
            "_view_module_version": "1.5.0",
            "box_style": "",
            "layout": "IPY_MODEL_6dbe87008f3e4229b8932c14a28b3f26",
            "_model_module": "@jupyter-widgets/controls",
            "children": [
              "IPY_MODEL_55edebc3d23e417286f6da50d2365754",
              "IPY_MODEL_d66ab2b72cbe4226bd883a2fe9f7d2f4"
            ]
          }
        },
        "6dbe87008f3e4229b8932c14a28b3f26": {
          "model_module": "@jupyter-widgets/base",
          "model_name": "LayoutModel",
          "state": {
            "_view_name": "LayoutView",
            "grid_template_rows": null,
            "right": null,
            "justify_content": null,
            "_view_module": "@jupyter-widgets/base",
            "overflow": null,
            "_model_module_version": "1.2.0",
            "_view_count": null,
            "flex_flow": null,
            "width": null,
            "min_width": null,
            "border": null,
            "align_items": null,
            "bottom": null,
            "_model_module": "@jupyter-widgets/base",
            "top": null,
            "grid_column": null,
            "overflow_y": null,
            "overflow_x": null,
            "grid_auto_flow": null,
            "grid_area": null,
            "grid_template_columns": null,
            "flex": null,
            "_model_name": "LayoutModel",
            "justify_items": null,
            "grid_row": null,
            "max_height": null,
            "align_content": null,
            "visibility": null,
            "align_self": null,
            "height": null,
            "min_height": null,
            "padding": null,
            "grid_auto_rows": null,
            "grid_gap": null,
            "max_width": null,
            "order": null,
            "_view_module_version": "1.2.0",
            "grid_template_areas": null,
            "object_position": null,
            "object_fit": null,
            "grid_auto_columns": null,
            "margin": null,
            "display": null,
            "left": null
          }
        },
        "55edebc3d23e417286f6da50d2365754": {
          "model_module": "@jupyter-widgets/controls",
          "model_name": "FloatProgressModel",
          "state": {
            "_view_name": "ProgressView",
            "style": "IPY_MODEL_a4659e27fa91445d8ea6cfd73935c03f",
            "_dom_classes": [],
            "description": "100%",
            "_model_name": "FloatProgressModel",
            "bar_style": "success",
            "max": 7,
            "_view_module": "@jupyter-widgets/controls",
            "_model_module_version": "1.5.0",
            "value": 7,
            "_view_count": null,
            "_view_module_version": "1.5.0",
            "orientation": "horizontal",
            "min": 0,
            "description_tooltip": null,
            "_model_module": "@jupyter-widgets/controls",
            "layout": "IPY_MODEL_be1884f5bf2f4a75a5b2fb8797f834a4"
          }
        },
        "d66ab2b72cbe4226bd883a2fe9f7d2f4": {
          "model_module": "@jupyter-widgets/controls",
          "model_name": "HTMLModel",
          "state": {
            "_view_name": "HTMLView",
            "style": "IPY_MODEL_61011c5d896343fa80ada5578cfe916c",
            "_dom_classes": [],
            "description": "",
            "_model_name": "HTMLModel",
            "placeholder": "​",
            "_view_module": "@jupyter-widgets/controls",
            "_model_module_version": "1.5.0",
            "value": " 7/7 [03:40&lt;00:00, 31.49s/it]",
            "_view_count": null,
            "_view_module_version": "1.5.0",
            "description_tooltip": null,
            "_model_module": "@jupyter-widgets/controls",
            "layout": "IPY_MODEL_3af030e1d0cf4b9d820016a0712ea06a"
          }
        },
        "a4659e27fa91445d8ea6cfd73935c03f": {
          "model_module": "@jupyter-widgets/controls",
          "model_name": "ProgressStyleModel",
          "state": {
            "_view_name": "StyleView",
            "_model_name": "ProgressStyleModel",
            "description_width": "initial",
            "_view_module": "@jupyter-widgets/base",
            "_model_module_version": "1.5.0",
            "_view_count": null,
            "_view_module_version": "1.2.0",
            "bar_color": null,
            "_model_module": "@jupyter-widgets/controls"
          }
        },
        "be1884f5bf2f4a75a5b2fb8797f834a4": {
          "model_module": "@jupyter-widgets/base",
          "model_name": "LayoutModel",
          "state": {
            "_view_name": "LayoutView",
            "grid_template_rows": null,
            "right": null,
            "justify_content": null,
            "_view_module": "@jupyter-widgets/base",
            "overflow": null,
            "_model_module_version": "1.2.0",
            "_view_count": null,
            "flex_flow": null,
            "width": null,
            "min_width": null,
            "border": null,
            "align_items": null,
            "bottom": null,
            "_model_module": "@jupyter-widgets/base",
            "top": null,
            "grid_column": null,
            "overflow_y": null,
            "overflow_x": null,
            "grid_auto_flow": null,
            "grid_area": null,
            "grid_template_columns": null,
            "flex": null,
            "_model_name": "LayoutModel",
            "justify_items": null,
            "grid_row": null,
            "max_height": null,
            "align_content": null,
            "visibility": null,
            "align_self": null,
            "height": null,
            "min_height": null,
            "padding": null,
            "grid_auto_rows": null,
            "grid_gap": null,
            "max_width": null,
            "order": null,
            "_view_module_version": "1.2.0",
            "grid_template_areas": null,
            "object_position": null,
            "object_fit": null,
            "grid_auto_columns": null,
            "margin": null,
            "display": null,
            "left": null
          }
        },
        "61011c5d896343fa80ada5578cfe916c": {
          "model_module": "@jupyter-widgets/controls",
          "model_name": "DescriptionStyleModel",
          "state": {
            "_view_name": "StyleView",
            "_model_name": "DescriptionStyleModel",
            "description_width": "",
            "_view_module": "@jupyter-widgets/base",
            "_model_module_version": "1.5.0",
            "_view_count": null,
            "_view_module_version": "1.2.0",
            "_model_module": "@jupyter-widgets/controls"
          }
        },
        "3af030e1d0cf4b9d820016a0712ea06a": {
          "model_module": "@jupyter-widgets/base",
          "model_name": "LayoutModel",
          "state": {
            "_view_name": "LayoutView",
            "grid_template_rows": null,
            "right": null,
            "justify_content": null,
            "_view_module": "@jupyter-widgets/base",
            "overflow": null,
            "_model_module_version": "1.2.0",
            "_view_count": null,
            "flex_flow": null,
            "width": null,
            "min_width": null,
            "border": null,
            "align_items": null,
            "bottom": null,
            "_model_module": "@jupyter-widgets/base",
            "top": null,
            "grid_column": null,
            "overflow_y": null,
            "overflow_x": null,
            "grid_auto_flow": null,
            "grid_area": null,
            "grid_template_columns": null,
            "flex": null,
            "_model_name": "LayoutModel",
            "justify_items": null,
            "grid_row": null,
            "max_height": null,
            "align_content": null,
            "visibility": null,
            "align_self": null,
            "height": null,
            "min_height": null,
            "padding": null,
            "grid_auto_rows": null,
            "grid_gap": null,
            "max_width": null,
            "order": null,
            "_view_module_version": "1.2.0",
            "grid_template_areas": null,
            "object_position": null,
            "object_fit": null,
            "grid_auto_columns": null,
            "margin": null,
            "display": null,
            "left": null
          }
        },
        "4190a5ceabe54de385a70ae6d8f9b134": {
          "model_module": "@jupyter-widgets/controls",
          "model_name": "HBoxModel",
          "state": {
            "_view_name": "HBoxView",
            "_dom_classes": [],
            "_model_name": "HBoxModel",
            "_view_module": "@jupyter-widgets/controls",
            "_model_module_version": "1.5.0",
            "_view_count": null,
            "_view_module_version": "1.5.0",
            "box_style": "",
            "layout": "IPY_MODEL_715fc49605b949e48f849c573fd29de7",
            "_model_module": "@jupyter-widgets/controls",
            "children": [
              "IPY_MODEL_989575faaf6d44c093135c48246dedb4",
              "IPY_MODEL_16adf8ec79464f8eb82f445fb99a27f8"
            ]
          }
        },
        "715fc49605b949e48f849c573fd29de7": {
          "model_module": "@jupyter-widgets/base",
          "model_name": "LayoutModel",
          "state": {
            "_view_name": "LayoutView",
            "grid_template_rows": null,
            "right": null,
            "justify_content": null,
            "_view_module": "@jupyter-widgets/base",
            "overflow": null,
            "_model_module_version": "1.2.0",
            "_view_count": null,
            "flex_flow": null,
            "width": null,
            "min_width": null,
            "border": null,
            "align_items": null,
            "bottom": null,
            "_model_module": "@jupyter-widgets/base",
            "top": null,
            "grid_column": null,
            "overflow_y": null,
            "overflow_x": null,
            "grid_auto_flow": null,
            "grid_area": null,
            "grid_template_columns": null,
            "flex": null,
            "_model_name": "LayoutModel",
            "justify_items": null,
            "grid_row": null,
            "max_height": null,
            "align_content": null,
            "visibility": null,
            "align_self": null,
            "height": null,
            "min_height": null,
            "padding": null,
            "grid_auto_rows": null,
            "grid_gap": null,
            "max_width": null,
            "order": null,
            "_view_module_version": "1.2.0",
            "grid_template_areas": null,
            "object_position": null,
            "object_fit": null,
            "grid_auto_columns": null,
            "margin": null,
            "display": null,
            "left": null
          }
        },
        "989575faaf6d44c093135c48246dedb4": {
          "model_module": "@jupyter-widgets/controls",
          "model_name": "FloatProgressModel",
          "state": {
            "_view_name": "ProgressView",
            "style": "IPY_MODEL_6ae41ceb085241638e5b815fa8b9314e",
            "_dom_classes": [],
            "description": "100%",
            "_model_name": "FloatProgressModel",
            "bar_style": "success",
            "max": 7,
            "_view_module": "@jupyter-widgets/controls",
            "_model_module_version": "1.5.0",
            "value": 7,
            "_view_count": null,
            "_view_module_version": "1.5.0",
            "orientation": "horizontal",
            "min": 0,
            "description_tooltip": null,
            "_model_module": "@jupyter-widgets/controls",
            "layout": "IPY_MODEL_d22edfc09f1b4e139bc7bbe23114f950"
          }
        },
        "16adf8ec79464f8eb82f445fb99a27f8": {
          "model_module": "@jupyter-widgets/controls",
          "model_name": "HTMLModel",
          "state": {
            "_view_name": "HTMLView",
            "style": "IPY_MODEL_a55dabefdd9f4b588acee0335a25bf17",
            "_dom_classes": [],
            "description": "",
            "_model_name": "HTMLModel",
            "placeholder": "​",
            "_view_module": "@jupyter-widgets/controls",
            "_model_module_version": "1.5.0",
            "value": " 7/7 [01:05&lt;00:00,  9.39s/it]",
            "_view_count": null,
            "_view_module_version": "1.5.0",
            "description_tooltip": null,
            "_model_module": "@jupyter-widgets/controls",
            "layout": "IPY_MODEL_d65c1df82d8249dd9361e5f12f91e6c9"
          }
        },
        "6ae41ceb085241638e5b815fa8b9314e": {
          "model_module": "@jupyter-widgets/controls",
          "model_name": "ProgressStyleModel",
          "state": {
            "_view_name": "StyleView",
            "_model_name": "ProgressStyleModel",
            "description_width": "initial",
            "_view_module": "@jupyter-widgets/base",
            "_model_module_version": "1.5.0",
            "_view_count": null,
            "_view_module_version": "1.2.0",
            "bar_color": null,
            "_model_module": "@jupyter-widgets/controls"
          }
        },
        "d22edfc09f1b4e139bc7bbe23114f950": {
          "model_module": "@jupyter-widgets/base",
          "model_name": "LayoutModel",
          "state": {
            "_view_name": "LayoutView",
            "grid_template_rows": null,
            "right": null,
            "justify_content": null,
            "_view_module": "@jupyter-widgets/base",
            "overflow": null,
            "_model_module_version": "1.2.0",
            "_view_count": null,
            "flex_flow": null,
            "width": null,
            "min_width": null,
            "border": null,
            "align_items": null,
            "bottom": null,
            "_model_module": "@jupyter-widgets/base",
            "top": null,
            "grid_column": null,
            "overflow_y": null,
            "overflow_x": null,
            "grid_auto_flow": null,
            "grid_area": null,
            "grid_template_columns": null,
            "flex": null,
            "_model_name": "LayoutModel",
            "justify_items": null,
            "grid_row": null,
            "max_height": null,
            "align_content": null,
            "visibility": null,
            "align_self": null,
            "height": null,
            "min_height": null,
            "padding": null,
            "grid_auto_rows": null,
            "grid_gap": null,
            "max_width": null,
            "order": null,
            "_view_module_version": "1.2.0",
            "grid_template_areas": null,
            "object_position": null,
            "object_fit": null,
            "grid_auto_columns": null,
            "margin": null,
            "display": null,
            "left": null
          }
        },
        "a55dabefdd9f4b588acee0335a25bf17": {
          "model_module": "@jupyter-widgets/controls",
          "model_name": "DescriptionStyleModel",
          "state": {
            "_view_name": "StyleView",
            "_model_name": "DescriptionStyleModel",
            "description_width": "",
            "_view_module": "@jupyter-widgets/base",
            "_model_module_version": "1.5.0",
            "_view_count": null,
            "_view_module_version": "1.2.0",
            "_model_module": "@jupyter-widgets/controls"
          }
        },
        "d65c1df82d8249dd9361e5f12f91e6c9": {
          "model_module": "@jupyter-widgets/base",
          "model_name": "LayoutModel",
          "state": {
            "_view_name": "LayoutView",
            "grid_template_rows": null,
            "right": null,
            "justify_content": null,
            "_view_module": "@jupyter-widgets/base",
            "overflow": null,
            "_model_module_version": "1.2.0",
            "_view_count": null,
            "flex_flow": null,
            "width": null,
            "min_width": null,
            "border": null,
            "align_items": null,
            "bottom": null,
            "_model_module": "@jupyter-widgets/base",
            "top": null,
            "grid_column": null,
            "overflow_y": null,
            "overflow_x": null,
            "grid_auto_flow": null,
            "grid_area": null,
            "grid_template_columns": null,
            "flex": null,
            "_model_name": "LayoutModel",
            "justify_items": null,
            "grid_row": null,
            "max_height": null,
            "align_content": null,
            "visibility": null,
            "align_self": null,
            "height": null,
            "min_height": null,
            "padding": null,
            "grid_auto_rows": null,
            "grid_gap": null,
            "max_width": null,
            "order": null,
            "_view_module_version": "1.2.0",
            "grid_template_areas": null,
            "object_position": null,
            "object_fit": null,
            "grid_auto_columns": null,
            "margin": null,
            "display": null,
            "left": null
          }
        },
        "2b413da6f6844891ac7aae15692b7d19": {
          "model_module": "@jupyter-widgets/controls",
          "model_name": "HBoxModel",
          "state": {
            "_view_name": "HBoxView",
            "_dom_classes": [],
            "_model_name": "HBoxModel",
            "_view_module": "@jupyter-widgets/controls",
            "_model_module_version": "1.5.0",
            "_view_count": null,
            "_view_module_version": "1.5.0",
            "box_style": "",
            "layout": "IPY_MODEL_dfeeb5e42d0e43ba841080104510154f",
            "_model_module": "@jupyter-widgets/controls",
            "children": [
              "IPY_MODEL_b49d9338a7a44afca499d7fc2e220789",
              "IPY_MODEL_069665f6d42448c09badb36eea3b51de"
            ]
          }
        },
        "dfeeb5e42d0e43ba841080104510154f": {
          "model_module": "@jupyter-widgets/base",
          "model_name": "LayoutModel",
          "state": {
            "_view_name": "LayoutView",
            "grid_template_rows": null,
            "right": null,
            "justify_content": null,
            "_view_module": "@jupyter-widgets/base",
            "overflow": null,
            "_model_module_version": "1.2.0",
            "_view_count": null,
            "flex_flow": null,
            "width": null,
            "min_width": null,
            "border": null,
            "align_items": null,
            "bottom": null,
            "_model_module": "@jupyter-widgets/base",
            "top": null,
            "grid_column": null,
            "overflow_y": null,
            "overflow_x": null,
            "grid_auto_flow": null,
            "grid_area": null,
            "grid_template_columns": null,
            "flex": null,
            "_model_name": "LayoutModel",
            "justify_items": null,
            "grid_row": null,
            "max_height": null,
            "align_content": null,
            "visibility": null,
            "align_self": null,
            "height": null,
            "min_height": null,
            "padding": null,
            "grid_auto_rows": null,
            "grid_gap": null,
            "max_width": null,
            "order": null,
            "_view_module_version": "1.2.0",
            "grid_template_areas": null,
            "object_position": null,
            "object_fit": null,
            "grid_auto_columns": null,
            "margin": null,
            "display": null,
            "left": null
          }
        },
        "b49d9338a7a44afca499d7fc2e220789": {
          "model_module": "@jupyter-widgets/controls",
          "model_name": "FloatProgressModel",
          "state": {
            "_view_name": "ProgressView",
            "style": "IPY_MODEL_cb847cde300b45e29b9044e254b8d8a6",
            "_dom_classes": [],
            "description": "100%",
            "_model_name": "FloatProgressModel",
            "bar_style": "success",
            "max": 1,
            "_view_module": "@jupyter-widgets/controls",
            "_model_module_version": "1.5.0",
            "value": 1,
            "_view_count": null,
            "_view_module_version": "1.5.0",
            "orientation": "horizontal",
            "min": 0,
            "description_tooltip": null,
            "_model_module": "@jupyter-widgets/controls",
            "layout": "IPY_MODEL_01fdd7fafb4146b4821a4c2b4c41f769"
          }
        },
        "069665f6d42448c09badb36eea3b51de": {
          "model_module": "@jupyter-widgets/controls",
          "model_name": "HTMLModel",
          "state": {
            "_view_name": "HTMLView",
            "style": "IPY_MODEL_67def4d0b18c42ad8d3531b6b621458c",
            "_dom_classes": [],
            "description": "",
            "_model_name": "HTMLModel",
            "placeholder": "​",
            "_view_module": "@jupyter-widgets/controls",
            "_model_module_version": "1.5.0",
            "value": " 1/1 [00:28&lt;00:00, 28.54s/it]",
            "_view_count": null,
            "_view_module_version": "1.5.0",
            "description_tooltip": null,
            "_model_module": "@jupyter-widgets/controls",
            "layout": "IPY_MODEL_3221bdfafd8b47f6a5301d84e5aabd72"
          }
        },
        "cb847cde300b45e29b9044e254b8d8a6": {
          "model_module": "@jupyter-widgets/controls",
          "model_name": "ProgressStyleModel",
          "state": {
            "_view_name": "StyleView",
            "_model_name": "ProgressStyleModel",
            "description_width": "initial",
            "_view_module": "@jupyter-widgets/base",
            "_model_module_version": "1.5.0",
            "_view_count": null,
            "_view_module_version": "1.2.0",
            "bar_color": null,
            "_model_module": "@jupyter-widgets/controls"
          }
        },
        "01fdd7fafb4146b4821a4c2b4c41f769": {
          "model_module": "@jupyter-widgets/base",
          "model_name": "LayoutModel",
          "state": {
            "_view_name": "LayoutView",
            "grid_template_rows": null,
            "right": null,
            "justify_content": null,
            "_view_module": "@jupyter-widgets/base",
            "overflow": null,
            "_model_module_version": "1.2.0",
            "_view_count": null,
            "flex_flow": null,
            "width": null,
            "min_width": null,
            "border": null,
            "align_items": null,
            "bottom": null,
            "_model_module": "@jupyter-widgets/base",
            "top": null,
            "grid_column": null,
            "overflow_y": null,
            "overflow_x": null,
            "grid_auto_flow": null,
            "grid_area": null,
            "grid_template_columns": null,
            "flex": null,
            "_model_name": "LayoutModel",
            "justify_items": null,
            "grid_row": null,
            "max_height": null,
            "align_content": null,
            "visibility": null,
            "align_self": null,
            "height": null,
            "min_height": null,
            "padding": null,
            "grid_auto_rows": null,
            "grid_gap": null,
            "max_width": null,
            "order": null,
            "_view_module_version": "1.2.0",
            "grid_template_areas": null,
            "object_position": null,
            "object_fit": null,
            "grid_auto_columns": null,
            "margin": null,
            "display": null,
            "left": null
          }
        },
        "67def4d0b18c42ad8d3531b6b621458c": {
          "model_module": "@jupyter-widgets/controls",
          "model_name": "DescriptionStyleModel",
          "state": {
            "_view_name": "StyleView",
            "_model_name": "DescriptionStyleModel",
            "description_width": "",
            "_view_module": "@jupyter-widgets/base",
            "_model_module_version": "1.5.0",
            "_view_count": null,
            "_view_module_version": "1.2.0",
            "_model_module": "@jupyter-widgets/controls"
          }
        },
        "3221bdfafd8b47f6a5301d84e5aabd72": {
          "model_module": "@jupyter-widgets/base",
          "model_name": "LayoutModel",
          "state": {
            "_view_name": "LayoutView",
            "grid_template_rows": null,
            "right": null,
            "justify_content": null,
            "_view_module": "@jupyter-widgets/base",
            "overflow": null,
            "_model_module_version": "1.2.0",
            "_view_count": null,
            "flex_flow": null,
            "width": null,
            "min_width": null,
            "border": null,
            "align_items": null,
            "bottom": null,
            "_model_module": "@jupyter-widgets/base",
            "top": null,
            "grid_column": null,
            "overflow_y": null,
            "overflow_x": null,
            "grid_auto_flow": null,
            "grid_area": null,
            "grid_template_columns": null,
            "flex": null,
            "_model_name": "LayoutModel",
            "justify_items": null,
            "grid_row": null,
            "max_height": null,
            "align_content": null,
            "visibility": null,
            "align_self": null,
            "height": null,
            "min_height": null,
            "padding": null,
            "grid_auto_rows": null,
            "grid_gap": null,
            "max_width": null,
            "order": null,
            "_view_module_version": "1.2.0",
            "grid_template_areas": null,
            "object_position": null,
            "object_fit": null,
            "grid_auto_columns": null,
            "margin": null,
            "display": null,
            "left": null
          }
        },
        "875e29c7bca84334a8751d8477525e8d": {
          "model_module": "@jupyter-widgets/controls",
          "model_name": "HBoxModel",
          "state": {
            "_view_name": "HBoxView",
            "_dom_classes": [],
            "_model_name": "HBoxModel",
            "_view_module": "@jupyter-widgets/controls",
            "_model_module_version": "1.5.0",
            "_view_count": null,
            "_view_module_version": "1.5.0",
            "box_style": "",
            "layout": "IPY_MODEL_0d14412c977a4b8f94bf6ff12af3127f",
            "_model_module": "@jupyter-widgets/controls",
            "children": [
              "IPY_MODEL_62aa32e6459a4090826c709b190850ec",
              "IPY_MODEL_0fe956a8c43a445987592896d850abb4"
            ]
          }
        },
        "0d14412c977a4b8f94bf6ff12af3127f": {
          "model_module": "@jupyter-widgets/base",
          "model_name": "LayoutModel",
          "state": {
            "_view_name": "LayoutView",
            "grid_template_rows": null,
            "right": null,
            "justify_content": null,
            "_view_module": "@jupyter-widgets/base",
            "overflow": null,
            "_model_module_version": "1.2.0",
            "_view_count": null,
            "flex_flow": null,
            "width": null,
            "min_width": null,
            "border": null,
            "align_items": null,
            "bottom": null,
            "_model_module": "@jupyter-widgets/base",
            "top": null,
            "grid_column": null,
            "overflow_y": null,
            "overflow_x": null,
            "grid_auto_flow": null,
            "grid_area": null,
            "grid_template_columns": null,
            "flex": null,
            "_model_name": "LayoutModel",
            "justify_items": null,
            "grid_row": null,
            "max_height": null,
            "align_content": null,
            "visibility": null,
            "align_self": null,
            "height": null,
            "min_height": null,
            "padding": null,
            "grid_auto_rows": null,
            "grid_gap": null,
            "max_width": null,
            "order": null,
            "_view_module_version": "1.2.0",
            "grid_template_areas": null,
            "object_position": null,
            "object_fit": null,
            "grid_auto_columns": null,
            "margin": null,
            "display": null,
            "left": null
          }
        },
        "62aa32e6459a4090826c709b190850ec": {
          "model_module": "@jupyter-widgets/controls",
          "model_name": "FloatProgressModel",
          "state": {
            "_view_name": "ProgressView",
            "style": "IPY_MODEL_4a11b3ceb1c3473d861f00acccf6aaec",
            "_dom_classes": [],
            "description": "100%",
            "_model_name": "FloatProgressModel",
            "bar_style": "success",
            "max": 5,
            "_view_module": "@jupyter-widgets/controls",
            "_model_module_version": "1.5.0",
            "value": 5,
            "_view_count": null,
            "_view_module_version": "1.5.0",
            "orientation": "horizontal",
            "min": 0,
            "description_tooltip": null,
            "_model_module": "@jupyter-widgets/controls",
            "layout": "IPY_MODEL_a90575eb65614a238f33bc6ee03b665b"
          }
        },
        "0fe956a8c43a445987592896d850abb4": {
          "model_module": "@jupyter-widgets/controls",
          "model_name": "HTMLModel",
          "state": {
            "_view_name": "HTMLView",
            "style": "IPY_MODEL_f78b083a8b564bcfb23f85bdbae6e734",
            "_dom_classes": [],
            "description": "",
            "_model_name": "HTMLModel",
            "placeholder": "​",
            "_view_module": "@jupyter-widgets/controls",
            "_model_module_version": "1.5.0",
            "value": " 5/5 [00:18&lt;00:00,  3.70s/it]",
            "_view_count": null,
            "_view_module_version": "1.5.0",
            "description_tooltip": null,
            "_model_module": "@jupyter-widgets/controls",
            "layout": "IPY_MODEL_c39a3b584dd4439da2efc04a953d80c8"
          }
        },
        "4a11b3ceb1c3473d861f00acccf6aaec": {
          "model_module": "@jupyter-widgets/controls",
          "model_name": "ProgressStyleModel",
          "state": {
            "_view_name": "StyleView",
            "_model_name": "ProgressStyleModel",
            "description_width": "initial",
            "_view_module": "@jupyter-widgets/base",
            "_model_module_version": "1.5.0",
            "_view_count": null,
            "_view_module_version": "1.2.0",
            "bar_color": null,
            "_model_module": "@jupyter-widgets/controls"
          }
        },
        "a90575eb65614a238f33bc6ee03b665b": {
          "model_module": "@jupyter-widgets/base",
          "model_name": "LayoutModel",
          "state": {
            "_view_name": "LayoutView",
            "grid_template_rows": null,
            "right": null,
            "justify_content": null,
            "_view_module": "@jupyter-widgets/base",
            "overflow": null,
            "_model_module_version": "1.2.0",
            "_view_count": null,
            "flex_flow": null,
            "width": null,
            "min_width": null,
            "border": null,
            "align_items": null,
            "bottom": null,
            "_model_module": "@jupyter-widgets/base",
            "top": null,
            "grid_column": null,
            "overflow_y": null,
            "overflow_x": null,
            "grid_auto_flow": null,
            "grid_area": null,
            "grid_template_columns": null,
            "flex": null,
            "_model_name": "LayoutModel",
            "justify_items": null,
            "grid_row": null,
            "max_height": null,
            "align_content": null,
            "visibility": null,
            "align_self": null,
            "height": null,
            "min_height": null,
            "padding": null,
            "grid_auto_rows": null,
            "grid_gap": null,
            "max_width": null,
            "order": null,
            "_view_module_version": "1.2.0",
            "grid_template_areas": null,
            "object_position": null,
            "object_fit": null,
            "grid_auto_columns": null,
            "margin": null,
            "display": null,
            "left": null
          }
        },
        "f78b083a8b564bcfb23f85bdbae6e734": {
          "model_module": "@jupyter-widgets/controls",
          "model_name": "DescriptionStyleModel",
          "state": {
            "_view_name": "StyleView",
            "_model_name": "DescriptionStyleModel",
            "description_width": "",
            "_view_module": "@jupyter-widgets/base",
            "_model_module_version": "1.5.0",
            "_view_count": null,
            "_view_module_version": "1.2.0",
            "_model_module": "@jupyter-widgets/controls"
          }
        },
        "c39a3b584dd4439da2efc04a953d80c8": {
          "model_module": "@jupyter-widgets/base",
          "model_name": "LayoutModel",
          "state": {
            "_view_name": "LayoutView",
            "grid_template_rows": null,
            "right": null,
            "justify_content": null,
            "_view_module": "@jupyter-widgets/base",
            "overflow": null,
            "_model_module_version": "1.2.0",
            "_view_count": null,
            "flex_flow": null,
            "width": null,
            "min_width": null,
            "border": null,
            "align_items": null,
            "bottom": null,
            "_model_module": "@jupyter-widgets/base",
            "top": null,
            "grid_column": null,
            "overflow_y": null,
            "overflow_x": null,
            "grid_auto_flow": null,
            "grid_area": null,
            "grid_template_columns": null,
            "flex": null,
            "_model_name": "LayoutModel",
            "justify_items": null,
            "grid_row": null,
            "max_height": null,
            "align_content": null,
            "visibility": null,
            "align_self": null,
            "height": null,
            "min_height": null,
            "padding": null,
            "grid_auto_rows": null,
            "grid_gap": null,
            "max_width": null,
            "order": null,
            "_view_module_version": "1.2.0",
            "grid_template_areas": null,
            "object_position": null,
            "object_fit": null,
            "grid_auto_columns": null,
            "margin": null,
            "display": null,
            "left": null
          }
        },
        "52fbdf9a457b4710ba9085ab805c5eb6": {
          "model_module": "@jupyter-widgets/controls",
          "model_name": "HBoxModel",
          "state": {
            "_view_name": "HBoxView",
            "_dom_classes": [],
            "_model_name": "HBoxModel",
            "_view_module": "@jupyter-widgets/controls",
            "_model_module_version": "1.5.0",
            "_view_count": null,
            "_view_module_version": "1.5.0",
            "box_style": "",
            "layout": "IPY_MODEL_395abba6d1ed4a5dab0fc79ef8d4c56d",
            "_model_module": "@jupyter-widgets/controls",
            "children": [
              "IPY_MODEL_17012b8009eb43dca8737c5ce0661d7d",
              "IPY_MODEL_554041d25b1c4446959589b66e4fc7fa"
            ]
          }
        },
        "395abba6d1ed4a5dab0fc79ef8d4c56d": {
          "model_module": "@jupyter-widgets/base",
          "model_name": "LayoutModel",
          "state": {
            "_view_name": "LayoutView",
            "grid_template_rows": null,
            "right": null,
            "justify_content": null,
            "_view_module": "@jupyter-widgets/base",
            "overflow": null,
            "_model_module_version": "1.2.0",
            "_view_count": null,
            "flex_flow": null,
            "width": null,
            "min_width": null,
            "border": null,
            "align_items": null,
            "bottom": null,
            "_model_module": "@jupyter-widgets/base",
            "top": null,
            "grid_column": null,
            "overflow_y": null,
            "overflow_x": null,
            "grid_auto_flow": null,
            "grid_area": null,
            "grid_template_columns": null,
            "flex": null,
            "_model_name": "LayoutModel",
            "justify_items": null,
            "grid_row": null,
            "max_height": null,
            "align_content": null,
            "visibility": null,
            "align_self": null,
            "height": null,
            "min_height": null,
            "padding": null,
            "grid_auto_rows": null,
            "grid_gap": null,
            "max_width": null,
            "order": null,
            "_view_module_version": "1.2.0",
            "grid_template_areas": null,
            "object_position": null,
            "object_fit": null,
            "grid_auto_columns": null,
            "margin": null,
            "display": null,
            "left": null
          }
        },
        "17012b8009eb43dca8737c5ce0661d7d": {
          "model_module": "@jupyter-widgets/controls",
          "model_name": "FloatProgressModel",
          "state": {
            "_view_name": "ProgressView",
            "style": "IPY_MODEL_5d1aa0a5cf62469bbf28886b79ca3b02",
            "_dom_classes": [],
            "description": "100%",
            "_model_name": "FloatProgressModel",
            "bar_style": "success",
            "max": 5,
            "_view_module": "@jupyter-widgets/controls",
            "_model_module_version": "1.5.0",
            "value": 5,
            "_view_count": null,
            "_view_module_version": "1.5.0",
            "orientation": "horizontal",
            "min": 0,
            "description_tooltip": null,
            "_model_module": "@jupyter-widgets/controls",
            "layout": "IPY_MODEL_1b799763679e42b887352fef91d1ce10"
          }
        },
        "554041d25b1c4446959589b66e4fc7fa": {
          "model_module": "@jupyter-widgets/controls",
          "model_name": "HTMLModel",
          "state": {
            "_view_name": "HTMLView",
            "style": "IPY_MODEL_f8ba4401f1e541e285450c3d195c7591",
            "_dom_classes": [],
            "description": "",
            "_model_name": "HTMLModel",
            "placeholder": "​",
            "_view_module": "@jupyter-widgets/controls",
            "_model_module_version": "1.5.0",
            "value": " 5/5 [03:37&lt;00:00, 43.46s/it]",
            "_view_count": null,
            "_view_module_version": "1.5.0",
            "description_tooltip": null,
            "_model_module": "@jupyter-widgets/controls",
            "layout": "IPY_MODEL_318ecbc2e2d64f02a8868d82de8a868b"
          }
        },
        "5d1aa0a5cf62469bbf28886b79ca3b02": {
          "model_module": "@jupyter-widgets/controls",
          "model_name": "ProgressStyleModel",
          "state": {
            "_view_name": "StyleView",
            "_model_name": "ProgressStyleModel",
            "description_width": "initial",
            "_view_module": "@jupyter-widgets/base",
            "_model_module_version": "1.5.0",
            "_view_count": null,
            "_view_module_version": "1.2.0",
            "bar_color": null,
            "_model_module": "@jupyter-widgets/controls"
          }
        },
        "1b799763679e42b887352fef91d1ce10": {
          "model_module": "@jupyter-widgets/base",
          "model_name": "LayoutModel",
          "state": {
            "_view_name": "LayoutView",
            "grid_template_rows": null,
            "right": null,
            "justify_content": null,
            "_view_module": "@jupyter-widgets/base",
            "overflow": null,
            "_model_module_version": "1.2.0",
            "_view_count": null,
            "flex_flow": null,
            "width": null,
            "min_width": null,
            "border": null,
            "align_items": null,
            "bottom": null,
            "_model_module": "@jupyter-widgets/base",
            "top": null,
            "grid_column": null,
            "overflow_y": null,
            "overflow_x": null,
            "grid_auto_flow": null,
            "grid_area": null,
            "grid_template_columns": null,
            "flex": null,
            "_model_name": "LayoutModel",
            "justify_items": null,
            "grid_row": null,
            "max_height": null,
            "align_content": null,
            "visibility": null,
            "align_self": null,
            "height": null,
            "min_height": null,
            "padding": null,
            "grid_auto_rows": null,
            "grid_gap": null,
            "max_width": null,
            "order": null,
            "_view_module_version": "1.2.0",
            "grid_template_areas": null,
            "object_position": null,
            "object_fit": null,
            "grid_auto_columns": null,
            "margin": null,
            "display": null,
            "left": null
          }
        },
        "f8ba4401f1e541e285450c3d195c7591": {
          "model_module": "@jupyter-widgets/controls",
          "model_name": "DescriptionStyleModel",
          "state": {
            "_view_name": "StyleView",
            "_model_name": "DescriptionStyleModel",
            "description_width": "",
            "_view_module": "@jupyter-widgets/base",
            "_model_module_version": "1.5.0",
            "_view_count": null,
            "_view_module_version": "1.2.0",
            "_model_module": "@jupyter-widgets/controls"
          }
        },
        "318ecbc2e2d64f02a8868d82de8a868b": {
          "model_module": "@jupyter-widgets/base",
          "model_name": "LayoutModel",
          "state": {
            "_view_name": "LayoutView",
            "grid_template_rows": null,
            "right": null,
            "justify_content": null,
            "_view_module": "@jupyter-widgets/base",
            "overflow": null,
            "_model_module_version": "1.2.0",
            "_view_count": null,
            "flex_flow": null,
            "width": null,
            "min_width": null,
            "border": null,
            "align_items": null,
            "bottom": null,
            "_model_module": "@jupyter-widgets/base",
            "top": null,
            "grid_column": null,
            "overflow_y": null,
            "overflow_x": null,
            "grid_auto_flow": null,
            "grid_area": null,
            "grid_template_columns": null,
            "flex": null,
            "_model_name": "LayoutModel",
            "justify_items": null,
            "grid_row": null,
            "max_height": null,
            "align_content": null,
            "visibility": null,
            "align_self": null,
            "height": null,
            "min_height": null,
            "padding": null,
            "grid_auto_rows": null,
            "grid_gap": null,
            "max_width": null,
            "order": null,
            "_view_module_version": "1.2.0",
            "grid_template_areas": null,
            "object_position": null,
            "object_fit": null,
            "grid_auto_columns": null,
            "margin": null,
            "display": null,
            "left": null
          }
        },
        "494712aff5024388bc3e05b864c03ded": {
          "model_module": "@jupyter-widgets/controls",
          "model_name": "HBoxModel",
          "state": {
            "_view_name": "HBoxView",
            "_dom_classes": [],
            "_model_name": "HBoxModel",
            "_view_module": "@jupyter-widgets/controls",
            "_model_module_version": "1.5.0",
            "_view_count": null,
            "_view_module_version": "1.5.0",
            "box_style": "",
            "layout": "IPY_MODEL_eb4c33296d024a3095463790a8b25b73",
            "_model_module": "@jupyter-widgets/controls",
            "children": [
              "IPY_MODEL_38a022a39e8a4caf82e6fc16614b4693",
              "IPY_MODEL_a42bfba25a7546879b36e7a208df5b02"
            ]
          }
        },
        "eb4c33296d024a3095463790a8b25b73": {
          "model_module": "@jupyter-widgets/base",
          "model_name": "LayoutModel",
          "state": {
            "_view_name": "LayoutView",
            "grid_template_rows": null,
            "right": null,
            "justify_content": null,
            "_view_module": "@jupyter-widgets/base",
            "overflow": null,
            "_model_module_version": "1.2.0",
            "_view_count": null,
            "flex_flow": null,
            "width": null,
            "min_width": null,
            "border": null,
            "align_items": null,
            "bottom": null,
            "_model_module": "@jupyter-widgets/base",
            "top": null,
            "grid_column": null,
            "overflow_y": null,
            "overflow_x": null,
            "grid_auto_flow": null,
            "grid_area": null,
            "grid_template_columns": null,
            "flex": null,
            "_model_name": "LayoutModel",
            "justify_items": null,
            "grid_row": null,
            "max_height": null,
            "align_content": null,
            "visibility": null,
            "align_self": null,
            "height": null,
            "min_height": null,
            "padding": null,
            "grid_auto_rows": null,
            "grid_gap": null,
            "max_width": null,
            "order": null,
            "_view_module_version": "1.2.0",
            "grid_template_areas": null,
            "object_position": null,
            "object_fit": null,
            "grid_auto_columns": null,
            "margin": null,
            "display": null,
            "left": null
          }
        },
        "38a022a39e8a4caf82e6fc16614b4693": {
          "model_module": "@jupyter-widgets/controls",
          "model_name": "FloatProgressModel",
          "state": {
            "_view_name": "ProgressView",
            "style": "IPY_MODEL_af5d62dd80de40dfbd57933e3e794915",
            "_dom_classes": [],
            "description": "100%",
            "_model_name": "FloatProgressModel",
            "bar_style": "success",
            "max": 70,
            "_view_module": "@jupyter-widgets/controls",
            "_model_module_version": "1.5.0",
            "value": 70,
            "_view_count": null,
            "_view_module_version": "1.5.0",
            "orientation": "horizontal",
            "min": 0,
            "description_tooltip": null,
            "_model_module": "@jupyter-widgets/controls",
            "layout": "IPY_MODEL_c709e87f701c43f2b421e7a0eb3b4851"
          }
        },
        "a42bfba25a7546879b36e7a208df5b02": {
          "model_module": "@jupyter-widgets/controls",
          "model_name": "HTMLModel",
          "state": {
            "_view_name": "HTMLView",
            "style": "IPY_MODEL_8dbb291c855c47c2b9d3b1bb3c2b2885",
            "_dom_classes": [],
            "description": "",
            "_model_name": "HTMLModel",
            "placeholder": "​",
            "_view_module": "@jupyter-widgets/controls",
            "_model_module_version": "1.5.0",
            "value": " 70/70 [02:30&lt;00:00,  2.16s/it]",
            "_view_count": null,
            "_view_module_version": "1.5.0",
            "description_tooltip": null,
            "_model_module": "@jupyter-widgets/controls",
            "layout": "IPY_MODEL_c6d4173d73ef498abbeaa33d55e492fd"
          }
        },
        "af5d62dd80de40dfbd57933e3e794915": {
          "model_module": "@jupyter-widgets/controls",
          "model_name": "ProgressStyleModel",
          "state": {
            "_view_name": "StyleView",
            "_model_name": "ProgressStyleModel",
            "description_width": "initial",
            "_view_module": "@jupyter-widgets/base",
            "_model_module_version": "1.5.0",
            "_view_count": null,
            "_view_module_version": "1.2.0",
            "bar_color": null,
            "_model_module": "@jupyter-widgets/controls"
          }
        },
        "c709e87f701c43f2b421e7a0eb3b4851": {
          "model_module": "@jupyter-widgets/base",
          "model_name": "LayoutModel",
          "state": {
            "_view_name": "LayoutView",
            "grid_template_rows": null,
            "right": null,
            "justify_content": null,
            "_view_module": "@jupyter-widgets/base",
            "overflow": null,
            "_model_module_version": "1.2.0",
            "_view_count": null,
            "flex_flow": null,
            "width": null,
            "min_width": null,
            "border": null,
            "align_items": null,
            "bottom": null,
            "_model_module": "@jupyter-widgets/base",
            "top": null,
            "grid_column": null,
            "overflow_y": null,
            "overflow_x": null,
            "grid_auto_flow": null,
            "grid_area": null,
            "grid_template_columns": null,
            "flex": null,
            "_model_name": "LayoutModel",
            "justify_items": null,
            "grid_row": null,
            "max_height": null,
            "align_content": null,
            "visibility": null,
            "align_self": null,
            "height": null,
            "min_height": null,
            "padding": null,
            "grid_auto_rows": null,
            "grid_gap": null,
            "max_width": null,
            "order": null,
            "_view_module_version": "1.2.0",
            "grid_template_areas": null,
            "object_position": null,
            "object_fit": null,
            "grid_auto_columns": null,
            "margin": null,
            "display": null,
            "left": null
          }
        },
        "8dbb291c855c47c2b9d3b1bb3c2b2885": {
          "model_module": "@jupyter-widgets/controls",
          "model_name": "DescriptionStyleModel",
          "state": {
            "_view_name": "StyleView",
            "_model_name": "DescriptionStyleModel",
            "description_width": "",
            "_view_module": "@jupyter-widgets/base",
            "_model_module_version": "1.5.0",
            "_view_count": null,
            "_view_module_version": "1.2.0",
            "_model_module": "@jupyter-widgets/controls"
          }
        },
        "c6d4173d73ef498abbeaa33d55e492fd": {
          "model_module": "@jupyter-widgets/base",
          "model_name": "LayoutModel",
          "state": {
            "_view_name": "LayoutView",
            "grid_template_rows": null,
            "right": null,
            "justify_content": null,
            "_view_module": "@jupyter-widgets/base",
            "overflow": null,
            "_model_module_version": "1.2.0",
            "_view_count": null,
            "flex_flow": null,
            "width": null,
            "min_width": null,
            "border": null,
            "align_items": null,
            "bottom": null,
            "_model_module": "@jupyter-widgets/base",
            "top": null,
            "grid_column": null,
            "overflow_y": null,
            "overflow_x": null,
            "grid_auto_flow": null,
            "grid_area": null,
            "grid_template_columns": null,
            "flex": null,
            "_model_name": "LayoutModel",
            "justify_items": null,
            "grid_row": null,
            "max_height": null,
            "align_content": null,
            "visibility": null,
            "align_self": null,
            "height": null,
            "min_height": null,
            "padding": null,
            "grid_auto_rows": null,
            "grid_gap": null,
            "max_width": null,
            "order": null,
            "_view_module_version": "1.2.0",
            "grid_template_areas": null,
            "object_position": null,
            "object_fit": null,
            "grid_auto_columns": null,
            "margin": null,
            "display": null,
            "left": null
          }
        },
        "d51c588b4500442cad070851447d20ae": {
          "model_module": "@jupyter-widgets/controls",
          "model_name": "HBoxModel",
          "state": {
            "_view_name": "HBoxView",
            "_dom_classes": [],
            "_model_name": "HBoxModel",
            "_view_module": "@jupyter-widgets/controls",
            "_model_module_version": "1.5.0",
            "_view_count": null,
            "_view_module_version": "1.5.0",
            "box_style": "",
            "layout": "IPY_MODEL_f6b38a65908f49d38385c88e9b1c3204",
            "_model_module": "@jupyter-widgets/controls",
            "children": [
              "IPY_MODEL_cce27160d999488d8c8f41f1ac2d8016",
              "IPY_MODEL_1c003f0057ac49b1b562553d8677adcb"
            ]
          }
        },
        "f6b38a65908f49d38385c88e9b1c3204": {
          "model_module": "@jupyter-widgets/base",
          "model_name": "LayoutModel",
          "state": {
            "_view_name": "LayoutView",
            "grid_template_rows": null,
            "right": null,
            "justify_content": null,
            "_view_module": "@jupyter-widgets/base",
            "overflow": null,
            "_model_module_version": "1.2.0",
            "_view_count": null,
            "flex_flow": null,
            "width": null,
            "min_width": null,
            "border": null,
            "align_items": null,
            "bottom": null,
            "_model_module": "@jupyter-widgets/base",
            "top": null,
            "grid_column": null,
            "overflow_y": null,
            "overflow_x": null,
            "grid_auto_flow": null,
            "grid_area": null,
            "grid_template_columns": null,
            "flex": null,
            "_model_name": "LayoutModel",
            "justify_items": null,
            "grid_row": null,
            "max_height": null,
            "align_content": null,
            "visibility": null,
            "align_self": null,
            "height": null,
            "min_height": null,
            "padding": null,
            "grid_auto_rows": null,
            "grid_gap": null,
            "max_width": null,
            "order": null,
            "_view_module_version": "1.2.0",
            "grid_template_areas": null,
            "object_position": null,
            "object_fit": null,
            "grid_auto_columns": null,
            "margin": null,
            "display": null,
            "left": null
          }
        },
        "cce27160d999488d8c8f41f1ac2d8016": {
          "model_module": "@jupyter-widgets/controls",
          "model_name": "FloatProgressModel",
          "state": {
            "_view_name": "ProgressView",
            "style": "IPY_MODEL_43c09f3700f3485084bf4e679053d828",
            "_dom_classes": [],
            "description": "100%",
            "_model_name": "FloatProgressModel",
            "bar_style": "success",
            "max": 70,
            "_view_module": "@jupyter-widgets/controls",
            "_model_module_version": "1.5.0",
            "value": 70,
            "_view_count": null,
            "_view_module_version": "1.5.0",
            "orientation": "horizontal",
            "min": 0,
            "description_tooltip": null,
            "_model_module": "@jupyter-widgets/controls",
            "layout": "IPY_MODEL_374893932be2441886ca9ec1222527f8"
          }
        },
        "1c003f0057ac49b1b562553d8677adcb": {
          "model_module": "@jupyter-widgets/controls",
          "model_name": "HTMLModel",
          "state": {
            "_view_name": "HTMLView",
            "style": "IPY_MODEL_336f0c92860c4a05a82c081ab6897136",
            "_dom_classes": [],
            "description": "",
            "_model_name": "HTMLModel",
            "placeholder": "​",
            "_view_module": "@jupyter-widgets/controls",
            "_model_module_version": "1.5.0",
            "value": " 70/70 [03:11&lt;00:00,  2.73s/it]",
            "_view_count": null,
            "_view_module_version": "1.5.0",
            "description_tooltip": null,
            "_model_module": "@jupyter-widgets/controls",
            "layout": "IPY_MODEL_84e005fe7a244fb798dec77839248c29"
          }
        },
        "43c09f3700f3485084bf4e679053d828": {
          "model_module": "@jupyter-widgets/controls",
          "model_name": "ProgressStyleModel",
          "state": {
            "_view_name": "StyleView",
            "_model_name": "ProgressStyleModel",
            "description_width": "initial",
            "_view_module": "@jupyter-widgets/base",
            "_model_module_version": "1.5.0",
            "_view_count": null,
            "_view_module_version": "1.2.0",
            "bar_color": null,
            "_model_module": "@jupyter-widgets/controls"
          }
        },
        "374893932be2441886ca9ec1222527f8": {
          "model_module": "@jupyter-widgets/base",
          "model_name": "LayoutModel",
          "state": {
            "_view_name": "LayoutView",
            "grid_template_rows": null,
            "right": null,
            "justify_content": null,
            "_view_module": "@jupyter-widgets/base",
            "overflow": null,
            "_model_module_version": "1.2.0",
            "_view_count": null,
            "flex_flow": null,
            "width": null,
            "min_width": null,
            "border": null,
            "align_items": null,
            "bottom": null,
            "_model_module": "@jupyter-widgets/base",
            "top": null,
            "grid_column": null,
            "overflow_y": null,
            "overflow_x": null,
            "grid_auto_flow": null,
            "grid_area": null,
            "grid_template_columns": null,
            "flex": null,
            "_model_name": "LayoutModel",
            "justify_items": null,
            "grid_row": null,
            "max_height": null,
            "align_content": null,
            "visibility": null,
            "align_self": null,
            "height": null,
            "min_height": null,
            "padding": null,
            "grid_auto_rows": null,
            "grid_gap": null,
            "max_width": null,
            "order": null,
            "_view_module_version": "1.2.0",
            "grid_template_areas": null,
            "object_position": null,
            "object_fit": null,
            "grid_auto_columns": null,
            "margin": null,
            "display": null,
            "left": null
          }
        },
        "336f0c92860c4a05a82c081ab6897136": {
          "model_module": "@jupyter-widgets/controls",
          "model_name": "DescriptionStyleModel",
          "state": {
            "_view_name": "StyleView",
            "_model_name": "DescriptionStyleModel",
            "description_width": "",
            "_view_module": "@jupyter-widgets/base",
            "_model_module_version": "1.5.0",
            "_view_count": null,
            "_view_module_version": "1.2.0",
            "_model_module": "@jupyter-widgets/controls"
          }
        },
        "84e005fe7a244fb798dec77839248c29": {
          "model_module": "@jupyter-widgets/base",
          "model_name": "LayoutModel",
          "state": {
            "_view_name": "LayoutView",
            "grid_template_rows": null,
            "right": null,
            "justify_content": null,
            "_view_module": "@jupyter-widgets/base",
            "overflow": null,
            "_model_module_version": "1.2.0",
            "_view_count": null,
            "flex_flow": null,
            "width": null,
            "min_width": null,
            "border": null,
            "align_items": null,
            "bottom": null,
            "_model_module": "@jupyter-widgets/base",
            "top": null,
            "grid_column": null,
            "overflow_y": null,
            "overflow_x": null,
            "grid_auto_flow": null,
            "grid_area": null,
            "grid_template_columns": null,
            "flex": null,
            "_model_name": "LayoutModel",
            "justify_items": null,
            "grid_row": null,
            "max_height": null,
            "align_content": null,
            "visibility": null,
            "align_self": null,
            "height": null,
            "min_height": null,
            "padding": null,
            "grid_auto_rows": null,
            "grid_gap": null,
            "max_width": null,
            "order": null,
            "_view_module_version": "1.2.0",
            "grid_template_areas": null,
            "object_position": null,
            "object_fit": null,
            "grid_auto_columns": null,
            "margin": null,
            "display": null,
            "left": null
          }
        },
        "141a5dca541e49218e2492e30c11e4aa": {
          "model_module": "@jupyter-widgets/controls",
          "model_name": "HBoxModel",
          "state": {
            "_view_name": "HBoxView",
            "_dom_classes": [],
            "_model_name": "HBoxModel",
            "_view_module": "@jupyter-widgets/controls",
            "_model_module_version": "1.5.0",
            "_view_count": null,
            "_view_module_version": "1.5.0",
            "box_style": "",
            "layout": "IPY_MODEL_8d263a9c9f2448328420901e1d4de0f8",
            "_model_module": "@jupyter-widgets/controls",
            "children": [
              "IPY_MODEL_62d44f3202544fae8195dc87db473908",
              "IPY_MODEL_6659e175b6304cdc849359d995b6c27c"
            ]
          }
        },
        "8d263a9c9f2448328420901e1d4de0f8": {
          "model_module": "@jupyter-widgets/base",
          "model_name": "LayoutModel",
          "state": {
            "_view_name": "LayoutView",
            "grid_template_rows": null,
            "right": null,
            "justify_content": null,
            "_view_module": "@jupyter-widgets/base",
            "overflow": null,
            "_model_module_version": "1.2.0",
            "_view_count": null,
            "flex_flow": null,
            "width": null,
            "min_width": null,
            "border": null,
            "align_items": null,
            "bottom": null,
            "_model_module": "@jupyter-widgets/base",
            "top": null,
            "grid_column": null,
            "overflow_y": null,
            "overflow_x": null,
            "grid_auto_flow": null,
            "grid_area": null,
            "grid_template_columns": null,
            "flex": null,
            "_model_name": "LayoutModel",
            "justify_items": null,
            "grid_row": null,
            "max_height": null,
            "align_content": null,
            "visibility": null,
            "align_self": null,
            "height": null,
            "min_height": null,
            "padding": null,
            "grid_auto_rows": null,
            "grid_gap": null,
            "max_width": null,
            "order": null,
            "_view_module_version": "1.2.0",
            "grid_template_areas": null,
            "object_position": null,
            "object_fit": null,
            "grid_auto_columns": null,
            "margin": null,
            "display": null,
            "left": null
          }
        },
        "62d44f3202544fae8195dc87db473908": {
          "model_module": "@jupyter-widgets/controls",
          "model_name": "FloatProgressModel",
          "state": {
            "_view_name": "ProgressView",
            "style": "IPY_MODEL_c40bea8aa9574f25905dc382010738f0",
            "_dom_classes": [],
            "description": "100%",
            "_model_name": "FloatProgressModel",
            "bar_style": "success",
            "max": 1,
            "_view_module": "@jupyter-widgets/controls",
            "_model_module_version": "1.5.0",
            "value": 1,
            "_view_count": null,
            "_view_module_version": "1.5.0",
            "orientation": "horizontal",
            "min": 0,
            "description_tooltip": null,
            "_model_module": "@jupyter-widgets/controls",
            "layout": "IPY_MODEL_959245c4735948c28106fdf86b909f9c"
          }
        },
        "6659e175b6304cdc849359d995b6c27c": {
          "model_module": "@jupyter-widgets/controls",
          "model_name": "HTMLModel",
          "state": {
            "_view_name": "HTMLView",
            "style": "IPY_MODEL_4d51e432a6ef43b88a2bcbecfea580c6",
            "_dom_classes": [],
            "description": "",
            "_model_name": "HTMLModel",
            "placeholder": "​",
            "_view_module": "@jupyter-widgets/controls",
            "_model_module_version": "1.5.0",
            "value": " 1/1 [00:38&lt;00:00, 38.17s/it]",
            "_view_count": null,
            "_view_module_version": "1.5.0",
            "description_tooltip": null,
            "_model_module": "@jupyter-widgets/controls",
            "layout": "IPY_MODEL_06a5e12c5fcd459493c06552b5d756dc"
          }
        },
        "c40bea8aa9574f25905dc382010738f0": {
          "model_module": "@jupyter-widgets/controls",
          "model_name": "ProgressStyleModel",
          "state": {
            "_view_name": "StyleView",
            "_model_name": "ProgressStyleModel",
            "description_width": "initial",
            "_view_module": "@jupyter-widgets/base",
            "_model_module_version": "1.5.0",
            "_view_count": null,
            "_view_module_version": "1.2.0",
            "bar_color": null,
            "_model_module": "@jupyter-widgets/controls"
          }
        },
        "959245c4735948c28106fdf86b909f9c": {
          "model_module": "@jupyter-widgets/base",
          "model_name": "LayoutModel",
          "state": {
            "_view_name": "LayoutView",
            "grid_template_rows": null,
            "right": null,
            "justify_content": null,
            "_view_module": "@jupyter-widgets/base",
            "overflow": null,
            "_model_module_version": "1.2.0",
            "_view_count": null,
            "flex_flow": null,
            "width": null,
            "min_width": null,
            "border": null,
            "align_items": null,
            "bottom": null,
            "_model_module": "@jupyter-widgets/base",
            "top": null,
            "grid_column": null,
            "overflow_y": null,
            "overflow_x": null,
            "grid_auto_flow": null,
            "grid_area": null,
            "grid_template_columns": null,
            "flex": null,
            "_model_name": "LayoutModel",
            "justify_items": null,
            "grid_row": null,
            "max_height": null,
            "align_content": null,
            "visibility": null,
            "align_self": null,
            "height": null,
            "min_height": null,
            "padding": null,
            "grid_auto_rows": null,
            "grid_gap": null,
            "max_width": null,
            "order": null,
            "_view_module_version": "1.2.0",
            "grid_template_areas": null,
            "object_position": null,
            "object_fit": null,
            "grid_auto_columns": null,
            "margin": null,
            "display": null,
            "left": null
          }
        },
        "4d51e432a6ef43b88a2bcbecfea580c6": {
          "model_module": "@jupyter-widgets/controls",
          "model_name": "DescriptionStyleModel",
          "state": {
            "_view_name": "StyleView",
            "_model_name": "DescriptionStyleModel",
            "description_width": "",
            "_view_module": "@jupyter-widgets/base",
            "_model_module_version": "1.5.0",
            "_view_count": null,
            "_view_module_version": "1.2.0",
            "_model_module": "@jupyter-widgets/controls"
          }
        },
        "06a5e12c5fcd459493c06552b5d756dc": {
          "model_module": "@jupyter-widgets/base",
          "model_name": "LayoutModel",
          "state": {
            "_view_name": "LayoutView",
            "grid_template_rows": null,
            "right": null,
            "justify_content": null,
            "_view_module": "@jupyter-widgets/base",
            "overflow": null,
            "_model_module_version": "1.2.0",
            "_view_count": null,
            "flex_flow": null,
            "width": null,
            "min_width": null,
            "border": null,
            "align_items": null,
            "bottom": null,
            "_model_module": "@jupyter-widgets/base",
            "top": null,
            "grid_column": null,
            "overflow_y": null,
            "overflow_x": null,
            "grid_auto_flow": null,
            "grid_area": null,
            "grid_template_columns": null,
            "flex": null,
            "_model_name": "LayoutModel",
            "justify_items": null,
            "grid_row": null,
            "max_height": null,
            "align_content": null,
            "visibility": null,
            "align_self": null,
            "height": null,
            "min_height": null,
            "padding": null,
            "grid_auto_rows": null,
            "grid_gap": null,
            "max_width": null,
            "order": null,
            "_view_module_version": "1.2.0",
            "grid_template_areas": null,
            "object_position": null,
            "object_fit": null,
            "grid_auto_columns": null,
            "margin": null,
            "display": null,
            "left": null
          }
        },
        "79e4a44db6dc4058b10fa875de22c58f": {
          "model_module": "@jupyter-widgets/controls",
          "model_name": "HBoxModel",
          "state": {
            "_view_name": "HBoxView",
            "_dom_classes": [],
            "_model_name": "HBoxModel",
            "_view_module": "@jupyter-widgets/controls",
            "_model_module_version": "1.5.0",
            "_view_count": null,
            "_view_module_version": "1.5.0",
            "box_style": "",
            "layout": "IPY_MODEL_7431d90c7d134b26b9bf969d07bcd0df",
            "_model_module": "@jupyter-widgets/controls",
            "children": [
              "IPY_MODEL_c5093ce84d7644ab887d6ace776c1d85",
              "IPY_MODEL_77e91f3842ac4878b79f3917a9c82b58"
            ]
          }
        },
        "7431d90c7d134b26b9bf969d07bcd0df": {
          "model_module": "@jupyter-widgets/base",
          "model_name": "LayoutModel",
          "state": {
            "_view_name": "LayoutView",
            "grid_template_rows": null,
            "right": null,
            "justify_content": null,
            "_view_module": "@jupyter-widgets/base",
            "overflow": null,
            "_model_module_version": "1.2.0",
            "_view_count": null,
            "flex_flow": null,
            "width": null,
            "min_width": null,
            "border": null,
            "align_items": null,
            "bottom": null,
            "_model_module": "@jupyter-widgets/base",
            "top": null,
            "grid_column": null,
            "overflow_y": null,
            "overflow_x": null,
            "grid_auto_flow": null,
            "grid_area": null,
            "grid_template_columns": null,
            "flex": null,
            "_model_name": "LayoutModel",
            "justify_items": null,
            "grid_row": null,
            "max_height": null,
            "align_content": null,
            "visibility": null,
            "align_self": null,
            "height": null,
            "min_height": null,
            "padding": null,
            "grid_auto_rows": null,
            "grid_gap": null,
            "max_width": null,
            "order": null,
            "_view_module_version": "1.2.0",
            "grid_template_areas": null,
            "object_position": null,
            "object_fit": null,
            "grid_auto_columns": null,
            "margin": null,
            "display": null,
            "left": null
          }
        },
        "c5093ce84d7644ab887d6ace776c1d85": {
          "model_module": "@jupyter-widgets/controls",
          "model_name": "FloatProgressModel",
          "state": {
            "_view_name": "ProgressView",
            "style": "IPY_MODEL_678420c6b94f4df0820994910f85c8ce",
            "_dom_classes": [],
            "description": "100%",
            "_model_name": "FloatProgressModel",
            "bar_style": "success",
            "max": 20,
            "_view_module": "@jupyter-widgets/controls",
            "_model_module_version": "1.5.0",
            "value": 20,
            "_view_count": null,
            "_view_module_version": "1.5.0",
            "orientation": "horizontal",
            "min": 0,
            "description_tooltip": null,
            "_model_module": "@jupyter-widgets/controls",
            "layout": "IPY_MODEL_f90bf3d7240f4b77a4b39c85ec8d16fe"
          }
        },
        "77e91f3842ac4878b79f3917a9c82b58": {
          "model_module": "@jupyter-widgets/controls",
          "model_name": "HTMLModel",
          "state": {
            "_view_name": "HTMLView",
            "style": "IPY_MODEL_ac00b29f97f246f3b42fb84bd18bff2d",
            "_dom_classes": [],
            "description": "",
            "_model_name": "HTMLModel",
            "placeholder": "​",
            "_view_module": "@jupyter-widgets/controls",
            "_model_module_version": "1.5.0",
            "value": " 20/20 [05:49&lt;00:00, 17.49s/it]",
            "_view_count": null,
            "_view_module_version": "1.5.0",
            "description_tooltip": null,
            "_model_module": "@jupyter-widgets/controls",
            "layout": "IPY_MODEL_bde5fd410bbd4456ac36e9ff00b83b40"
          }
        },
        "678420c6b94f4df0820994910f85c8ce": {
          "model_module": "@jupyter-widgets/controls",
          "model_name": "ProgressStyleModel",
          "state": {
            "_view_name": "StyleView",
            "_model_name": "ProgressStyleModel",
            "description_width": "initial",
            "_view_module": "@jupyter-widgets/base",
            "_model_module_version": "1.5.0",
            "_view_count": null,
            "_view_module_version": "1.2.0",
            "bar_color": null,
            "_model_module": "@jupyter-widgets/controls"
          }
        },
        "f90bf3d7240f4b77a4b39c85ec8d16fe": {
          "model_module": "@jupyter-widgets/base",
          "model_name": "LayoutModel",
          "state": {
            "_view_name": "LayoutView",
            "grid_template_rows": null,
            "right": null,
            "justify_content": null,
            "_view_module": "@jupyter-widgets/base",
            "overflow": null,
            "_model_module_version": "1.2.0",
            "_view_count": null,
            "flex_flow": null,
            "width": null,
            "min_width": null,
            "border": null,
            "align_items": null,
            "bottom": null,
            "_model_module": "@jupyter-widgets/base",
            "top": null,
            "grid_column": null,
            "overflow_y": null,
            "overflow_x": null,
            "grid_auto_flow": null,
            "grid_area": null,
            "grid_template_columns": null,
            "flex": null,
            "_model_name": "LayoutModel",
            "justify_items": null,
            "grid_row": null,
            "max_height": null,
            "align_content": null,
            "visibility": null,
            "align_self": null,
            "height": null,
            "min_height": null,
            "padding": null,
            "grid_auto_rows": null,
            "grid_gap": null,
            "max_width": null,
            "order": null,
            "_view_module_version": "1.2.0",
            "grid_template_areas": null,
            "object_position": null,
            "object_fit": null,
            "grid_auto_columns": null,
            "margin": null,
            "display": null,
            "left": null
          }
        },
        "ac00b29f97f246f3b42fb84bd18bff2d": {
          "model_module": "@jupyter-widgets/controls",
          "model_name": "DescriptionStyleModel",
          "state": {
            "_view_name": "StyleView",
            "_model_name": "DescriptionStyleModel",
            "description_width": "",
            "_view_module": "@jupyter-widgets/base",
            "_model_module_version": "1.5.0",
            "_view_count": null,
            "_view_module_version": "1.2.0",
            "_model_module": "@jupyter-widgets/controls"
          }
        },
        "bde5fd410bbd4456ac36e9ff00b83b40": {
          "model_module": "@jupyter-widgets/base",
          "model_name": "LayoutModel",
          "state": {
            "_view_name": "LayoutView",
            "grid_template_rows": null,
            "right": null,
            "justify_content": null,
            "_view_module": "@jupyter-widgets/base",
            "overflow": null,
            "_model_module_version": "1.2.0",
            "_view_count": null,
            "flex_flow": null,
            "width": null,
            "min_width": null,
            "border": null,
            "align_items": null,
            "bottom": null,
            "_model_module": "@jupyter-widgets/base",
            "top": null,
            "grid_column": null,
            "overflow_y": null,
            "overflow_x": null,
            "grid_auto_flow": null,
            "grid_area": null,
            "grid_template_columns": null,
            "flex": null,
            "_model_name": "LayoutModel",
            "justify_items": null,
            "grid_row": null,
            "max_height": null,
            "align_content": null,
            "visibility": null,
            "align_self": null,
            "height": null,
            "min_height": null,
            "padding": null,
            "grid_auto_rows": null,
            "grid_gap": null,
            "max_width": null,
            "order": null,
            "_view_module_version": "1.2.0",
            "grid_template_areas": null,
            "object_position": null,
            "object_fit": null,
            "grid_auto_columns": null,
            "margin": null,
            "display": null,
            "left": null
          }
        },
        "263cb04f46164f98a4606c78d0e4ad9d": {
          "model_module": "@jupyter-widgets/controls",
          "model_name": "HBoxModel",
          "state": {
            "_view_name": "HBoxView",
            "_dom_classes": [],
            "_model_name": "HBoxModel",
            "_view_module": "@jupyter-widgets/controls",
            "_model_module_version": "1.5.0",
            "_view_count": null,
            "_view_module_version": "1.5.0",
            "box_style": "",
            "layout": "IPY_MODEL_1c919c1826d2400e9df11b37c634aac1",
            "_model_module": "@jupyter-widgets/controls",
            "children": [
              "IPY_MODEL_963e5eeea46240bf98cd1272436ce676",
              "IPY_MODEL_3234ae513674492bafae97307715de32"
            ]
          }
        },
        "1c919c1826d2400e9df11b37c634aac1": {
          "model_module": "@jupyter-widgets/base",
          "model_name": "LayoutModel",
          "state": {
            "_view_name": "LayoutView",
            "grid_template_rows": null,
            "right": null,
            "justify_content": null,
            "_view_module": "@jupyter-widgets/base",
            "overflow": null,
            "_model_module_version": "1.2.0",
            "_view_count": null,
            "flex_flow": null,
            "width": null,
            "min_width": null,
            "border": null,
            "align_items": null,
            "bottom": null,
            "_model_module": "@jupyter-widgets/base",
            "top": null,
            "grid_column": null,
            "overflow_y": null,
            "overflow_x": null,
            "grid_auto_flow": null,
            "grid_area": null,
            "grid_template_columns": null,
            "flex": null,
            "_model_name": "LayoutModel",
            "justify_items": null,
            "grid_row": null,
            "max_height": null,
            "align_content": null,
            "visibility": null,
            "align_self": null,
            "height": null,
            "min_height": null,
            "padding": null,
            "grid_auto_rows": null,
            "grid_gap": null,
            "max_width": null,
            "order": null,
            "_view_module_version": "1.2.0",
            "grid_template_areas": null,
            "object_position": null,
            "object_fit": null,
            "grid_auto_columns": null,
            "margin": null,
            "display": null,
            "left": null
          }
        },
        "963e5eeea46240bf98cd1272436ce676": {
          "model_module": "@jupyter-widgets/controls",
          "model_name": "FloatProgressModel",
          "state": {
            "_view_name": "ProgressView",
            "style": "IPY_MODEL_b0a7128a8bdd4c22864008f730c1bc3f",
            "_dom_classes": [],
            "description": "100%",
            "_model_name": "FloatProgressModel",
            "bar_style": "success",
            "max": 10,
            "_view_module": "@jupyter-widgets/controls",
            "_model_module_version": "1.5.0",
            "value": 10,
            "_view_count": null,
            "_view_module_version": "1.5.0",
            "orientation": "horizontal",
            "min": 0,
            "description_tooltip": null,
            "_model_module": "@jupyter-widgets/controls",
            "layout": "IPY_MODEL_a01f41e92cc84940980317e8ba874f90"
          }
        },
        "3234ae513674492bafae97307715de32": {
          "model_module": "@jupyter-widgets/controls",
          "model_name": "HTMLModel",
          "state": {
            "_view_name": "HTMLView",
            "style": "IPY_MODEL_0905848a60844442bd422c1e9b6fcf25",
            "_dom_classes": [],
            "description": "",
            "_model_name": "HTMLModel",
            "placeholder": "​",
            "_view_module": "@jupyter-widgets/controls",
            "_model_module_version": "1.5.0",
            "value": " 10/10 [20:27&lt;00:00, 122.76s/it]",
            "_view_count": null,
            "_view_module_version": "1.5.0",
            "description_tooltip": null,
            "_model_module": "@jupyter-widgets/controls",
            "layout": "IPY_MODEL_a3bfc7aaaa324625b9b4f7afded298a5"
          }
        },
        "b0a7128a8bdd4c22864008f730c1bc3f": {
          "model_module": "@jupyter-widgets/controls",
          "model_name": "ProgressStyleModel",
          "state": {
            "_view_name": "StyleView",
            "_model_name": "ProgressStyleModel",
            "description_width": "initial",
            "_view_module": "@jupyter-widgets/base",
            "_model_module_version": "1.5.0",
            "_view_count": null,
            "_view_module_version": "1.2.0",
            "bar_color": null,
            "_model_module": "@jupyter-widgets/controls"
          }
        },
        "a01f41e92cc84940980317e8ba874f90": {
          "model_module": "@jupyter-widgets/base",
          "model_name": "LayoutModel",
          "state": {
            "_view_name": "LayoutView",
            "grid_template_rows": null,
            "right": null,
            "justify_content": null,
            "_view_module": "@jupyter-widgets/base",
            "overflow": null,
            "_model_module_version": "1.2.0",
            "_view_count": null,
            "flex_flow": null,
            "width": null,
            "min_width": null,
            "border": null,
            "align_items": null,
            "bottom": null,
            "_model_module": "@jupyter-widgets/base",
            "top": null,
            "grid_column": null,
            "overflow_y": null,
            "overflow_x": null,
            "grid_auto_flow": null,
            "grid_area": null,
            "grid_template_columns": null,
            "flex": null,
            "_model_name": "LayoutModel",
            "justify_items": null,
            "grid_row": null,
            "max_height": null,
            "align_content": null,
            "visibility": null,
            "align_self": null,
            "height": null,
            "min_height": null,
            "padding": null,
            "grid_auto_rows": null,
            "grid_gap": null,
            "max_width": null,
            "order": null,
            "_view_module_version": "1.2.0",
            "grid_template_areas": null,
            "object_position": null,
            "object_fit": null,
            "grid_auto_columns": null,
            "margin": null,
            "display": null,
            "left": null
          }
        },
        "0905848a60844442bd422c1e9b6fcf25": {
          "model_module": "@jupyter-widgets/controls",
          "model_name": "DescriptionStyleModel",
          "state": {
            "_view_name": "StyleView",
            "_model_name": "DescriptionStyleModel",
            "description_width": "",
            "_view_module": "@jupyter-widgets/base",
            "_model_module_version": "1.5.0",
            "_view_count": null,
            "_view_module_version": "1.2.0",
            "_model_module": "@jupyter-widgets/controls"
          }
        },
        "a3bfc7aaaa324625b9b4f7afded298a5": {
          "model_module": "@jupyter-widgets/base",
          "model_name": "LayoutModel",
          "state": {
            "_view_name": "LayoutView",
            "grid_template_rows": null,
            "right": null,
            "justify_content": null,
            "_view_module": "@jupyter-widgets/base",
            "overflow": null,
            "_model_module_version": "1.2.0",
            "_view_count": null,
            "flex_flow": null,
            "width": null,
            "min_width": null,
            "border": null,
            "align_items": null,
            "bottom": null,
            "_model_module": "@jupyter-widgets/base",
            "top": null,
            "grid_column": null,
            "overflow_y": null,
            "overflow_x": null,
            "grid_auto_flow": null,
            "grid_area": null,
            "grid_template_columns": null,
            "flex": null,
            "_model_name": "LayoutModel",
            "justify_items": null,
            "grid_row": null,
            "max_height": null,
            "align_content": null,
            "visibility": null,
            "align_self": null,
            "height": null,
            "min_height": null,
            "padding": null,
            "grid_auto_rows": null,
            "grid_gap": null,
            "max_width": null,
            "order": null,
            "_view_module_version": "1.2.0",
            "grid_template_areas": null,
            "object_position": null,
            "object_fit": null,
            "grid_auto_columns": null,
            "margin": null,
            "display": null,
            "left": null
          }
        },
        "d505caf3ad7a491a9add3e2926246dbe": {
          "model_module": "@jupyter-widgets/controls",
          "model_name": "HBoxModel",
          "state": {
            "_view_name": "HBoxView",
            "_dom_classes": [],
            "_model_name": "HBoxModel",
            "_view_module": "@jupyter-widgets/controls",
            "_model_module_version": "1.5.0",
            "_view_count": null,
            "_view_module_version": "1.5.0",
            "box_style": "",
            "layout": "IPY_MODEL_0b6a4ebee67047a2af7008318b429842",
            "_model_module": "@jupyter-widgets/controls",
            "children": [
              "IPY_MODEL_8dcca0aa0ea34fa99e580319b81e4f35",
              "IPY_MODEL_90ad373b961a4cc3858636bbbea42bd8"
            ]
          }
        },
        "0b6a4ebee67047a2af7008318b429842": {
          "model_module": "@jupyter-widgets/base",
          "model_name": "LayoutModel",
          "state": {
            "_view_name": "LayoutView",
            "grid_template_rows": null,
            "right": null,
            "justify_content": null,
            "_view_module": "@jupyter-widgets/base",
            "overflow": null,
            "_model_module_version": "1.2.0",
            "_view_count": null,
            "flex_flow": null,
            "width": null,
            "min_width": null,
            "border": null,
            "align_items": null,
            "bottom": null,
            "_model_module": "@jupyter-widgets/base",
            "top": null,
            "grid_column": null,
            "overflow_y": null,
            "overflow_x": null,
            "grid_auto_flow": null,
            "grid_area": null,
            "grid_template_columns": null,
            "flex": null,
            "_model_name": "LayoutModel",
            "justify_items": null,
            "grid_row": null,
            "max_height": null,
            "align_content": null,
            "visibility": null,
            "align_self": null,
            "height": null,
            "min_height": null,
            "padding": null,
            "grid_auto_rows": null,
            "grid_gap": null,
            "max_width": null,
            "order": null,
            "_view_module_version": "1.2.0",
            "grid_template_areas": null,
            "object_position": null,
            "object_fit": null,
            "grid_auto_columns": null,
            "margin": null,
            "display": null,
            "left": null
          }
        },
        "8dcca0aa0ea34fa99e580319b81e4f35": {
          "model_module": "@jupyter-widgets/controls",
          "model_name": "FloatProgressModel",
          "state": {
            "_view_name": "ProgressView",
            "style": "IPY_MODEL_2e13950acd6f4d52b97de464d249f595",
            "_dom_classes": [],
            "description": "100%",
            "_model_name": "FloatProgressModel",
            "bar_style": "success",
            "max": 20,
            "_view_module": "@jupyter-widgets/controls",
            "_model_module_version": "1.5.0",
            "value": 20,
            "_view_count": null,
            "_view_module_version": "1.5.0",
            "orientation": "horizontal",
            "min": 0,
            "description_tooltip": null,
            "_model_module": "@jupyter-widgets/controls",
            "layout": "IPY_MODEL_eec364f33b8a41c0b632f1a5e84a8dae"
          }
        },
        "90ad373b961a4cc3858636bbbea42bd8": {
          "model_module": "@jupyter-widgets/controls",
          "model_name": "HTMLModel",
          "state": {
            "_view_name": "HTMLView",
            "style": "IPY_MODEL_613cc02f9acc400384c6bcb46e75106c",
            "_dom_classes": [],
            "description": "",
            "_model_name": "HTMLModel",
            "placeholder": "​",
            "_view_module": "@jupyter-widgets/controls",
            "_model_module_version": "1.5.0",
            "value": " 20/20 [02:58&lt;00:00,  8.93s/it]",
            "_view_count": null,
            "_view_module_version": "1.5.0",
            "description_tooltip": null,
            "_model_module": "@jupyter-widgets/controls",
            "layout": "IPY_MODEL_858b81e274124c6081c99e0255a00933"
          }
        },
        "2e13950acd6f4d52b97de464d249f595": {
          "model_module": "@jupyter-widgets/controls",
          "model_name": "ProgressStyleModel",
          "state": {
            "_view_name": "StyleView",
            "_model_name": "ProgressStyleModel",
            "description_width": "initial",
            "_view_module": "@jupyter-widgets/base",
            "_model_module_version": "1.5.0",
            "_view_count": null,
            "_view_module_version": "1.2.0",
            "bar_color": null,
            "_model_module": "@jupyter-widgets/controls"
          }
        },
        "eec364f33b8a41c0b632f1a5e84a8dae": {
          "model_module": "@jupyter-widgets/base",
          "model_name": "LayoutModel",
          "state": {
            "_view_name": "LayoutView",
            "grid_template_rows": null,
            "right": null,
            "justify_content": null,
            "_view_module": "@jupyter-widgets/base",
            "overflow": null,
            "_model_module_version": "1.2.0",
            "_view_count": null,
            "flex_flow": null,
            "width": null,
            "min_width": null,
            "border": null,
            "align_items": null,
            "bottom": null,
            "_model_module": "@jupyter-widgets/base",
            "top": null,
            "grid_column": null,
            "overflow_y": null,
            "overflow_x": null,
            "grid_auto_flow": null,
            "grid_area": null,
            "grid_template_columns": null,
            "flex": null,
            "_model_name": "LayoutModel",
            "justify_items": null,
            "grid_row": null,
            "max_height": null,
            "align_content": null,
            "visibility": null,
            "align_self": null,
            "height": null,
            "min_height": null,
            "padding": null,
            "grid_auto_rows": null,
            "grid_gap": null,
            "max_width": null,
            "order": null,
            "_view_module_version": "1.2.0",
            "grid_template_areas": null,
            "object_position": null,
            "object_fit": null,
            "grid_auto_columns": null,
            "margin": null,
            "display": null,
            "left": null
          }
        },
        "613cc02f9acc400384c6bcb46e75106c": {
          "model_module": "@jupyter-widgets/controls",
          "model_name": "DescriptionStyleModel",
          "state": {
            "_view_name": "StyleView",
            "_model_name": "DescriptionStyleModel",
            "description_width": "",
            "_view_module": "@jupyter-widgets/base",
            "_model_module_version": "1.5.0",
            "_view_count": null,
            "_view_module_version": "1.2.0",
            "_model_module": "@jupyter-widgets/controls"
          }
        },
        "858b81e274124c6081c99e0255a00933": {
          "model_module": "@jupyter-widgets/base",
          "model_name": "LayoutModel",
          "state": {
            "_view_name": "LayoutView",
            "grid_template_rows": null,
            "right": null,
            "justify_content": null,
            "_view_module": "@jupyter-widgets/base",
            "overflow": null,
            "_model_module_version": "1.2.0",
            "_view_count": null,
            "flex_flow": null,
            "width": null,
            "min_width": null,
            "border": null,
            "align_items": null,
            "bottom": null,
            "_model_module": "@jupyter-widgets/base",
            "top": null,
            "grid_column": null,
            "overflow_y": null,
            "overflow_x": null,
            "grid_auto_flow": null,
            "grid_area": null,
            "grid_template_columns": null,
            "flex": null,
            "_model_name": "LayoutModel",
            "justify_items": null,
            "grid_row": null,
            "max_height": null,
            "align_content": null,
            "visibility": null,
            "align_self": null,
            "height": null,
            "min_height": null,
            "padding": null,
            "grid_auto_rows": null,
            "grid_gap": null,
            "max_width": null,
            "order": null,
            "_view_module_version": "1.2.0",
            "grid_template_areas": null,
            "object_position": null,
            "object_fit": null,
            "grid_auto_columns": null,
            "margin": null,
            "display": null,
            "left": null
          }
        },
        "d06b8ef1545548d09cf80f314f3fb334": {
          "model_module": "@jupyter-widgets/controls",
          "model_name": "HBoxModel",
          "state": {
            "_view_name": "HBoxView",
            "_dom_classes": [],
            "_model_name": "HBoxModel",
            "_view_module": "@jupyter-widgets/controls",
            "_model_module_version": "1.5.0",
            "_view_count": null,
            "_view_module_version": "1.5.0",
            "box_style": "",
            "layout": "IPY_MODEL_6868478c77044273ac093b87024cb1fc",
            "_model_module": "@jupyter-widgets/controls",
            "children": [
              "IPY_MODEL_f45f380ce1a34e15b9a6ac55332f5c4c",
              "IPY_MODEL_7e8a2633f997400f8e4f160962901426"
            ]
          }
        },
        "6868478c77044273ac093b87024cb1fc": {
          "model_module": "@jupyter-widgets/base",
          "model_name": "LayoutModel",
          "state": {
            "_view_name": "LayoutView",
            "grid_template_rows": null,
            "right": null,
            "justify_content": null,
            "_view_module": "@jupyter-widgets/base",
            "overflow": null,
            "_model_module_version": "1.2.0",
            "_view_count": null,
            "flex_flow": null,
            "width": null,
            "min_width": null,
            "border": null,
            "align_items": null,
            "bottom": null,
            "_model_module": "@jupyter-widgets/base",
            "top": null,
            "grid_column": null,
            "overflow_y": null,
            "overflow_x": null,
            "grid_auto_flow": null,
            "grid_area": null,
            "grid_template_columns": null,
            "flex": null,
            "_model_name": "LayoutModel",
            "justify_items": null,
            "grid_row": null,
            "max_height": null,
            "align_content": null,
            "visibility": null,
            "align_self": null,
            "height": null,
            "min_height": null,
            "padding": null,
            "grid_auto_rows": null,
            "grid_gap": null,
            "max_width": null,
            "order": null,
            "_view_module_version": "1.2.0",
            "grid_template_areas": null,
            "object_position": null,
            "object_fit": null,
            "grid_auto_columns": null,
            "margin": null,
            "display": null,
            "left": null
          }
        },
        "f45f380ce1a34e15b9a6ac55332f5c4c": {
          "model_module": "@jupyter-widgets/controls",
          "model_name": "FloatProgressModel",
          "state": {
            "_view_name": "ProgressView",
            "style": "IPY_MODEL_f40c94bbfa374408af738a196f2109a7",
            "_dom_classes": [],
            "description": "100%",
            "_model_name": "FloatProgressModel",
            "bar_style": "success",
            "max": 6,
            "_view_module": "@jupyter-widgets/controls",
            "_model_module_version": "1.5.0",
            "value": 6,
            "_view_count": null,
            "_view_module_version": "1.5.0",
            "orientation": "horizontal",
            "min": 0,
            "description_tooltip": null,
            "_model_module": "@jupyter-widgets/controls",
            "layout": "IPY_MODEL_6c4756d9b6084fc38fb7c1c06c3850e2"
          }
        },
        "7e8a2633f997400f8e4f160962901426": {
          "model_module": "@jupyter-widgets/controls",
          "model_name": "HTMLModel",
          "state": {
            "_view_name": "HTMLView",
            "style": "IPY_MODEL_53ad5f754aa44873be1cd0bdc3852065",
            "_dom_classes": [],
            "description": "",
            "_model_name": "HTMLModel",
            "placeholder": "​",
            "_view_module": "@jupyter-widgets/controls",
            "_model_module_version": "1.5.0",
            "value": " 6/6 [01:03&lt;00:00, 10.64s/it]",
            "_view_count": null,
            "_view_module_version": "1.5.0",
            "description_tooltip": null,
            "_model_module": "@jupyter-widgets/controls",
            "layout": "IPY_MODEL_71150ba001334a62a689311269af0315"
          }
        },
        "f40c94bbfa374408af738a196f2109a7": {
          "model_module": "@jupyter-widgets/controls",
          "model_name": "ProgressStyleModel",
          "state": {
            "_view_name": "StyleView",
            "_model_name": "ProgressStyleModel",
            "description_width": "initial",
            "_view_module": "@jupyter-widgets/base",
            "_model_module_version": "1.5.0",
            "_view_count": null,
            "_view_module_version": "1.2.0",
            "bar_color": null,
            "_model_module": "@jupyter-widgets/controls"
          }
        },
        "6c4756d9b6084fc38fb7c1c06c3850e2": {
          "model_module": "@jupyter-widgets/base",
          "model_name": "LayoutModel",
          "state": {
            "_view_name": "LayoutView",
            "grid_template_rows": null,
            "right": null,
            "justify_content": null,
            "_view_module": "@jupyter-widgets/base",
            "overflow": null,
            "_model_module_version": "1.2.0",
            "_view_count": null,
            "flex_flow": null,
            "width": null,
            "min_width": null,
            "border": null,
            "align_items": null,
            "bottom": null,
            "_model_module": "@jupyter-widgets/base",
            "top": null,
            "grid_column": null,
            "overflow_y": null,
            "overflow_x": null,
            "grid_auto_flow": null,
            "grid_area": null,
            "grid_template_columns": null,
            "flex": null,
            "_model_name": "LayoutModel",
            "justify_items": null,
            "grid_row": null,
            "max_height": null,
            "align_content": null,
            "visibility": null,
            "align_self": null,
            "height": null,
            "min_height": null,
            "padding": null,
            "grid_auto_rows": null,
            "grid_gap": null,
            "max_width": null,
            "order": null,
            "_view_module_version": "1.2.0",
            "grid_template_areas": null,
            "object_position": null,
            "object_fit": null,
            "grid_auto_columns": null,
            "margin": null,
            "display": null,
            "left": null
          }
        },
        "53ad5f754aa44873be1cd0bdc3852065": {
          "model_module": "@jupyter-widgets/controls",
          "model_name": "DescriptionStyleModel",
          "state": {
            "_view_name": "StyleView",
            "_model_name": "DescriptionStyleModel",
            "description_width": "",
            "_view_module": "@jupyter-widgets/base",
            "_model_module_version": "1.5.0",
            "_view_count": null,
            "_view_module_version": "1.2.0",
            "_model_module": "@jupyter-widgets/controls"
          }
        },
        "71150ba001334a62a689311269af0315": {
          "model_module": "@jupyter-widgets/base",
          "model_name": "LayoutModel",
          "state": {
            "_view_name": "LayoutView",
            "grid_template_rows": null,
            "right": null,
            "justify_content": null,
            "_view_module": "@jupyter-widgets/base",
            "overflow": null,
            "_model_module_version": "1.2.0",
            "_view_count": null,
            "flex_flow": null,
            "width": null,
            "min_width": null,
            "border": null,
            "align_items": null,
            "bottom": null,
            "_model_module": "@jupyter-widgets/base",
            "top": null,
            "grid_column": null,
            "overflow_y": null,
            "overflow_x": null,
            "grid_auto_flow": null,
            "grid_area": null,
            "grid_template_columns": null,
            "flex": null,
            "_model_name": "LayoutModel",
            "justify_items": null,
            "grid_row": null,
            "max_height": null,
            "align_content": null,
            "visibility": null,
            "align_self": null,
            "height": null,
            "min_height": null,
            "padding": null,
            "grid_auto_rows": null,
            "grid_gap": null,
            "max_width": null,
            "order": null,
            "_view_module_version": "1.2.0",
            "grid_template_areas": null,
            "object_position": null,
            "object_fit": null,
            "grid_auto_columns": null,
            "margin": null,
            "display": null,
            "left": null
          }
        },
        "5bbb02e80a5b4a3b8fc76f477afc25c4": {
          "model_module": "@jupyter-widgets/controls",
          "model_name": "HBoxModel",
          "state": {
            "_view_name": "HBoxView",
            "_dom_classes": [],
            "_model_name": "HBoxModel",
            "_view_module": "@jupyter-widgets/controls",
            "_model_module_version": "1.5.0",
            "_view_count": null,
            "_view_module_version": "1.5.0",
            "box_style": "",
            "layout": "IPY_MODEL_2cca9c35011d487c9905f80c47d4d1e2",
            "_model_module": "@jupyter-widgets/controls",
            "children": [
              "IPY_MODEL_3ddb4858b0344a7295adca279419dd14",
              "IPY_MODEL_991781b11c2f4f21a5a2d04699bf2662"
            ]
          }
        },
        "2cca9c35011d487c9905f80c47d4d1e2": {
          "model_module": "@jupyter-widgets/base",
          "model_name": "LayoutModel",
          "state": {
            "_view_name": "LayoutView",
            "grid_template_rows": null,
            "right": null,
            "justify_content": null,
            "_view_module": "@jupyter-widgets/base",
            "overflow": null,
            "_model_module_version": "1.2.0",
            "_view_count": null,
            "flex_flow": null,
            "width": null,
            "min_width": null,
            "border": null,
            "align_items": null,
            "bottom": null,
            "_model_module": "@jupyter-widgets/base",
            "top": null,
            "grid_column": null,
            "overflow_y": null,
            "overflow_x": null,
            "grid_auto_flow": null,
            "grid_area": null,
            "grid_template_columns": null,
            "flex": null,
            "_model_name": "LayoutModel",
            "justify_items": null,
            "grid_row": null,
            "max_height": null,
            "align_content": null,
            "visibility": null,
            "align_self": null,
            "height": null,
            "min_height": null,
            "padding": null,
            "grid_auto_rows": null,
            "grid_gap": null,
            "max_width": null,
            "order": null,
            "_view_module_version": "1.2.0",
            "grid_template_areas": null,
            "object_position": null,
            "object_fit": null,
            "grid_auto_columns": null,
            "margin": null,
            "display": null,
            "left": null
          }
        },
        "3ddb4858b0344a7295adca279419dd14": {
          "model_module": "@jupyter-widgets/controls",
          "model_name": "FloatProgressModel",
          "state": {
            "_view_name": "ProgressView",
            "style": "IPY_MODEL_783947bfd8294643ac1f5339fd8390d8",
            "_dom_classes": [],
            "description": "100%",
            "_model_name": "FloatProgressModel",
            "bar_style": "success",
            "max": 2,
            "_view_module": "@jupyter-widgets/controls",
            "_model_module_version": "1.5.0",
            "value": 2,
            "_view_count": null,
            "_view_module_version": "1.5.0",
            "orientation": "horizontal",
            "min": 0,
            "description_tooltip": null,
            "_model_module": "@jupyter-widgets/controls",
            "layout": "IPY_MODEL_ad87f54c17a14ef6bf852a1015f21800"
          }
        },
        "991781b11c2f4f21a5a2d04699bf2662": {
          "model_module": "@jupyter-widgets/controls",
          "model_name": "HTMLModel",
          "state": {
            "_view_name": "HTMLView",
            "style": "IPY_MODEL_fbe3ee65ad664b6e929076d0398c1682",
            "_dom_classes": [],
            "description": "",
            "_model_name": "HTMLModel",
            "placeholder": "​",
            "_view_module": "@jupyter-widgets/controls",
            "_model_module_version": "1.5.0",
            "value": " 2/2 [02:03&lt;00:00, 61.81s/it]",
            "_view_count": null,
            "_view_module_version": "1.5.0",
            "description_tooltip": null,
            "_model_module": "@jupyter-widgets/controls",
            "layout": "IPY_MODEL_a7a0e9da3db843ee9a2b5ffec6aac5e4"
          }
        },
        "783947bfd8294643ac1f5339fd8390d8": {
          "model_module": "@jupyter-widgets/controls",
          "model_name": "ProgressStyleModel",
          "state": {
            "_view_name": "StyleView",
            "_model_name": "ProgressStyleModel",
            "description_width": "initial",
            "_view_module": "@jupyter-widgets/base",
            "_model_module_version": "1.5.0",
            "_view_count": null,
            "_view_module_version": "1.2.0",
            "bar_color": null,
            "_model_module": "@jupyter-widgets/controls"
          }
        },
        "ad87f54c17a14ef6bf852a1015f21800": {
          "model_module": "@jupyter-widgets/base",
          "model_name": "LayoutModel",
          "state": {
            "_view_name": "LayoutView",
            "grid_template_rows": null,
            "right": null,
            "justify_content": null,
            "_view_module": "@jupyter-widgets/base",
            "overflow": null,
            "_model_module_version": "1.2.0",
            "_view_count": null,
            "flex_flow": null,
            "width": null,
            "min_width": null,
            "border": null,
            "align_items": null,
            "bottom": null,
            "_model_module": "@jupyter-widgets/base",
            "top": null,
            "grid_column": null,
            "overflow_y": null,
            "overflow_x": null,
            "grid_auto_flow": null,
            "grid_area": null,
            "grid_template_columns": null,
            "flex": null,
            "_model_name": "LayoutModel",
            "justify_items": null,
            "grid_row": null,
            "max_height": null,
            "align_content": null,
            "visibility": null,
            "align_self": null,
            "height": null,
            "min_height": null,
            "padding": null,
            "grid_auto_rows": null,
            "grid_gap": null,
            "max_width": null,
            "order": null,
            "_view_module_version": "1.2.0",
            "grid_template_areas": null,
            "object_position": null,
            "object_fit": null,
            "grid_auto_columns": null,
            "margin": null,
            "display": null,
            "left": null
          }
        },
        "fbe3ee65ad664b6e929076d0398c1682": {
          "model_module": "@jupyter-widgets/controls",
          "model_name": "DescriptionStyleModel",
          "state": {
            "_view_name": "StyleView",
            "_model_name": "DescriptionStyleModel",
            "description_width": "",
            "_view_module": "@jupyter-widgets/base",
            "_model_module_version": "1.5.0",
            "_view_count": null,
            "_view_module_version": "1.2.0",
            "_model_module": "@jupyter-widgets/controls"
          }
        },
        "a7a0e9da3db843ee9a2b5ffec6aac5e4": {
          "model_module": "@jupyter-widgets/base",
          "model_name": "LayoutModel",
          "state": {
            "_view_name": "LayoutView",
            "grid_template_rows": null,
            "right": null,
            "justify_content": null,
            "_view_module": "@jupyter-widgets/base",
            "overflow": null,
            "_model_module_version": "1.2.0",
            "_view_count": null,
            "flex_flow": null,
            "width": null,
            "min_width": null,
            "border": null,
            "align_items": null,
            "bottom": null,
            "_model_module": "@jupyter-widgets/base",
            "top": null,
            "grid_column": null,
            "overflow_y": null,
            "overflow_x": null,
            "grid_auto_flow": null,
            "grid_area": null,
            "grid_template_columns": null,
            "flex": null,
            "_model_name": "LayoutModel",
            "justify_items": null,
            "grid_row": null,
            "max_height": null,
            "align_content": null,
            "visibility": null,
            "align_self": null,
            "height": null,
            "min_height": null,
            "padding": null,
            "grid_auto_rows": null,
            "grid_gap": null,
            "max_width": null,
            "order": null,
            "_view_module_version": "1.2.0",
            "grid_template_areas": null,
            "object_position": null,
            "object_fit": null,
            "grid_auto_columns": null,
            "margin": null,
            "display": null,
            "left": null
          }
        }
      }
    },
    "accelerator": "GPU"
  },
  "cells": [
    {
      "cell_type": "markdown",
      "metadata": {
        "id": "view-in-github",
        "colab_type": "text"
      },
      "source": [
        "<a href=\"https://colab.research.google.com/github/karinadw/Neutrino-classification-CNN/blob/main/neutrino_mini_project.ipynb\" target=\"_parent\"><img src=\"https://colab.research.google.com/assets/colab-badge.svg\" alt=\"Open In Colab\"/></a>"
      ]
    },
    {
      "cell_type": "markdown",
      "metadata": {
        "id": "TNOpqLwlj6o-"
      },
      "source": [
        "# NEUTRINO EVENT CLASSIFICATION\r\n",
        "\r\n",
        "### Machine learning mini project\r\n",
        "\r\n",
        "### Karina Dansinghani Wadhwani"
      ]
    },
    {
      "cell_type": "markdown",
      "metadata": {
        "id": "Pqd4GNoiZYbp"
      },
      "source": [
        "[Task 1 and Task 2](#cell-id)"
      ]
    },
    {
      "cell_type": "code",
      "metadata": {
        "colab": {
          "base_uri": "https://localhost:8080/"
        },
        "id": "4FBom04jrZ6S",
        "outputId": "99cba48e-57a5-45ad-bc1f-252db5f3ceef"
      },
      "source": [
        "## IMPORTING ALL THE NECESSARY MODULES\r\n",
        "\r\n",
        "import matplotlib.pyplot as plt\r\n",
        "import numpy as np\r\n",
        "import math\r\n",
        "import h5py\r\n",
        "\r\n",
        "# TensorFlow and tf.keras\r\n",
        "import tensorflow as tf\r\n",
        "from tensorflow import keras\r\n",
        "from keras.layers import Input, Dense, Flatten, Dropout, Conv2D, MaxPooling2D, Activation, concatenate, AveragePooling2D\r\n",
        "from keras.models import Model\r\n",
        "from keras.callbacks import ModelCheckpoint\r\n",
        "from keras import callbacks \r\n",
        "\r\n",
        "import matplotlib.style                     \r\n",
        "import matplotlib as mpl        \r\n",
        "\r\n",
        "import urllib.request   \r\n",
        "         \r\n",
        "from sklearn.model_selection import train_test_split\r\n",
        "from sklearn.model_selection import GridSearchCV\r\n",
        "\r\n",
        "from tqdm.notebook import tqdm              # imports a progress bar\r\n",
        "from IPython.display import display, Math\r\n",
        "\r\n",
        "#Set default figure size\r\n",
        "mpl.rcParams[\"legend.frameon\"] = False\r\n",
        "mpl.rcParams['figure.dpi'] = 200            # dots per inch\r\n",
        "\r\n",
        "#Useful for debugging problems\r\n",
        "print(\"Tensorflow version: \", tf.__version__)"
      ],
      "execution_count": 2,
      "outputs": [
        {
          "output_type": "stream",
          "text": [
            "Tensorflow version:  2.4.0\n"
          ],
          "name": "stdout"
        }
      ]
    },
    {
      "cell_type": "code",
      "metadata": {
        "id": "Rk-98en1yAkO"
      },
      "source": [
        "import enum \n",
        "class Interaction(enum.Enum):\n",
        "    kNumuQE =0           # Numu CC QE interaction\n",
        "    kNumuRes =1           # Numu CC Resonant interaction\n",
        "    kNumuDIS = 2          # Numu CC DIS interaction\n",
        "    kNumuOther = 3        # Numu CC, other than above\n",
        "    kNueQE = 4            # Nue CC QE interaction\n",
        "    kNueRes = 5           # Nue CC Resonant interaction\n",
        "    kNueDIS = 6           # Nue CC DIS interaction\n",
        "    kNueOther = 7         # Nue CC, other than above\n",
        "    kNutauQE = 8          # Nutau CC QE interaction\n",
        "    kNutauRes = 9         # Nutau CC Resonant interaction\n",
        "    kNutauDIS =10         # Nutau CC DIS interaction\n",
        "    kNutauOther =11       # Nutau CC, other than above\n",
        "    kNuElectronElastic = 12# NC Nu On E Scattering\n",
        "    kNC =13                # NC interaction\n",
        "    kCosmic =14           # Cosmic ray background\n",
        "    kOther =15            # Something else.  Tau?  Hopefully we don't use this\n",
        "    kNIntType=16          # Number of interaction types, used like a vector size\n",
        "\n",
        "    \n",
        "class FinalState(enum.Enum):\n",
        "    kNumu0tr0sh=0          # Numu CC - no track no shower\n",
        "    kNumu0tr1sh=1          # Numu CC - no track  1 shower\n",
        "    kNumu0tr2sh=enum.auto()          # Numu CC - no track  2 shower\n",
        "    kNumu0trMsh=enum.auto()          # Numu CC - no track 3+ shower\n",
        "    kNumu1tr0sh=enum.auto()          # Numu CC -  1 track no shower\n",
        "    kNumu1tr1sh=enum.auto()          # Numu CC -  1 track  1 shower\n",
        "    kNumu1tr2sh=enum.auto()          # Numu CC -  1 track  2 shower\n",
        "    kNumu1trMsh=enum.auto()          # Numu CC -  1 track 3+ shower\n",
        "    kNumu2tr0sh=enum.auto()          # Numu CC -  2 track no shower\n",
        "    kNumu2tr1sh=enum.auto()          # Numu CC -  2 track  1 shower\n",
        "    kNumu2tr2sh=enum.auto()          # Numu CC -  2 track  2 shower\n",
        "    kNumu2trMsh=enum.auto()          # Numu CC -  2 track 3+ shower\n",
        "    kNumuMtr0sh=enum.auto()          # Numu CC - 3+ track no showe\n",
        "    kNumuMtr1sh=enum.auto()          # Numu CC - 3+ track  1 shower\n",
        "    kNumuMtr2sh=enum.auto()          # Numu CC - 3+ track  2 showe\n",
        "    kNumuMtrMsh=enum.auto()          # Numu CC - 3+ track 3+ shower\n",
        "    kNue0tr0sh=enum.auto()           # Nue CC - no track no shower\n",
        "    kNue0tr1sh=enum.auto()           # Nue CC - no track  1 shower\n",
        "    kNue0tr2sh=enum.auto()           # Nue CC - no track  2 showe\n",
        "    kNue0trMsh=enum.auto()           # Nue CC - no track 3+ shower\n",
        "    kNue1tr0sh=enum.auto()           # Nue CC -  1 track no shower\n",
        "    kNue1tr1sh=enum.auto()           # Nue CC -  1 track  1 shower\n",
        "    kNue1tr2sh=enum.auto()           # Nue CC -  1 track  2 shower\n",
        "    kNue1trMsh=enum.auto()           # Nue CC -  1 track 3+ shower\n",
        "    kNue2tr0sh=enum.auto()           # Nue CC -  2 track no shower\n",
        "    kNue2tr1sh=enum.auto()           # Nue CC -  2 track  1 shower\n",
        "    kNue2tr2sh=enum.auto()           # Nue CC -  2 track  2 shower\n",
        "    kNue2trMsh=enum.auto()           # Nue CC -  2 track 3+ shower\n",
        "    kNueMtr0sh=enum.auto()           # Nue CC - 3+ track no shower\n",
        "    kNueMtr1sh=enum.auto()           # Nue CC - 3+ track  1 shower\n",
        "    kNueMtr2sh=enum.auto()           # Nue CC - 3+ track  2 shower\n",
        "    kNueMtrMsh=enum.auto()           # Nue CC - 3+ track 3+ shower\n",
        "    kNC0tr0sh=enum.auto()           # NC CC - no track no shower\n",
        "    kNC0tr1sh=enum.auto()           # NC CC - no track  1 shower\n",
        "    kNC0tr2sh=enum.auto()           # NC CC - no track  2 shower\n",
        "    kNC0trMsh=enum.auto()           # NC CC - no track 3+ shower\n",
        "    kNC1tr0sh=enum.auto()           # NC CC -  1 track no shower\n",
        "    kNC1tr1sh=enum.auto()           # NC CC -  1 track  1 shower\n",
        "    kNC1tr2sh=enum.auto()           # NC CC -  1 track  2 shower\n",
        "    kNC1trMsh=enum.auto()           # NC CC -  1 track 3+ shower\n",
        "    kNC2tr0sh=enum.auto()           # NC CC -  2 track no shower\n",
        "    kNC2tr1sh=enum.auto()           # NC CC -  2 track  1 shower\n",
        "    kNC2tr2sh=enum.auto()           # NC CC -  2 track  2 shower\n",
        "    kNC2trMsh=enum.auto()           # NC CC -  2 track 3+ shower\n",
        "    kNCMtr0sh=enum.auto()           # NC CC - 3+ track no shower\n",
        "    kNCMtr1sh=enum.auto()           # NC CC - 3+ track  1 shower\n",
        "    kNCMtr2sh=enum.auto()           # NC CC - 3+ track  2 shower\n",
        "    kNCMtrMsh=enum.auto()           # NC CC - 3+ track 3+ shower\n",
        "    kCosmicFS=enum.auto()           # Cosmic ray background\n",
        "    kOtherFS=enum.auto()            # Something else.  Tau?  Hopefully we don't use this\n",
        "    kNFStType=enum.auto()            # Number of interaction types, used like a vector size\n",
        "\n"
      ],
      "execution_count": 3,
      "outputs": []
    },
    {
      "cell_type": "markdown",
      "metadata": {
        "id": "vQ8ZOOdwZkQz"
      },
      "source": [
        "<a name=\"cell-id\"></a>\r\n",
        "# TASK 1 AND TASK 2"
      ]
    },
    {
      "cell_type": "markdown",
      "metadata": {
        "id": "LJR3fDBkPVIE"
      },
      "source": [
        "## Restrieving the data files\r\n",
        "\r\n",
        "Here I am creating a definition to retrieve all the data files and include all the name of the files in an array. "
      ]
    },
    {
      "cell_type": "code",
      "metadata": {
        "id": "VzwAi6_bsR9R"
      },
      "source": [
        "def data_retriever(file_number):\r\n",
        "\r\n",
        "  model_lab=[]\r\n",
        "  model_in_1 = []\r\n",
        "  model_in_2 = []\r\n",
        "  \r\n",
        "  core = 'http://www.hep.ucl.ac.uk/undergrad/0056/other/projects/nova/neutrino'\r\n",
        "  counter = 1\r\n",
        "  end = '.h5'\r\n",
        "  f_name=[]\r\n",
        "  \r\n",
        "  #file_number=10\r\n",
        "\r\n",
        "  for i in tqdm(range(0,file_number)):\r\n",
        "\r\n",
        "          filename = \"neutrino\" + str(counter) + \".h5\"\r\n",
        "          f_name.append(filename)\r\n",
        "          urllib.request.urlretrieve(core+str(counter)+end, filename)\r\n",
        "          counter += 1\r\n",
        "          \r\n",
        "  return (f_name)"
      ],
      "execution_count": 4,
      "outputs": []
    },
    {
      "cell_type": "code",
      "metadata": {
        "colab": {
          "base_uri": "https://localhost:8080/",
          "height": 65,
          "referenced_widgets": [
            "7ca03216de784080bcccffdcf4d89b6e",
            "3cbe71fd808544bc857fecfad1d4010b",
            "c4b1e9497afb42cab0e42e0fd435a8b3",
            "a403f7d92d7a4734ab418e964d578915",
            "e71e1886fe7c44058324ad28dff373e6",
            "cfea5646438141cfacbe71dbf82e4a56",
            "10d514bd5e994b08bc018a045986f7b5",
            "a43cece045e8409e97a12f4520b1137a"
          ]
        },
        "id": "B8cBpGTjsjhk",
        "outputId": "c2a0ca79-827f-474b-87e3-4fb4e530b438"
      },
      "source": [
        "files=data_retriever(7)"
      ],
      "execution_count": 4,
      "outputs": [
        {
          "output_type": "display_data",
          "data": {
            "application/vnd.jupyter.widget-view+json": {
              "model_id": "7ca03216de784080bcccffdcf4d89b6e",
              "version_minor": 0,
              "version_major": 2
            },
            "text/plain": [
              "HBox(children=(FloatProgress(value=0.0, max=7.0), HTML(value='')))"
            ]
          },
          "metadata": {
            "tags": []
          }
        },
        {
          "output_type": "stream",
          "text": [
            "\n"
          ],
          "name": "stdout"
        }
      ]
    },
    {
      "cell_type": "code",
      "metadata": {
        "id": "7WwT7u--ZBS9"
      },
      "source": [
        "# Split arrays into random train and test subsets\r\n",
        "# Using it here to split the file names to further balance out the data\r\n",
        "# It shuffles the data files, all of them have an equal percentage of data imbalance so it is acceptable to shuffle them\r\n",
        "\r\n",
        "files_90, files_10 = train_test_split(files, train_size = 0.9, shuffle = False)"
      ],
      "execution_count": 5,
      "outputs": []
    },
    {
      "cell_type": "code",
      "metadata": {
        "colab": {
          "base_uri": "https://localhost:8080/"
        },
        "id": "I4v82vmJZfLD",
        "outputId": "32a99ee4-8fe8-4c93-ecba-05e44b78fc4c"
      },
      "source": [
        "print(files_80)\r\n",
        "print(files_20)"
      ],
      "execution_count": 6,
      "outputs": [
        {
          "output_type": "stream",
          "text": [
            "['neutrino5.h5', 'neutrino1.h5', 'neutrino7.h5', 'neutrino4.h5', 'neutrino2.h5', 'neutrino3.h5']\n",
            "['neutrino6.h5']\n"
          ],
          "name": "stdout"
        }
      ]
    },
    {
      "cell_type": "markdown",
      "metadata": {
        "id": "3MivD7i4vf2B"
      },
      "source": [
        "### 1. Develop a machine learning classifier that can successfully identify $\\nu_\\mu$ charged-current events\r\n",
        "\r\n",
        "This is essentially a binary classification problem. \r\n",
        "\r\n",
        "Binary classification is the task of classifying the elements of a set into two groups on the basis of a classification rule. Typical binary classification problems include:\r\n",
        "\r\n",
        "Medical testing to determine if a patient has certain disease or not;\r\n",
        "Quality control in industry, deciding whether a specification has been met;\r\n",
        "In information retrieval, deciding whether a page should be in the result set of a search or not.\r\n",
        "Binary classification is dichotomization applied to a practical situation.\r\n",
        "\r\n",
        "Source: https://en.wikipedia.org/wiki/Binary_classification\r\n",
        "\r\n",
        "We are going to label the $\\nu_\\mu$ charged-current events as 1 and the rest as 0 to be able to easily identify these events. \r\n"
      ]
    },
    {
      "cell_type": "markdown",
      "metadata": {
        "id": "XDP9lpmfAajM"
      },
      "source": [
        "## IMBALANCED DATA SET "
      ]
    },
    {
      "cell_type": "code",
      "metadata": {
        "colab": {
          "base_uri": "https://localhost:8080/",
          "height": 65,
          "referenced_widgets": [
            "5c7ffdf79d4146cb836cb9c0dfff9967",
            "b65c32023e5843e49c6273e83921aad9",
            "c4d1af00a1514acfaebf1ca25d90c100",
            "68a6057ef4c84ef49cb38d2928bcd634",
            "f81c2aea43ec4b7fb247d4b675beb63a",
            "408dba22fa4f4993808afe29972d373b",
            "40dd32a94dfd464295728ee488ce333e",
            "c0270c3ca3a64d38b05312645989d420"
          ]
        },
        "id": "Dw8Vhxzckxhu",
        "outputId": "e7de89ff-72f2-4340-9a08-702d671a1644"
      },
      "source": [
        "numu_counter = 0\r\n",
        "nue_counter = 0\r\n",
        "nutau_counter = 0\r\n",
        "other_counter = 0\r\n",
        "\r\n",
        "for file_name in tqdm(files):\r\n",
        "\r\n",
        "  df=h5py.File(file_name, 'r')\r\n",
        "  for i in range(len(df['neutrino']['interaction'])):\r\n",
        "\r\n",
        "    if df['neutrino']['interaction'][i] <= 3:\r\n",
        "\r\n",
        "      numu_counter= numu_counter + 1\r\n",
        "\r\n",
        "    elif df['neutrino']['interaction'][i] > 4 and df['neutrino']['interaction'][i] <= 7:\r\n",
        "\r\n",
        "      nue_counter= nue_counter + 1\r\n",
        "\r\n",
        "    elif df['neutrino']['interaction'][i] > 7 and df['neutrino']['interaction'][i] <= 11:\r\n",
        "\r\n",
        "      nutau_counter= nutau_counter + 1\r\n",
        "\r\n",
        "    else:\r\n",
        "\r\n",
        "      other_counter = other_counter + 1\r\n",
        "\r\n",
        "totalevents = numu_counter + nue_counter + nutau_counter + other_counter"
      ],
      "execution_count": 6,
      "outputs": [
        {
          "output_type": "display_data",
          "data": {
            "application/vnd.jupyter.widget-view+json": {
              "model_id": "5c7ffdf79d4146cb836cb9c0dfff9967",
              "version_minor": 0,
              "version_major": 2
            },
            "text/plain": [
              "HBox(children=(FloatProgress(value=0.0, max=7.0), HTML(value='')))"
            ]
          },
          "metadata": {
            "tags": []
          }
        },
        {
          "output_type": "stream",
          "text": [
            "\n"
          ],
          "name": "stdout"
        }
      ]
    },
    {
      "cell_type": "code",
      "metadata": {
        "colab": {
          "base_uri": "https://localhost:8080/",
          "height": 101
        },
        "id": "yBny_7h1ld0f",
        "outputId": "3293654b-61ab-4122-e08d-f5b217d47dc6"
      },
      "source": [
        "## Displaying the number of events and its percentages\r\n",
        "\r\n",
        "display(Math(r'There \\; are \\; {} \\; \\nu_\\mu \\; charged-current \\; events. \\; This \\; represents \\; {} \\% \\; of \\; the \\; events \\; in \\; {} \\; meta \\; data \\; files.'.format(numu_counter, round(((numu_counter / totalevents ) * 100),2), len(files))))\r\n",
        "display(Math(r'There \\; are \\; {} \\; \\nu_\\tau \\; charged-current \\; events. \\; This \\; represents \\; {} \\% \\; of \\; the \\; events \\; in \\; {} \\; meta \\; data \\; files.'.format(nutau_counter, round(((nutau_counter / totalevents ) * 100),2), len(files))))\r\n",
        "display(Math(r'There \\; are \\; {} \\; \\nu_e \\; charged-current \\; events. \\; This \\; represents \\; {} \\% \\; of \\; the \\; events \\; in \\; {} \\; meta \\; data \\; files.'.format(nue_counter, round(((nue_counter / totalevents ) * 100),2), len(files))))\r\n",
        "display(Math(r'There \\; are \\; {} \\; other \\; events. \\; This \\; represents \\; {} \\% \\; of \\; the \\; events \\; in \\; {} \\; meta \\; data \\; files.'.format(other_counter, round(((other_counter / totalevents ) * 100),2), len(files))))"
      ],
      "execution_count": 7,
      "outputs": [
        {
          "output_type": "display_data",
          "data": {
            "text/latex": "$$There \\; are \\; 42871 \\; \\nu_\\mu \\; charged-current \\; events. \\; This \\; represents \\; 88.1 \\% \\; of \\; the \\; events \\; in \\; 7 \\; meta \\; data \\; files.$$",
            "text/plain": [
              "<IPython.core.display.Math object>"
            ]
          },
          "metadata": {
            "tags": []
          }
        },
        {
          "output_type": "display_data",
          "data": {
            "text/latex": "$$There \\; are \\; 0 \\; \\nu_\\tau \\; charged-current \\; events. \\; This \\; represents \\; 0.0 \\% \\; of \\; the \\; events \\; in \\; 7 \\; meta \\; data \\; files.$$",
            "text/plain": [
              "<IPython.core.display.Math object>"
            ]
          },
          "metadata": {
            "tags": []
          }
        },
        {
          "output_type": "display_data",
          "data": {
            "text/latex": "$$There \\; are \\; 527 \\; \\nu_e \\; charged-current \\; events. \\; This \\; represents \\; 1.08 \\% \\; of \\; the \\; events \\; in \\; 7 \\; meta \\; data \\; files.$$",
            "text/plain": [
              "<IPython.core.display.Math object>"
            ]
          },
          "metadata": {
            "tags": []
          }
        },
        {
          "output_type": "display_data",
          "data": {
            "text/latex": "$$There \\; are \\; 5262 \\; other \\; events. \\; This \\; represents \\; 10.81 \\% \\; of \\; the \\; events \\; in \\; 7 \\; meta \\; data \\; files.$$",
            "text/plain": [
              "<IPython.core.display.Math object>"
            ]
          },
          "metadata": {
            "tags": []
          }
        }
      ]
    },
    {
      "cell_type": "markdown",
      "metadata": {
        "id": "ueDz2R4rlssP"
      },
      "source": [
        "It can clearly be seen that there is a huge data imbalance which has to be fixed before training the network. "
      ]
    },
    {
      "cell_type": "code",
      "metadata": {
        "colab": {
          "base_uri": "https://localhost:8080/",
          "height": 65,
          "referenced_widgets": [
            "14cc7a4893e34d3381a19c7ef5e08cf2",
            "6dbe87008f3e4229b8932c14a28b3f26",
            "55edebc3d23e417286f6da50d2365754",
            "d66ab2b72cbe4226bd883a2fe9f7d2f4",
            "a4659e27fa91445d8ea6cfd73935c03f",
            "be1884f5bf2f4a75a5b2fb8797f834a4",
            "61011c5d896343fa80ada5578cfe916c",
            "3af030e1d0cf4b9d820016a0712ea06a"
          ]
        },
        "id": "1anr4HbO_A6N",
        "outputId": "28245ce8-06b4-4da4-af61-af8c093bb36a"
      },
      "source": [
        "model_lab_imb=[]\r\n",
        "model_in_1_imb = []\r\n",
        "model_in_2_imb = []\r\n",
        "\r\n",
        "for file_name in tqdm(files):\r\n",
        "    df=h5py.File(file_name, 'r')\r\n",
        "    \r\n",
        "    for i in range(len(df['cvnmap'])):\r\n",
        "      model = df['cvnmap'][i].reshape((2,100,80))\r\n",
        "      model_in_1_imb.append(model[0])\r\n",
        "      model_in_2_imb.append(model[1])\r\n",
        "\r\n",
        "      if df['neutrino']['interaction'][i] <= 3:\r\n",
        "        model_lab_imb.append(int(1))\r\n",
        "\r\n",
        "      else:\r\n",
        "        model_lab_imb.append(int(0))"
      ],
      "execution_count": 8,
      "outputs": [
        {
          "output_type": "display_data",
          "data": {
            "application/vnd.jupyter.widget-view+json": {
              "model_id": "14cc7a4893e34d3381a19c7ef5e08cf2",
              "version_minor": 0,
              "version_major": 2
            },
            "text/plain": [
              "HBox(children=(FloatProgress(value=0.0, max=7.0), HTML(value='')))"
            ]
          },
          "metadata": {
            "tags": []
          }
        },
        {
          "output_type": "stream",
          "text": [
            "\n"
          ],
          "name": "stdout"
        }
      ]
    },
    {
      "cell_type": "code",
      "metadata": {
        "colab": {
          "base_uri": "https://localhost:8080/",
          "height": 114,
          "referenced_widgets": [
            "4190a5ceabe54de385a70ae6d8f9b134",
            "715fc49605b949e48f849c573fd29de7",
            "989575faaf6d44c093135c48246dedb4",
            "16adf8ec79464f8eb82f445fb99a27f8",
            "6ae41ceb085241638e5b815fa8b9314e",
            "d22edfc09f1b4e139bc7bbe23114f950",
            "a55dabefdd9f4b588acee0335a25bf17",
            "d65c1df82d8249dd9361e5f12f91e6c9",
            "2b413da6f6844891ac7aae15692b7d19",
            "dfeeb5e42d0e43ba841080104510154f",
            "b49d9338a7a44afca499d7fc2e220789",
            "069665f6d42448c09badb36eea3b51de",
            "cb847cde300b45e29b9044e254b8d8a6",
            "01fdd7fafb4146b4821a4c2b4c41f769",
            "67def4d0b18c42ad8d3531b6b621458c",
            "3221bdfafd8b47f6a5301d84e5aabd72"
          ]
        },
        "id": "PliUciK7YVjF",
        "outputId": "264a2b7d-2ebe-4e70-ae12-ba321379b9c1"
      },
      "source": [
        "# BINARY CLASSIFICATION AND BALANCING THE DATA \r\n",
        "\r\n",
        "# empty arrays\r\n",
        "model_lab=[]                                                     # empty arrays for labels \r\n",
        "model_in_1 = []                                                  # empty array for the x-y view of the images\r\n",
        "model_in_2 = []                                                  # empty array for the y-z view of the images\r\n",
        "\r\n",
        "for f_name in tqdm(files):\r\n",
        "  df=h5py.File(f_name, 'r')\r\n",
        "\r\n",
        "  for i in range(len(df['cvnmap'])):\r\n",
        "\r\n",
        "    if df['neutrino']['interaction'][i] > 3:\r\n",
        "      model = (df['cvnmap'][i]).reshape((2,100,80))\r\n",
        "      model_in_1.append(model[0])\r\n",
        "      model_in_2.append(model[1])\r\n",
        "      model_lab.append(int(0))                                   # assigns a 0 to non muon neutrino CC events \r\n",
        "\r\n",
        "    else:\r\n",
        "      pass \r\n",
        "\r\n",
        "for f_name in tqdm(files_10):\r\n",
        "  df=h5py.File(f_name, 'r')\r\n",
        "\r\n",
        "  for j in range(len(df['cvnmap'])):\r\n",
        "\r\n",
        "    if df['neutrino']['interaction'][j] <= 3:\r\n",
        "      model = (df['cvnmap'][j]).reshape((2,100,80))\r\n",
        "      model_in_1.append(model[0])\r\n",
        "      model_in_2.append(model[1])\r\n",
        "      model_lab.append(int(1))                                   # assigns 1 to muon neutrino CC events \r\n",
        "\r\n",
        "    else:\r\n",
        "      pass "
      ],
      "execution_count": 9,
      "outputs": [
        {
          "output_type": "display_data",
          "data": {
            "application/vnd.jupyter.widget-view+json": {
              "model_id": "4190a5ceabe54de385a70ae6d8f9b134",
              "version_minor": 0,
              "version_major": 2
            },
            "text/plain": [
              "HBox(children=(FloatProgress(value=0.0, max=7.0), HTML(value='')))"
            ]
          },
          "metadata": {
            "tags": []
          }
        },
        {
          "output_type": "stream",
          "text": [
            "\n"
          ],
          "name": "stdout"
        },
        {
          "output_type": "display_data",
          "data": {
            "application/vnd.jupyter.widget-view+json": {
              "model_id": "2b413da6f6844891ac7aae15692b7d19",
              "version_minor": 0,
              "version_major": 2
            },
            "text/plain": [
              "HBox(children=(FloatProgress(value=0.0, max=1.0), HTML(value='')))"
            ]
          },
          "metadata": {
            "tags": []
          }
        },
        {
          "output_type": "stream",
          "text": [
            "\n"
          ],
          "name": "stdout"
        }
      ]
    },
    {
      "cell_type": "markdown",
      "metadata": {
        "id": "vSpDqL6HiCoD"
      },
      "source": [
        "## BALANCED DATA SET \r\n",
        "\r\n",
        "The perfect balance is found by using 100% of the loaded files to retrive non muon neutrino charged-current events and 10% for muon neutrino charged-current events. "
      ]
    },
    {
      "cell_type": "code",
      "metadata": {
        "colab": {
          "base_uri": "https://localhost:8080/",
          "height": 461
        },
        "id": "NqUsxLD4INs7",
        "outputId": "85f16f59-6f56-4c2c-9869-55bd495669f6"
      },
      "source": [
        "f = plt.figure(figsize=(20,7))\r\n",
        "ax = f.add_subplot(121)\r\n",
        "ax2 = f.add_subplot(122)\r\n",
        "ax.hist(model_lab_imb)\r\n",
        "ax.set_title('Imbalanced data set')\r\n",
        "ax2.hist(model_lab)\r\n",
        "ax2.set_title('Balanced data set')\r\n"
      ],
      "execution_count": 13,
      "outputs": [
        {
          "output_type": "execute_result",
          "data": {
            "text/plain": [
              "Text(0.5, 1.0, 'Balanced data set')"
            ]
          },
          "metadata": {
            "tags": []
          },
          "execution_count": 13
        },
        {
          "output_type": "display_data",
          "data": {
            "image/png": "[encoded data removed]",
            "text/plain": [
              "<Figure size 1440x504 with 2 Axes>"
            ]
          },
          "metadata": {
            "tags": [],
            "needs_background": "light"
          }
        }
      ]
    },
    {
      "cell_type": "markdown",
      "metadata": {
        "id": "Y5UFoUaijlRR"
      },
      "source": [
        "I am defining a function to shuffle the data together instead of using the inbuilt function in train_test_split as I want to shuffle the labels and images together. "
      ]
    },
    {
      "cell_type": "code",
      "metadata": {
        "id": "4AxOlANZwvaI"
      },
      "source": [
        "def shuffle_data(labels, image_set_1, image_set_2):\r\n",
        "\r\n",
        "  c = list(zip(labels, image_set_1, image_set_2))\r\n",
        "  np.random.shuffle(c)\r\n",
        "  labels, image_set_1, image_set_2 = zip(*c)\r\n",
        "\r\n",
        "  return labels, image_set_1, image_set_2"
      ],
      "execution_count": 5,
      "outputs": []
    },
    {
      "cell_type": "code",
      "metadata": {
        "id": "Acm4dBm-Lomj"
      },
      "source": [
        "def data (model_input_1, model_input_2, model_labels):\r\n",
        "\r\n",
        "  # Making arrays of all the data \r\n",
        "  model_in_1 = np.array(model_input_1)\r\n",
        "  model_in_2 = np.array(model_input_2)\r\n",
        "  model_lab = np.array(model_labels)\r\n",
        "  \r\n",
        "  # Using the train_test_split function shuffles the data as well, so the 0s and 1s will be shuffled \r\n",
        "  # Splitting the data into train and test data using 80% of the data for training and 20% for testing \r\n",
        "  tr_input_1, te_input_1 = train_test_split(model_in_1, train_size = 0.8, shuffle = False)\r\n",
        "  tr_input_2, te_input_2 = train_test_split(model_in_2, train_size = 0.8, shuffle = False)\r\n",
        "  tr_labels, te_labels = train_test_split(model_lab, train_size = 0.8, shuffle = False)\r\n",
        "\r\n",
        "  # Splitting the data into training and validation data sets using 80% of the training data for training and 20% for validation\r\n",
        "  train_input_1, val_input_1 = train_test_split(tr_input_1, train_size = 0.8, shuffle = False)\r\n",
        "  train_input_2, val_input_2 = train_test_split(tr_input_2, train_size = 0.8, shuffle = False)\r\n",
        "  train_labels, val_labels =train_test_split(tr_labels, train_size = 0.8, shuffle = False)\r\n",
        "\r\n",
        "  # Normalizing the images to be between 0 and 1 pixels and converting the arrays to the same data type  \r\n",
        "  train_input_1 = train_input_1.astype('float32') / 255.0\r\n",
        "  val_input_1 = val_input_1.astype('float32') / 255.0\r\n",
        "  test_input_1 = te_input_1.astype('float32') / 255.0\r\n",
        "\r\n",
        "  train_input_2 = train_input_2.astype('float32') / 255.0\r\n",
        "  val_input_2 = val_input_2.astype('float32') / 255.0\r\n",
        "  test_input_2 = te_input_2.astype('float32') / 255.0\r\n",
        "\r\n",
        "  train_labels = train_labels.astype('float32')\r\n",
        "  val_labels = val_labels.astype('float32')\r\n",
        "  test_labels = te_labels.astype('float32')\r\n",
        "\r\n",
        "  return (train_input_1, test_input_1, val_input_1, train_input_2, test_input_2, val_input_2, train_labels, val_labels, test_labels)\r\n"
      ],
      "execution_count": 6,
      "outputs": []
    },
    {
      "cell_type": "code",
      "metadata": {
        "id": "aAV21Hm_zY4N"
      },
      "source": [
        "# Balanced data set \r\n",
        "model_lab, model_in_1, model_in_2 = shuffle_data(model_lab, model_in_1, model_in_2)\r\n",
        "model_in_1 = tf.expand_dims(model_in_1, axis = 3)\r\n",
        "model_in_2 = tf.expand_dims(model_in_2, axis = 3)\r\n",
        "train_input_1, test_input_1, val_input_1, train_input_2, test_input_2, val_input_2, train_labels, val_labels, test_labels = data(model_in_1, model_in_2, model_lab)\r\n",
        "\r\n",
        "# Imbalanced data set \r\n",
        "# model_lab_imb, model_in_1_imb, model_in_2_imb = shuffle_data(model_lab_imb, model_in_1_imb, model_in_2_imb)\r\n",
        "# model_in_1_imb = tf.expand_dims(model_in_1_imb, axis = 3)\r\n",
        "# model_in_2_imb = tf.expand_dims(model_in_2_imb, axis = 3)\r\n",
        "# train_input_1_imb, te_input_1_imb, val_input_1_imb, train_input_2_imb, te_input_2_imb, val_input_2_imb, train_labels_imb, val_labels_imb, te_labels_imb = data(model_in_1_imb, model_in_2_imb, model_lab_imb)"
      ],
      "execution_count": 16,
      "outputs": []
    },
    {
      "cell_type": "markdown",
      "metadata": {
        "id": "Qd1qmUrz92Qt"
      },
      "source": [
        "## KERAS CONV2D STRUCTURE\r\n",
        "tensorflow.keras.layers.Conv2D(filters, kernel_size, strides=(1, 1),\r\n",
        "  padding='valid', data_format=None, dilation_rate=(1, 1),\r\n",
        "  activation=None, use_bias=True, kernel_initializer='glorot_uniform',\r\n",
        "  bias_initializer='zeros', kernel_regularizer=None,\r\n",
        "  bias_regularizer=None, activity_regularizer=None,\r\n",
        "  kernel_constraint=None, bias_constraint=None)\r\n"
      ]
    },
    {
      "cell_type": "markdown",
      "metadata": {
        "id": "F8x-N38aAZko"
      },
      "source": [
        "### Filters\r\n",
        "\r\n",
        "The first required Conv2D parameter is the number of filters that the convolutional layer will learn.\r\n",
        "\r\n",
        "Layers early in the network architecture (i.e., closer to the actual input image) learn fewer convolutional filters while layers deeper in the network (i.e., closer to the output predictions) will learn more filters.\r\n",
        "\r\n",
        "Conv2D layers in between will learn more filters than the early Conv2D layers but fewer filters than the layers closer to the output.\r\n"
      ]
    },
    {
      "cell_type": "markdown",
      "metadata": {
        "id": "NFM7TU8tAcBL"
      },
      "source": [
        "### Kernel_size\r\n",
        "The second required parameter you need to provide to the Keras Conv2D class is the kernel_size , a 2-tuple specifying the width and height of the 2D convolution window.\r\n",
        "\r\n",
        "The kernel_size must be an odd integer as well.\r\n",
        "\r\n",
        "Typical values for kernel_size include: (1, 1) , (3, 3) , (5, 5) , (7, 7) . It’s rare to see kernel sizes larger than 7×7.\r\n",
        "\r\n",
        "So, when do you use each?\r\n",
        "\r\n",
        "If your input images are greater than 128×128 you may choose to use a kernel size > 3 to help (1) learn larger spatial filters and (2) to help reduce volume size."
      ]
    },
    {
      "cell_type": "markdown",
      "metadata": {
        "id": "BsfIpJOfA2Rx"
      },
      "source": [
        "### Padding \r\n",
        "The padding parameter to the Keras Conv2D class can take on one of two values: valid or same .\r\n",
        "\r\n",
        "With the valid parameter the input volume is not zero-padded and the spatial dimensions are allowed to reduce via the natural application of convolution.\r\n",
        "\r\n",
        "If you instead want to preserve the spatial dimensions of the volume such that the output volume size matches the input volume size, then you would want to supply a value of same for the padding"
      ]
    },
    {
      "cell_type": "code",
      "metadata": {
        "id": "0VMuMoY2HF7d"
      },
      "source": [
        "def create_convolution_layers(input_img, input_shape):\r\n",
        "\r\n",
        "  keras.backend.clear_session\r\n",
        "  model = Conv2D(8, (3, 3), activation = \"relu\", padding='same', input_shape=input_shape[1:])(input_img)\r\n",
        "  model = MaxPooling2D((2, 2),padding='same')(model)\r\n",
        "  model = Dropout(0.25)(model)\r\n",
        "  \r\n",
        "  model = Conv2D(16, (3, 3), padding='same')(model)\r\n",
        "  model = MaxPooling2D(pool_size=(2, 2),padding='same')(model)\r\n",
        "  model = Dropout(0.25)(model)\r\n",
        "    \r\n",
        "  model = Conv2D(32, (3, 3), padding='same')(model)\r\n",
        "  model = MaxPooling2D(pool_size=(2, 2),padding='same')(model)\r\n",
        "  model = Dropout(0.4)(model)\r\n",
        "\r\n",
        "    \r\n",
        "  return model"
      ],
      "execution_count": 7,
      "outputs": []
    },
    {
      "cell_type": "markdown",
      "metadata": {
        "id": "Jw5b1lICdJta"
      },
      "source": [
        "I need to carefully check the parameters being used in the cnn. I need to find the perfect balance between overfitting the data and underfitting. \r\n",
        "\r\n",
        "https://towardsdatascience.com/a-guide-to-an-efficient-way-to-build-neural-network-architectures-part-ii-hyper-parameter-42efca01e5d7\r\n"
      ]
    },
    {
      "cell_type": "code",
      "metadata": {
        "id": "vCWqLbvPHq99"
      },
      "source": [
        "\r\n",
        "def concatenating (model_input_1):\r\n",
        "\r\n",
        "  xy_input = Input(shape=np.shape(model_input_1)[1:])\r\n",
        "  xy_model = create_convolution_layers(xy_input, np.shape(model_input_1)[1:])\r\n",
        "\r\n",
        "  yz_input = Input(shape=np.shape(model_input_1)[1:])\r\n",
        "  yz_model = create_convolution_layers(yz_input, np.shape(model_input_1)[1:])\r\n",
        "\r\n",
        "  conv = concatenate([xy_model, yz_model])\r\n",
        "  conv = Flatten()(conv)\r\n",
        "\r\n",
        "  dense = Dense(32, activation = \"relu\")(conv)\r\n",
        "  dense = Dropout(0.5)(dense)\r\n",
        "  dense = Dense(64, activation = \"relu\")(dense)\r\n",
        "  dense = Dropout(0.5)(dense)\r\n",
        "  dense = Dense(32, activation = \"relu\")(dense)\r\n",
        "  dense = Dropout(0.5)(dense)\r\n",
        "\r\n",
        "  output = Dense(1, activation =\"sigmoid\")(dense)\r\n",
        "\r\n",
        "  model = Model(inputs = [xy_input, yz_input], outputs = [output])\r\n",
        "\r\n",
        "\r\n",
        "  model.compile(loss=tf.keras.losses.binary_crossentropy,\r\n",
        "                optimizer='adam',\r\n",
        "                metrics=['accuracy']) \r\n",
        "\r\n",
        "  model.summary()\r\n",
        "\r\n",
        "  return model "
      ],
      "execution_count": 63,
      "outputs": []
    },
    {
      "cell_type": "code",
      "metadata": {
        "colab": {
          "base_uri": "https://localhost:8080/"
        },
        "id": "O08njMLq6ayJ",
        "outputId": "2d78d497-ace3-4f63-bf44-f40dd5f36348"
      },
      "source": [
        "model = concatenating(model_in_1)"
      ],
      "execution_count": 33,
      "outputs": [
        {
          "output_type": "stream",
          "text": [
            "Model: \"model_2\"\n",
            "__________________________________________________________________________________________________\n",
            "Layer (type)                    Output Shape         Param #     Connected to                     \n",
            "==================================================================================================\n",
            "input_7 (InputLayer)            [(None, 100, 80, 1)] 0                                            \n",
            "__________________________________________________________________________________________________\n",
            "input_8 (InputLayer)            [(None, 100, 80, 1)] 0                                            \n",
            "__________________________________________________________________________________________________\n",
            "conv2d_12 (Conv2D)              (None, 100, 80, 8)   80          input_7[0][0]                    \n",
            "__________________________________________________________________________________________________\n",
            "conv2d_15 (Conv2D)              (None, 100, 80, 8)   80          input_8[0][0]                    \n",
            "__________________________________________________________________________________________________\n",
            "max_pooling2d_12 (MaxPooling2D) (None, 50, 40, 8)    0           conv2d_12[0][0]                  \n",
            "__________________________________________________________________________________________________\n",
            "max_pooling2d_15 (MaxPooling2D) (None, 50, 40, 8)    0           conv2d_15[0][0]                  \n",
            "__________________________________________________________________________________________________\n",
            "dropout_18 (Dropout)            (None, 50, 40, 8)    0           max_pooling2d_12[0][0]           \n",
            "__________________________________________________________________________________________________\n",
            "dropout_21 (Dropout)            (None, 50, 40, 8)    0           max_pooling2d_15[0][0]           \n",
            "__________________________________________________________________________________________________\n",
            "conv2d_13 (Conv2D)              (None, 50, 40, 16)   1168        dropout_18[0][0]                 \n",
            "__________________________________________________________________________________________________\n",
            "conv2d_16 (Conv2D)              (None, 50, 40, 16)   1168        dropout_21[0][0]                 \n",
            "__________________________________________________________________________________________________\n",
            "max_pooling2d_13 (MaxPooling2D) (None, 25, 20, 16)   0           conv2d_13[0][0]                  \n",
            "__________________________________________________________________________________________________\n",
            "max_pooling2d_16 (MaxPooling2D) (None, 25, 20, 16)   0           conv2d_16[0][0]                  \n",
            "__________________________________________________________________________________________________\n",
            "dropout_19 (Dropout)            (None, 25, 20, 16)   0           max_pooling2d_13[0][0]           \n",
            "__________________________________________________________________________________________________\n",
            "dropout_22 (Dropout)            (None, 25, 20, 16)   0           max_pooling2d_16[0][0]           \n",
            "__________________________________________________________________________________________________\n",
            "conv2d_14 (Conv2D)              (None, 25, 20, 32)   4640        dropout_19[0][0]                 \n",
            "__________________________________________________________________________________________________\n",
            "conv2d_17 (Conv2D)              (None, 25, 20, 32)   4640        dropout_22[0][0]                 \n",
            "__________________________________________________________________________________________________\n",
            "max_pooling2d_14 (MaxPooling2D) (None, 13, 10, 32)   0           conv2d_14[0][0]                  \n",
            "__________________________________________________________________________________________________\n",
            "max_pooling2d_17 (MaxPooling2D) (None, 13, 10, 32)   0           conv2d_17[0][0]                  \n",
            "__________________________________________________________________________________________________\n",
            "dropout_20 (Dropout)            (None, 13, 10, 32)   0           max_pooling2d_14[0][0]           \n",
            "__________________________________________________________________________________________________\n",
            "dropout_23 (Dropout)            (None, 13, 10, 32)   0           max_pooling2d_17[0][0]           \n",
            "__________________________________________________________________________________________________\n",
            "concatenate_3 (Concatenate)     (None, 13, 10, 64)   0           dropout_20[0][0]                 \n",
            "                                                                 dropout_23[0][0]                 \n",
            "__________________________________________________________________________________________________\n",
            "flatten_2 (Flatten)             (None, 8320)         0           concatenate_3[0][0]              \n",
            "__________________________________________________________________________________________________\n",
            "dense_8 (Dense)                 (None, 32)           266272      flatten_2[0][0]                  \n",
            "__________________________________________________________________________________________________\n",
            "dropout_24 (Dropout)            (None, 32)           0           dense_8[0][0]                    \n",
            "__________________________________________________________________________________________________\n",
            "dense_9 (Dense)                 (None, 64)           2112        dropout_24[0][0]                 \n",
            "__________________________________________________________________________________________________\n",
            "dropout_25 (Dropout)            (None, 64)           0           dense_9[0][0]                    \n",
            "__________________________________________________________________________________________________\n",
            "dense_10 (Dense)                (None, 32)           2080        dropout_25[0][0]                 \n",
            "__________________________________________________________________________________________________\n",
            "dropout_26 (Dropout)            (None, 32)           0           dense_10[0][0]                   \n",
            "__________________________________________________________________________________________________\n",
            "dense_11 (Dense)                (None, 1)            33          dropout_26[0][0]                 \n",
            "==================================================================================================\n",
            "Total params: 282,273\n",
            "Trainable params: 282,273\n",
            "Non-trainable params: 0\n",
            "__________________________________________________________________________________________________\n"
          ],
          "name": "stdout"
        }
      ]
    },
    {
      "cell_type": "code",
      "metadata": {
        "colab": {
          "base_uri": "https://localhost:8080/"
        },
        "id": "0nRQphgWolP4",
        "outputId": "0022ed74-f264-4970-a6ab-173a0e1436d4"
      },
      "source": [
        "earlystopping = callbacks.EarlyStopping(monitor =\"val_loss\", mode =\"min\", patience = 5, restore_best_weights = True) \r\n",
        "\r\n",
        "history = model.fit(x=[train_input_1,train_input_2],y=train_labels, batch_size=64, epochs=50,validation_data=([val_input_1,val_input_2],val_labels), callbacks =[earlystopping] )"
      ],
      "execution_count": 34,
      "outputs": [
        {
          "output_type": "stream",
          "text": [
            "Epoch 1/50\n",
            "120/120 [==============================] - 3s 16ms/step - loss: 0.6910 - accuracy: 0.5143 - val_loss: 0.6325 - val_accuracy: 0.6609\n",
            "Epoch 2/50\n",
            "120/120 [==============================] - 2s 14ms/step - loss: 0.6493 - accuracy: 0.6105 - val_loss: 0.5948 - val_accuracy: 0.6829\n",
            "Epoch 3/50\n",
            "120/120 [==============================] - 2s 14ms/step - loss: 0.6156 - accuracy: 0.6591 - val_loss: 0.5580 - val_accuracy: 0.7150\n",
            "Epoch 4/50\n",
            "120/120 [==============================] - 2s 14ms/step - loss: 0.5879 - accuracy: 0.6925 - val_loss: 0.5365 - val_accuracy: 0.7218\n",
            "Epoch 5/50\n",
            "120/120 [==============================] - 2s 14ms/step - loss: 0.5624 - accuracy: 0.7172 - val_loss: 0.5083 - val_accuracy: 0.7465\n",
            "Epoch 6/50\n",
            "120/120 [==============================] - 2s 14ms/step - loss: 0.5395 - accuracy: 0.7339 - val_loss: 0.4881 - val_accuracy: 0.7701\n",
            "Epoch 7/50\n",
            "120/120 [==============================] - 2s 14ms/step - loss: 0.5178 - accuracy: 0.7464 - val_loss: 0.4918 - val_accuracy: 0.7701\n",
            "Epoch 8/50\n",
            "120/120 [==============================] - 2s 14ms/step - loss: 0.5099 - accuracy: 0.7439 - val_loss: 0.4800 - val_accuracy: 0.7748\n",
            "Epoch 9/50\n",
            "120/120 [==============================] - 2s 14ms/step - loss: 0.5019 - accuracy: 0.7557 - val_loss: 0.4839 - val_accuracy: 0.7643\n",
            "Epoch 10/50\n",
            "120/120 [==============================] - 2s 14ms/step - loss: 0.5017 - accuracy: 0.7463 - val_loss: 0.4740 - val_accuracy: 0.7806\n",
            "Epoch 11/50\n",
            "120/120 [==============================] - 2s 14ms/step - loss: 0.4898 - accuracy: 0.7594 - val_loss: 0.4749 - val_accuracy: 0.7832\n",
            "Epoch 12/50\n",
            "120/120 [==============================] - 2s 14ms/step - loss: 0.4959 - accuracy: 0.7566 - val_loss: 0.4912 - val_accuracy: 0.7606\n",
            "Epoch 13/50\n",
            "120/120 [==============================] - 2s 14ms/step - loss: 0.4935 - accuracy: 0.7540 - val_loss: 0.4631 - val_accuracy: 0.7942\n",
            "Epoch 14/50\n",
            "120/120 [==============================] - 2s 14ms/step - loss: 0.4838 - accuracy: 0.7754 - val_loss: 0.4867 - val_accuracy: 0.7706\n",
            "Epoch 15/50\n",
            "120/120 [==============================] - 2s 14ms/step - loss: 0.4690 - accuracy: 0.7810 - val_loss: 0.4676 - val_accuracy: 0.7853\n",
            "Epoch 16/50\n",
            "120/120 [==============================] - 2s 14ms/step - loss: 0.4667 - accuracy: 0.7812 - val_loss: 0.4565 - val_accuracy: 0.7958\n",
            "Epoch 17/50\n",
            "120/120 [==============================] - 2s 14ms/step - loss: 0.4595 - accuracy: 0.7862 - val_loss: 0.4573 - val_accuracy: 0.7963\n",
            "Epoch 18/50\n",
            "120/120 [==============================] - 2s 14ms/step - loss: 0.4527 - accuracy: 0.7917 - val_loss: 0.4493 - val_accuracy: 0.7969\n",
            "Epoch 19/50\n",
            "120/120 [==============================] - 2s 14ms/step - loss: 0.4754 - accuracy: 0.7749 - val_loss: 0.4435 - val_accuracy: 0.8126\n",
            "Epoch 20/50\n",
            "120/120 [==============================] - 2s 14ms/step - loss: 0.4538 - accuracy: 0.7814 - val_loss: 0.4455 - val_accuracy: 0.8131\n",
            "Epoch 21/50\n",
            "120/120 [==============================] - 2s 14ms/step - loss: 0.4521 - accuracy: 0.7854 - val_loss: 0.4362 - val_accuracy: 0.8136\n",
            "Epoch 22/50\n",
            "120/120 [==============================] - 2s 14ms/step - loss: 0.4483 - accuracy: 0.7942 - val_loss: 0.4783 - val_accuracy: 0.7732\n",
            "Epoch 23/50\n",
            "120/120 [==============================] - 2s 14ms/step - loss: 0.4876 - accuracy: 0.7676 - val_loss: 0.4433 - val_accuracy: 0.8157\n",
            "Epoch 24/50\n",
            "120/120 [==============================] - 2s 14ms/step - loss: 0.4403 - accuracy: 0.7943 - val_loss: 0.4486 - val_accuracy: 0.8105\n",
            "Epoch 25/50\n",
            "120/120 [==============================] - 2s 14ms/step - loss: 0.4348 - accuracy: 0.7972 - val_loss: 0.4417 - val_accuracy: 0.8178\n",
            "Epoch 26/50\n",
            "120/120 [==============================] - 2s 14ms/step - loss: 0.4436 - accuracy: 0.7895 - val_loss: 0.4409 - val_accuracy: 0.8252\n"
          ],
          "name": "stdout"
        }
      ]
    },
    {
      "cell_type": "code",
      "metadata": {
        "colab": {
          "base_uri": "https://localhost:8080/"
        },
        "id": "dfv6xn39pMR9",
        "outputId": "92cc558d-aeda-4f2a-8a6f-8565a245571c"
      },
      "source": [
        "test_loss, test_acc = model.evaluate([test_input_1,test_input_2],  test_labels, verbose=2)"
      ],
      "execution_count": 35,
      "outputs": [
        {
          "output_type": "stream",
          "text": [
            "75/75 - 0s - loss: 0.4688 - accuracy: 0.7972\n"
          ],
          "name": "stdout"
        }
      ]
    },
    {
      "cell_type": "code",
      "metadata": {
        "colab": {
          "base_uri": "https://localhost:8080/",
          "height": 312
        },
        "id": "dKNWTpQqxyoC",
        "outputId": "a3fb3f72-384d-4b87-a692-e3bf2367f74e"
      },
      "source": [
        "plt.plot(history.history['accuracy'], label='accuracy')\r\n",
        "plt.plot(history.history['val_accuracy'], label = 'val_accuracy')\r\n",
        "plt.xlabel('Epoch')\r\n",
        "plt.ylabel('Accuracy')\r\n",
        "plt.legend(loc='lower right')\r\n",
        "plt.grid()\r\n",
        "plt.title('Accuracy of model')"
      ],
      "execution_count": 36,
      "outputs": [
        {
          "output_type": "execute_result",
          "data": {
            "text/plain": [
              "Text(0.5, 1.0, 'Accuracy of model')"
            ]
          },
          "metadata": {
            "tags": []
          },
          "execution_count": 36
        },
        {
          "output_type": "display_data",
          "data": {
            "image/png": "[encoded data removed]",
            "text/plain": [
              "<Figure size 432x288 with 1 Axes>"
            ]
          },
          "metadata": {
            "tags": [],
            "needs_background": "light"
          }
        }
      ]
    },
    {
      "cell_type": "code",
      "metadata": {
        "colab": {
          "base_uri": "https://localhost:8080/",
          "height": 312
        },
        "id": "Ro_OfpMUkaV1",
        "outputId": "83d46f1a-31d0-4a56-a841-a9574ec96f14"
      },
      "source": [
        "plt.plot(history.history['loss'], label='loss')\r\n",
        "plt.plot(history.history['val_loss'], label = 'val_loss')\r\n",
        "plt.xlabel('Epoch')\r\n",
        "plt.ylabel('Loss')\r\n",
        "plt.legend(loc='lower right')\r\n",
        "plt.grid()\r\n",
        "plt.title('Loss of model')"
      ],
      "execution_count": 37,
      "outputs": [
        {
          "output_type": "execute_result",
          "data": {
            "text/plain": [
              "Text(0.5, 1.0, 'Loss of model')"
            ]
          },
          "metadata": {
            "tags": []
          },
          "execution_count": 37
        },
        {
          "output_type": "display_data",
          "data": {
            "image/png": "[encoded data removed]",
            "text/plain": [
              "<Figure size 432x288 with 1 Axes>"
            ]
          },
          "metadata": {
            "tags": [],
            "needs_background": "light"
          }
        }
      ]
    },
    {
      "cell_type": "markdown",
      "metadata": {
        "id": "TunA9uXisoqY"
      },
      "source": [
        "## OPTIMIZING HYPERPARAMETERS \r\n",
        "\r\n",
        "I'll come back to this later lol\r\n",
        "\r\n",
        "https://towardsdatascience.com/how-to-optimize-hyperparameters-of-machine-learning-models-98baec703593\r\n",
        "\r\n",
        "There are basically four methods:\r\n",
        "\r\n",
        "1. Manual Search: Using knowledge you have about the problem guess parameters and observe the result. Based on that result tweak the parameters. Repeat this process until you find parameters that work well or you run out of time.\r\n",
        "\r\n",
        "2. Grid Search: Using knowledge you have about the problem identify ranges for the hyperparameters. Then select several points from those ranges, usually uniformly distributed. Train your network using every combination of parameters and select the combination that performs best. Alternatively you can repeat your search on a more narrow domain centered around the parameters that perform the best.\r\n",
        "\r\n",
        "3. Random Search: Like grid search you use knowledge of the problem to identify ranges for the hyperparameters. However instead of picking values from those ranges in a methodical manner you instead select them at random. Repeat this process until you find parameters that work well or use what you learn to narrow your search. In the paper Random Search for Hyper-Parameter Optimization Dr. Bengio proposes this be the baseline method against which all other methods should be compared and shows that it tends to work better than the other methods.\r\n",
        "\r\n",
        "4. Bayesian Optimization: More recent work has been focus on improving upon these other approaches by using the information gained from any given experiment to decide how to adjust the hyper parameters for the next experiment. An example of this work would be Practical Bayesian Optimization of Machine Learning Algorithms by Adams et al.\r\n",
        "\r\n",
        "https://stats.stackexchange.com/questions/95495/guideline-to-select-the-hyperparameters-in-deep-learning#:~:text=Grid%20Search%3A%20Using%20knowledge%20you,the%20combination%20that%20performs%20best."
      ]
    },
    {
      "cell_type": "markdown",
      "metadata": {
        "id": "YGIkzivWY8J4"
      },
      "source": [
        "### OVERFITTING \r\n",
        "\r\n",
        "https://datascience.stackexchange.com/questions/19124/how-to-know-the-model-has-started-overfitting\r\n",
        "\r\n",
        "https://towardsdatascience.com/deep-learning-3-more-on-cnns-handling-overfitting-2bd5d99abe5d\r\n"
      ]
    },
    {
      "cell_type": "markdown",
      "metadata": {
        "id": "xkWvpPkGSVh2"
      },
      "source": [
        "## TASK 2"
      ]
    },
    {
      "cell_type": "markdown",
      "metadata": {
        "id": "ckNBU7URyZbR"
      },
      "source": [
        "### How should I define the performance of my classifier? (think false-positives vs false-negatives)\r\n",
        "\r\n",
        "For this I am going to test the clasifier to detect electron neutrinos with the original meta data. As there is no more than 2% of electron neutrino charged-current events in the meta data available, I am expecting to obtain a lower accuracy for the model. \r\n",
        "\r\n",
        "\r\n"
      ]
    },
    {
      "cell_type": "code",
      "metadata": {
        "colab": {
          "base_uri": "https://localhost:8080/",
          "height": 65,
          "referenced_widgets": [
            "875e29c7bca84334a8751d8477525e8d",
            "0d14412c977a4b8f94bf6ff12af3127f",
            "62aa32e6459a4090826c709b190850ec",
            "0fe956a8c43a445987592896d850abb4",
            "4a11b3ceb1c3473d861f00acccf6aaec",
            "a90575eb65614a238f33bc6ee03b665b",
            "f78b083a8b564bcfb23f85bdbae6e734",
            "c39a3b584dd4439da2efc04a953d80c8"
          ]
        },
        "id": "D3NXgGcmSW4P",
        "outputId": "635032bd-ac4a-4338-ba61-524d5f0aeb78"
      },
      "source": [
        "files_t2 = data_retriever(5)"
      ],
      "execution_count": 8,
      "outputs": [
        {
          "output_type": "display_data",
          "data": {
            "application/vnd.jupyter.widget-view+json": {
              "model_id": "875e29c7bca84334a8751d8477525e8d",
              "version_minor": 0,
              "version_major": 2
            },
            "text/plain": [
              "HBox(children=(FloatProgress(value=0.0, max=5.0), HTML(value='')))"
            ]
          },
          "metadata": {
            "tags": []
          }
        },
        {
          "output_type": "stream",
          "text": [
            "\n"
          ],
          "name": "stdout"
        }
      ]
    },
    {
      "cell_type": "code",
      "metadata": {
        "colab": {
          "base_uri": "https://localhost:8080/",
          "height": 65,
          "referenced_widgets": [
            "52fbdf9a457b4710ba9085ab805c5eb6",
            "395abba6d1ed4a5dab0fc79ef8d4c56d",
            "17012b8009eb43dca8737c5ce0661d7d",
            "554041d25b1c4446959589b66e4fc7fa",
            "5d1aa0a5cf62469bbf28886b79ca3b02",
            "1b799763679e42b887352fef91d1ce10",
            "f8ba4401f1e541e285450c3d195c7591",
            "318ecbc2e2d64f02a8868d82de8a868b"
          ]
        },
        "id": "1I56KxBpyY8i",
        "outputId": "3e6bc01e-1ff0-4ce3-f0b8-465b4ddf5585"
      },
      "source": [
        "model_lab_elec=[]\r\n",
        "model_in_1_elec = []\r\n",
        "model_in_2_elec = []\r\n",
        "\r\n",
        "for file_name in tqdm(files_t2):\r\n",
        "    df=h5py.File(file_name, 'r')\r\n",
        "    \r\n",
        "    for i in range(len(df['cvnmap'])):\r\n",
        "      model = df['cvnmap'][i].reshape((2,100,80))\r\n",
        "      model_in_1_elec.append(model[0])\r\n",
        "      model_in_2_elec.append(model[1])\r\n",
        "\r\n",
        "      if df['neutrino']['interaction'][i] > 3 and df['neutrino']['interaction'][i] <= 7:\r\n",
        "        model_lab_elec.append(int(1)) # assigns 1 for electron neutrino CC events \r\n",
        "\r\n",
        "      else:\r\n",
        "        model_lab_elec.append(int(0)) # assigns 0 for the rest of the events \r\n"
      ],
      "execution_count": 9,
      "outputs": [
        {
          "output_type": "display_data",
          "data": {
            "application/vnd.jupyter.widget-view+json": {
              "model_id": "52fbdf9a457b4710ba9085ab805c5eb6",
              "version_minor": 0,
              "version_major": 2
            },
            "text/plain": [
              "HBox(children=(FloatProgress(value=0.0, max=5.0), HTML(value='')))"
            ]
          },
          "metadata": {
            "tags": []
          }
        },
        {
          "output_type": "stream",
          "text": [
            "\n"
          ],
          "name": "stdout"
        }
      ]
    },
    {
      "cell_type": "code",
      "metadata": {
        "id": "J0Wys196Ketk"
      },
      "source": [
        "model_in_1_elec = tf.expand_dims(model_in_1_elec, axis = 3)\r\n",
        "model_in_2_elec = tf.expand_dims(model_in_2_elec, axis = 3)"
      ],
      "execution_count": 11,
      "outputs": []
    },
    {
      "cell_type": "code",
      "metadata": {
        "id": "FOP2jpaZLlnR"
      },
      "source": [
        "train_input_1_elec, test_input_1_elec, val_input_1_elec, train_input_2_elec, test_input_2_elec, val_input_2_elec, train_labels_elec, val_labels_elec, test_labels_elec = data(model_in_1_elec, model_in_2_elec, model_lab_elec)"
      ],
      "execution_count": 12,
      "outputs": []
    },
    {
      "cell_type": "code",
      "metadata": {
        "colab": {
          "base_uri": "https://localhost:8080/"
        },
        "id": "ev9PV67g1EpX",
        "outputId": "0fe09637-73ec-4f95-a9c3-22f4ac6996e9"
      },
      "source": [
        "xy_input = Input(shape=np.shape(model_in_1_elec)[1:])\r\n",
        "xy_model = create_convolution_layers(xy_input, np.shape(model_in_1_elec)[1:])\r\n",
        "\r\n",
        "yz_input = Input(shape=np.shape(model_in_1_elec)[1:])\r\n",
        "yz_model = create_convolution_layers(yz_input, np.shape(model_in_1_elec)[1:])\r\n",
        "\r\n",
        "conv = concatenate([xy_model, yz_model])\r\n",
        "conv = Flatten()(conv)\r\n",
        "\r\n",
        "dense = Dense(32, activation = \"relu\")(conv)\r\n",
        "dense = Dropout(0.5)(dense)\r\n",
        "dense = Dense(64, activation = \"relu\")(dense)\r\n",
        "dense = Dropout(0.5)(dense)\r\n",
        "dense = Dense(32, activation = \"relu\")(dense)\r\n",
        "dense = Dropout(0.5)(dense)\r\n",
        "\r\n",
        "output = Dense(1, activation =\"sigmoid\")(dense)\r\n",
        "\r\n",
        "model = Model(inputs = [xy_input, yz_input], outputs = [output])\r\n",
        "\r\n",
        "\r\n",
        "model.compile(loss=tf.keras.losses.binary_crossentropy,\r\n",
        "              optimizer='adam',\r\n",
        "              metrics=['accuracy']) \r\n",
        "\r\n",
        "model.summary()"
      ],
      "execution_count": 21,
      "outputs": [
        {
          "output_type": "stream",
          "text": [
            "Model: \"model_1\"\n",
            "__________________________________________________________________________________________________\n",
            "Layer (type)                    Output Shape         Param #     Connected to                     \n",
            "==================================================================================================\n",
            "input_4 (InputLayer)            [(None, 100, 80, 1)] 0                                            \n",
            "__________________________________________________________________________________________________\n",
            "input_5 (InputLayer)            [(None, 100, 80, 1)] 0                                            \n",
            "__________________________________________________________________________________________________\n",
            "conv2d_9 (Conv2D)               (None, 100, 80, 8)   80          input_4[0][0]                    \n",
            "__________________________________________________________________________________________________\n",
            "conv2d_12 (Conv2D)              (None, 100, 80, 8)   80          input_5[0][0]                    \n",
            "__________________________________________________________________________________________________\n",
            "max_pooling2d_9 (MaxPooling2D)  (None, 50, 40, 8)    0           conv2d_9[0][0]                   \n",
            "__________________________________________________________________________________________________\n",
            "max_pooling2d_12 (MaxPooling2D) (None, 50, 40, 8)    0           conv2d_12[0][0]                  \n",
            "__________________________________________________________________________________________________\n",
            "dropout_12 (Dropout)            (None, 50, 40, 8)    0           max_pooling2d_9[0][0]            \n",
            "__________________________________________________________________________________________________\n",
            "dropout_15 (Dropout)            (None, 50, 40, 8)    0           max_pooling2d_12[0][0]           \n",
            "__________________________________________________________________________________________________\n",
            "conv2d_10 (Conv2D)              (None, 50, 40, 16)   1168        dropout_12[0][0]                 \n",
            "__________________________________________________________________________________________________\n",
            "conv2d_13 (Conv2D)              (None, 50, 40, 16)   1168        dropout_15[0][0]                 \n",
            "__________________________________________________________________________________________________\n",
            "max_pooling2d_10 (MaxPooling2D) (None, 25, 20, 16)   0           conv2d_10[0][0]                  \n",
            "__________________________________________________________________________________________________\n",
            "max_pooling2d_13 (MaxPooling2D) (None, 25, 20, 16)   0           conv2d_13[0][0]                  \n",
            "__________________________________________________________________________________________________\n",
            "dropout_13 (Dropout)            (None, 25, 20, 16)   0           max_pooling2d_10[0][0]           \n",
            "__________________________________________________________________________________________________\n",
            "dropout_16 (Dropout)            (None, 25, 20, 16)   0           max_pooling2d_13[0][0]           \n",
            "__________________________________________________________________________________________________\n",
            "conv2d_11 (Conv2D)              (None, 25, 20, 32)   4640        dropout_13[0][0]                 \n",
            "__________________________________________________________________________________________________\n",
            "conv2d_14 (Conv2D)              (None, 25, 20, 32)   4640        dropout_16[0][0]                 \n",
            "__________________________________________________________________________________________________\n",
            "max_pooling2d_11 (MaxPooling2D) (None, 13, 10, 32)   0           conv2d_11[0][0]                  \n",
            "__________________________________________________________________________________________________\n",
            "max_pooling2d_14 (MaxPooling2D) (None, 13, 10, 32)   0           conv2d_14[0][0]                  \n",
            "__________________________________________________________________________________________________\n",
            "dropout_14 (Dropout)            (None, 13, 10, 32)   0           max_pooling2d_11[0][0]           \n",
            "__________________________________________________________________________________________________\n",
            "dropout_17 (Dropout)            (None, 13, 10, 32)   0           max_pooling2d_14[0][0]           \n",
            "__________________________________________________________________________________________________\n",
            "concatenate_1 (Concatenate)     (None, 13, 10, 64)   0           dropout_14[0][0]                 \n",
            "                                                                 dropout_17[0][0]                 \n",
            "__________________________________________________________________________________________________\n",
            "flatten_1 (Flatten)             (None, 8320)         0           concatenate_1[0][0]              \n",
            "__________________________________________________________________________________________________\n",
            "dense_4 (Dense)                 (None, 32)           266272      flatten_1[0][0]                  \n",
            "__________________________________________________________________________________________________\n",
            "dropout_18 (Dropout)            (None, 32)           0           dense_4[0][0]                    \n",
            "__________________________________________________________________________________________________\n",
            "dense_5 (Dense)                 (None, 64)           2112        dropout_18[0][0]                 \n",
            "__________________________________________________________________________________________________\n",
            "dropout_19 (Dropout)            (None, 64)           0           dense_5[0][0]                    \n",
            "__________________________________________________________________________________________________\n",
            "dense_6 (Dense)                 (None, 32)           2080        dropout_19[0][0]                 \n",
            "__________________________________________________________________________________________________\n",
            "dropout_20 (Dropout)            (None, 32)           0           dense_6[0][0]                    \n",
            "__________________________________________________________________________________________________\n",
            "dense_7 (Dense)                 (None, 1)            33          dropout_20[0][0]                 \n",
            "==================================================================================================\n",
            "Total params: 282,273\n",
            "Trainable params: 282,273\n",
            "Non-trainable params: 0\n",
            "__________________________________________________________________________________________________\n"
          ],
          "name": "stdout"
        }
      ]
    },
    {
      "cell_type": "code",
      "metadata": {
        "colab": {
          "base_uri": "https://localhost:8080/"
        },
        "id": "s7UwaujX1ZEd",
        "outputId": "84619201-5d58-4184-8831-76621ecb0f41"
      },
      "source": [
        "earlystopping = callbacks.EarlyStopping(monitor =\"val_loss\", mode =\"min\", patience = 5, restore_best_weights = True) \r\n",
        "\r\n",
        "history = model.fit(x=[train_input_1_elec,train_input_2_elec],y=train_labels_elec, batch_size=64, epochs=35,validation_data=([val_input_1_elec,val_input_2_elec],val_labels_elec), callbacks =[earlystopping] )"
      ],
      "execution_count": 23,
      "outputs": [
        {
          "output_type": "stream",
          "text": [
            "Epoch 1/35\n",
            "348/348 [==============================] - 13s 14ms/step - loss: 0.1942 - accuracy: 0.9510 - val_loss: 0.0649 - val_accuracy: 0.9863\n",
            "Epoch 2/35\n",
            "348/348 [==============================] - 5s 13ms/step - loss: 0.0772 - accuracy: 0.9884 - val_loss: 0.0660 - val_accuracy: 0.9863\n",
            "Epoch 3/35\n",
            "348/348 [==============================] - 5s 13ms/step - loss: 0.0733 - accuracy: 0.9887 - val_loss: 0.0662 - val_accuracy: 0.9863\n",
            "Epoch 4/35\n",
            "348/348 [==============================] - 5s 14ms/step - loss: 0.0733 - accuracy: 0.9881 - val_loss: 0.0660 - val_accuracy: 0.9863\n",
            "Epoch 5/35\n",
            "348/348 [==============================] - 5s 13ms/step - loss: 0.0682 - accuracy: 0.9893 - val_loss: 0.0654 - val_accuracy: 0.9863\n",
            "Epoch 6/35\n",
            "348/348 [==============================] - 5s 14ms/step - loss: 0.0701 - accuracy: 0.9879 - val_loss: 0.0665 - val_accuracy: 0.9863\n"
          ],
          "name": "stdout"
        }
      ]
    },
    {
      "cell_type": "code",
      "metadata": {
        "colab": {
          "base_uri": "https://localhost:8080/"
        },
        "id": "HFI8XhUyO_wk",
        "outputId": "ec41f441-c583-4c38-e4d7-9579fef82995"
      },
      "source": [
        "test_loss, test_acc = model.evaluate([test_input_1_elec,test_input_2_elec],  test_labels_elec, verbose=2)"
      ],
      "execution_count": 24,
      "outputs": [
        {
          "output_type": "stream",
          "text": [
            "218/218 - 1s - loss: 0.0604 - accuracy: 0.9882\n"
          ],
          "name": "stdout"
        }
      ]
    },
    {
      "cell_type": "code",
      "metadata": {
        "colab": {
          "base_uri": "https://localhost:8080/",
          "height": 312
        },
        "id": "Gyrrll-BPIc3",
        "outputId": "9964ca5c-cda3-45cd-bca4-cbc8576dc880"
      },
      "source": [
        "plt.plot(history.history['accuracy'], label='accuracy')\r\n",
        "plt.plot(history.history['val_accuracy'], label = 'val_accuracy')\r\n",
        "plt.xlabel('Epoch')\r\n",
        "plt.ylabel('Accuracy')\r\n",
        "plt.legend(loc='lower right')\r\n",
        "plt.grid()\r\n",
        "plt.title('Accuracy of model')"
      ],
      "execution_count": 25,
      "outputs": [
        {
          "output_type": "execute_result",
          "data": {
            "text/plain": [
              "Text(0.5, 1.0, 'Accuracy of model')"
            ]
          },
          "metadata": {
            "tags": []
          },
          "execution_count": 25
        },
        {
          "output_type": "display_data",
          "data": {
            "image/png": "[encoded data removed]",
            "text/plain": [
              "<Figure size 432x288 with 1 Axes>"
            ]
          },
          "metadata": {
            "tags": [],
            "needs_background": "light"
          }
        }
      ]
    },
    {
      "cell_type": "markdown",
      "metadata": {
        "id": "lY_TS0hxPUm-"
      },
      "source": [
        "Instead I get a higher accuracy than for detection of muon neutrino CC events, for which I have almost 80 times more data than for electron neutrino CC events\r\n",
        "\r\n",
        "This is due to the data imbalance paradox and suggests that it is extremly important to have a balanced data set for accurate results as, in this case, for a very imbalanced data set the model is predicting false-positives. \r\n",
        "\r\n",
        "Below the data will be fixed and a binary classification for detection of electron neutrino CC events will be made and it should achieve a similar accuracy as for detection of muon neutrino CC events as the data set will now be balanced. "
      ]
    },
    {
      "cell_type": "markdown",
      "metadata": {
        "id": "fbPEh0aiUDC_"
      },
      "source": [
        "I expected to see a lower accuracy for electron neutrinos as there is a lower percentage of these events in the data and I thought the network wouldn't have been able to learn that much to identify these events. \r\n",
        "\r\n",
        "Investigating this issue I came across the data imbalance paradox and realised I need to fix my data in order to get better results. \r\n",
        "\r\n",
        "I revisit task 1 and task 2 to fix the data imbalance and see how the accuracy of the network improves. \r\n",
        "\r\n",
        "(I should plots histograms here to show how I balance out the 0s and 1s)"
      ]
    },
    {
      "cell_type": "code",
      "metadata": {
        "colab": {
          "base_uri": "https://localhost:8080/",
          "height": 65,
          "referenced_widgets": [
            "494712aff5024388bc3e05b864c03ded",
            "eb4c33296d024a3095463790a8b25b73",
            "38a022a39e8a4caf82e6fc16614b4693",
            "a42bfba25a7546879b36e7a208df5b02",
            "af5d62dd80de40dfbd57933e3e794915",
            "c709e87f701c43f2b421e7a0eb3b4851",
            "8dbb291c855c47c2b9d3b1bb3c2b2885",
            "c6d4173d73ef498abbeaa33d55e492fd"
          ]
        },
        "id": "XCUd_yOFQSLK",
        "outputId": "a8da8e90-0c47-453e-beb7-67fb3dfa5dec"
      },
      "source": [
        "files_t2_2 = np.array(data_retriever(70))"
      ],
      "execution_count": 12,
      "outputs": [
        {
          "output_type": "display_data",
          "data": {
            "application/vnd.jupyter.widget-view+json": {
              "model_id": "494712aff5024388bc3e05b864c03ded",
              "version_minor": 0,
              "version_major": 2
            },
            "text/plain": [
              "HBox(children=(FloatProgress(value=0.0, max=70.0), HTML(value='')))"
            ]
          },
          "metadata": {
            "tags": []
          }
        },
        {
          "output_type": "stream",
          "text": [
            "\n"
          ],
          "name": "stdout"
        }
      ]
    },
    {
      "cell_type": "code",
      "metadata": {
        "id": "-f1E7vHcRnd1"
      },
      "source": [
        "files_t2_2_90, files_t2_2_10 = train_test_split(files_t2_2, train_size = 0.99)"
      ],
      "execution_count": 22,
      "outputs": []
    },
    {
      "cell_type": "markdown",
      "metadata": {
        "id": "k4YXbFFRQaxN"
      },
      "source": [
        "70 files with 100% being used to retrieve the electron neutrino charged-current events and 1% used for the other events are needed to balance out the data as seen on the histogram below. "
      ]
    },
    {
      "cell_type": "code",
      "metadata": {
        "colab": {
          "base_uri": "https://localhost:8080/",
          "height": 114,
          "referenced_widgets": [
            "d51c588b4500442cad070851447d20ae",
            "f6b38a65908f49d38385c88e9b1c3204",
            "cce27160d999488d8c8f41f1ac2d8016",
            "1c003f0057ac49b1b562553d8677adcb",
            "43c09f3700f3485084bf4e679053d828",
            "374893932be2441886ca9ec1222527f8",
            "336f0c92860c4a05a82c081ab6897136",
            "84e005fe7a244fb798dec77839248c29",
            "141a5dca541e49218e2492e30c11e4aa",
            "8d263a9c9f2448328420901e1d4de0f8",
            "62d44f3202544fae8195dc87db473908",
            "6659e175b6304cdc849359d995b6c27c",
            "c40bea8aa9574f25905dc382010738f0",
            "959245c4735948c28106fdf86b909f9c",
            "4d51e432a6ef43b88a2bcbecfea580c6",
            "06a5e12c5fcd459493c06552b5d756dc"
          ]
        },
        "id": "EKndjtXhES49",
        "outputId": "6e005583-19bf-481e-fc59-a6d6103ffa88"
      },
      "source": [
        "model_lab_elec_b = []\r\n",
        "model_in_1_elec_b = []\r\n",
        "model_in_2_elec_b = []\r\n",
        "\r\n",
        "for file_name in tqdm(files_t2_2):\r\n",
        "  df=h5py.File(file_name, 'r')\r\n",
        "\r\n",
        "  for i in range(len(df['cvnmap'])):  \r\n",
        "    if (df['neutrino']['interaction'][i])>=4 and (df['neutrino']['interaction'][i])<=7: \r\n",
        "      m = (df['cvnmap'][i]).reshape((2,100,80))\r\n",
        "      model_in_1_elec_b.append(m[0])\r\n",
        "      model_in_2_elec_b.append(m[1])\r\n",
        "      model_lab_elec_b.append(int(1)) # 1 is electron neutrino charged-current event\r\n",
        "    else:\r\n",
        "      pass\r\n",
        "    \r\n",
        "\r\n",
        "for file_name in tqdm(files_t2_2_10):\r\n",
        "  df=h5py.File(file_name, 'r')\r\n",
        "  for j in range(len(df['cvnmap'])):\r\n",
        "    if (df['neutrino']['interaction'][j])<=3 or (df['neutrino']['interaction'][j])>=8:\r\n",
        "      m = (df['cvnmap'][j]).reshape((2,100,80))\r\n",
        "      model_in_1_elec_b.append(m[0])\r\n",
        "      model_in_2_elec_b.append(m[1])\r\n",
        "      model_lab_elec_b.append(int(0)) # 0 is not electron neutrino charged-current event\r\n",
        "    else:\r\n",
        "      pass"
      ],
      "execution_count": 24,
      "outputs": [
        {
          "output_type": "display_data",
          "data": {
            "application/vnd.jupyter.widget-view+json": {
              "model_id": "d51c588b4500442cad070851447d20ae",
              "version_minor": 0,
              "version_major": 2
            },
            "text/plain": [
              "HBox(children=(FloatProgress(value=0.0, max=70.0), HTML(value='')))"
            ]
          },
          "metadata": {
            "tags": []
          }
        },
        {
          "output_type": "stream",
          "text": [
            "\n"
          ],
          "name": "stdout"
        },
        {
          "output_type": "display_data",
          "data": {
            "application/vnd.jupyter.widget-view+json": {
              "model_id": "141a5dca541e49218e2492e30c11e4aa",
              "version_minor": 0,
              "version_major": 2
            },
            "text/plain": [
              "HBox(children=(FloatProgress(value=0.0, max=1.0), HTML(value='')))"
            ]
          },
          "metadata": {
            "tags": []
          }
        },
        {
          "output_type": "stream",
          "text": [
            "\n"
          ],
          "name": "stdout"
        }
      ]
    },
    {
      "cell_type": "code",
      "metadata": {
        "colab": {
          "base_uri": "https://localhost:8080/",
          "height": 297
        },
        "id": "HhIDUj1W-anK",
        "outputId": "c6c48aa8-4abf-4acc-bfed-b812f725207d"
      },
      "source": [
        "plt.hist(model_lab_elec_b)\r\n",
        "plt.title('Balanced data set for electron neutrino CC events detection')"
      ],
      "execution_count": 25,
      "outputs": [
        {
          "output_type": "execute_result",
          "data": {
            "text/plain": [
              "Text(0.5, 1.0, 'Balanced data set for electron neutrino CC events detection')"
            ]
          },
          "metadata": {
            "tags": []
          },
          "execution_count": 25
        },
        {
          "output_type": "display_data",
          "data": {
            "image/png": "[encoded data removed]",
            "text/plain": [
              "<Figure size 432x288 with 1 Axes>"
            ]
          },
          "metadata": {
            "tags": [],
            "needs_background": "light"
          }
        }
      ]
    },
    {
      "cell_type": "code",
      "metadata": {
        "id": "LLm1x5NAZKLq"
      },
      "source": [
        "model_lab_elec_b, model_in_1_elec_b, model_in_2_elec_b = shuffle_data(model_lab_elec_b, model_in_1_elec_b, model_in_2_elec_b)"
      ],
      "execution_count": 26,
      "outputs": []
    },
    {
      "cell_type": "code",
      "metadata": {
        "id": "p6Zgvz_fZU66"
      },
      "source": [
        "model_in_1_elec_b = tf.expand_dims(model_in_1_elec_b, axis = 3)\r\n",
        "model_in_2_elec_b = tf.expand_dims(model_in_2_elec_b, axis = 3)\r\n",
        "train_input_1_elec_b, test_input_1_elec_b, val_input_1_elec_b, train_input_2_elec_b, test_input_2_elec_b, val_input_2_elec_b, train_labels_elec_b, val_labels_elec_b, test_labels_elec_b = data(model_in_1_elec_b, model_in_2_elec_b, model_lab_elec_b)\r\n"
      ],
      "execution_count": 27,
      "outputs": []
    },
    {
      "cell_type": "code",
      "metadata": {
        "colab": {
          "base_uri": "https://localhost:8080/"
        },
        "id": "nscf3t2-TkgI",
        "outputId": "ffca148b-681b-403e-abfa-18ea4ce750e0"
      },
      "source": [
        "xy_input = Input(shape=np.shape(model_in_1_elec_b)[1:])\r\n",
        "xy_model = create_convolution_layers(xy_input, np.shape(model_in_1_elec_b)[1:])\r\n",
        "\r\n",
        "yz_input = Input(shape=np.shape(model_in_1_elec_b)[1:])\r\n",
        "yz_model = create_convolution_layers(yz_input, np.shape(model_in_1_elec_b)[1:])\r\n",
        "\r\n",
        "conv = concatenate([xy_model, yz_model])\r\n",
        "conv = Flatten()(conv)\r\n",
        "\r\n",
        "dense = Dense(32, activation = \"relu\")(conv)\r\n",
        "dense = Dropout(0.5)(dense)\r\n",
        "dense = Dense(64, activation = \"relu\")(dense)\r\n",
        "dense = Dropout(0.5)(dense)\r\n",
        "dense = Dense(32, activation = \"relu\")(dense)\r\n",
        "dense = Dropout(0.5)(dense)\r\n",
        "\r\n",
        "output = Dense(1, activation =\"sigmoid\")(dense)\r\n",
        "\r\n",
        "model = Model(inputs = [xy_input, yz_input], outputs = [output])\r\n",
        "\r\n",
        "\r\n",
        "model.compile(loss=tf.keras.losses.binary_crossentropy,\r\n",
        "              optimizer='adam',\r\n",
        "              metrics=['accuracy']) \r\n",
        "\r\n",
        "model.summary()"
      ],
      "execution_count": 29,
      "outputs": [
        {
          "output_type": "stream",
          "text": [
            "Model: \"model\"\n",
            "__________________________________________________________________________________________________\n",
            "Layer (type)                    Output Shape         Param #     Connected to                     \n",
            "==================================================================================================\n",
            "input_1 (InputLayer)            [(None, 100, 80, 1)] 0                                            \n",
            "__________________________________________________________________________________________________\n",
            "input_2 (InputLayer)            [(None, 100, 80, 1)] 0                                            \n",
            "__________________________________________________________________________________________________\n",
            "conv2d (Conv2D)                 (None, 100, 80, 8)   80          input_1[0][0]                    \n",
            "__________________________________________________________________________________________________\n",
            "conv2d_3 (Conv2D)               (None, 100, 80, 8)   80          input_2[0][0]                    \n",
            "__________________________________________________________________________________________________\n",
            "max_pooling2d (MaxPooling2D)    (None, 50, 40, 8)    0           conv2d[0][0]                     \n",
            "__________________________________________________________________________________________________\n",
            "max_pooling2d_3 (MaxPooling2D)  (None, 50, 40, 8)    0           conv2d_3[0][0]                   \n",
            "__________________________________________________________________________________________________\n",
            "dropout (Dropout)               (None, 50, 40, 8)    0           max_pooling2d[0][0]              \n",
            "__________________________________________________________________________________________________\n",
            "dropout_3 (Dropout)             (None, 50, 40, 8)    0           max_pooling2d_3[0][0]            \n",
            "__________________________________________________________________________________________________\n",
            "conv2d_1 (Conv2D)               (None, 50, 40, 16)   1168        dropout[0][0]                    \n",
            "__________________________________________________________________________________________________\n",
            "conv2d_4 (Conv2D)               (None, 50, 40, 16)   1168        dropout_3[0][0]                  \n",
            "__________________________________________________________________________________________________\n",
            "max_pooling2d_1 (MaxPooling2D)  (None, 25, 20, 16)   0           conv2d_1[0][0]                   \n",
            "__________________________________________________________________________________________________\n",
            "max_pooling2d_4 (MaxPooling2D)  (None, 25, 20, 16)   0           conv2d_4[0][0]                   \n",
            "__________________________________________________________________________________________________\n",
            "dropout_1 (Dropout)             (None, 25, 20, 16)   0           max_pooling2d_1[0][0]            \n",
            "__________________________________________________________________________________________________\n",
            "dropout_4 (Dropout)             (None, 25, 20, 16)   0           max_pooling2d_4[0][0]            \n",
            "__________________________________________________________________________________________________\n",
            "conv2d_2 (Conv2D)               (None, 25, 20, 32)   4640        dropout_1[0][0]                  \n",
            "__________________________________________________________________________________________________\n",
            "conv2d_5 (Conv2D)               (None, 25, 20, 32)   4640        dropout_4[0][0]                  \n",
            "__________________________________________________________________________________________________\n",
            "max_pooling2d_2 (MaxPooling2D)  (None, 13, 10, 32)   0           conv2d_2[0][0]                   \n",
            "__________________________________________________________________________________________________\n",
            "max_pooling2d_5 (MaxPooling2D)  (None, 13, 10, 32)   0           conv2d_5[0][0]                   \n",
            "__________________________________________________________________________________________________\n",
            "dropout_2 (Dropout)             (None, 13, 10, 32)   0           max_pooling2d_2[0][0]            \n",
            "__________________________________________________________________________________________________\n",
            "dropout_5 (Dropout)             (None, 13, 10, 32)   0           max_pooling2d_5[0][0]            \n",
            "__________________________________________________________________________________________________\n",
            "concatenate (Concatenate)       (None, 13, 10, 64)   0           dropout_2[0][0]                  \n",
            "                                                                 dropout_5[0][0]                  \n",
            "__________________________________________________________________________________________________\n",
            "flatten (Flatten)               (None, 8320)         0           concatenate[0][0]                \n",
            "__________________________________________________________________________________________________\n",
            "dense (Dense)                   (None, 32)           266272      flatten[0][0]                    \n",
            "__________________________________________________________________________________________________\n",
            "dropout_6 (Dropout)             (None, 32)           0           dense[0][0]                      \n",
            "__________________________________________________________________________________________________\n",
            "dense_1 (Dense)                 (None, 64)           2112        dropout_6[0][0]                  \n",
            "__________________________________________________________________________________________________\n",
            "dropout_7 (Dropout)             (None, 64)           0           dense_1[0][0]                    \n",
            "__________________________________________________________________________________________________\n",
            "dense_2 (Dense)                 (None, 32)           2080        dropout_7[0][0]                  \n",
            "__________________________________________________________________________________________________\n",
            "dropout_8 (Dropout)             (None, 32)           0           dense_2[0][0]                    \n",
            "__________________________________________________________________________________________________\n",
            "dense_3 (Dense)                 (None, 1)            33          dropout_8[0][0]                  \n",
            "==================================================================================================\n",
            "Total params: 282,273\n",
            "Trainable params: 282,273\n",
            "Non-trainable params: 0\n",
            "__________________________________________________________________________________________________\n"
          ],
          "name": "stdout"
        }
      ]
    },
    {
      "cell_type": "code",
      "metadata": {
        "colab": {
          "base_uri": "https://localhost:8080/"
        },
        "id": "NleJswt7axyc",
        "outputId": "262ccb8a-81a0-4c09-d04c-7eb00126aacd"
      },
      "source": [
        "earlystopping = callbacks.EarlyStopping(monitor =\"val_loss\", mode =\"min\", patience = 5, restore_best_weights = True) \r\n",
        "\r\n",
        "history = model.fit(x=[train_input_1_elec_b,train_input_2_elec_b],y=train_labels_elec_b, batch_size=32, epochs=35,validation_data=([val_input_1_elec_b,val_input_2_elec_b],val_labels_elec_b), callbacks =[earlystopping] )"
      ],
      "execution_count": 34,
      "outputs": [
        {
          "output_type": "stream",
          "text": [
            "Epoch 1/35\n",
            "258/258 [==============================] - 3s 10ms/step - loss: 0.5241 - accuracy: 0.7203 - val_loss: 0.5076 - val_accuracy: 0.7157\n",
            "Epoch 2/35\n",
            "258/258 [==============================] - 2s 9ms/step - loss: 0.5181 - accuracy: 0.7271 - val_loss: 0.5227 - val_accuracy: 0.7128\n",
            "Epoch 3/35\n",
            "258/258 [==============================] - 2s 9ms/step - loss: 0.5138 - accuracy: 0.7201 - val_loss: 0.4921 - val_accuracy: 0.7211\n",
            "Epoch 4/35\n",
            "258/258 [==============================] - 2s 9ms/step - loss: 0.5080 - accuracy: 0.7323 - val_loss: 0.5024 - val_accuracy: 0.7274\n",
            "Epoch 5/35\n",
            "258/258 [==============================] - 2s 9ms/step - loss: 0.5021 - accuracy: 0.7340 - val_loss: 0.4973 - val_accuracy: 0.7381\n",
            "Epoch 6/35\n",
            "258/258 [==============================] - 2s 9ms/step - loss: 0.5031 - accuracy: 0.7330 - val_loss: 0.4928 - val_accuracy: 0.7405\n",
            "Epoch 7/35\n",
            "258/258 [==============================] - 2s 9ms/step - loss: 0.4882 - accuracy: 0.7436 - val_loss: 0.4835 - val_accuracy: 0.7430\n",
            "Epoch 8/35\n",
            "258/258 [==============================] - 2s 9ms/step - loss: 0.4864 - accuracy: 0.7477 - val_loss: 0.4871 - val_accuracy: 0.7289\n",
            "Epoch 9/35\n",
            "258/258 [==============================] - 2s 9ms/step - loss: 0.4953 - accuracy: 0.7442 - val_loss: 0.4977 - val_accuracy: 0.7405\n",
            "Epoch 10/35\n",
            "258/258 [==============================] - 2s 9ms/step - loss: 0.4861 - accuracy: 0.7420 - val_loss: 0.4915 - val_accuracy: 0.7352\n",
            "Epoch 11/35\n",
            "258/258 [==============================] - 2s 9ms/step - loss: 0.4852 - accuracy: 0.7453 - val_loss: 0.4868 - val_accuracy: 0.7391\n",
            "Epoch 12/35\n",
            "258/258 [==============================] - 2s 9ms/step - loss: 0.4806 - accuracy: 0.7487 - val_loss: 0.4807 - val_accuracy: 0.7483\n",
            "Epoch 13/35\n",
            "258/258 [==============================] - 2s 9ms/step - loss: 0.4797 - accuracy: 0.7464 - val_loss: 0.4798 - val_accuracy: 0.7483\n",
            "Epoch 14/35\n",
            "258/258 [==============================] - 2s 9ms/step - loss: 0.4703 - accuracy: 0.7556 - val_loss: 0.4791 - val_accuracy: 0.7570\n",
            "Epoch 15/35\n",
            "258/258 [==============================] - 2s 9ms/step - loss: 0.4708 - accuracy: 0.7566 - val_loss: 0.4789 - val_accuracy: 0.7488\n",
            "Epoch 16/35\n",
            "258/258 [==============================] - 2s 9ms/step - loss: 0.4638 - accuracy: 0.7587 - val_loss: 0.4703 - val_accuracy: 0.7512\n",
            "Epoch 17/35\n",
            "258/258 [==============================] - 2s 9ms/step - loss: 0.4615 - accuracy: 0.7594 - val_loss: 0.4718 - val_accuracy: 0.7590\n",
            "Epoch 18/35\n",
            "258/258 [==============================] - 2s 9ms/step - loss: 0.4556 - accuracy: 0.7659 - val_loss: 0.4868 - val_accuracy: 0.7507\n",
            "Epoch 19/35\n",
            "258/258 [==============================] - 2s 9ms/step - loss: 0.4689 - accuracy: 0.7573 - val_loss: 0.4667 - val_accuracy: 0.7566\n",
            "Epoch 20/35\n",
            "258/258 [==============================] - 2s 9ms/step - loss: 0.4541 - accuracy: 0.7623 - val_loss: 0.4780 - val_accuracy: 0.7493\n",
            "Epoch 21/35\n",
            "258/258 [==============================] - 2s 9ms/step - loss: 0.4621 - accuracy: 0.7627 - val_loss: 0.4739 - val_accuracy: 0.7493\n",
            "Epoch 22/35\n",
            "258/258 [==============================] - 2s 9ms/step - loss: 0.4556 - accuracy: 0.7635 - val_loss: 0.4721 - val_accuracy: 0.7663\n",
            "Epoch 23/35\n",
            "258/258 [==============================] - 2s 9ms/step - loss: 0.4502 - accuracy: 0.7691 - val_loss: 0.4769 - val_accuracy: 0.7546\n",
            "Epoch 24/35\n",
            "258/258 [==============================] - 2s 9ms/step - loss: 0.4515 - accuracy: 0.7655 - val_loss: 0.4531 - val_accuracy: 0.7682\n",
            "Epoch 25/35\n",
            "258/258 [==============================] - 2s 9ms/step - loss: 0.4496 - accuracy: 0.7661 - val_loss: 0.4589 - val_accuracy: 0.7638\n",
            "Epoch 26/35\n",
            "258/258 [==============================] - 2s 9ms/step - loss: 0.4486 - accuracy: 0.7666 - val_loss: 0.4822 - val_accuracy: 0.7536\n",
            "Epoch 27/35\n",
            "258/258 [==============================] - 2s 9ms/step - loss: 0.4470 - accuracy: 0.7740 - val_loss: 0.4612 - val_accuracy: 0.7527\n",
            "Epoch 28/35\n",
            "258/258 [==============================] - 2s 9ms/step - loss: 0.4460 - accuracy: 0.7715 - val_loss: 0.4578 - val_accuracy: 0.7697\n",
            "Epoch 29/35\n",
            "258/258 [==============================] - 2s 9ms/step - loss: 0.4328 - accuracy: 0.7776 - val_loss: 0.4612 - val_accuracy: 0.7585\n"
          ],
          "name": "stdout"
        }
      ]
    },
    {
      "cell_type": "code",
      "metadata": {
        "colab": {
          "base_uri": "https://localhost:8080/"
        },
        "id": "qeHXkBO1HWfR",
        "outputId": "009a0b69-e790-43aa-d6b4-95bd281bd605"
      },
      "source": [
        "test_loss, test_acc = model.evaluate([test_input_1_elec_b,test_input_2_elec_b],  test_labels_elec_b, verbose=2)"
      ],
      "execution_count": 35,
      "outputs": [
        {
          "output_type": "stream",
          "text": [
            "81/81 - 0s - loss: 0.4573 - accuracy: 0.7617\n"
          ],
          "name": "stdout"
        }
      ]
    },
    {
      "cell_type": "code",
      "metadata": {
        "colab": {
          "base_uri": "https://localhost:8080/",
          "height": 312
        },
        "id": "dSwKIMWXcUUD",
        "outputId": "7b720975-1769-4d85-c55b-edae9148d993"
      },
      "source": [
        "plt.plot(history.history['accuracy'], label='accuracy')\r\n",
        "plt.plot(history.history['val_accuracy'], label = 'val_accuracy')\r\n",
        "plt.xlabel('Epoch')\r\n",
        "plt.ylabel('Accuracy')\r\n",
        "plt.legend(loc='lower right')\r\n",
        "plt.grid()\r\n",
        "plt.title('Accuracy of model')"
      ],
      "execution_count": 36,
      "outputs": [
        {
          "output_type": "execute_result",
          "data": {
            "text/plain": [
              "Text(0.5, 1.0, 'Accuracy of model')"
            ]
          },
          "metadata": {
            "tags": []
          },
          "execution_count": 36
        },
        {
          "output_type": "display_data",
          "data": {
            "image/png": "[encoded data removed]",
            "text/plain": [
              "<Figure size 432x288 with 1 Axes>"
            ]
          },
          "metadata": {
            "tags": [],
            "needs_background": "light"
          }
        }
      ]
    },
    {
      "cell_type": "markdown",
      "metadata": {
        "id": "FUClUSuQcLjt"
      },
      "source": [
        "## Does my classifier perform as well on DIS (i.e. messy) events as it does on QE (i.e. clean) events?"
      ]
    },
    {
      "cell_type": "code",
      "metadata": {
        "colab": {
          "base_uri": "https://localhost:8080/",
          "height": 65,
          "referenced_widgets": [
            "79e4a44db6dc4058b10fa875de22c58f",
            "7431d90c7d134b26b9bf969d07bcd0df",
            "c5093ce84d7644ab887d6ace776c1d85",
            "77e91f3842ac4878b79f3917a9c82b58",
            "678420c6b94f4df0820994910f85c8ce",
            "f90bf3d7240f4b77a4b39c85ec8d16fe",
            "ac00b29f97f246f3b42fb84bd18bff2d",
            "bde5fd410bbd4456ac36e9ff00b83b40"
          ]
        },
        "id": "Rm6CoRL0bc1F",
        "outputId": "3ec07b9f-641c-4392-e637-95f480d6bf04"
      },
      "source": [
        "files_t2_3 = np.array(data_retriever(20))"
      ],
      "execution_count": 47,
      "outputs": [
        {
          "output_type": "display_data",
          "data": {
            "application/vnd.jupyter.widget-view+json": {
              "model_id": "79e4a44db6dc4058b10fa875de22c58f",
              "version_minor": 0,
              "version_major": 2
            },
            "text/plain": [
              "HBox(children=(FloatProgress(value=0.0, max=20.0), HTML(value='')))"
            ]
          },
          "metadata": {
            "tags": []
          }
        },
        {
          "output_type": "stream",
          "text": [
            "\n"
          ],
          "name": "stdout"
        }
      ]
    },
    {
      "cell_type": "code",
      "metadata": {
        "colab": {
          "base_uri": "https://localhost:8080/",
          "height": 65,
          "referenced_widgets": [
            "263cb04f46164f98a4606c78d0e4ad9d",
            "1c919c1826d2400e9df11b37c634aac1",
            "963e5eeea46240bf98cd1272436ce676",
            "3234ae513674492bafae97307715de32",
            "b0a7128a8bdd4c22864008f730c1bc3f",
            "a01f41e92cc84940980317e8ba874f90",
            "0905848a60844442bd422c1e9b6fcf25",
            "a3bfc7aaaa324625b9b4f7afded298a5"
          ]
        },
        "id": "bt8BSzNwx3pw",
        "outputId": "33e7f5e6-1e3f-4052-f09a-cabc9fd3de38"
      },
      "source": [
        "QE_counter = 0\r\n",
        "DIS_counter = 0\r\n",
        "total_events = 0\r\n",
        "\r\n",
        "for file_name in tqdm(files_t2_3):\r\n",
        "  df=h5py.File(file_name, 'r')\r\n",
        "  tot = len(df['neutrino']['interaction'])\r\n",
        "  total_events = total_events + tot\r\n",
        "  \r\n",
        "  for i in range(len(df['cvnmap'])):  \r\n",
        "    if (df['neutrino']['interaction'][i]) == 0 or (df['neutrino']['interaction'][i]) == 4 or (df['neutrino']['interaction'][i]) == 8: \r\n",
        "\r\n",
        "      QE_counter = QE_counter + 1 \r\n",
        "    \r\n",
        "    elif (df['neutrino']['interaction'][i]) == 2 or (df['neutrino']['interaction'][i]) == 6 or (df['neutrino']['interaction'][i]) == 10:\r\n",
        "      \r\n",
        "      DIS_counter = DIS_counter + 1"
      ],
      "execution_count": 27,
      "outputs": [
        {
          "output_type": "display_data",
          "data": {
            "application/vnd.jupyter.widget-view+json": {
              "model_id": "263cb04f46164f98a4606c78d0e4ad9d",
              "version_minor": 0,
              "version_major": 2
            },
            "text/plain": [
              "HBox(children=(FloatProgress(value=0.0, max=10.0), HTML(value='')))"
            ]
          },
          "metadata": {
            "tags": []
          }
        },
        {
          "output_type": "stream",
          "text": [
            "\n"
          ],
          "name": "stdout"
        }
      ]
    },
    {
      "cell_type": "code",
      "metadata": {
        "colab": {
          "base_uri": "https://localhost:8080/"
        },
        "id": "7tDND49kzAex",
        "outputId": "dc169f6f-98c4-4a91-9343-c9c6e17aeebc"
      },
      "source": [
        "percent_DIS = \"{:.2f}\".format((DIS_counter / total_events)*100)\r\n",
        "percent_QE = \"{:.2f}\".format((QE_counter / total_events)*100)\r\n",
        "\r\n",
        "print (\"Number of files used:\",len(files_t2_3), \"\\nTotal number of events:\", total_events, \"\\nNumber od CC DIS events:\", DIS_counter, \r\n",
        "       \". This represents a \", percent_DIS, \"% of the total events\", \"\\nNumber of CC QE events: \", QE_counter, \r\n",
        "       \". This represents a\", percent_QE,\"% of the total events\")\r\n"
      ],
      "execution_count": 28,
      "outputs": [
        {
          "output_type": "stream",
          "text": [
            "Number of files used: 10 \n",
            "Total number of events: 69127 \n",
            "Number od CC DIS events: 37992 . This represents a  54.96 % of the total events \n",
            "Number of CC QE events:  8690 . This represents a 12.57 % of the total events\n"
          ],
          "name": "stdout"
        }
      ]
    },
    {
      "cell_type": "markdown",
      "metadata": {
        "id": "sHpe9Oaq3rrh"
      },
      "source": [
        "## OBSERVATIONS\r\n",
        "\r\n",
        "- Importing 2 files. There is 55.07% of CC DIS events and 12.21% of CC QE events. \r\n",
        "\r\n",
        "- For 10 files the percentages stay pretty similar. 54.96% for CC DIS events and 12.57% for CC QE events. \r\n",
        "\r\n",
        "This means the results of task 1 are for data that has more CC DIS events, which are a lot measier than CC QE events. \r\n",
        "\r\n",
        "I am therefore going to repeat task one on: \r\n",
        "\r\n",
        "1) Meta data with equal QE and DIS events \r\n",
        "\r\n",
        "2) More CC QE events"
      ]
    },
    {
      "cell_type": "markdown",
      "metadata": {
        "id": "DaAsEO3r7nnG"
      },
      "source": [
        "### Step 1. Preparing the data "
      ]
    },
    {
      "cell_type": "code",
      "metadata": {
        "id": "AfBXwnLF-5g5"
      },
      "source": [
        "files_80, files_20 = train_test_split(files_t2_3, train_size = 0.7, shuffle = False)\r\n",
        "files_80_2, files_20_2 = train_test_split(files_20, train_size = 0.7, shuffle = False)"
      ],
      "execution_count": 56,
      "outputs": []
    },
    {
      "cell_type": "code",
      "metadata": {
        "colab": {
          "base_uri": "https://localhost:8080/"
        },
        "id": "2aX2tBpgOtPc",
        "outputId": "30ad802d-8144-4973-811e-8251c827aeba"
      },
      "source": [
        "print(len(files_80_2))\r\n",
        "print(len(files_80))\r\n",
        "print(len(files_80))"
      ],
      "execution_count": 58,
      "outputs": [
        {
          "output_type": "stream",
          "text": [
            "4\n",
            "14\n"
          ],
          "name": "stdout"
        }
      ]
    },
    {
      "cell_type": "code",
      "metadata": {
        "colab": {
          "base_uri": "https://localhost:8080/",
          "height": 163,
          "referenced_widgets": [
            "d505caf3ad7a491a9add3e2926246dbe",
            "0b6a4ebee67047a2af7008318b429842",
            "8dcca0aa0ea34fa99e580319b81e4f35",
            "90ad373b961a4cc3858636bbbea42bd8",
            "2e13950acd6f4d52b97de464d249f595",
            "eec364f33b8a41c0b632f1a5e84a8dae",
            "613cc02f9acc400384c6bcb46e75106c",
            "858b81e274124c6081c99e0255a00933",
            "d06b8ef1545548d09cf80f314f3fb334",
            "6868478c77044273ac093b87024cb1fc",
            "f45f380ce1a34e15b9a6ac55332f5c4c",
            "7e8a2633f997400f8e4f160962901426",
            "f40c94bbfa374408af738a196f2109a7",
            "6c4756d9b6084fc38fb7c1c06c3850e2",
            "53ad5f754aa44873be1cd0bdc3852065",
            "71150ba001334a62a689311269af0315",
            "5bbb02e80a5b4a3b8fc76f477afc25c4",
            "2cca9c35011d487c9905f80c47d4d1e2",
            "3ddb4858b0344a7295adca279419dd14",
            "991781b11c2f4f21a5a2d04699bf2662",
            "783947bfd8294643ac1f5339fd8390d8",
            "ad87f54c17a14ef6bf852a1015f21800",
            "fbe3ee65ad664b6e929076d0398c1682",
            "a7a0e9da3db843ee9a2b5ffec6aac5e4"
          ]
        },
        "id": "-1q6p3Sg8o65",
        "outputId": "266527ca-b28c-4012-b765-45aa55e4ed59"
      },
      "source": [
        "model_in_1 = []\r\n",
        "model_in_2 = []\r\n",
        "model_lab = []\r\n",
        "QE_counter = 0\r\n",
        "DIS_counter = 0\r\n",
        "QE_counter_0 = 0\r\n",
        "DIS_counter_0 = 0\r\n",
        "\r\n",
        "for f_name in tqdm(files_t2_3): # using 20 files \r\n",
        "  df=h5py.File(f_name, 'r')\r\n",
        "\r\n",
        "  for i in range(len(df['cvnmap'])):\r\n",
        "\r\n",
        "    if df['neutrino']['interaction'][i] > 3:\r\n",
        "        model = (df['cvnmap'][i]).reshape((2,100,80))\r\n",
        "        model_in_1.append(model[0])\r\n",
        "        model_in_2.append(model[1])\r\n",
        "        model_lab.append(int(0))                                   # assigns a 0 to non muon neutrino CC events  \r\n",
        "        \r\n",
        "        if (df['neutrino']['interaction'][i]) == 4 or (df['neutrino']['interaction'][i]) == 8: \r\n",
        "\r\n",
        "          QE_counter_0 = QE_counter_0 + 1 \r\n",
        "    \r\n",
        "        elif (df['neutrino']['interaction'][i]) == 6 or (df['neutrino']['interaction'][i]) == 10:\r\n",
        "      \r\n",
        "          DIS_counter_0 = DIS_counter_0 + 1\r\n",
        "\r\n",
        "    else:\r\n",
        "      pass \r\n",
        "\r\n",
        "for f_name in tqdm(files_20): # using 4 files \r\n",
        "  df=h5py.File(f_name, 'r')\r\n",
        "\r\n",
        "  for j in range(len(df['cvnmap'])):\r\n",
        "\r\n",
        "    if df['neutrino']['interaction'][j] == 0:\r\n",
        "      model = (df['cvnmap'][j]).reshape((2,100,80))\r\n",
        "      model_in_1.append(model[0])\r\n",
        "      model_in_2.append(model[1])\r\n",
        "      model_lab.append(int(1))                                   # assigns 1 to muon neutrino CC events \r\n",
        "\r\n",
        "      QE_counter = QE_counter + 1\r\n",
        "\r\n",
        "    else:\r\n",
        "      pass \r\n",
        "\r\n",
        "for f_name in tqdm(files_20_2): # using 1 files \r\n",
        "  df=h5py.File(f_name, 'r')\r\n",
        "\r\n",
        "  for z in range(len(df['cvnmap'])):\r\n",
        "\r\n",
        "    if df['neutrino']['interaction'][z] <= 3:\r\n",
        "      model = (df['cvnmap'][z]).reshape((2,100,80))\r\n",
        "      model_in_1.append(model[0])\r\n",
        "      model_in_2.append(model[1])\r\n",
        "      model_lab.append(int(1))                                   # assigns 1 to muon neutrino CC events \r\n",
        "\r\n",
        "      if (df['neutrino']['interaction'][z]) == 0: \r\n",
        "\r\n",
        "        QE_counter = QE_counter + 1 \r\n",
        "    \r\n",
        "      elif (df['neutrino']['interaction'][z]) == 2:\r\n",
        "      \r\n",
        "        DIS_counter = DIS_counter + 1\r\n",
        "\r\n",
        "    else:\r\n",
        "      pass "
      ],
      "execution_count": 70,
      "outputs": [
        {
          "output_type": "display_data",
          "data": {
            "application/vnd.jupyter.widget-view+json": {
              "model_id": "d505caf3ad7a491a9add3e2926246dbe",
              "version_minor": 0,
              "version_major": 2
            },
            "text/plain": [
              "HBox(children=(FloatProgress(value=0.0, max=20.0), HTML(value='')))"
            ]
          },
          "metadata": {
            "tags": []
          }
        },
        {
          "output_type": "stream",
          "text": [
            "\n"
          ],
          "name": "stdout"
        },
        {
          "output_type": "display_data",
          "data": {
            "application/vnd.jupyter.widget-view+json": {
              "model_id": "d06b8ef1545548d09cf80f314f3fb334",
              "version_minor": 0,
              "version_major": 2
            },
            "text/plain": [
              "HBox(children=(FloatProgress(value=0.0, max=6.0), HTML(value='')))"
            ]
          },
          "metadata": {
            "tags": []
          }
        },
        {
          "output_type": "stream",
          "text": [
            "\n"
          ],
          "name": "stdout"
        },
        {
          "output_type": "display_data",
          "data": {
            "application/vnd.jupyter.widget-view+json": {
              "model_id": "5bbb02e80a5b4a3b8fc76f477afc25c4",
              "version_minor": 0,
              "version_major": 2
            },
            "text/plain": [
              "HBox(children=(FloatProgress(value=0.0, max=2.0), HTML(value='')))"
            ]
          },
          "metadata": {
            "tags": []
          }
        },
        {
          "output_type": "stream",
          "text": [
            "\n"
          ],
          "name": "stdout"
        }
      ]
    },
    {
      "cell_type": "code",
      "metadata": {
        "colab": {
          "base_uri": "https://localhost:8080/"
        },
        "id": "QsQrYV03Mn7J",
        "outputId": "c65dd85f-407d-4dc9-e90d-28cd8de7b8e6"
      },
      "source": [
        "# Balanced QE and DIS events for muon neutrino flavour \r\n",
        "\r\n",
        "print(\"Muon neutrino CC QE events:\", QE_counter)\r\n",
        "print(\"Muon neutrino CC DIS events:\", DIS_counter)\r\n",
        "\r\n",
        "# I am checking wether I should balance out the events for the non muon neutrinos, I don't know how much the imbalance is\r\n",
        "print(\"Non muon neutrino CC QE events:\", QE_counter_0)\r\n",
        "print(\"Non muon neutrino CC DIS events:\", DIS_counter_0)\r\n",
        "\r\n"
      ],
      "execution_count": 71,
      "outputs": [
        {
          "output_type": "stream",
          "text": [
            "Muon neutrino CC QE events: 7141\n",
            "Muon neutrino CC DIS events: 7321\n",
            "Non muon neutrino CC QE events: 169\n",
            "Non muon neutrino CC DIS events: 1210\n"
          ],
          "name": "stdout"
        }
      ]
    },
    {
      "cell_type": "code",
      "metadata": {
        "id": "-Vv0ceWCS6yx"
      },
      "source": [
        "model_lab, model_in_1, model_in_2 = shuffle_data(model_lab, model_in_1, model_in_2)\r\n",
        "model_in_1 = tf.expand_dims(model_in_1, axis = 3)\r\n",
        "model_in_2 = tf.expand_dims(model_in_2, axis = 3)\r\n",
        "train_input_1, test_input_1, val_input_1, train_input_2, test_input_2, val_input_2, train_labels, val_labels, test_labels = data(model_in_1, model_in_2, model_lab)"
      ],
      "execution_count": 62,
      "outputs": []
    },
    {
      "cell_type": "code",
      "metadata": {
        "colab": {
          "base_uri": "https://localhost:8080/",
          "height": 775
        },
        "id": "r-AwxfUu-_tf",
        "outputId": "e9e3525b-c10d-496a-963c-590e0c45f2e4"
      },
      "source": [
        "plt.hist(model_lab)"
      ],
      "execution_count": 61,
      "outputs": [
        {
          "output_type": "execute_result",
          "data": {
            "text/plain": [
              "(array([16509.,     0.,     0.,     0.,     0.,     0.,     0.,     0.,\n",
              "            0., 17514.]),\n",
              " array([0. , 0.1, 0.2, 0.3, 0.4, 0.5, 0.6, 0.7, 0.8, 0.9, 1. ]),\n",
              " <a list of 10 Patch objects>)"
            ]
          },
          "metadata": {
            "tags": []
          },
          "execution_count": 61
        },
        {
          "output_type": "display_data",
          "data": {
            "image/png": "[encoded data removed]",
            "text/plain": [
              "<Figure size 1200x800 with 1 Axes>"
            ]
          },
          "metadata": {
            "tags": [],
            "needs_background": "light"
          }
        }
      ]
    },
    {
      "cell_type": "code",
      "metadata": {
        "colab": {
          "base_uri": "https://localhost:8080/"
        },
        "id": "XLE_44Z1TM3t",
        "outputId": "b5033ef4-2512-42f2-de7a-31a44453f5be"
      },
      "source": [
        "model = concatenating(model_in_1)"
      ],
      "execution_count": 64,
      "outputs": [
        {
          "output_type": "stream",
          "text": [
            "Model: \"model\"\n",
            "__________________________________________________________________________________________________\n",
            "Layer (type)                    Output Shape         Param #     Connected to                     \n",
            "==================================================================================================\n",
            "input_1 (InputLayer)            [(None, 100, 80, 1)] 0                                            \n",
            "__________________________________________________________________________________________________\n",
            "input_2 (InputLayer)            [(None, 100, 80, 1)] 0                                            \n",
            "__________________________________________________________________________________________________\n",
            "conv2d (Conv2D)                 (None, 100, 80, 8)   80          input_1[0][0]                    \n",
            "__________________________________________________________________________________________________\n",
            "conv2d_3 (Conv2D)               (None, 100, 80, 8)   80          input_2[0][0]                    \n",
            "__________________________________________________________________________________________________\n",
            "max_pooling2d (MaxPooling2D)    (None, 50, 40, 8)    0           conv2d[0][0]                     \n",
            "__________________________________________________________________________________________________\n",
            "max_pooling2d_3 (MaxPooling2D)  (None, 50, 40, 8)    0           conv2d_3[0][0]                   \n",
            "__________________________________________________________________________________________________\n",
            "dropout (Dropout)               (None, 50, 40, 8)    0           max_pooling2d[0][0]              \n",
            "__________________________________________________________________________________________________\n",
            "dropout_3 (Dropout)             (None, 50, 40, 8)    0           max_pooling2d_3[0][0]            \n",
            "__________________________________________________________________________________________________\n",
            "conv2d_1 (Conv2D)               (None, 50, 40, 16)   1168        dropout[0][0]                    \n",
            "__________________________________________________________________________________________________\n",
            "conv2d_4 (Conv2D)               (None, 50, 40, 16)   1168        dropout_3[0][0]                  \n",
            "__________________________________________________________________________________________________\n",
            "max_pooling2d_1 (MaxPooling2D)  (None, 25, 20, 16)   0           conv2d_1[0][0]                   \n",
            "__________________________________________________________________________________________________\n",
            "max_pooling2d_4 (MaxPooling2D)  (None, 25, 20, 16)   0           conv2d_4[0][0]                   \n",
            "__________________________________________________________________________________________________\n",
            "dropout_1 (Dropout)             (None, 25, 20, 16)   0           max_pooling2d_1[0][0]            \n",
            "__________________________________________________________________________________________________\n",
            "dropout_4 (Dropout)             (None, 25, 20, 16)   0           max_pooling2d_4[0][0]            \n",
            "__________________________________________________________________________________________________\n",
            "conv2d_2 (Conv2D)               (None, 25, 20, 32)   4640        dropout_1[0][0]                  \n",
            "__________________________________________________________________________________________________\n",
            "conv2d_5 (Conv2D)               (None, 25, 20, 32)   4640        dropout_4[0][0]                  \n",
            "__________________________________________________________________________________________________\n",
            "max_pooling2d_2 (MaxPooling2D)  (None, 13, 10, 32)   0           conv2d_2[0][0]                   \n",
            "__________________________________________________________________________________________________\n",
            "max_pooling2d_5 (MaxPooling2D)  (None, 13, 10, 32)   0           conv2d_5[0][0]                   \n",
            "__________________________________________________________________________________________________\n",
            "dropout_2 (Dropout)             (None, 13, 10, 32)   0           max_pooling2d_2[0][0]            \n",
            "__________________________________________________________________________________________________\n",
            "dropout_5 (Dropout)             (None, 13, 10, 32)   0           max_pooling2d_5[0][0]            \n",
            "__________________________________________________________________________________________________\n",
            "concatenate (Concatenate)       (None, 13, 10, 64)   0           dropout_2[0][0]                  \n",
            "                                                                 dropout_5[0][0]                  \n",
            "__________________________________________________________________________________________________\n",
            "flatten (Flatten)               (None, 8320)         0           concatenate[0][0]                \n",
            "__________________________________________________________________________________________________\n",
            "dense (Dense)                   (None, 32)           266272      flatten[0][0]                    \n",
            "__________________________________________________________________________________________________\n",
            "dropout_6 (Dropout)             (None, 32)           0           dense[0][0]                      \n",
            "__________________________________________________________________________________________________\n",
            "dense_1 (Dense)                 (None, 64)           2112        dropout_6[0][0]                  \n",
            "__________________________________________________________________________________________________\n",
            "dropout_7 (Dropout)             (None, 64)           0           dense_1[0][0]                    \n",
            "__________________________________________________________________________________________________\n",
            "dense_2 (Dense)                 (None, 32)           2080        dropout_7[0][0]                  \n",
            "__________________________________________________________________________________________________\n",
            "dropout_8 (Dropout)             (None, 32)           0           dense_2[0][0]                    \n",
            "__________________________________________________________________________________________________\n",
            "dense_3 (Dense)                 (None, 1)            33          dropout_8[0][0]                  \n",
            "==================================================================================================\n",
            "Total params: 282,273\n",
            "Trainable params: 282,273\n",
            "Non-trainable params: 0\n",
            "__________________________________________________________________________________________________\n"
          ],
          "name": "stdout"
        }
      ]
    },
    {
      "cell_type": "code",
      "metadata": {
        "colab": {
          "base_uri": "https://localhost:8080/"
        },
        "id": "vJgxRaVaTaFu",
        "outputId": "6414f09f-95b1-47e7-da0f-295b8c05d8da"
      },
      "source": [
        "earlystopping = callbacks.EarlyStopping(monitor =\"val_loss\", mode =\"min\", patience = 5, restore_best_weights = True) \r\n",
        "\r\n",
        "history = model.fit(x=[train_input_1,train_input_2],y=train_labels, batch_size=64, epochs=50,validation_data=([val_input_1,val_input_2],val_labels), callbacks =[earlystopping] )"
      ],
      "execution_count": 65,
      "outputs": [
        {
          "output_type": "stream",
          "text": [
            "Epoch 1/50\n",
            "341/341 [==============================] - 13s 14ms/step - loss: 0.6636 - accuracy: 0.5840 - val_loss: 0.5494 - val_accuracy: 0.7432\n",
            "Epoch 2/50\n",
            "341/341 [==============================] - 4s 13ms/step - loss: 0.5621 - accuracy: 0.7252 - val_loss: 0.4655 - val_accuracy: 0.7919\n",
            "Epoch 3/50\n",
            "341/341 [==============================] - 4s 13ms/step - loss: 0.4742 - accuracy: 0.7817 - val_loss: 0.4220 - val_accuracy: 0.8185\n",
            "Epoch 4/50\n",
            "341/341 [==============================] - 5s 13ms/step - loss: 0.4484 - accuracy: 0.8045 - val_loss: 0.4012 - val_accuracy: 0.8306\n",
            "Epoch 5/50\n",
            "341/341 [==============================] - 4s 13ms/step - loss: 0.4365 - accuracy: 0.8104 - val_loss: 0.4285 - val_accuracy: 0.8187\n",
            "Epoch 6/50\n",
            "341/341 [==============================] - 4s 13ms/step - loss: 0.4189 - accuracy: 0.8197 - val_loss: 0.3936 - val_accuracy: 0.8407\n",
            "Epoch 7/50\n",
            "341/341 [==============================] - 4s 13ms/step - loss: 0.4078 - accuracy: 0.8309 - val_loss: 0.3799 - val_accuracy: 0.8433\n",
            "Epoch 8/50\n",
            "341/341 [==============================] - 4s 13ms/step - loss: 0.4020 - accuracy: 0.8321 - val_loss: 0.3801 - val_accuracy: 0.8464\n",
            "Epoch 9/50\n",
            "341/341 [==============================] - 4s 13ms/step - loss: 0.3958 - accuracy: 0.8367 - val_loss: 0.3748 - val_accuracy: 0.8512\n",
            "Epoch 10/50\n",
            "341/341 [==============================] - 4s 13ms/step - loss: 0.3925 - accuracy: 0.8406 - val_loss: 0.3738 - val_accuracy: 0.8507\n",
            "Epoch 11/50\n",
            "341/341 [==============================] - 5s 13ms/step - loss: 0.3894 - accuracy: 0.8392 - val_loss: 0.3788 - val_accuracy: 0.8488\n",
            "Epoch 12/50\n",
            "341/341 [==============================] - 4s 13ms/step - loss: 0.3922 - accuracy: 0.8414 - val_loss: 0.3688 - val_accuracy: 0.8540\n",
            "Epoch 13/50\n",
            "341/341 [==============================] - 5s 13ms/step - loss: 0.3899 - accuracy: 0.8434 - val_loss: 0.3748 - val_accuracy: 0.8508\n",
            "Epoch 14/50\n",
            "341/341 [==============================] - 4s 13ms/step - loss: 0.3888 - accuracy: 0.8436 - val_loss: 0.3707 - val_accuracy: 0.8551\n",
            "Epoch 15/50\n",
            "341/341 [==============================] - 4s 13ms/step - loss: 0.3867 - accuracy: 0.8401 - val_loss: 0.3638 - val_accuracy: 0.8523\n",
            "Epoch 16/50\n",
            "341/341 [==============================] - 5s 13ms/step - loss: 0.3813 - accuracy: 0.8462 - val_loss: 0.3835 - val_accuracy: 0.8474\n",
            "Epoch 17/50\n",
            "341/341 [==============================] - 4s 13ms/step - loss: 0.3733 - accuracy: 0.8473 - val_loss: 0.3658 - val_accuracy: 0.8547\n",
            "Epoch 18/50\n",
            "341/341 [==============================] - 4s 13ms/step - loss: 0.3781 - accuracy: 0.8470 - val_loss: 0.4178 - val_accuracy: 0.8235\n",
            "Epoch 19/50\n",
            "341/341 [==============================] - 4s 13ms/step - loss: 0.3786 - accuracy: 0.8459 - val_loss: 0.3722 - val_accuracy: 0.8551\n",
            "Epoch 20/50\n",
            "341/341 [==============================] - 5s 13ms/step - loss: 0.3767 - accuracy: 0.8495 - val_loss: 0.3658 - val_accuracy: 0.8543\n"
          ],
          "name": "stdout"
        }
      ]
    },
    {
      "cell_type": "code",
      "metadata": {
        "colab": {
          "base_uri": "https://localhost:8080/"
        },
        "id": "vwi2_i5yT64E",
        "outputId": "207a7c87-3d51-471f-cc7e-d7fd6408889f"
      },
      "source": [
        "test_loss, test_acc = model.evaluate([test_input_1,test_input_2],  test_labels, verbose=2)"
      ],
      "execution_count": 66,
      "outputs": [
        {
          "output_type": "stream",
          "text": [
            "213/213 - 1s - loss: 0.3575 - accuracy: 0.8528\n"
          ],
          "name": "stdout"
        }
      ]
    },
    {
      "cell_type": "code",
      "metadata": {
        "colab": {
          "base_uri": "https://localhost:8080/",
          "height": 806
        },
        "id": "LQA38AAKUBGb",
        "outputId": "d70ca047-ae1a-43c0-b66a-338ebb586d4e"
      },
      "source": [
        "plt.plot(history.history['accuracy'], label='accuracy')\r\n",
        "plt.plot(history.history['val_accuracy'], label = 'val_accuracy')\r\n",
        "plt.xlabel('Epoch')\r\n",
        "plt.ylabel('Accuracy')\r\n",
        "plt.legend(loc='lower right')\r\n",
        "plt.grid()\r\n",
        "plt.title('Accuracy of model')"
      ],
      "execution_count": 67,
      "outputs": [
        {
          "output_type": "execute_result",
          "data": {
            "text/plain": [
              "Text(0.5, 1.0, 'Accuracy of model')"
            ]
          },
          "metadata": {
            "tags": []
          },
          "execution_count": 67
        },
        {
          "output_type": "display_data",
          "data": {
            "image/png": "[encoded data removed]",
            "text/plain": [
              "<Figure size 1200x800 with 1 Axes>"
            ]
          },
          "metadata": {
            "tags": [],
            "needs_background": "light"
          }
        }
      ]
    },
    {
      "cell_type": "markdown",
      "metadata": {
        "id": "jJGZBBwzWjaF"
      },
      "source": [
        "Things I could potentially do:\r\n",
        "\r\n",
        "- Balance DIS and QE events for non muon neutrino events. \r\n",
        "\r\n",
        "- Try having more QE events than DIS"
      ]
    },
    {
      "cell_type": "markdown",
      "metadata": {
        "id": "-pjt28x1cDOh"
      },
      "source": [
        "## Does my classifier perform as well on low energy neutrinos as it does on high energy neutrinos?"
      ]
    },
    {
      "cell_type": "markdown",
      "metadata": {
        "id": "9UsaGsaF4Ltg"
      },
      "source": [
        "*   Does my classifier perform well on low energy muons as it does on high\r\n",
        "energy muons\r\n",
        "\r\n",
        "*   Which variables in the metadata does my classifier performance depend\r\n",
        "on, and what does that mean?\r\n"
      ]
    },
    {
      "cell_type": "markdown",
      "metadata": {
        "id": "e5XISpZGCBj9"
      },
      "source": [
        "# EXTENSIONS\r\n",
        "\r\n",
        "### TASK 2: Write a machine learning algorithm to determine the flavour of the neutrino"
      ]
    },
    {
      "cell_type": "code",
      "metadata": {
        "id": "Dutt-O5-WjmP"
      },
      "source": [
        "files_e2 = data_retriever(200)"
      ],
      "execution_count": null,
      "outputs": []
    },
    {
      "cell_type": "code",
      "metadata": {
        "id": "cOOo4DF8lx3J"
      },
      "source": [
        "numu_counter = 0\r\n",
        "nue_counter = 0\r\n",
        "nutau_counter = 0\r\n",
        "other_counter = 0\r\n",
        "\r\n",
        "for i in tqdm(range(len(files_e2))):\r\n",
        "  \r\n",
        "  for j in range(len(files_e2[i]['neutrino']['interaction'])):\r\n",
        "\r\n",
        "    if files_e2[i]['neutrino']['interaction'][j] <= 3:\r\n",
        "\r\n",
        "      numu_counter= numu_counter + 1\r\n",
        "\r\n",
        "    elif files_e2[i]['neutrino']['interaction'][j] > 4 and files_e2[i]['neutrino']['interaction'][j] <= 7:\r\n",
        "\r\n",
        "      nue_counter= nue_counter + 1\r\n",
        "\r\n",
        "    elif files_e2[i]['neutrino']['interaction'][j] > 7 and files_e2[i]['neutrino']['interaction'][j] <= 11:\r\n",
        "\r\n",
        "      nutau_counter= nutau_counter + 1\r\n",
        "\r\n",
        "    else:\r\n",
        "\r\n",
        "      other_counter = other_counter + 1\r\n",
        "\r\n",
        "totalevents = numu_counter + nue_counter + nutau_counter + other_counter"
      ],
      "execution_count": null,
      "outputs": []
    },
    {
      "cell_type": "code",
      "metadata": {
        "id": "TaplyXU5mAC0"
      },
      "source": [
        "## Displaying the number of events and its percentages\r\n",
        "\r\n",
        "display(Math(r'There \\; are \\; {} \\; \\nu_\\mu \\; charged-current \\; events. \\; This \\; represents \\; {} \\% \\; of \\; the \\; events \\; in \\; {} \\; meta \\; data \\; files.'.format(numu_counter, round(((numu_counter / totalevents ) * 100),2), len(files_e2))))\r\n",
        "display(Math(r'There \\; are \\; {} \\; \\nu_\\tau \\; charged-current \\; events. \\; This \\; represents \\; {} \\% \\; of \\; the \\; events \\; in \\; {} \\; meta \\; data \\; files.'.format(nutau_counter, round(((nutau_counter / totalevents ) * 100),2), len(files_e2))))\r\n",
        "display(Math(r'There \\; are \\; {} \\; \\nu_e \\; charged-current \\; events. \\; This \\; represents \\; {} \\% \\; of \\; the \\; events \\; in \\; {} \\; meta \\; data \\; files.'.format(nue_counter, round(((nue_counter / totalevents ) * 100),2), len(files_e2))))\r\n",
        "display(Math(r'There \\; are \\; {} \\; other \\; events. \\; This \\; represents \\; {} \\% \\; of \\; the \\; events \\; in \\; {} \\; meta \\; data \\; files.'.format(other_counter, round(((other_counter / totalevents ) * 100),2), len(files_e2))))"
      ],
      "execution_count": null,
      "outputs": []
    },
    {
      "cell_type": "code",
      "metadata": {
        "id": "uz5A_eLQeCGA"
      },
      "source": [
        "## LABELLING MU AS 1, ELECTRON AS 2 AND TAU AS 3\r\n",
        "\r\n",
        "model_lab = []\r\n",
        "model_in_1 = []\r\n",
        "model_in_2 = []\r\n",
        "\r\n",
        "for i in tqdm(range(0,7)):\r\n",
        "  data_length = len(files_e2[i]['neutrino']['interaction'])\r\n",
        "\r\n",
        "  for j in range(data_length): \r\n",
        "\r\n",
        "    if (files_e2[i]['neutrino']['interaction'][j]) < 3: \r\n",
        "\r\n",
        "      m = (files_e2[i]['cvnmap'][j]).reshape((2,100,80))\r\n",
        "      model_in_1.append(m[0])\r\n",
        "      model_in_2.append(m[1])\r\n",
        "      model_lab.append(int(1)) # 1 is for mu neutrinos \r\n",
        "    \r\n",
        "    elif (files_e2[i]['neutrino']['interaction'][j]) > 3 and (files_e2[i]['neutrino']['interaction'][j]) <= 7:\r\n",
        "      m = (files_e2[i]['cvnmap'][j]).reshape((2,100,80))\r\n",
        "      model_in_1.append(m[0])\r\n",
        "      model_in_2.append(m[1])\r\n",
        "      model_lab.append(int(2)) # 2 is for electron neutrinos \r\n",
        "    \r\n",
        "    elif (files_e2[i]['neutrino']['interaction'][j]) > 7 and (files_e2[i]['neutrino']['interaction'][j]) <= 11:\r\n",
        "      m = (files_e2[i]['cvnmap'][j]).reshape((2,100,80))\r\n",
        "      model_in_1.append(m[0])\r\n",
        "      model_in_2.append(m[1])\r\n",
        "      model_lab.append(int(3)) # 0 is Not muon charged-current event\r\n",
        "\r\n",
        "    else:\r\n",
        "      m = (files_e2[i]['cvnmap'][j]).reshape((2,100,80))\r\n",
        "      model_in_1.append(m[0])\r\n",
        "      model_in_2.append(m[1])\r\n",
        "      model_lab.append(int(0)) # 0 is Not muon charged-current event\r\n"
      ],
      "execution_count": null,
      "outputs": []
    },
    {
      "cell_type": "markdown",
      "metadata": {
        "id": "xuqUvqgUpu4f"
      },
      "source": [
        "There are no tau flavoured neutrinos in the 200 files, therefore there is no data for this flavour to feed into the network. The network will only be able to distinguish between electron and mu neutrinos. \r\n",
        "\r\n",
        "I am only going to train my network for these two "
      ]
    },
    {
      "cell_type": "code",
      "metadata": {
        "id": "V-HswYeGh-lw"
      },
      "source": [
        "plt.hist(model_lab)"
      ],
      "execution_count": null,
      "outputs": []
    },
    {
      "cell_type": "code",
      "metadata": {
        "id": "2_lZKE-fjF26"
      },
      "source": [
        ""
      ],
      "execution_count": null,
      "outputs": []
    }
  ]
}