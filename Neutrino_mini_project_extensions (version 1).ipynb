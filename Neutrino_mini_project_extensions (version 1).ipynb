{
  "nbformat": 4,
  "nbformat_minor": 0,
  "metadata": {
    "accelerator": "GPU",
    "colab": {
      "name": "Neutrino mini project extensions.ipynb",
      "provenance": [],
      "authorship_tag": "ABX9TyN+y1RUwplqUEHBZlL2U9R6",
      "include_colab_link": true
    },
    "kernelspec": {
      "display_name": "Python 3",
      "name": "python3"
    },
    "widgets": {
      "application/vnd.jupyter.widget-state+json": {
        "d7963b7b7f3c454189dd5bbe7122e4dd": {
          "model_module": "@jupyter-widgets/controls",
          "model_name": "HBoxModel",
          "state": {
            "_dom_classes": [],
            "_model_module": "@jupyter-widgets/controls",
            "_model_module_version": "1.5.0",
            "_model_name": "HBoxModel",
            "_view_count": null,
            "_view_module": "@jupyter-widgets/controls",
            "_view_module_version": "1.5.0",
            "_view_name": "HBoxView",
            "box_style": "",
            "children": [
              "IPY_MODEL_3e2a01ea5a7c44efb124f2be2ee58b3b",
              "IPY_MODEL_530fc03721ff4df0beec92c7f83f6616"
            ],
            "layout": "IPY_MODEL_07cd234a7e7a4c9ba3d59525b4cdedeb"
          }
        },
        "3e2a01ea5a7c44efb124f2be2ee58b3b": {
          "model_module": "@jupyter-widgets/controls",
          "model_name": "FloatProgressModel",
          "state": {
            "_dom_classes": [],
            "_model_module": "@jupyter-widgets/controls",
            "_model_module_version": "1.5.0",
            "_model_name": "FloatProgressModel",
            "_view_count": null,
            "_view_module": "@jupyter-widgets/controls",
            "_view_module_version": "1.5.0",
            "_view_name": "ProgressView",
            "bar_style": "danger",
            "description": "  0%",
            "description_tooltip": null,
            "layout": "IPY_MODEL_fabfb7e3fbc3414ca4873af5b8c3dfc7",
            "max": 200,
            "min": 0,
            "orientation": "horizontal",
            "style": "IPY_MODEL_96f3c9c969b94fa880fcadfb1782e496",
            "value": 1
          }
        },
        "530fc03721ff4df0beec92c7f83f6616": {
          "model_module": "@jupyter-widgets/controls",
          "model_name": "HTMLModel",
          "state": {
            "_dom_classes": [],
            "_model_module": "@jupyter-widgets/controls",
            "_model_module_version": "1.5.0",
            "_model_name": "HTMLModel",
            "_view_count": null,
            "_view_module": "@jupyter-widgets/controls",
            "_view_module_version": "1.5.0",
            "_view_name": "HTMLView",
            "description": "",
            "description_tooltip": null,
            "layout": "IPY_MODEL_67ba5d827af84615a11387a4acf9064c",
            "placeholder": "​",
            "style": "IPY_MODEL_7980be79fe4b419c9fee19f12bd95ff9",
            "value": " 1/200 [00:08&lt;27:58,  8.43s/it]"
          }
        },
        "07cd234a7e7a4c9ba3d59525b4cdedeb": {
          "model_module": "@jupyter-widgets/base",
          "model_name": "LayoutModel",
          "state": {
            "_model_module": "@jupyter-widgets/base",
            "_model_module_version": "1.2.0",
            "_model_name": "LayoutModel",
            "_view_count": null,
            "_view_module": "@jupyter-widgets/base",
            "_view_module_version": "1.2.0",
            "_view_name": "LayoutView",
            "align_content": null,
            "align_items": null,
            "align_self": null,
            "border": null,
            "bottom": null,
            "display": null,
            "flex": null,
            "flex_flow": null,
            "grid_area": null,
            "grid_auto_columns": null,
            "grid_auto_flow": null,
            "grid_auto_rows": null,
            "grid_column": null,
            "grid_gap": null,
            "grid_row": null,
            "grid_template_areas": null,
            "grid_template_columns": null,
            "grid_template_rows": null,
            "height": null,
            "justify_content": null,
            "justify_items": null,
            "left": null,
            "margin": null,
            "max_height": null,
            "max_width": null,
            "min_height": null,
            "min_width": null,
            "object_fit": null,
            "object_position": null,
            "order": null,
            "overflow": null,
            "overflow_x": null,
            "overflow_y": null,
            "padding": null,
            "right": null,
            "top": null,
            "visibility": null,
            "width": null
          }
        },
        "fabfb7e3fbc3414ca4873af5b8c3dfc7": {
          "model_module": "@jupyter-widgets/base",
          "model_name": "LayoutModel",
          "state": {
            "_model_module": "@jupyter-widgets/base",
            "_model_module_version": "1.2.0",
            "_model_name": "LayoutModel",
            "_view_count": null,
            "_view_module": "@jupyter-widgets/base",
            "_view_module_version": "1.2.0",
            "_view_name": "LayoutView",
            "align_content": null,
            "align_items": null,
            "align_self": null,
            "border": null,
            "bottom": null,
            "display": null,
            "flex": null,
            "flex_flow": null,
            "grid_area": null,
            "grid_auto_columns": null,
            "grid_auto_flow": null,
            "grid_auto_rows": null,
            "grid_column": null,
            "grid_gap": null,
            "grid_row": null,
            "grid_template_areas": null,
            "grid_template_columns": null,
            "grid_template_rows": null,
            "height": null,
            "justify_content": null,
            "justify_items": null,
            "left": null,
            "margin": null,
            "max_height": null,
            "max_width": null,
            "min_height": null,
            "min_width": null,
            "object_fit": null,
            "object_position": null,
            "order": null,
            "overflow": null,
            "overflow_x": null,
            "overflow_y": null,
            "padding": null,
            "right": null,
            "top": null,
            "visibility": null,
            "width": null
          }
        },
        "96f3c9c969b94fa880fcadfb1782e496": {
          "model_module": "@jupyter-widgets/controls",
          "model_name": "ProgressStyleModel",
          "state": {
            "_model_module": "@jupyter-widgets/controls",
            "_model_module_version": "1.5.0",
            "_model_name": "ProgressStyleModel",
            "_view_count": null,
            "_view_module": "@jupyter-widgets/base",
            "_view_module_version": "1.2.0",
            "_view_name": "StyleView",
            "bar_color": null,
            "description_width": "initial"
          }
        },
        "67ba5d827af84615a11387a4acf9064c": {
          "model_module": "@jupyter-widgets/base",
          "model_name": "LayoutModel",
          "state": {
            "_model_module": "@jupyter-widgets/base",
            "_model_module_version": "1.2.0",
            "_model_name": "LayoutModel",
            "_view_count": null,
            "_view_module": "@jupyter-widgets/base",
            "_view_module_version": "1.2.0",
            "_view_name": "LayoutView",
            "align_content": null,
            "align_items": null,
            "align_self": null,
            "border": null,
            "bottom": null,
            "display": null,
            "flex": null,
            "flex_flow": null,
            "grid_area": null,
            "grid_auto_columns": null,
            "grid_auto_flow": null,
            "grid_auto_rows": null,
            "grid_column": null,
            "grid_gap": null,
            "grid_row": null,
            "grid_template_areas": null,
            "grid_template_columns": null,
            "grid_template_rows": null,
            "height": null,
            "justify_content": null,
            "justify_items": null,
            "left": null,
            "margin": null,
            "max_height": null,
            "max_width": null,
            "min_height": null,
            "min_width": null,
            "object_fit": null,
            "object_position": null,
            "order": null,
            "overflow": null,
            "overflow_x": null,
            "overflow_y": null,
            "padding": null,
            "right": null,
            "top": null,
            "visibility": null,
            "width": null
          }
        },
        "7980be79fe4b419c9fee19f12bd95ff9": {
          "model_module": "@jupyter-widgets/controls",
          "model_name": "DescriptionStyleModel",
          "state": {
            "_model_module": "@jupyter-widgets/controls",
            "_model_module_version": "1.5.0",
            "_model_name": "DescriptionStyleModel",
            "_view_count": null,
            "_view_module": "@jupyter-widgets/base",
            "_view_module_version": "1.2.0",
            "_view_name": "StyleView",
            "description_width": ""
          }
        },
        "2ac9973ba9f8416993d0139ba64a0505": {
          "model_module": "@jupyter-widgets/controls",
          "model_name": "HBoxModel",
          "state": {
            "_dom_classes": [],
            "_model_module": "@jupyter-widgets/controls",
            "_model_module_version": "1.5.0",
            "_model_name": "HBoxModel",
            "_view_count": null,
            "_view_module": "@jupyter-widgets/controls",
            "_view_module_version": "1.5.0",
            "_view_name": "HBoxView",
            "box_style": "",
            "children": [
              "IPY_MODEL_ac0916cd9dd942698bed938bed65b1f8",
              "IPY_MODEL_c39ff2b411ad4db4becff60ffb59f598"
            ],
            "layout": "IPY_MODEL_433ed1bdd97e433bba1ddf6f944d9215"
          }
        },
        "ac0916cd9dd942698bed938bed65b1f8": {
          "model_module": "@jupyter-widgets/controls",
          "model_name": "FloatProgressModel",
          "state": {
            "_dom_classes": [],
            "_model_module": "@jupyter-widgets/controls",
            "_model_module_version": "1.5.0",
            "_model_name": "FloatProgressModel",
            "_view_count": null,
            "_view_module": "@jupyter-widgets/controls",
            "_view_module_version": "1.5.0",
            "_view_name": "ProgressView",
            "bar_style": "success",
            "description": "100%",
            "description_tooltip": null,
            "layout": "IPY_MODEL_52e56dc87c2e4d1083f536083d21ba73",
            "max": 200,
            "min": 0,
            "orientation": "horizontal",
            "style": "IPY_MODEL_31da82cc5ce64fd18644f5f595b4a0fa",
            "value": 200
          }
        },
        "c39ff2b411ad4db4becff60ffb59f598": {
          "model_module": "@jupyter-widgets/controls",
          "model_name": "HTMLModel",
          "state": {
            "_dom_classes": [],
            "_model_module": "@jupyter-widgets/controls",
            "_model_module_version": "1.5.0",
            "_model_name": "HTMLModel",
            "_view_count": null,
            "_view_module": "@jupyter-widgets/controls",
            "_view_module_version": "1.5.0",
            "_view_name": "HTMLView",
            "description": "",
            "description_tooltip": null,
            "layout": "IPY_MODEL_3406cbc138a94e0b9e32415960ba80ac",
            "placeholder": "​",
            "style": "IPY_MODEL_71c6d60d0afd45568b209c5696a07a37",
            "value": " 200/200 [44:40&lt;00:00, 13.40s/it]"
          }
        },
        "433ed1bdd97e433bba1ddf6f944d9215": {
          "model_module": "@jupyter-widgets/base",
          "model_name": "LayoutModel",
          "state": {
            "_model_module": "@jupyter-widgets/base",
            "_model_module_version": "1.2.0",
            "_model_name": "LayoutModel",
            "_view_count": null,
            "_view_module": "@jupyter-widgets/base",
            "_view_module_version": "1.2.0",
            "_view_name": "LayoutView",
            "align_content": null,
            "align_items": null,
            "align_self": null,
            "border": null,
            "bottom": null,
            "display": null,
            "flex": null,
            "flex_flow": null,
            "grid_area": null,
            "grid_auto_columns": null,
            "grid_auto_flow": null,
            "grid_auto_rows": null,
            "grid_column": null,
            "grid_gap": null,
            "grid_row": null,
            "grid_template_areas": null,
            "grid_template_columns": null,
            "grid_template_rows": null,
            "height": null,
            "justify_content": null,
            "justify_items": null,
            "left": null,
            "margin": null,
            "max_height": null,
            "max_width": null,
            "min_height": null,
            "min_width": null,
            "object_fit": null,
            "object_position": null,
            "order": null,
            "overflow": null,
            "overflow_x": null,
            "overflow_y": null,
            "padding": null,
            "right": null,
            "top": null,
            "visibility": null,
            "width": null
          }
        },
        "52e56dc87c2e4d1083f536083d21ba73": {
          "model_module": "@jupyter-widgets/base",
          "model_name": "LayoutModel",
          "state": {
            "_model_module": "@jupyter-widgets/base",
            "_model_module_version": "1.2.0",
            "_model_name": "LayoutModel",
            "_view_count": null,
            "_view_module": "@jupyter-widgets/base",
            "_view_module_version": "1.2.0",
            "_view_name": "LayoutView",
            "align_content": null,
            "align_items": null,
            "align_self": null,
            "border": null,
            "bottom": null,
            "display": null,
            "flex": null,
            "flex_flow": null,
            "grid_area": null,
            "grid_auto_columns": null,
            "grid_auto_flow": null,
            "grid_auto_rows": null,
            "grid_column": null,
            "grid_gap": null,
            "grid_row": null,
            "grid_template_areas": null,
            "grid_template_columns": null,
            "grid_template_rows": null,
            "height": null,
            "justify_content": null,
            "justify_items": null,
            "left": null,
            "margin": null,
            "max_height": null,
            "max_width": null,
            "min_height": null,
            "min_width": null,
            "object_fit": null,
            "object_position": null,
            "order": null,
            "overflow": null,
            "overflow_x": null,
            "overflow_y": null,
            "padding": null,
            "right": null,
            "top": null,
            "visibility": null,
            "width": null
          }
        },
        "31da82cc5ce64fd18644f5f595b4a0fa": {
          "model_module": "@jupyter-widgets/controls",
          "model_name": "ProgressStyleModel",
          "state": {
            "_model_module": "@jupyter-widgets/controls",
            "_model_module_version": "1.5.0",
            "_model_name": "ProgressStyleModel",
            "_view_count": null,
            "_view_module": "@jupyter-widgets/base",
            "_view_module_version": "1.2.0",
            "_view_name": "StyleView",
            "bar_color": null,
            "description_width": "initial"
          }
        },
        "3406cbc138a94e0b9e32415960ba80ac": {
          "model_module": "@jupyter-widgets/base",
          "model_name": "LayoutModel",
          "state": {
            "_model_module": "@jupyter-widgets/base",
            "_model_module_version": "1.2.0",
            "_model_name": "LayoutModel",
            "_view_count": null,
            "_view_module": "@jupyter-widgets/base",
            "_view_module_version": "1.2.0",
            "_view_name": "LayoutView",
            "align_content": null,
            "align_items": null,
            "align_self": null,
            "border": null,
            "bottom": null,
            "display": null,
            "flex": null,
            "flex_flow": null,
            "grid_area": null,
            "grid_auto_columns": null,
            "grid_auto_flow": null,
            "grid_auto_rows": null,
            "grid_column": null,
            "grid_gap": null,
            "grid_row": null,
            "grid_template_areas": null,
            "grid_template_columns": null,
            "grid_template_rows": null,
            "height": null,
            "justify_content": null,
            "justify_items": null,
            "left": null,
            "margin": null,
            "max_height": null,
            "max_width": null,
            "min_height": null,
            "min_width": null,
            "object_fit": null,
            "object_position": null,
            "order": null,
            "overflow": null,
            "overflow_x": null,
            "overflow_y": null,
            "padding": null,
            "right": null,
            "top": null,
            "visibility": null,
            "width": null
          }
        },
        "71c6d60d0afd45568b209c5696a07a37": {
          "model_module": "@jupyter-widgets/controls",
          "model_name": "DescriptionStyleModel",
          "state": {
            "_model_module": "@jupyter-widgets/controls",
            "_model_module_version": "1.5.0",
            "_model_name": "DescriptionStyleModel",
            "_view_count": null,
            "_view_module": "@jupyter-widgets/base",
            "_view_module_version": "1.2.0",
            "_view_name": "StyleView",
            "description_width": ""
          }
        },
        "4aa8b30c127f463a9185763e735d4be2": {
          "model_module": "@jupyter-widgets/controls",
          "model_name": "HBoxModel",
          "state": {
            "_dom_classes": [],
            "_model_module": "@jupyter-widgets/controls",
            "_model_module_version": "1.5.0",
            "_model_name": "HBoxModel",
            "_view_count": null,
            "_view_module": "@jupyter-widgets/controls",
            "_view_module_version": "1.5.0",
            "_view_name": "HBoxView",
            "box_style": "",
            "children": [
              "IPY_MODEL_8bef7afdc0724604b3bc86e4210f67bb",
              "IPY_MODEL_c65c325f24804ad98dc9cbff3f0f9ce3"
            ],
            "layout": "IPY_MODEL_5a9da82e73cd40459178dd4b377fb418"
          }
        },
        "8bef7afdc0724604b3bc86e4210f67bb": {
          "model_module": "@jupyter-widgets/controls",
          "model_name": "FloatProgressModel",
          "state": {
            "_dom_classes": [],
            "_model_module": "@jupyter-widgets/controls",
            "_model_module_version": "1.5.0",
            "_model_name": "FloatProgressModel",
            "_view_count": null,
            "_view_module": "@jupyter-widgets/controls",
            "_view_module_version": "1.5.0",
            "_view_name": "ProgressView",
            "bar_style": "success",
            "description": "100%",
            "description_tooltip": null,
            "layout": "IPY_MODEL_6502ffddfe22418f812ad496fee64e8c",
            "max": 5,
            "min": 0,
            "orientation": "horizontal",
            "style": "IPY_MODEL_ba08a2da0df24057a5189d5f88a12b7d",
            "value": 5
          }
        },
        "c65c325f24804ad98dc9cbff3f0f9ce3": {
          "model_module": "@jupyter-widgets/controls",
          "model_name": "HTMLModel",
          "state": {
            "_dom_classes": [],
            "_model_module": "@jupyter-widgets/controls",
            "_model_module_version": "1.5.0",
            "_model_name": "HTMLModel",
            "_view_count": null,
            "_view_module": "@jupyter-widgets/controls",
            "_view_module_version": "1.5.0",
            "_view_name": "HTMLView",
            "description": "",
            "description_tooltip": null,
            "layout": "IPY_MODEL_9bc5a17d9e1145dc9add4fc90bbaf2e9",
            "placeholder": "​",
            "style": "IPY_MODEL_bce3164fb6904ddabbc471045042ab5e",
            "value": " 5/5 [04:25&lt;00:00, 53.10s/it]"
          }
        },
        "5a9da82e73cd40459178dd4b377fb418": {
          "model_module": "@jupyter-widgets/base",
          "model_name": "LayoutModel",
          "state": {
            "_model_module": "@jupyter-widgets/base",
            "_model_module_version": "1.2.0",
            "_model_name": "LayoutModel",
            "_view_count": null,
            "_view_module": "@jupyter-widgets/base",
            "_view_module_version": "1.2.0",
            "_view_name": "LayoutView",
            "align_content": null,
            "align_items": null,
            "align_self": null,
            "border": null,
            "bottom": null,
            "display": null,
            "flex": null,
            "flex_flow": null,
            "grid_area": null,
            "grid_auto_columns": null,
            "grid_auto_flow": null,
            "grid_auto_rows": null,
            "grid_column": null,
            "grid_gap": null,
            "grid_row": null,
            "grid_template_areas": null,
            "grid_template_columns": null,
            "grid_template_rows": null,
            "height": null,
            "justify_content": null,
            "justify_items": null,
            "left": null,
            "margin": null,
            "max_height": null,
            "max_width": null,
            "min_height": null,
            "min_width": null,
            "object_fit": null,
            "object_position": null,
            "order": null,
            "overflow": null,
            "overflow_x": null,
            "overflow_y": null,
            "padding": null,
            "right": null,
            "top": null,
            "visibility": null,
            "width": null
          }
        },
        "6502ffddfe22418f812ad496fee64e8c": {
          "model_module": "@jupyter-widgets/base",
          "model_name": "LayoutModel",
          "state": {
            "_model_module": "@jupyter-widgets/base",
            "_model_module_version": "1.2.0",
            "_model_name": "LayoutModel",
            "_view_count": null,
            "_view_module": "@jupyter-widgets/base",
            "_view_module_version": "1.2.0",
            "_view_name": "LayoutView",
            "align_content": null,
            "align_items": null,
            "align_self": null,
            "border": null,
            "bottom": null,
            "display": null,
            "flex": null,
            "flex_flow": null,
            "grid_area": null,
            "grid_auto_columns": null,
            "grid_auto_flow": null,
            "grid_auto_rows": null,
            "grid_column": null,
            "grid_gap": null,
            "grid_row": null,
            "grid_template_areas": null,
            "grid_template_columns": null,
            "grid_template_rows": null,
            "height": null,
            "justify_content": null,
            "justify_items": null,
            "left": null,
            "margin": null,
            "max_height": null,
            "max_width": null,
            "min_height": null,
            "min_width": null,
            "object_fit": null,
            "object_position": null,
            "order": null,
            "overflow": null,
            "overflow_x": null,
            "overflow_y": null,
            "padding": null,
            "right": null,
            "top": null,
            "visibility": null,
            "width": null
          }
        },
        "ba08a2da0df24057a5189d5f88a12b7d": {
          "model_module": "@jupyter-widgets/controls",
          "model_name": "ProgressStyleModel",
          "state": {
            "_model_module": "@jupyter-widgets/controls",
            "_model_module_version": "1.5.0",
            "_model_name": "ProgressStyleModel",
            "_view_count": null,
            "_view_module": "@jupyter-widgets/base",
            "_view_module_version": "1.2.0",
            "_view_name": "StyleView",
            "bar_color": null,
            "description_width": "initial"
          }
        },
        "9bc5a17d9e1145dc9add4fc90bbaf2e9": {
          "model_module": "@jupyter-widgets/base",
          "model_name": "LayoutModel",
          "state": {
            "_model_module": "@jupyter-widgets/base",
            "_model_module_version": "1.2.0",
            "_model_name": "LayoutModel",
            "_view_count": null,
            "_view_module": "@jupyter-widgets/base",
            "_view_module_version": "1.2.0",
            "_view_name": "LayoutView",
            "align_content": null,
            "align_items": null,
            "align_self": null,
            "border": null,
            "bottom": null,
            "display": null,
            "flex": null,
            "flex_flow": null,
            "grid_area": null,
            "grid_auto_columns": null,
            "grid_auto_flow": null,
            "grid_auto_rows": null,
            "grid_column": null,
            "grid_gap": null,
            "grid_row": null,
            "grid_template_areas": null,
            "grid_template_columns": null,
            "grid_template_rows": null,
            "height": null,
            "justify_content": null,
            "justify_items": null,
            "left": null,
            "margin": null,
            "max_height": null,
            "max_width": null,
            "min_height": null,
            "min_width": null,
            "object_fit": null,
            "object_position": null,
            "order": null,
            "overflow": null,
            "overflow_x": null,
            "overflow_y": null,
            "padding": null,
            "right": null,
            "top": null,
            "visibility": null,
            "width": null
          }
        },
        "bce3164fb6904ddabbc471045042ab5e": {
          "model_module": "@jupyter-widgets/controls",
          "model_name": "DescriptionStyleModel",
          "state": {
            "_model_module": "@jupyter-widgets/controls",
            "_model_module_version": "1.5.0",
            "_model_name": "DescriptionStyleModel",
            "_view_count": null,
            "_view_module": "@jupyter-widgets/base",
            "_view_module_version": "1.2.0",
            "_view_name": "StyleView",
            "description_width": ""
          }
        },
        "f07bc644a13a48428b5d9f6aaa107832": {
          "model_module": "@jupyter-widgets/controls",
          "model_name": "HBoxModel",
          "state": {
            "_dom_classes": [],
            "_model_module": "@jupyter-widgets/controls",
            "_model_module_version": "1.5.0",
            "_model_name": "HBoxModel",
            "_view_count": null,
            "_view_module": "@jupyter-widgets/controls",
            "_view_module_version": "1.5.0",
            "_view_name": "HBoxView",
            "box_style": "",
            "children": [
              "IPY_MODEL_d447a9029da348c3b3a5ee2b8554cffc",
              "IPY_MODEL_334fe8887f37439eb77cd583d6f64818"
            ],
            "layout": "IPY_MODEL_e225d5420d1141b0a245060f8a92e290"
          }
        },
        "d447a9029da348c3b3a5ee2b8554cffc": {
          "model_module": "@jupyter-widgets/controls",
          "model_name": "FloatProgressModel",
          "state": {
            "_dom_classes": [],
            "_model_module": "@jupyter-widgets/controls",
            "_model_module_version": "1.5.0",
            "_model_name": "FloatProgressModel",
            "_view_count": null,
            "_view_module": "@jupyter-widgets/controls",
            "_view_module_version": "1.5.0",
            "_view_name": "ProgressView",
            "bar_style": "success",
            "description": "100%",
            "description_tooltip": null,
            "layout": "IPY_MODEL_88c153bc9c634653ab50798fb2c4ca56",
            "max": 5,
            "min": 0,
            "orientation": "horizontal",
            "style": "IPY_MODEL_eacc9a25d2ce4f999efe342997958a92",
            "value": 5
          }
        },
        "334fe8887f37439eb77cd583d6f64818": {
          "model_module": "@jupyter-widgets/controls",
          "model_name": "HTMLModel",
          "state": {
            "_dom_classes": [],
            "_model_module": "@jupyter-widgets/controls",
            "_model_module_version": "1.5.0",
            "_model_name": "HTMLModel",
            "_view_count": null,
            "_view_module": "@jupyter-widgets/controls",
            "_view_module_version": "1.5.0",
            "_view_name": "HTMLView",
            "description": "",
            "description_tooltip": null,
            "layout": "IPY_MODEL_c15c5d02168b4ac1b09836bff98d9f3e",
            "placeholder": "​",
            "style": "IPY_MODEL_c4b58048c24d4de6990e5c71cfbd5dd2",
            "value": " 5/5 [04:23&lt;00:00, 52.74s/it]"
          }
        },
        "e225d5420d1141b0a245060f8a92e290": {
          "model_module": "@jupyter-widgets/base",
          "model_name": "LayoutModel",
          "state": {
            "_model_module": "@jupyter-widgets/base",
            "_model_module_version": "1.2.0",
            "_model_name": "LayoutModel",
            "_view_count": null,
            "_view_module": "@jupyter-widgets/base",
            "_view_module_version": "1.2.0",
            "_view_name": "LayoutView",
            "align_content": null,
            "align_items": null,
            "align_self": null,
            "border": null,
            "bottom": null,
            "display": null,
            "flex": null,
            "flex_flow": null,
            "grid_area": null,
            "grid_auto_columns": null,
            "grid_auto_flow": null,
            "grid_auto_rows": null,
            "grid_column": null,
            "grid_gap": null,
            "grid_row": null,
            "grid_template_areas": null,
            "grid_template_columns": null,
            "grid_template_rows": null,
            "height": null,
            "justify_content": null,
            "justify_items": null,
            "left": null,
            "margin": null,
            "max_height": null,
            "max_width": null,
            "min_height": null,
            "min_width": null,
            "object_fit": null,
            "object_position": null,
            "order": null,
            "overflow": null,
            "overflow_x": null,
            "overflow_y": null,
            "padding": null,
            "right": null,
            "top": null,
            "visibility": null,
            "width": null
          }
        },
        "88c153bc9c634653ab50798fb2c4ca56": {
          "model_module": "@jupyter-widgets/base",
          "model_name": "LayoutModel",
          "state": {
            "_model_module": "@jupyter-widgets/base",
            "_model_module_version": "1.2.0",
            "_model_name": "LayoutModel",
            "_view_count": null,
            "_view_module": "@jupyter-widgets/base",
            "_view_module_version": "1.2.0",
            "_view_name": "LayoutView",
            "align_content": null,
            "align_items": null,
            "align_self": null,
            "border": null,
            "bottom": null,
            "display": null,
            "flex": null,
            "flex_flow": null,
            "grid_area": null,
            "grid_auto_columns": null,
            "grid_auto_flow": null,
            "grid_auto_rows": null,
            "grid_column": null,
            "grid_gap": null,
            "grid_row": null,
            "grid_template_areas": null,
            "grid_template_columns": null,
            "grid_template_rows": null,
            "height": null,
            "justify_content": null,
            "justify_items": null,
            "left": null,
            "margin": null,
            "max_height": null,
            "max_width": null,
            "min_height": null,
            "min_width": null,
            "object_fit": null,
            "object_position": null,
            "order": null,
            "overflow": null,
            "overflow_x": null,
            "overflow_y": null,
            "padding": null,
            "right": null,
            "top": null,
            "visibility": null,
            "width": null
          }
        },
        "eacc9a25d2ce4f999efe342997958a92": {
          "model_module": "@jupyter-widgets/controls",
          "model_name": "ProgressStyleModel",
          "state": {
            "_model_module": "@jupyter-widgets/controls",
            "_model_module_version": "1.5.0",
            "_model_name": "ProgressStyleModel",
            "_view_count": null,
            "_view_module": "@jupyter-widgets/base",
            "_view_module_version": "1.2.0",
            "_view_name": "StyleView",
            "bar_color": null,
            "description_width": "initial"
          }
        },
        "c15c5d02168b4ac1b09836bff98d9f3e": {
          "model_module": "@jupyter-widgets/base",
          "model_name": "LayoutModel",
          "state": {
            "_model_module": "@jupyter-widgets/base",
            "_model_module_version": "1.2.0",
            "_model_name": "LayoutModel",
            "_view_count": null,
            "_view_module": "@jupyter-widgets/base",
            "_view_module_version": "1.2.0",
            "_view_name": "LayoutView",
            "align_content": null,
            "align_items": null,
            "align_self": null,
            "border": null,
            "bottom": null,
            "display": null,
            "flex": null,
            "flex_flow": null,
            "grid_area": null,
            "grid_auto_columns": null,
            "grid_auto_flow": null,
            "grid_auto_rows": null,
            "grid_column": null,
            "grid_gap": null,
            "grid_row": null,
            "grid_template_areas": null,
            "grid_template_columns": null,
            "grid_template_rows": null,
            "height": null,
            "justify_content": null,
            "justify_items": null,
            "left": null,
            "margin": null,
            "max_height": null,
            "max_width": null,
            "min_height": null,
            "min_width": null,
            "object_fit": null,
            "object_position": null,
            "order": null,
            "overflow": null,
            "overflow_x": null,
            "overflow_y": null,
            "padding": null,
            "right": null,
            "top": null,
            "visibility": null,
            "width": null
          }
        },
        "c4b58048c24d4de6990e5c71cfbd5dd2": {
          "model_module": "@jupyter-widgets/controls",
          "model_name": "DescriptionStyleModel",
          "state": {
            "_model_module": "@jupyter-widgets/controls",
            "_model_module_version": "1.5.0",
            "_model_name": "DescriptionStyleModel",
            "_view_count": null,
            "_view_module": "@jupyter-widgets/base",
            "_view_module_version": "1.2.0",
            "_view_name": "StyleView",
            "description_width": ""
          }
        },
        "aa93580118a44f5ab821a6735a20b63e": {
          "model_module": "@jupyter-widgets/controls",
          "model_name": "HBoxModel",
          "state": {
            "_dom_classes": [],
            "_model_module": "@jupyter-widgets/controls",
            "_model_module_version": "1.5.0",
            "_model_name": "HBoxModel",
            "_view_count": null,
            "_view_module": "@jupyter-widgets/controls",
            "_view_module_version": "1.5.0",
            "_view_name": "HBoxView",
            "box_style": "",
            "children": [
              "IPY_MODEL_668d6b44bc49400da05fc1019936d5e7",
              "IPY_MODEL_e352c3e853294bb5bedb594f91c218c4"
            ],
            "layout": "IPY_MODEL_6da6a296fb934781a6edf519c7ec8542"
          }
        },
        "668d6b44bc49400da05fc1019936d5e7": {
          "model_module": "@jupyter-widgets/controls",
          "model_name": "FloatProgressModel",
          "state": {
            "_dom_classes": [],
            "_model_module": "@jupyter-widgets/controls",
            "_model_module_version": "1.5.0",
            "_model_name": "FloatProgressModel",
            "_view_count": null,
            "_view_module": "@jupyter-widgets/controls",
            "_view_module_version": "1.5.0",
            "_view_name": "ProgressView",
            "bar_style": "success",
            "description": "100%",
            "description_tooltip": null,
            "layout": "IPY_MODEL_a93ba7a9148a43e8bda05c60564847f6",
            "max": 200,
            "min": 0,
            "orientation": "horizontal",
            "style": "IPY_MODEL_9be330c339f049598764c122f905a51f",
            "value": 200
          }
        },
        "e352c3e853294bb5bedb594f91c218c4": {
          "model_module": "@jupyter-widgets/controls",
          "model_name": "HTMLModel",
          "state": {
            "_dom_classes": [],
            "_model_module": "@jupyter-widgets/controls",
            "_model_module_version": "1.5.0",
            "_model_name": "HTMLModel",
            "_view_count": null,
            "_view_module": "@jupyter-widgets/controls",
            "_view_module_version": "1.5.0",
            "_view_name": "HTMLView",
            "description": "",
            "description_tooltip": null,
            "layout": "IPY_MODEL_34950127a207443eb81c39c7d2f5f22e",
            "placeholder": "​",
            "style": "IPY_MODEL_81c0a4dcbc514b2595be54a2e494dfac",
            "value": " 200/200 [00:45&lt;00:00,  4.35it/s]"
          }
        },
        "6da6a296fb934781a6edf519c7ec8542": {
          "model_module": "@jupyter-widgets/base",
          "model_name": "LayoutModel",
          "state": {
            "_model_module": "@jupyter-widgets/base",
            "_model_module_version": "1.2.0",
            "_model_name": "LayoutModel",
            "_view_count": null,
            "_view_module": "@jupyter-widgets/base",
            "_view_module_version": "1.2.0",
            "_view_name": "LayoutView",
            "align_content": null,
            "align_items": null,
            "align_self": null,
            "border": null,
            "bottom": null,
            "display": null,
            "flex": null,
            "flex_flow": null,
            "grid_area": null,
            "grid_auto_columns": null,
            "grid_auto_flow": null,
            "grid_auto_rows": null,
            "grid_column": null,
            "grid_gap": null,
            "grid_row": null,
            "grid_template_areas": null,
            "grid_template_columns": null,
            "grid_template_rows": null,
            "height": null,
            "justify_content": null,
            "justify_items": null,
            "left": null,
            "margin": null,
            "max_height": null,
            "max_width": null,
            "min_height": null,
            "min_width": null,
            "object_fit": null,
            "object_position": null,
            "order": null,
            "overflow": null,
            "overflow_x": null,
            "overflow_y": null,
            "padding": null,
            "right": null,
            "top": null,
            "visibility": null,
            "width": null
          }
        },
        "a93ba7a9148a43e8bda05c60564847f6": {
          "model_module": "@jupyter-widgets/base",
          "model_name": "LayoutModel",
          "state": {
            "_model_module": "@jupyter-widgets/base",
            "_model_module_version": "1.2.0",
            "_model_name": "LayoutModel",
            "_view_count": null,
            "_view_module": "@jupyter-widgets/base",
            "_view_module_version": "1.2.0",
            "_view_name": "LayoutView",
            "align_content": null,
            "align_items": null,
            "align_self": null,
            "border": null,
            "bottom": null,
            "display": null,
            "flex": null,
            "flex_flow": null,
            "grid_area": null,
            "grid_auto_columns": null,
            "grid_auto_flow": null,
            "grid_auto_rows": null,
            "grid_column": null,
            "grid_gap": null,
            "grid_row": null,
            "grid_template_areas": null,
            "grid_template_columns": null,
            "grid_template_rows": null,
            "height": null,
            "justify_content": null,
            "justify_items": null,
            "left": null,
            "margin": null,
            "max_height": null,
            "max_width": null,
            "min_height": null,
            "min_width": null,
            "object_fit": null,
            "object_position": null,
            "order": null,
            "overflow": null,
            "overflow_x": null,
            "overflow_y": null,
            "padding": null,
            "right": null,
            "top": null,
            "visibility": null,
            "width": null
          }
        },
        "9be330c339f049598764c122f905a51f": {
          "model_module": "@jupyter-widgets/controls",
          "model_name": "ProgressStyleModel",
          "state": {
            "_model_module": "@jupyter-widgets/controls",
            "_model_module_version": "1.5.0",
            "_model_name": "ProgressStyleModel",
            "_view_count": null,
            "_view_module": "@jupyter-widgets/base",
            "_view_module_version": "1.2.0",
            "_view_name": "StyleView",
            "bar_color": null,
            "description_width": "initial"
          }
        },
        "34950127a207443eb81c39c7d2f5f22e": {
          "model_module": "@jupyter-widgets/base",
          "model_name": "LayoutModel",
          "state": {
            "_model_module": "@jupyter-widgets/base",
            "_model_module_version": "1.2.0",
            "_model_name": "LayoutModel",
            "_view_count": null,
            "_view_module": "@jupyter-widgets/base",
            "_view_module_version": "1.2.0",
            "_view_name": "LayoutView",
            "align_content": null,
            "align_items": null,
            "align_self": null,
            "border": null,
            "bottom": null,
            "display": null,
            "flex": null,
            "flex_flow": null,
            "grid_area": null,
            "grid_auto_columns": null,
            "grid_auto_flow": null,
            "grid_auto_rows": null,
            "grid_column": null,
            "grid_gap": null,
            "grid_row": null,
            "grid_template_areas": null,
            "grid_template_columns": null,
            "grid_template_rows": null,
            "height": null,
            "justify_content": null,
            "justify_items": null,
            "left": null,
            "margin": null,
            "max_height": null,
            "max_width": null,
            "min_height": null,
            "min_width": null,
            "object_fit": null,
            "object_position": null,
            "order": null,
            "overflow": null,
            "overflow_x": null,
            "overflow_y": null,
            "padding": null,
            "right": null,
            "top": null,
            "visibility": null,
            "width": null
          }
        },
        "81c0a4dcbc514b2595be54a2e494dfac": {
          "model_module": "@jupyter-widgets/controls",
          "model_name": "DescriptionStyleModel",
          "state": {
            "_model_module": "@jupyter-widgets/controls",
            "_model_module_version": "1.5.0",
            "_model_name": "DescriptionStyleModel",
            "_view_count": null,
            "_view_module": "@jupyter-widgets/base",
            "_view_module_version": "1.2.0",
            "_view_name": "StyleView",
            "description_width": ""
          }
        },
        "97d3c6e3140d4f5db77ca0710adda8b9": {
          "model_module": "@jupyter-widgets/controls",
          "model_name": "HBoxModel",
          "state": {
            "_dom_classes": [],
            "_model_module": "@jupyter-widgets/controls",
            "_model_module_version": "1.5.0",
            "_model_name": "HBoxModel",
            "_view_count": null,
            "_view_module": "@jupyter-widgets/controls",
            "_view_module_version": "1.5.0",
            "_view_name": "HBoxView",
            "box_style": "",
            "children": [
              "IPY_MODEL_f97c556590ed42bbb486061ca2249d4a",
              "IPY_MODEL_f84191a37f254a389431673f6731e5ae"
            ],
            "layout": "IPY_MODEL_e8093e7608674736b8c7979b7758ec64"
          }
        },
        "f97c556590ed42bbb486061ca2249d4a": {
          "model_module": "@jupyter-widgets/controls",
          "model_name": "FloatProgressModel",
          "state": {
            "_dom_classes": [],
            "_model_module": "@jupyter-widgets/controls",
            "_model_module_version": "1.5.0",
            "_model_name": "FloatProgressModel",
            "_view_count": null,
            "_view_module": "@jupyter-widgets/controls",
            "_view_module_version": "1.5.0",
            "_view_name": "ProgressView",
            "bar_style": "success",
            "description": "100%",
            "description_tooltip": null,
            "layout": "IPY_MODEL_9d5d14fd43b44534b324d3a0497d87b3",
            "max": 200,
            "min": 0,
            "orientation": "horizontal",
            "style": "IPY_MODEL_ddc68fe4c59a406090e1e7e4d539e258",
            "value": 200
          }
        },
        "f84191a37f254a389431673f6731e5ae": {
          "model_module": "@jupyter-widgets/controls",
          "model_name": "HTMLModel",
          "state": {
            "_dom_classes": [],
            "_model_module": "@jupyter-widgets/controls",
            "_model_module_version": "1.5.0",
            "_model_name": "HTMLModel",
            "_view_count": null,
            "_view_module": "@jupyter-widgets/controls",
            "_view_module_version": "1.5.0",
            "_view_name": "HTMLView",
            "description": "",
            "description_tooltip": null,
            "layout": "IPY_MODEL_89b4322c0daf46a787cdfdd32ebd1765",
            "placeholder": "​",
            "style": "IPY_MODEL_c8b4283b65d049a0b11e465d58c8e678",
            "value": " 200/200 [19:30&lt;00:00,  5.85s/it]"
          }
        },
        "e8093e7608674736b8c7979b7758ec64": {
          "model_module": "@jupyter-widgets/base",
          "model_name": "LayoutModel",
          "state": {
            "_model_module": "@jupyter-widgets/base",
            "_model_module_version": "1.2.0",
            "_model_name": "LayoutModel",
            "_view_count": null,
            "_view_module": "@jupyter-widgets/base",
            "_view_module_version": "1.2.0",
            "_view_name": "LayoutView",
            "align_content": null,
            "align_items": null,
            "align_self": null,
            "border": null,
            "bottom": null,
            "display": null,
            "flex": null,
            "flex_flow": null,
            "grid_area": null,
            "grid_auto_columns": null,
            "grid_auto_flow": null,
            "grid_auto_rows": null,
            "grid_column": null,
            "grid_gap": null,
            "grid_row": null,
            "grid_template_areas": null,
            "grid_template_columns": null,
            "grid_template_rows": null,
            "height": null,
            "justify_content": null,
            "justify_items": null,
            "left": null,
            "margin": null,
            "max_height": null,
            "max_width": null,
            "min_height": null,
            "min_width": null,
            "object_fit": null,
            "object_position": null,
            "order": null,
            "overflow": null,
            "overflow_x": null,
            "overflow_y": null,
            "padding": null,
            "right": null,
            "top": null,
            "visibility": null,
            "width": null
          }
        },
        "9d5d14fd43b44534b324d3a0497d87b3": {
          "model_module": "@jupyter-widgets/base",
          "model_name": "LayoutModel",
          "state": {
            "_model_module": "@jupyter-widgets/base",
            "_model_module_version": "1.2.0",
            "_model_name": "LayoutModel",
            "_view_count": null,
            "_view_module": "@jupyter-widgets/base",
            "_view_module_version": "1.2.0",
            "_view_name": "LayoutView",
            "align_content": null,
            "align_items": null,
            "align_self": null,
            "border": null,
            "bottom": null,
            "display": null,
            "flex": null,
            "flex_flow": null,
            "grid_area": null,
            "grid_auto_columns": null,
            "grid_auto_flow": null,
            "grid_auto_rows": null,
            "grid_column": null,
            "grid_gap": null,
            "grid_row": null,
            "grid_template_areas": null,
            "grid_template_columns": null,
            "grid_template_rows": null,
            "height": null,
            "justify_content": null,
            "justify_items": null,
            "left": null,
            "margin": null,
            "max_height": null,
            "max_width": null,
            "min_height": null,
            "min_width": null,
            "object_fit": null,
            "object_position": null,
            "order": null,
            "overflow": null,
            "overflow_x": null,
            "overflow_y": null,
            "padding": null,
            "right": null,
            "top": null,
            "visibility": null,
            "width": null
          }
        },
        "ddc68fe4c59a406090e1e7e4d539e258": {
          "model_module": "@jupyter-widgets/controls",
          "model_name": "ProgressStyleModel",
          "state": {
            "_model_module": "@jupyter-widgets/controls",
            "_model_module_version": "1.5.0",
            "_model_name": "ProgressStyleModel",
            "_view_count": null,
            "_view_module": "@jupyter-widgets/base",
            "_view_module_version": "1.2.0",
            "_view_name": "StyleView",
            "bar_color": null,
            "description_width": "initial"
          }
        },
        "89b4322c0daf46a787cdfdd32ebd1765": {
          "model_module": "@jupyter-widgets/base",
          "model_name": "LayoutModel",
          "state": {
            "_model_module": "@jupyter-widgets/base",
            "_model_module_version": "1.2.0",
            "_model_name": "LayoutModel",
            "_view_count": null,
            "_view_module": "@jupyter-widgets/base",
            "_view_module_version": "1.2.0",
            "_view_name": "LayoutView",
            "align_content": null,
            "align_items": null,
            "align_self": null,
            "border": null,
            "bottom": null,
            "display": null,
            "flex": null,
            "flex_flow": null,
            "grid_area": null,
            "grid_auto_columns": null,
            "grid_auto_flow": null,
            "grid_auto_rows": null,
            "grid_column": null,
            "grid_gap": null,
            "grid_row": null,
            "grid_template_areas": null,
            "grid_template_columns": null,
            "grid_template_rows": null,
            "height": null,
            "justify_content": null,
            "justify_items": null,
            "left": null,
            "margin": null,
            "max_height": null,
            "max_width": null,
            "min_height": null,
            "min_width": null,
            "object_fit": null,
            "object_position": null,
            "order": null,
            "overflow": null,
            "overflow_x": null,
            "overflow_y": null,
            "padding": null,
            "right": null,
            "top": null,
            "visibility": null,
            "width": null
          }
        },
        "c8b4283b65d049a0b11e465d58c8e678": {
          "model_module": "@jupyter-widgets/controls",
          "model_name": "DescriptionStyleModel",
          "state": {
            "_model_module": "@jupyter-widgets/controls",
            "_model_module_version": "1.5.0",
            "_model_name": "DescriptionStyleModel",
            "_view_count": null,
            "_view_module": "@jupyter-widgets/base",
            "_view_module_version": "1.2.0",
            "_view_name": "StyleView",
            "description_width": ""
          }
        },
        "809aaf35cc544786a84459fed0efc635": {
          "model_module": "@jupyter-widgets/controls",
          "model_name": "HBoxModel",
          "state": {
            "_dom_classes": [],
            "_model_module": "@jupyter-widgets/controls",
            "_model_module_version": "1.5.0",
            "_model_name": "HBoxModel",
            "_view_count": null,
            "_view_module": "@jupyter-widgets/controls",
            "_view_module_version": "1.5.0",
            "_view_name": "HBoxView",
            "box_style": "",
            "children": [
              "IPY_MODEL_b1de964d716b4a72ae7607c024ebe28f",
              "IPY_MODEL_935dec83f24840729adf6c35921666c9"
            ],
            "layout": "IPY_MODEL_99407e88e0aa44c0ac852229b090eb60"
          }
        },
        "b1de964d716b4a72ae7607c024ebe28f": {
          "model_module": "@jupyter-widgets/controls",
          "model_name": "FloatProgressModel",
          "state": {
            "_dom_classes": [],
            "_model_module": "@jupyter-widgets/controls",
            "_model_module_version": "1.5.0",
            "_model_name": "FloatProgressModel",
            "_view_count": null,
            "_view_module": "@jupyter-widgets/controls",
            "_view_module_version": "1.5.0",
            "_view_name": "ProgressView",
            "bar_style": "success",
            "description": "100%",
            "description_tooltip": null,
            "layout": "IPY_MODEL_b7352b5775c641b0bf5b3ed137a310f1",
            "max": 80,
            "min": 0,
            "orientation": "horizontal",
            "style": "IPY_MODEL_afbc3f4e458e429e812cd8d163f64e00",
            "value": 80
          }
        },
        "935dec83f24840729adf6c35921666c9": {
          "model_module": "@jupyter-widgets/controls",
          "model_name": "HTMLModel",
          "state": {
            "_dom_classes": [],
            "_model_module": "@jupyter-widgets/controls",
            "_model_module_version": "1.5.0",
            "_model_name": "HTMLModel",
            "_view_count": null,
            "_view_module": "@jupyter-widgets/controls",
            "_view_module_version": "1.5.0",
            "_view_name": "HTMLView",
            "description": "",
            "description_tooltip": null,
            "layout": "IPY_MODEL_1dfafd3c16b64835a74750d17c66f8a7",
            "placeholder": "​",
            "style": "IPY_MODEL_e667335d37464d359314ae4a096dff75",
            "value": " 80/80 [00:22&lt;00:00,  3.48it/s]"
          }
        },
        "99407e88e0aa44c0ac852229b090eb60": {
          "model_module": "@jupyter-widgets/base",
          "model_name": "LayoutModel",
          "state": {
            "_model_module": "@jupyter-widgets/base",
            "_model_module_version": "1.2.0",
            "_model_name": "LayoutModel",
            "_view_count": null,
            "_view_module": "@jupyter-widgets/base",
            "_view_module_version": "1.2.0",
            "_view_name": "LayoutView",
            "align_content": null,
            "align_items": null,
            "align_self": null,
            "border": null,
            "bottom": null,
            "display": null,
            "flex": null,
            "flex_flow": null,
            "grid_area": null,
            "grid_auto_columns": null,
            "grid_auto_flow": null,
            "grid_auto_rows": null,
            "grid_column": null,
            "grid_gap": null,
            "grid_row": null,
            "grid_template_areas": null,
            "grid_template_columns": null,
            "grid_template_rows": null,
            "height": null,
            "justify_content": null,
            "justify_items": null,
            "left": null,
            "margin": null,
            "max_height": null,
            "max_width": null,
            "min_height": null,
            "min_width": null,
            "object_fit": null,
            "object_position": null,
            "order": null,
            "overflow": null,
            "overflow_x": null,
            "overflow_y": null,
            "padding": null,
            "right": null,
            "top": null,
            "visibility": null,
            "width": null
          }
        },
        "b7352b5775c641b0bf5b3ed137a310f1": {
          "model_module": "@jupyter-widgets/base",
          "model_name": "LayoutModel",
          "state": {
            "_model_module": "@jupyter-widgets/base",
            "_model_module_version": "1.2.0",
            "_model_name": "LayoutModel",
            "_view_count": null,
            "_view_module": "@jupyter-widgets/base",
            "_view_module_version": "1.2.0",
            "_view_name": "LayoutView",
            "align_content": null,
            "align_items": null,
            "align_self": null,
            "border": null,
            "bottom": null,
            "display": null,
            "flex": null,
            "flex_flow": null,
            "grid_area": null,
            "grid_auto_columns": null,
            "grid_auto_flow": null,
            "grid_auto_rows": null,
            "grid_column": null,
            "grid_gap": null,
            "grid_row": null,
            "grid_template_areas": null,
            "grid_template_columns": null,
            "grid_template_rows": null,
            "height": null,
            "justify_content": null,
            "justify_items": null,
            "left": null,
            "margin": null,
            "max_height": null,
            "max_width": null,
            "min_height": null,
            "min_width": null,
            "object_fit": null,
            "object_position": null,
            "order": null,
            "overflow": null,
            "overflow_x": null,
            "overflow_y": null,
            "padding": null,
            "right": null,
            "top": null,
            "visibility": null,
            "width": null
          }
        },
        "afbc3f4e458e429e812cd8d163f64e00": {
          "model_module": "@jupyter-widgets/controls",
          "model_name": "ProgressStyleModel",
          "state": {
            "_model_module": "@jupyter-widgets/controls",
            "_model_module_version": "1.5.0",
            "_model_name": "ProgressStyleModel",
            "_view_count": null,
            "_view_module": "@jupyter-widgets/base",
            "_view_module_version": "1.2.0",
            "_view_name": "StyleView",
            "bar_color": null,
            "description_width": "initial"
          }
        },
        "1dfafd3c16b64835a74750d17c66f8a7": {
          "model_module": "@jupyter-widgets/base",
          "model_name": "LayoutModel",
          "state": {
            "_model_module": "@jupyter-widgets/base",
            "_model_module_version": "1.2.0",
            "_model_name": "LayoutModel",
            "_view_count": null,
            "_view_module": "@jupyter-widgets/base",
            "_view_module_version": "1.2.0",
            "_view_name": "LayoutView",
            "align_content": null,
            "align_items": null,
            "align_self": null,
            "border": null,
            "bottom": null,
            "display": null,
            "flex": null,
            "flex_flow": null,
            "grid_area": null,
            "grid_auto_columns": null,
            "grid_auto_flow": null,
            "grid_auto_rows": null,
            "grid_column": null,
            "grid_gap": null,
            "grid_row": null,
            "grid_template_areas": null,
            "grid_template_columns": null,
            "grid_template_rows": null,
            "height": null,
            "justify_content": null,
            "justify_items": null,
            "left": null,
            "margin": null,
            "max_height": null,
            "max_width": null,
            "min_height": null,
            "min_width": null,
            "object_fit": null,
            "object_position": null,
            "order": null,
            "overflow": null,
            "overflow_x": null,
            "overflow_y": null,
            "padding": null,
            "right": null,
            "top": null,
            "visibility": null,
            "width": null
          }
        },
        "e667335d37464d359314ae4a096dff75": {
          "model_module": "@jupyter-widgets/controls",
          "model_name": "DescriptionStyleModel",
          "state": {
            "_model_module": "@jupyter-widgets/controls",
            "_model_module_version": "1.5.0",
            "_model_name": "DescriptionStyleModel",
            "_view_count": null,
            "_view_module": "@jupyter-widgets/base",
            "_view_module_version": "1.2.0",
            "_view_name": "StyleView",
            "description_width": ""
          }
        },
        "8932d4f642bd48a790245a0b48a36796": {
          "model_module": "@jupyter-widgets/controls",
          "model_name": "HBoxModel",
          "state": {
            "_dom_classes": [],
            "_model_module": "@jupyter-widgets/controls",
            "_model_module_version": "1.5.0",
            "_model_name": "HBoxModel",
            "_view_count": null,
            "_view_module": "@jupyter-widgets/controls",
            "_view_module_version": "1.5.0",
            "_view_name": "HBoxView",
            "box_style": "",
            "children": [
              "IPY_MODEL_a3a52ddf82324bee8317992faff9058c",
              "IPY_MODEL_be21284e38844e369066a4cf6e1652ae"
            ],
            "layout": "IPY_MODEL_44bc84dfdddb48d9910f6d8fda34fe99"
          }
        },
        "a3a52ddf82324bee8317992faff9058c": {
          "model_module": "@jupyter-widgets/controls",
          "model_name": "FloatProgressModel",
          "state": {
            "_dom_classes": [],
            "_model_module": "@jupyter-widgets/controls",
            "_model_module_version": "1.5.0",
            "_model_name": "FloatProgressModel",
            "_view_count": null,
            "_view_module": "@jupyter-widgets/controls",
            "_view_module_version": "1.5.0",
            "_view_name": "ProgressView",
            "bar_style": "success",
            "description": "100%",
            "description_tooltip": null,
            "layout": "IPY_MODEL_e02f81147d8840f1a7950bc5788ec3e0",
            "max": 1,
            "min": 0,
            "orientation": "horizontal",
            "style": "IPY_MODEL_42e3039600c047fc9f71d9ebb686e58b",
            "value": 1
          }
        },
        "be21284e38844e369066a4cf6e1652ae": {
          "model_module": "@jupyter-widgets/controls",
          "model_name": "HTMLModel",
          "state": {
            "_dom_classes": [],
            "_model_module": "@jupyter-widgets/controls",
            "_model_module_version": "1.5.0",
            "_model_name": "HTMLModel",
            "_view_count": null,
            "_view_module": "@jupyter-widgets/controls",
            "_view_module_version": "1.5.0",
            "_view_name": "HTMLView",
            "description": "",
            "description_tooltip": null,
            "layout": "IPY_MODEL_446980aa2555457c84358028306d2edc",
            "placeholder": "​",
            "style": "IPY_MODEL_af603600e8594d12810fb5d2cd2482d0",
            "value": " 1/1 [05:48&lt;00:00, 348.61s/it]"
          }
        },
        "44bc84dfdddb48d9910f6d8fda34fe99": {
          "model_module": "@jupyter-widgets/base",
          "model_name": "LayoutModel",
          "state": {
            "_model_module": "@jupyter-widgets/base",
            "_model_module_version": "1.2.0",
            "_model_name": "LayoutModel",
            "_view_count": null,
            "_view_module": "@jupyter-widgets/base",
            "_view_module_version": "1.2.0",
            "_view_name": "LayoutView",
            "align_content": null,
            "align_items": null,
            "align_self": null,
            "border": null,
            "bottom": null,
            "display": null,
            "flex": null,
            "flex_flow": null,
            "grid_area": null,
            "grid_auto_columns": null,
            "grid_auto_flow": null,
            "grid_auto_rows": null,
            "grid_column": null,
            "grid_gap": null,
            "grid_row": null,
            "grid_template_areas": null,
            "grid_template_columns": null,
            "grid_template_rows": null,
            "height": null,
            "justify_content": null,
            "justify_items": null,
            "left": null,
            "margin": null,
            "max_height": null,
            "max_width": null,
            "min_height": null,
            "min_width": null,
            "object_fit": null,
            "object_position": null,
            "order": null,
            "overflow": null,
            "overflow_x": null,
            "overflow_y": null,
            "padding": null,
            "right": null,
            "top": null,
            "visibility": null,
            "width": null
          }
        },
        "e02f81147d8840f1a7950bc5788ec3e0": {
          "model_module": "@jupyter-widgets/base",
          "model_name": "LayoutModel",
          "state": {
            "_model_module": "@jupyter-widgets/base",
            "_model_module_version": "1.2.0",
            "_model_name": "LayoutModel",
            "_view_count": null,
            "_view_module": "@jupyter-widgets/base",
            "_view_module_version": "1.2.0",
            "_view_name": "LayoutView",
            "align_content": null,
            "align_items": null,
            "align_self": null,
            "border": null,
            "bottom": null,
            "display": null,
            "flex": null,
            "flex_flow": null,
            "grid_area": null,
            "grid_auto_columns": null,
            "grid_auto_flow": null,
            "grid_auto_rows": null,
            "grid_column": null,
            "grid_gap": null,
            "grid_row": null,
            "grid_template_areas": null,
            "grid_template_columns": null,
            "grid_template_rows": null,
            "height": null,
            "justify_content": null,
            "justify_items": null,
            "left": null,
            "margin": null,
            "max_height": null,
            "max_width": null,
            "min_height": null,
            "min_width": null,
            "object_fit": null,
            "object_position": null,
            "order": null,
            "overflow": null,
            "overflow_x": null,
            "overflow_y": null,
            "padding": null,
            "right": null,
            "top": null,
            "visibility": null,
            "width": null
          }
        },
        "42e3039600c047fc9f71d9ebb686e58b": {
          "model_module": "@jupyter-widgets/controls",
          "model_name": "ProgressStyleModel",
          "state": {
            "_model_module": "@jupyter-widgets/controls",
            "_model_module_version": "1.5.0",
            "_model_name": "ProgressStyleModel",
            "_view_count": null,
            "_view_module": "@jupyter-widgets/base",
            "_view_module_version": "1.2.0",
            "_view_name": "StyleView",
            "bar_color": null,
            "description_width": "initial"
          }
        },
        "446980aa2555457c84358028306d2edc": {
          "model_module": "@jupyter-widgets/base",
          "model_name": "LayoutModel",
          "state": {
            "_model_module": "@jupyter-widgets/base",
            "_model_module_version": "1.2.0",
            "_model_name": "LayoutModel",
            "_view_count": null,
            "_view_module": "@jupyter-widgets/base",
            "_view_module_version": "1.2.0",
            "_view_name": "LayoutView",
            "align_content": null,
            "align_items": null,
            "align_self": null,
            "border": null,
            "bottom": null,
            "display": null,
            "flex": null,
            "flex_flow": null,
            "grid_area": null,
            "grid_auto_columns": null,
            "grid_auto_flow": null,
            "grid_auto_rows": null,
            "grid_column": null,
            "grid_gap": null,
            "grid_row": null,
            "grid_template_areas": null,
            "grid_template_columns": null,
            "grid_template_rows": null,
            "height": null,
            "justify_content": null,
            "justify_items": null,
            "left": null,
            "margin": null,
            "max_height": null,
            "max_width": null,
            "min_height": null,
            "min_width": null,
            "object_fit": null,
            "object_position": null,
            "order": null,
            "overflow": null,
            "overflow_x": null,
            "overflow_y": null,
            "padding": null,
            "right": null,
            "top": null,
            "visibility": null,
            "width": null
          }
        },
        "af603600e8594d12810fb5d2cd2482d0": {
          "model_module": "@jupyter-widgets/controls",
          "model_name": "DescriptionStyleModel",
          "state": {
            "_model_module": "@jupyter-widgets/controls",
            "_model_module_version": "1.5.0",
            "_model_name": "DescriptionStyleModel",
            "_view_count": null,
            "_view_module": "@jupyter-widgets/base",
            "_view_module_version": "1.2.0",
            "_view_name": "StyleView",
            "description_width": ""
          }
        },
        "56978a32cc164ef4b235f798eb430cc2": {
          "model_module": "@jupyter-widgets/controls",
          "model_name": "HBoxModel",
          "state": {
            "_dom_classes": [],
            "_model_module": "@jupyter-widgets/controls",
            "_model_module_version": "1.5.0",
            "_model_name": "HBoxModel",
            "_view_count": null,
            "_view_module": "@jupyter-widgets/controls",
            "_view_module_version": "1.5.0",
            "_view_name": "HBoxView",
            "box_style": "",
            "children": [
              "IPY_MODEL_d75e5c2dac914cb794afda9c65c3fa40",
              "IPY_MODEL_926d848d548d44c99292e5d7d0af1689"
            ],
            "layout": "IPY_MODEL_e755df2836b14b978becd049704dc29a"
          }
        },
        "d75e5c2dac914cb794afda9c65c3fa40": {
          "model_module": "@jupyter-widgets/controls",
          "model_name": "FloatProgressModel",
          "state": {
            "_dom_classes": [],
            "_model_module": "@jupyter-widgets/controls",
            "_model_module_version": "1.5.0",
            "_model_name": "FloatProgressModel",
            "_view_count": null,
            "_view_module": "@jupyter-widgets/controls",
            "_view_module_version": "1.5.0",
            "_view_name": "ProgressView",
            "bar_style": "success",
            "description": "100%",
            "description_tooltip": null,
            "layout": "IPY_MODEL_7552a0c4c5e94baf89d59029efc354d1",
            "max": 79,
            "min": 0,
            "orientation": "horizontal",
            "style": "IPY_MODEL_1f6a2fe766cb4643a71da3686a30d28a",
            "value": 79
          }
        },
        "926d848d548d44c99292e5d7d0af1689": {
          "model_module": "@jupyter-widgets/controls",
          "model_name": "HTMLModel",
          "state": {
            "_dom_classes": [],
            "_model_module": "@jupyter-widgets/controls",
            "_model_module_version": "1.5.0",
            "_model_name": "HTMLModel",
            "_view_count": null,
            "_view_module": "@jupyter-widgets/controls",
            "_view_module_version": "1.5.0",
            "_view_name": "HTMLView",
            "description": "",
            "description_tooltip": null,
            "layout": "IPY_MODEL_9dd6e8617897424286759c1ba8a466b7",
            "placeholder": "​",
            "style": "IPY_MODEL_9358d67ca59e44629447740dc1c875a5",
            "value": " 79/79 [05:21&lt;00:00,  4.07s/it]"
          }
        },
        "e755df2836b14b978becd049704dc29a": {
          "model_module": "@jupyter-widgets/base",
          "model_name": "LayoutModel",
          "state": {
            "_model_module": "@jupyter-widgets/base",
            "_model_module_version": "1.2.0",
            "_model_name": "LayoutModel",
            "_view_count": null,
            "_view_module": "@jupyter-widgets/base",
            "_view_module_version": "1.2.0",
            "_view_name": "LayoutView",
            "align_content": null,
            "align_items": null,
            "align_self": null,
            "border": null,
            "bottom": null,
            "display": null,
            "flex": null,
            "flex_flow": null,
            "grid_area": null,
            "grid_auto_columns": null,
            "grid_auto_flow": null,
            "grid_auto_rows": null,
            "grid_column": null,
            "grid_gap": null,
            "grid_row": null,
            "grid_template_areas": null,
            "grid_template_columns": null,
            "grid_template_rows": null,
            "height": null,
            "justify_content": null,
            "justify_items": null,
            "left": null,
            "margin": null,
            "max_height": null,
            "max_width": null,
            "min_height": null,
            "min_width": null,
            "object_fit": null,
            "object_position": null,
            "order": null,
            "overflow": null,
            "overflow_x": null,
            "overflow_y": null,
            "padding": null,
            "right": null,
            "top": null,
            "visibility": null,
            "width": null
          }
        },
        "7552a0c4c5e94baf89d59029efc354d1": {
          "model_module": "@jupyter-widgets/base",
          "model_name": "LayoutModel",
          "state": {
            "_model_module": "@jupyter-widgets/base",
            "_model_module_version": "1.2.0",
            "_model_name": "LayoutModel",
            "_view_count": null,
            "_view_module": "@jupyter-widgets/base",
            "_view_module_version": "1.2.0",
            "_view_name": "LayoutView",
            "align_content": null,
            "align_items": null,
            "align_self": null,
            "border": null,
            "bottom": null,
            "display": null,
            "flex": null,
            "flex_flow": null,
            "grid_area": null,
            "grid_auto_columns": null,
            "grid_auto_flow": null,
            "grid_auto_rows": null,
            "grid_column": null,
            "grid_gap": null,
            "grid_row": null,
            "grid_template_areas": null,
            "grid_template_columns": null,
            "grid_template_rows": null,
            "height": null,
            "justify_content": null,
            "justify_items": null,
            "left": null,
            "margin": null,
            "max_height": null,
            "max_width": null,
            "min_height": null,
            "min_width": null,
            "object_fit": null,
            "object_position": null,
            "order": null,
            "overflow": null,
            "overflow_x": null,
            "overflow_y": null,
            "padding": null,
            "right": null,
            "top": null,
            "visibility": null,
            "width": null
          }
        },
        "1f6a2fe766cb4643a71da3686a30d28a": {
          "model_module": "@jupyter-widgets/controls",
          "model_name": "ProgressStyleModel",
          "state": {
            "_model_module": "@jupyter-widgets/controls",
            "_model_module_version": "1.5.0",
            "_model_name": "ProgressStyleModel",
            "_view_count": null,
            "_view_module": "@jupyter-widgets/base",
            "_view_module_version": "1.2.0",
            "_view_name": "StyleView",
            "bar_color": null,
            "description_width": "initial"
          }
        },
        "9dd6e8617897424286759c1ba8a466b7": {
          "model_module": "@jupyter-widgets/base",
          "model_name": "LayoutModel",
          "state": {
            "_model_module": "@jupyter-widgets/base",
            "_model_module_version": "1.2.0",
            "_model_name": "LayoutModel",
            "_view_count": null,
            "_view_module": "@jupyter-widgets/base",
            "_view_module_version": "1.2.0",
            "_view_name": "LayoutView",
            "align_content": null,
            "align_items": null,
            "align_self": null,
            "border": null,
            "bottom": null,
            "display": null,
            "flex": null,
            "flex_flow": null,
            "grid_area": null,
            "grid_auto_columns": null,
            "grid_auto_flow": null,
            "grid_auto_rows": null,
            "grid_column": null,
            "grid_gap": null,
            "grid_row": null,
            "grid_template_areas": null,
            "grid_template_columns": null,
            "grid_template_rows": null,
            "height": null,
            "justify_content": null,
            "justify_items": null,
            "left": null,
            "margin": null,
            "max_height": null,
            "max_width": null,
            "min_height": null,
            "min_width": null,
            "object_fit": null,
            "object_position": null,
            "order": null,
            "overflow": null,
            "overflow_x": null,
            "overflow_y": null,
            "padding": null,
            "right": null,
            "top": null,
            "visibility": null,
            "width": null
          }
        },
        "9358d67ca59e44629447740dc1c875a5": {
          "model_module": "@jupyter-widgets/controls",
          "model_name": "DescriptionStyleModel",
          "state": {
            "_model_module": "@jupyter-widgets/controls",
            "_model_module_version": "1.5.0",
            "_model_name": "DescriptionStyleModel",
            "_view_count": null,
            "_view_module": "@jupyter-widgets/base",
            "_view_module_version": "1.2.0",
            "_view_name": "StyleView",
            "description_width": ""
          }
        },
        "c0b8ebe3682444a9a63a06c2cd25835d": {
          "model_module": "@jupyter-widgets/controls",
          "model_name": "HBoxModel",
          "state": {
            "_dom_classes": [],
            "_model_module": "@jupyter-widgets/controls",
            "_model_module_version": "1.5.0",
            "_model_name": "HBoxModel",
            "_view_count": null,
            "_view_module": "@jupyter-widgets/controls",
            "_view_module_version": "1.5.0",
            "_view_name": "HBoxView",
            "box_style": "",
            "children": [
              "IPY_MODEL_ab96307468164f29af8f0ac6640334c3",
              "IPY_MODEL_bc4ec8253c3b4c3faab3f75474ae7e52"
            ],
            "layout": "IPY_MODEL_74292281f1a14f9d9fa56615d48c6edc"
          }
        },
        "ab96307468164f29af8f0ac6640334c3": {
          "model_module": "@jupyter-widgets/controls",
          "model_name": "FloatProgressModel",
          "state": {
            "_dom_classes": [],
            "_model_module": "@jupyter-widgets/controls",
            "_model_module_version": "1.5.0",
            "_model_name": "FloatProgressModel",
            "_view_count": null,
            "_view_module": "@jupyter-widgets/controls",
            "_view_module_version": "1.5.0",
            "_view_name": "ProgressView",
            "bar_style": "success",
            "description": "100%",
            "description_tooltip": null,
            "layout": "IPY_MODEL_f75c9cbf854b4200b1d92826383f3203",
            "max": 200,
            "min": 0,
            "orientation": "horizontal",
            "style": "IPY_MODEL_e1a316d950e84e92bc5c07cd4d759580",
            "value": 200
          }
        },
        "bc4ec8253c3b4c3faab3f75474ae7e52": {
          "model_module": "@jupyter-widgets/controls",
          "model_name": "HTMLModel",
          "state": {
            "_dom_classes": [],
            "_model_module": "@jupyter-widgets/controls",
            "_model_module_version": "1.5.0",
            "_model_name": "HTMLModel",
            "_view_count": null,
            "_view_module": "@jupyter-widgets/controls",
            "_view_module_version": "1.5.0",
            "_view_name": "HTMLView",
            "description": "",
            "description_tooltip": null,
            "layout": "IPY_MODEL_bb71239fb0c44bbfaa4933ee63a4273a",
            "placeholder": "​",
            "style": "IPY_MODEL_c69d848782ca420e91a9b13aa5ab5b09",
            "value": " 200/200 [00:50&lt;00:00,  3.97it/s]"
          }
        },
        "74292281f1a14f9d9fa56615d48c6edc": {
          "model_module": "@jupyter-widgets/base",
          "model_name": "LayoutModel",
          "state": {
            "_model_module": "@jupyter-widgets/base",
            "_model_module_version": "1.2.0",
            "_model_name": "LayoutModel",
            "_view_count": null,
            "_view_module": "@jupyter-widgets/base",
            "_view_module_version": "1.2.0",
            "_view_name": "LayoutView",
            "align_content": null,
            "align_items": null,
            "align_self": null,
            "border": null,
            "bottom": null,
            "display": null,
            "flex": null,
            "flex_flow": null,
            "grid_area": null,
            "grid_auto_columns": null,
            "grid_auto_flow": null,
            "grid_auto_rows": null,
            "grid_column": null,
            "grid_gap": null,
            "grid_row": null,
            "grid_template_areas": null,
            "grid_template_columns": null,
            "grid_template_rows": null,
            "height": null,
            "justify_content": null,
            "justify_items": null,
            "left": null,
            "margin": null,
            "max_height": null,
            "max_width": null,
            "min_height": null,
            "min_width": null,
            "object_fit": null,
            "object_position": null,
            "order": null,
            "overflow": null,
            "overflow_x": null,
            "overflow_y": null,
            "padding": null,
            "right": null,
            "top": null,
            "visibility": null,
            "width": null
          }
        },
        "f75c9cbf854b4200b1d92826383f3203": {
          "model_module": "@jupyter-widgets/base",
          "model_name": "LayoutModel",
          "state": {
            "_model_module": "@jupyter-widgets/base",
            "_model_module_version": "1.2.0",
            "_model_name": "LayoutModel",
            "_view_count": null,
            "_view_module": "@jupyter-widgets/base",
            "_view_module_version": "1.2.0",
            "_view_name": "LayoutView",
            "align_content": null,
            "align_items": null,
            "align_self": null,
            "border": null,
            "bottom": null,
            "display": null,
            "flex": null,
            "flex_flow": null,
            "grid_area": null,
            "grid_auto_columns": null,
            "grid_auto_flow": null,
            "grid_auto_rows": null,
            "grid_column": null,
            "grid_gap": null,
            "grid_row": null,
            "grid_template_areas": null,
            "grid_template_columns": null,
            "grid_template_rows": null,
            "height": null,
            "justify_content": null,
            "justify_items": null,
            "left": null,
            "margin": null,
            "max_height": null,
            "max_width": null,
            "min_height": null,
            "min_width": null,
            "object_fit": null,
            "object_position": null,
            "order": null,
            "overflow": null,
            "overflow_x": null,
            "overflow_y": null,
            "padding": null,
            "right": null,
            "top": null,
            "visibility": null,
            "width": null
          }
        },
        "e1a316d950e84e92bc5c07cd4d759580": {
          "model_module": "@jupyter-widgets/controls",
          "model_name": "ProgressStyleModel",
          "state": {
            "_model_module": "@jupyter-widgets/controls",
            "_model_module_version": "1.5.0",
            "_model_name": "ProgressStyleModel",
            "_view_count": null,
            "_view_module": "@jupyter-widgets/base",
            "_view_module_version": "1.2.0",
            "_view_name": "StyleView",
            "bar_color": null,
            "description_width": "initial"
          }
        },
        "bb71239fb0c44bbfaa4933ee63a4273a": {
          "model_module": "@jupyter-widgets/base",
          "model_name": "LayoutModel",
          "state": {
            "_model_module": "@jupyter-widgets/base",
            "_model_module_version": "1.2.0",
            "_model_name": "LayoutModel",
            "_view_count": null,
            "_view_module": "@jupyter-widgets/base",
            "_view_module_version": "1.2.0",
            "_view_name": "LayoutView",
            "align_content": null,
            "align_items": null,
            "align_self": null,
            "border": null,
            "bottom": null,
            "display": null,
            "flex": null,
            "flex_flow": null,
            "grid_area": null,
            "grid_auto_columns": null,
            "grid_auto_flow": null,
            "grid_auto_rows": null,
            "grid_column": null,
            "grid_gap": null,
            "grid_row": null,
            "grid_template_areas": null,
            "grid_template_columns": null,
            "grid_template_rows": null,
            "height": null,
            "justify_content": null,
            "justify_items": null,
            "left": null,
            "margin": null,
            "max_height": null,
            "max_width": null,
            "min_height": null,
            "min_width": null,
            "object_fit": null,
            "object_position": null,
            "order": null,
            "overflow": null,
            "overflow_x": null,
            "overflow_y": null,
            "padding": null,
            "right": null,
            "top": null,
            "visibility": null,
            "width": null
          }
        },
        "c69d848782ca420e91a9b13aa5ab5b09": {
          "model_module": "@jupyter-widgets/controls",
          "model_name": "DescriptionStyleModel",
          "state": {
            "_model_module": "@jupyter-widgets/controls",
            "_model_module_version": "1.5.0",
            "_model_name": "DescriptionStyleModel",
            "_view_count": null,
            "_view_module": "@jupyter-widgets/base",
            "_view_module_version": "1.2.0",
            "_view_name": "StyleView",
            "description_width": ""
          }
        },
        "fc983e4d95d342fcba19987a3a049526": {
          "model_module": "@jupyter-widgets/controls",
          "model_name": "HBoxModel",
          "state": {
            "_dom_classes": [],
            "_model_module": "@jupyter-widgets/controls",
            "_model_module_version": "1.5.0",
            "_model_name": "HBoxModel",
            "_view_count": null,
            "_view_module": "@jupyter-widgets/controls",
            "_view_module_version": "1.5.0",
            "_view_name": "HBoxView",
            "box_style": "",
            "children": [
              "IPY_MODEL_aac5d21a0e8449e98b0a7ba99526cf12",
              "IPY_MODEL_7cca8fc792ea4cbabd2d697ef0bf3497"
            ],
            "layout": "IPY_MODEL_c0a428b46dd8433e816b7bc96f099fcb"
          }
        },
        "aac5d21a0e8449e98b0a7ba99526cf12": {
          "model_module": "@jupyter-widgets/controls",
          "model_name": "FloatProgressModel",
          "state": {
            "_dom_classes": [],
            "_model_module": "@jupyter-widgets/controls",
            "_model_module_version": "1.5.0",
            "_model_name": "FloatProgressModel",
            "_view_count": null,
            "_view_module": "@jupyter-widgets/controls",
            "_view_module_version": "1.5.0",
            "_view_name": "ProgressView",
            "bar_style": "success",
            "description": "100%",
            "description_tooltip": null,
            "layout": "IPY_MODEL_1578f357ce904f3790e22f8586a52b18",
            "max": 200,
            "min": 0,
            "orientation": "horizontal",
            "style": "IPY_MODEL_1410e5fd126841a0a956813333a1a2ce",
            "value": 200
          }
        },
        "7cca8fc792ea4cbabd2d697ef0bf3497": {
          "model_module": "@jupyter-widgets/controls",
          "model_name": "HTMLModel",
          "state": {
            "_dom_classes": [],
            "_model_module": "@jupyter-widgets/controls",
            "_model_module_version": "1.5.0",
            "_model_name": "HTMLModel",
            "_view_count": null,
            "_view_module": "@jupyter-widgets/controls",
            "_view_module_version": "1.5.0",
            "_view_name": "HTMLView",
            "description": "",
            "description_tooltip": null,
            "layout": "IPY_MODEL_7c72c6802bf841ac82a98de00509c886",
            "placeholder": "​",
            "style": "IPY_MODEL_72baa891a43c4d58a13f8b9ec187570e",
            "value": " 200/200 [11:15&lt;00:00,  3.38s/it]"
          }
        },
        "c0a428b46dd8433e816b7bc96f099fcb": {
          "model_module": "@jupyter-widgets/base",
          "model_name": "LayoutModel",
          "state": {
            "_model_module": "@jupyter-widgets/base",
            "_model_module_version": "1.2.0",
            "_model_name": "LayoutModel",
            "_view_count": null,
            "_view_module": "@jupyter-widgets/base",
            "_view_module_version": "1.2.0",
            "_view_name": "LayoutView",
            "align_content": null,
            "align_items": null,
            "align_self": null,
            "border": null,
            "bottom": null,
            "display": null,
            "flex": null,
            "flex_flow": null,
            "grid_area": null,
            "grid_auto_columns": null,
            "grid_auto_flow": null,
            "grid_auto_rows": null,
            "grid_column": null,
            "grid_gap": null,
            "grid_row": null,
            "grid_template_areas": null,
            "grid_template_columns": null,
            "grid_template_rows": null,
            "height": null,
            "justify_content": null,
            "justify_items": null,
            "left": null,
            "margin": null,
            "max_height": null,
            "max_width": null,
            "min_height": null,
            "min_width": null,
            "object_fit": null,
            "object_position": null,
            "order": null,
            "overflow": null,
            "overflow_x": null,
            "overflow_y": null,
            "padding": null,
            "right": null,
            "top": null,
            "visibility": null,
            "width": null
          }
        },
        "1578f357ce904f3790e22f8586a52b18": {
          "model_module": "@jupyter-widgets/base",
          "model_name": "LayoutModel",
          "state": {
            "_model_module": "@jupyter-widgets/base",
            "_model_module_version": "1.2.0",
            "_model_name": "LayoutModel",
            "_view_count": null,
            "_view_module": "@jupyter-widgets/base",
            "_view_module_version": "1.2.0",
            "_view_name": "LayoutView",
            "align_content": null,
            "align_items": null,
            "align_self": null,
            "border": null,
            "bottom": null,
            "display": null,
            "flex": null,
            "flex_flow": null,
            "grid_area": null,
            "grid_auto_columns": null,
            "grid_auto_flow": null,
            "grid_auto_rows": null,
            "grid_column": null,
            "grid_gap": null,
            "grid_row": null,
            "grid_template_areas": null,
            "grid_template_columns": null,
            "grid_template_rows": null,
            "height": null,
            "justify_content": null,
            "justify_items": null,
            "left": null,
            "margin": null,
            "max_height": null,
            "max_width": null,
            "min_height": null,
            "min_width": null,
            "object_fit": null,
            "object_position": null,
            "order": null,
            "overflow": null,
            "overflow_x": null,
            "overflow_y": null,
            "padding": null,
            "right": null,
            "top": null,
            "visibility": null,
            "width": null
          }
        },
        "1410e5fd126841a0a956813333a1a2ce": {
          "model_module": "@jupyter-widgets/controls",
          "model_name": "ProgressStyleModel",
          "state": {
            "_model_module": "@jupyter-widgets/controls",
            "_model_module_version": "1.5.0",
            "_model_name": "ProgressStyleModel",
            "_view_count": null,
            "_view_module": "@jupyter-widgets/base",
            "_view_module_version": "1.2.0",
            "_view_name": "StyleView",
            "bar_color": null,
            "description_width": "initial"
          }
        },
        "7c72c6802bf841ac82a98de00509c886": {
          "model_module": "@jupyter-widgets/base",
          "model_name": "LayoutModel",
          "state": {
            "_model_module": "@jupyter-widgets/base",
            "_model_module_version": "1.2.0",
            "_model_name": "LayoutModel",
            "_view_count": null,
            "_view_module": "@jupyter-widgets/base",
            "_view_module_version": "1.2.0",
            "_view_name": "LayoutView",
            "align_content": null,
            "align_items": null,
            "align_self": null,
            "border": null,
            "bottom": null,
            "display": null,
            "flex": null,
            "flex_flow": null,
            "grid_area": null,
            "grid_auto_columns": null,
            "grid_auto_flow": null,
            "grid_auto_rows": null,
            "grid_column": null,
            "grid_gap": null,
            "grid_row": null,
            "grid_template_areas": null,
            "grid_template_columns": null,
            "grid_template_rows": null,
            "height": null,
            "justify_content": null,
            "justify_items": null,
            "left": null,
            "margin": null,
            "max_height": null,
            "max_width": null,
            "min_height": null,
            "min_width": null,
            "object_fit": null,
            "object_position": null,
            "order": null,
            "overflow": null,
            "overflow_x": null,
            "overflow_y": null,
            "padding": null,
            "right": null,
            "top": null,
            "visibility": null,
            "width": null
          }
        },
        "72baa891a43c4d58a13f8b9ec187570e": {
          "model_module": "@jupyter-widgets/controls",
          "model_name": "DescriptionStyleModel",
          "state": {
            "_model_module": "@jupyter-widgets/controls",
            "_model_module_version": "1.5.0",
            "_model_name": "DescriptionStyleModel",
            "_view_count": null,
            "_view_module": "@jupyter-widgets/base",
            "_view_module_version": "1.2.0",
            "_view_name": "StyleView",
            "description_width": ""
          }
        },
        "805c54ceeef846ccb4670e3c1e232593": {
          "model_module": "@jupyter-widgets/controls",
          "model_name": "HBoxModel",
          "state": {
            "_dom_classes": [],
            "_model_module": "@jupyter-widgets/controls",
            "_model_module_version": "1.5.0",
            "_model_name": "HBoxModel",
            "_view_count": null,
            "_view_module": "@jupyter-widgets/controls",
            "_view_module_version": "1.5.0",
            "_view_name": "HBoxView",
            "box_style": "",
            "children": [
              "IPY_MODEL_665bd0c46a844b78aff5f6086d913816",
              "IPY_MODEL_986ed9bb13814d84a6a719e0817ad1ec"
            ],
            "layout": "IPY_MODEL_fc3d1bd6476e4fed9506ad6406d7c25c"
          }
        },
        "665bd0c46a844b78aff5f6086d913816": {
          "model_module": "@jupyter-widgets/controls",
          "model_name": "FloatProgressModel",
          "state": {
            "_dom_classes": [],
            "_model_module": "@jupyter-widgets/controls",
            "_model_module_version": "1.5.0",
            "_model_name": "FloatProgressModel",
            "_view_count": null,
            "_view_module": "@jupyter-widgets/controls",
            "_view_module_version": "1.5.0",
            "_view_name": "ProgressView",
            "bar_style": "success",
            "description": "100%",
            "description_tooltip": null,
            "layout": "IPY_MODEL_84d058222818417fafeef13173cfdf76",
            "max": 200,
            "min": 0,
            "orientation": "horizontal",
            "style": "IPY_MODEL_e306d63ae4994c428156913ec4f3e559",
            "value": 200
          }
        },
        "986ed9bb13814d84a6a719e0817ad1ec": {
          "model_module": "@jupyter-widgets/controls",
          "model_name": "HTMLModel",
          "state": {
            "_dom_classes": [],
            "_model_module": "@jupyter-widgets/controls",
            "_model_module_version": "1.5.0",
            "_model_name": "HTMLModel",
            "_view_count": null,
            "_view_module": "@jupyter-widgets/controls",
            "_view_module_version": "1.5.0",
            "_view_name": "HTMLView",
            "description": "",
            "description_tooltip": null,
            "layout": "IPY_MODEL_c1a68c6ca400453797476b0ea754a11a",
            "placeholder": "​",
            "style": "IPY_MODEL_a6e80dc2ebda4c6b83a2b7ba5cd0237c",
            "value": " 200/200 [41:01&lt;00:00, 12.31s/it]"
          }
        },
        "fc3d1bd6476e4fed9506ad6406d7c25c": {
          "model_module": "@jupyter-widgets/base",
          "model_name": "LayoutModel",
          "state": {
            "_model_module": "@jupyter-widgets/base",
            "_model_module_version": "1.2.0",
            "_model_name": "LayoutModel",
            "_view_count": null,
            "_view_module": "@jupyter-widgets/base",
            "_view_module_version": "1.2.0",
            "_view_name": "LayoutView",
            "align_content": null,
            "align_items": null,
            "align_self": null,
            "border": null,
            "bottom": null,
            "display": null,
            "flex": null,
            "flex_flow": null,
            "grid_area": null,
            "grid_auto_columns": null,
            "grid_auto_flow": null,
            "grid_auto_rows": null,
            "grid_column": null,
            "grid_gap": null,
            "grid_row": null,
            "grid_template_areas": null,
            "grid_template_columns": null,
            "grid_template_rows": null,
            "height": null,
            "justify_content": null,
            "justify_items": null,
            "left": null,
            "margin": null,
            "max_height": null,
            "max_width": null,
            "min_height": null,
            "min_width": null,
            "object_fit": null,
            "object_position": null,
            "order": null,
            "overflow": null,
            "overflow_x": null,
            "overflow_y": null,
            "padding": null,
            "right": null,
            "top": null,
            "visibility": null,
            "width": null
          }
        },
        "84d058222818417fafeef13173cfdf76": {
          "model_module": "@jupyter-widgets/base",
          "model_name": "LayoutModel",
          "state": {
            "_model_module": "@jupyter-widgets/base",
            "_model_module_version": "1.2.0",
            "_model_name": "LayoutModel",
            "_view_count": null,
            "_view_module": "@jupyter-widgets/base",
            "_view_module_version": "1.2.0",
            "_view_name": "LayoutView",
            "align_content": null,
            "align_items": null,
            "align_self": null,
            "border": null,
            "bottom": null,
            "display": null,
            "flex": null,
            "flex_flow": null,
            "grid_area": null,
            "grid_auto_columns": null,
            "grid_auto_flow": null,
            "grid_auto_rows": null,
            "grid_column": null,
            "grid_gap": null,
            "grid_row": null,
            "grid_template_areas": null,
            "grid_template_columns": null,
            "grid_template_rows": null,
            "height": null,
            "justify_content": null,
            "justify_items": null,
            "left": null,
            "margin": null,
            "max_height": null,
            "max_width": null,
            "min_height": null,
            "min_width": null,
            "object_fit": null,
            "object_position": null,
            "order": null,
            "overflow": null,
            "overflow_x": null,
            "overflow_y": null,
            "padding": null,
            "right": null,
            "top": null,
            "visibility": null,
            "width": null
          }
        },
        "e306d63ae4994c428156913ec4f3e559": {
          "model_module": "@jupyter-widgets/controls",
          "model_name": "ProgressStyleModel",
          "state": {
            "_model_module": "@jupyter-widgets/controls",
            "_model_module_version": "1.5.0",
            "_model_name": "ProgressStyleModel",
            "_view_count": null,
            "_view_module": "@jupyter-widgets/base",
            "_view_module_version": "1.2.0",
            "_view_name": "StyleView",
            "bar_color": null,
            "description_width": "initial"
          }
        },
        "c1a68c6ca400453797476b0ea754a11a": {
          "model_module": "@jupyter-widgets/base",
          "model_name": "LayoutModel",
          "state": {
            "_model_module": "@jupyter-widgets/base",
            "_model_module_version": "1.2.0",
            "_model_name": "LayoutModel",
            "_view_count": null,
            "_view_module": "@jupyter-widgets/base",
            "_view_module_version": "1.2.0",
            "_view_name": "LayoutView",
            "align_content": null,
            "align_items": null,
            "align_self": null,
            "border": null,
            "bottom": null,
            "display": null,
            "flex": null,
            "flex_flow": null,
            "grid_area": null,
            "grid_auto_columns": null,
            "grid_auto_flow": null,
            "grid_auto_rows": null,
            "grid_column": null,
            "grid_gap": null,
            "grid_row": null,
            "grid_template_areas": null,
            "grid_template_columns": null,
            "grid_template_rows": null,
            "height": null,
            "justify_content": null,
            "justify_items": null,
            "left": null,
            "margin": null,
            "max_height": null,
            "max_width": null,
            "min_height": null,
            "min_width": null,
            "object_fit": null,
            "object_position": null,
            "order": null,
            "overflow": null,
            "overflow_x": null,
            "overflow_y": null,
            "padding": null,
            "right": null,
            "top": null,
            "visibility": null,
            "width": null
          }
        },
        "a6e80dc2ebda4c6b83a2b7ba5cd0237c": {
          "model_module": "@jupyter-widgets/controls",
          "model_name": "DescriptionStyleModel",
          "state": {
            "_model_module": "@jupyter-widgets/controls",
            "_model_module_version": "1.5.0",
            "_model_name": "DescriptionStyleModel",
            "_view_count": null,
            "_view_module": "@jupyter-widgets/base",
            "_view_module_version": "1.2.0",
            "_view_name": "StyleView",
            "description_width": ""
          }
        },
        "e73eef6f09d846fab9df3d502805dd97": {
          "model_module": "@jupyter-widgets/controls",
          "model_name": "HBoxModel",
          "state": {
            "_dom_classes": [],
            "_model_module": "@jupyter-widgets/controls",
            "_model_module_version": "1.5.0",
            "_model_name": "HBoxModel",
            "_view_count": null,
            "_view_module": "@jupyter-widgets/controls",
            "_view_module_version": "1.5.0",
            "_view_name": "HBoxView",
            "box_style": "",
            "children": [
              "IPY_MODEL_8d8fff88747741d4869c43ef4a494788",
              "IPY_MODEL_2d5ca69ee9334646844bf5d8218265ba"
            ],
            "layout": "IPY_MODEL_5f27655c6dc84e0f99f963b062d451a9"
          }
        },
        "8d8fff88747741d4869c43ef4a494788": {
          "model_module": "@jupyter-widgets/controls",
          "model_name": "FloatProgressModel",
          "state": {
            "_dom_classes": [],
            "_model_module": "@jupyter-widgets/controls",
            "_model_module_version": "1.5.0",
            "_model_name": "FloatProgressModel",
            "_view_count": null,
            "_view_module": "@jupyter-widgets/controls",
            "_view_module_version": "1.5.0",
            "_view_name": "ProgressView",
            "bar_style": "success",
            "description": "100%",
            "description_tooltip": null,
            "layout": "IPY_MODEL_afcb0afc227d41cb9f5d3b09bcfd7166",
            "max": 200,
            "min": 0,
            "orientation": "horizontal",
            "style": "IPY_MODEL_b71f62a52a304549b4c78809394bb653",
            "value": 200
          }
        },
        "2d5ca69ee9334646844bf5d8218265ba": {
          "model_module": "@jupyter-widgets/controls",
          "model_name": "HTMLModel",
          "state": {
            "_dom_classes": [],
            "_model_module": "@jupyter-widgets/controls",
            "_model_module_version": "1.5.0",
            "_model_name": "HTMLModel",
            "_view_count": null,
            "_view_module": "@jupyter-widgets/controls",
            "_view_module_version": "1.5.0",
            "_view_name": "HTMLView",
            "description": "",
            "description_tooltip": null,
            "layout": "IPY_MODEL_029b542b747044988891b954f8ec8115",
            "placeholder": "​",
            "style": "IPY_MODEL_ae86a92054e54a809e752aef0495f868",
            "value": " 200/200 [16:13&lt;00:00,  4.87s/it]"
          }
        },
        "5f27655c6dc84e0f99f963b062d451a9": {
          "model_module": "@jupyter-widgets/base",
          "model_name": "LayoutModel",
          "state": {
            "_model_module": "@jupyter-widgets/base",
            "_model_module_version": "1.2.0",
            "_model_name": "LayoutModel",
            "_view_count": null,
            "_view_module": "@jupyter-widgets/base",
            "_view_module_version": "1.2.0",
            "_view_name": "LayoutView",
            "align_content": null,
            "align_items": null,
            "align_self": null,
            "border": null,
            "bottom": null,
            "display": null,
            "flex": null,
            "flex_flow": null,
            "grid_area": null,
            "grid_auto_columns": null,
            "grid_auto_flow": null,
            "grid_auto_rows": null,
            "grid_column": null,
            "grid_gap": null,
            "grid_row": null,
            "grid_template_areas": null,
            "grid_template_columns": null,
            "grid_template_rows": null,
            "height": null,
            "justify_content": null,
            "justify_items": null,
            "left": null,
            "margin": null,
            "max_height": null,
            "max_width": null,
            "min_height": null,
            "min_width": null,
            "object_fit": null,
            "object_position": null,
            "order": null,
            "overflow": null,
            "overflow_x": null,
            "overflow_y": null,
            "padding": null,
            "right": null,
            "top": null,
            "visibility": null,
            "width": null
          }
        },
        "afcb0afc227d41cb9f5d3b09bcfd7166": {
          "model_module": "@jupyter-widgets/base",
          "model_name": "LayoutModel",
          "state": {
            "_model_module": "@jupyter-widgets/base",
            "_model_module_version": "1.2.0",
            "_model_name": "LayoutModel",
            "_view_count": null,
            "_view_module": "@jupyter-widgets/base",
            "_view_module_version": "1.2.0",
            "_view_name": "LayoutView",
            "align_content": null,
            "align_items": null,
            "align_self": null,
            "border": null,
            "bottom": null,
            "display": null,
            "flex": null,
            "flex_flow": null,
            "grid_area": null,
            "grid_auto_columns": null,
            "grid_auto_flow": null,
            "grid_auto_rows": null,
            "grid_column": null,
            "grid_gap": null,
            "grid_row": null,
            "grid_template_areas": null,
            "grid_template_columns": null,
            "grid_template_rows": null,
            "height": null,
            "justify_content": null,
            "justify_items": null,
            "left": null,
            "margin": null,
            "max_height": null,
            "max_width": null,
            "min_height": null,
            "min_width": null,
            "object_fit": null,
            "object_position": null,
            "order": null,
            "overflow": null,
            "overflow_x": null,
            "overflow_y": null,
            "padding": null,
            "right": null,
            "top": null,
            "visibility": null,
            "width": null
          }
        },
        "b71f62a52a304549b4c78809394bb653": {
          "model_module": "@jupyter-widgets/controls",
          "model_name": "ProgressStyleModel",
          "state": {
            "_model_module": "@jupyter-widgets/controls",
            "_model_module_version": "1.5.0",
            "_model_name": "ProgressStyleModel",
            "_view_count": null,
            "_view_module": "@jupyter-widgets/base",
            "_view_module_version": "1.2.0",
            "_view_name": "StyleView",
            "bar_color": null,
            "description_width": "initial"
          }
        },
        "029b542b747044988891b954f8ec8115": {
          "model_module": "@jupyter-widgets/base",
          "model_name": "LayoutModel",
          "state": {
            "_model_module": "@jupyter-widgets/base",
            "_model_module_version": "1.2.0",
            "_model_name": "LayoutModel",
            "_view_count": null,
            "_view_module": "@jupyter-widgets/base",
            "_view_module_version": "1.2.0",
            "_view_name": "LayoutView",
            "align_content": null,
            "align_items": null,
            "align_self": null,
            "border": null,
            "bottom": null,
            "display": null,
            "flex": null,
            "flex_flow": null,
            "grid_area": null,
            "grid_auto_columns": null,
            "grid_auto_flow": null,
            "grid_auto_rows": null,
            "grid_column": null,
            "grid_gap": null,
            "grid_row": null,
            "grid_template_areas": null,
            "grid_template_columns": null,
            "grid_template_rows": null,
            "height": null,
            "justify_content": null,
            "justify_items": null,
            "left": null,
            "margin": null,
            "max_height": null,
            "max_width": null,
            "min_height": null,
            "min_width": null,
            "object_fit": null,
            "object_position": null,
            "order": null,
            "overflow": null,
            "overflow_x": null,
            "overflow_y": null,
            "padding": null,
            "right": null,
            "top": null,
            "visibility": null,
            "width": null
          }
        },
        "ae86a92054e54a809e752aef0495f868": {
          "model_module": "@jupyter-widgets/controls",
          "model_name": "DescriptionStyleModel",
          "state": {
            "_model_module": "@jupyter-widgets/controls",
            "_model_module_version": "1.5.0",
            "_model_name": "DescriptionStyleModel",
            "_view_count": null,
            "_view_module": "@jupyter-widgets/base",
            "_view_module_version": "1.2.0",
            "_view_name": "StyleView",
            "description_width": ""
          }
        },
        "760e5dd54d614d3394b42941e343f715": {
          "model_module": "@jupyter-widgets/controls",
          "model_name": "HBoxModel",
          "state": {
            "_dom_classes": [],
            "_model_module": "@jupyter-widgets/controls",
            "_model_module_version": "1.5.0",
            "_model_name": "HBoxModel",
            "_view_count": null,
            "_view_module": "@jupyter-widgets/controls",
            "_view_module_version": "1.5.0",
            "_view_name": "HBoxView",
            "box_style": "",
            "children": [
              "IPY_MODEL_657298e31b774244b3cedc4e91a2e043",
              "IPY_MODEL_cbd48e22bdf941259dabda97005b31ce"
            ],
            "layout": "IPY_MODEL_145bfc5aa9ff45ebb852fd29a30d576a"
          }
        },
        "657298e31b774244b3cedc4e91a2e043": {
          "model_module": "@jupyter-widgets/controls",
          "model_name": "FloatProgressModel",
          "state": {
            "_dom_classes": [],
            "_model_module": "@jupyter-widgets/controls",
            "_model_module_version": "1.5.0",
            "_model_name": "FloatProgressModel",
            "_view_count": null,
            "_view_module": "@jupyter-widgets/controls",
            "_view_module_version": "1.5.0",
            "_view_name": "ProgressView",
            "bar_style": "success",
            "description": "100%",
            "description_tooltip": null,
            "layout": "IPY_MODEL_93497e1153594f91ac433805be736875",
            "max": 10,
            "min": 0,
            "orientation": "horizontal",
            "style": "IPY_MODEL_8d966f996e414d04bce53f9a34da7f76",
            "value": 10
          }
        },
        "cbd48e22bdf941259dabda97005b31ce": {
          "model_module": "@jupyter-widgets/controls",
          "model_name": "HTMLModel",
          "state": {
            "_dom_classes": [],
            "_model_module": "@jupyter-widgets/controls",
            "_model_module_version": "1.5.0",
            "_model_name": "HTMLModel",
            "_view_count": null,
            "_view_module": "@jupyter-widgets/controls",
            "_view_module_version": "1.5.0",
            "_view_name": "HTMLView",
            "description": "",
            "description_tooltip": null,
            "layout": "IPY_MODEL_abdeea06686f4daf9a56f86b906adac9",
            "placeholder": "​",
            "style": "IPY_MODEL_64cb74a0201f4016a8edf967b0ba996b",
            "value": " 10/10 [00:26&lt;00:00,  2.68s/it]"
          }
        },
        "145bfc5aa9ff45ebb852fd29a30d576a": {
          "model_module": "@jupyter-widgets/base",
          "model_name": "LayoutModel",
          "state": {
            "_model_module": "@jupyter-widgets/base",
            "_model_module_version": "1.2.0",
            "_model_name": "LayoutModel",
            "_view_count": null,
            "_view_module": "@jupyter-widgets/base",
            "_view_module_version": "1.2.0",
            "_view_name": "LayoutView",
            "align_content": null,
            "align_items": null,
            "align_self": null,
            "border": null,
            "bottom": null,
            "display": null,
            "flex": null,
            "flex_flow": null,
            "grid_area": null,
            "grid_auto_columns": null,
            "grid_auto_flow": null,
            "grid_auto_rows": null,
            "grid_column": null,
            "grid_gap": null,
            "grid_row": null,
            "grid_template_areas": null,
            "grid_template_columns": null,
            "grid_template_rows": null,
            "height": null,
            "justify_content": null,
            "justify_items": null,
            "left": null,
            "margin": null,
            "max_height": null,
            "max_width": null,
            "min_height": null,
            "min_width": null,
            "object_fit": null,
            "object_position": null,
            "order": null,
            "overflow": null,
            "overflow_x": null,
            "overflow_y": null,
            "padding": null,
            "right": null,
            "top": null,
            "visibility": null,
            "width": null
          }
        },
        "93497e1153594f91ac433805be736875": {
          "model_module": "@jupyter-widgets/base",
          "model_name": "LayoutModel",
          "state": {
            "_model_module": "@jupyter-widgets/base",
            "_model_module_version": "1.2.0",
            "_model_name": "LayoutModel",
            "_view_count": null,
            "_view_module": "@jupyter-widgets/base",
            "_view_module_version": "1.2.0",
            "_view_name": "LayoutView",
            "align_content": null,
            "align_items": null,
            "align_self": null,
            "border": null,
            "bottom": null,
            "display": null,
            "flex": null,
            "flex_flow": null,
            "grid_area": null,
            "grid_auto_columns": null,
            "grid_auto_flow": null,
            "grid_auto_rows": null,
            "grid_column": null,
            "grid_gap": null,
            "grid_row": null,
            "grid_template_areas": null,
            "grid_template_columns": null,
            "grid_template_rows": null,
            "height": null,
            "justify_content": null,
            "justify_items": null,
            "left": null,
            "margin": null,
            "max_height": null,
            "max_width": null,
            "min_height": null,
            "min_width": null,
            "object_fit": null,
            "object_position": null,
            "order": null,
            "overflow": null,
            "overflow_x": null,
            "overflow_y": null,
            "padding": null,
            "right": null,
            "top": null,
            "visibility": null,
            "width": null
          }
        },
        "8d966f996e414d04bce53f9a34da7f76": {
          "model_module": "@jupyter-widgets/controls",
          "model_name": "ProgressStyleModel",
          "state": {
            "_model_module": "@jupyter-widgets/controls",
            "_model_module_version": "1.5.0",
            "_model_name": "ProgressStyleModel",
            "_view_count": null,
            "_view_module": "@jupyter-widgets/base",
            "_view_module_version": "1.2.0",
            "_view_name": "StyleView",
            "bar_color": null,
            "description_width": "initial"
          }
        },
        "abdeea06686f4daf9a56f86b906adac9": {
          "model_module": "@jupyter-widgets/base",
          "model_name": "LayoutModel",
          "state": {
            "_model_module": "@jupyter-widgets/base",
            "_model_module_version": "1.2.0",
            "_model_name": "LayoutModel",
            "_view_count": null,
            "_view_module": "@jupyter-widgets/base",
            "_view_module_version": "1.2.0",
            "_view_name": "LayoutView",
            "align_content": null,
            "align_items": null,
            "align_self": null,
            "border": null,
            "bottom": null,
            "display": null,
            "flex": null,
            "flex_flow": null,
            "grid_area": null,
            "grid_auto_columns": null,
            "grid_auto_flow": null,
            "grid_auto_rows": null,
            "grid_column": null,
            "grid_gap": null,
            "grid_row": null,
            "grid_template_areas": null,
            "grid_template_columns": null,
            "grid_template_rows": null,
            "height": null,
            "justify_content": null,
            "justify_items": null,
            "left": null,
            "margin": null,
            "max_height": null,
            "max_width": null,
            "min_height": null,
            "min_width": null,
            "object_fit": null,
            "object_position": null,
            "order": null,
            "overflow": null,
            "overflow_x": null,
            "overflow_y": null,
            "padding": null,
            "right": null,
            "top": null,
            "visibility": null,
            "width": null
          }
        },
        "64cb74a0201f4016a8edf967b0ba996b": {
          "model_module": "@jupyter-widgets/controls",
          "model_name": "DescriptionStyleModel",
          "state": {
            "_model_module": "@jupyter-widgets/controls",
            "_model_module_version": "1.5.0",
            "_model_name": "DescriptionStyleModel",
            "_view_count": null,
            "_view_module": "@jupyter-widgets/base",
            "_view_module_version": "1.2.0",
            "_view_name": "StyleView",
            "description_width": ""
          }
        },
        "2bc0ce756b484d8092b192c39730962f": {
          "model_module": "@jupyter-widgets/controls",
          "model_name": "HBoxModel",
          "state": {
            "_dom_classes": [],
            "_model_module": "@jupyter-widgets/controls",
            "_model_module_version": "1.5.0",
            "_model_name": "HBoxModel",
            "_view_count": null,
            "_view_module": "@jupyter-widgets/controls",
            "_view_module_version": "1.5.0",
            "_view_name": "HBoxView",
            "box_style": "",
            "children": [
              "IPY_MODEL_3685d1fa351d4680ad65aab789031534",
              "IPY_MODEL_3961051865a141d6b494da59f1adf311"
            ],
            "layout": "IPY_MODEL_374ccccf1205454ab5e203cdf1a3fce0"
          }
        },
        "3685d1fa351d4680ad65aab789031534": {
          "model_module": "@jupyter-widgets/controls",
          "model_name": "FloatProgressModel",
          "state": {
            "_dom_classes": [],
            "_model_module": "@jupyter-widgets/controls",
            "_model_module_version": "1.5.0",
            "_model_name": "FloatProgressModel",
            "_view_count": null,
            "_view_module": "@jupyter-widgets/controls",
            "_view_module_version": "1.5.0",
            "_view_name": "ProgressView",
            "bar_style": "",
            "description": "  0%",
            "description_tooltip": null,
            "layout": "IPY_MODEL_22569285b3104325afb02efc6b26522b",
            "max": 10,
            "min": 0,
            "orientation": "horizontal",
            "style": "IPY_MODEL_13948e79af5a4007a4aaadfbda676f84",
            "value": 0
          }
        },
        "3961051865a141d6b494da59f1adf311": {
          "model_module": "@jupyter-widgets/controls",
          "model_name": "HTMLModel",
          "state": {
            "_dom_classes": [],
            "_model_module": "@jupyter-widgets/controls",
            "_model_module_version": "1.5.0",
            "_model_name": "HTMLModel",
            "_view_count": null,
            "_view_module": "@jupyter-widgets/controls",
            "_view_module_version": "1.5.0",
            "_view_name": "HTMLView",
            "description": "",
            "description_tooltip": null,
            "layout": "IPY_MODEL_fe516409a9234f64b6b341005edd805e",
            "placeholder": "​",
            "style": "IPY_MODEL_1472ea86aa38401d84e56ab9d1f417d1",
            "value": " 0/10 [00:00&lt;?, ?it/s]"
          }
        },
        "374ccccf1205454ab5e203cdf1a3fce0": {
          "model_module": "@jupyter-widgets/base",
          "model_name": "LayoutModel",
          "state": {
            "_model_module": "@jupyter-widgets/base",
            "_model_module_version": "1.2.0",
            "_model_name": "LayoutModel",
            "_view_count": null,
            "_view_module": "@jupyter-widgets/base",
            "_view_module_version": "1.2.0",
            "_view_name": "LayoutView",
            "align_content": null,
            "align_items": null,
            "align_self": null,
            "border": null,
            "bottom": null,
            "display": null,
            "flex": null,
            "flex_flow": null,
            "grid_area": null,
            "grid_auto_columns": null,
            "grid_auto_flow": null,
            "grid_auto_rows": null,
            "grid_column": null,
            "grid_gap": null,
            "grid_row": null,
            "grid_template_areas": null,
            "grid_template_columns": null,
            "grid_template_rows": null,
            "height": null,
            "justify_content": null,
            "justify_items": null,
            "left": null,
            "margin": null,
            "max_height": null,
            "max_width": null,
            "min_height": null,
            "min_width": null,
            "object_fit": null,
            "object_position": null,
            "order": null,
            "overflow": null,
            "overflow_x": null,
            "overflow_y": null,
            "padding": null,
            "right": null,
            "top": null,
            "visibility": null,
            "width": null
          }
        },
        "22569285b3104325afb02efc6b26522b": {
          "model_module": "@jupyter-widgets/base",
          "model_name": "LayoutModel",
          "state": {
            "_model_module": "@jupyter-widgets/base",
            "_model_module_version": "1.2.0",
            "_model_name": "LayoutModel",
            "_view_count": null,
            "_view_module": "@jupyter-widgets/base",
            "_view_module_version": "1.2.0",
            "_view_name": "LayoutView",
            "align_content": null,
            "align_items": null,
            "align_self": null,
            "border": null,
            "bottom": null,
            "display": null,
            "flex": null,
            "flex_flow": null,
            "grid_area": null,
            "grid_auto_columns": null,
            "grid_auto_flow": null,
            "grid_auto_rows": null,
            "grid_column": null,
            "grid_gap": null,
            "grid_row": null,
            "grid_template_areas": null,
            "grid_template_columns": null,
            "grid_template_rows": null,
            "height": null,
            "justify_content": null,
            "justify_items": null,
            "left": null,
            "margin": null,
            "max_height": null,
            "max_width": null,
            "min_height": null,
            "min_width": null,
            "object_fit": null,
            "object_position": null,
            "order": null,
            "overflow": null,
            "overflow_x": null,
            "overflow_y": null,
            "padding": null,
            "right": null,
            "top": null,
            "visibility": null,
            "width": null
          }
        },
        "13948e79af5a4007a4aaadfbda676f84": {
          "model_module": "@jupyter-widgets/controls",
          "model_name": "ProgressStyleModel",
          "state": {
            "_model_module": "@jupyter-widgets/controls",
            "_model_module_version": "1.5.0",
            "_model_name": "ProgressStyleModel",
            "_view_count": null,
            "_view_module": "@jupyter-widgets/base",
            "_view_module_version": "1.2.0",
            "_view_name": "StyleView",
            "bar_color": null,
            "description_width": "initial"
          }
        },
        "fe516409a9234f64b6b341005edd805e": {
          "model_module": "@jupyter-widgets/base",
          "model_name": "LayoutModel",
          "state": {
            "_model_module": "@jupyter-widgets/base",
            "_model_module_version": "1.2.0",
            "_model_name": "LayoutModel",
            "_view_count": null,
            "_view_module": "@jupyter-widgets/base",
            "_view_module_version": "1.2.0",
            "_view_name": "LayoutView",
            "align_content": null,
            "align_items": null,
            "align_self": null,
            "border": null,
            "bottom": null,
            "display": null,
            "flex": null,
            "flex_flow": null,
            "grid_area": null,
            "grid_auto_columns": null,
            "grid_auto_flow": null,
            "grid_auto_rows": null,
            "grid_column": null,
            "grid_gap": null,
            "grid_row": null,
            "grid_template_areas": null,
            "grid_template_columns": null,
            "grid_template_rows": null,
            "height": null,
            "justify_content": null,
            "justify_items": null,
            "left": null,
            "margin": null,
            "max_height": null,
            "max_width": null,
            "min_height": null,
            "min_width": null,
            "object_fit": null,
            "object_position": null,
            "order": null,
            "overflow": null,
            "overflow_x": null,
            "overflow_y": null,
            "padding": null,
            "right": null,
            "top": null,
            "visibility": null,
            "width": null
          }
        },
        "1472ea86aa38401d84e56ab9d1f417d1": {
          "model_module": "@jupyter-widgets/controls",
          "model_name": "DescriptionStyleModel",
          "state": {
            "_model_module": "@jupyter-widgets/controls",
            "_model_module_version": "1.5.0",
            "_model_name": "DescriptionStyleModel",
            "_view_count": null,
            "_view_module": "@jupyter-widgets/base",
            "_view_module_version": "1.2.0",
            "_view_name": "StyleView",
            "description_width": ""
          }
        }
      }
    }
  },
  "cells": [
    {
      "cell_type": "markdown",
      "metadata": {
        "id": "view-in-github",
        "colab_type": "text"
      },
      "source": [
        "<a href=\"https://colab.research.google.com/github/karinadw/Neutrino-classification-CNN/blob/main/Neutrino_mini_project_extensions%20(version%201).ipynb\" target=\"_parent\"><img src=\"https://colab.research.google.com/assets/colab-badge.svg\" alt=\"Open In Colab\"/></a>"
      ]
    },
    {
      "cell_type": "markdown",
      "metadata": {
        "id": "OtXghwodszzq"
      },
      "source": [
        "# NEUTRINO EVENT CLASSIFICATION\r\n",
        "\r\n",
        "### Machine learning mini project\r\n",
        "\r\n",
        "### Karina Dansinghani Wadhwani\r\n",
        "\r\n",
        "### EXTENSIONS\r\n",
        "\r\n",
        "1. Write a machine learning algorithm to determine the energy of the neutrino\r\n",
        "2. Write a machine learning algorithm to determine the flavour of the neutrino\r\n",
        "3. Write a machine learning algorithm to determine $y=$ lepton energy over neutrino energy\r\n",
        "4. Write a machine learning algorithm to determine the number of protons or pions\r\n",
        "5. Write a machine learning algorithm to determine the interaction mode."
      ]
    },
    {
      "cell_type": "markdown",
      "metadata": {
        "id": "kTAPfPNps9Z2"
      },
      "source": [
        "I am first going to import all the definitions I used for the main task. "
      ]
    },
    {
      "cell_type": "code",
      "metadata": {
        "colab": {
          "base_uri": "https://localhost:8080/"
        },
        "id": "4FBom04jrZ6S",
        "outputId": "2640dccf-a094-4048-9ce2-f9232c9b2c70"
      },
      "source": [
        "## IMPORTING ALL THE NECESSARY MODULES\r\n",
        "\r\n",
        "import matplotlib.pyplot as plt\r\n",
        "import numpy as np\r\n",
        "import math\r\n",
        "import h5py\r\n",
        "\r\n",
        "# TensorFlow and tf.keras\r\n",
        "import tensorflow as tf\r\n",
        "from tensorflow import keras\r\n",
        "from keras.layers import Input, Dense, Flatten, Dropout, Conv2D, MaxPooling2D, Activation, concatenate, AveragePooling2D\r\n",
        "from keras.models import Model\r\n",
        "from keras.callbacks import ModelCheckpoint\r\n",
        "from keras import callbacks \r\n",
        "\r\n",
        "import matplotlib.style                     \r\n",
        "import matplotlib as mpl        \r\n",
        "\r\n",
        "import urllib.request   \r\n",
        "         \r\n",
        "from sklearn.model_selection import train_test_split\r\n",
        "from sklearn.model_selection import GridSearchCV\r\n",
        "\r\n",
        "from tqdm.notebook import tqdm              # imports a progress bar\r\n",
        "from IPython.display import display, Math\r\n",
        "\r\n",
        "#Set default figure size\r\n",
        "mpl.rcParams[\"legend.frameon\"] = False\r\n",
        "mpl.rcParams['figure.dpi'] = 200            # dots per inch\r\n",
        "\r\n",
        "#Useful for debugging problems\r\n",
        "print(\"Tensorflow version: \", tf.__version__)"
      ],
      "execution_count": null,
      "outputs": [
        {
          "output_type": "stream",
          "text": [
            "Tensorflow version:  2.4.0\n"
          ],
          "name": "stdout"
        }
      ]
    },
    {
      "cell_type": "code",
      "metadata": {
        "id": "Rk-98en1yAkO"
      },
      "source": [
        "import enum \n",
        "class Interaction(enum.Enum):\n",
        "    kNumuQE =0           # Numu CC QE interaction\n",
        "    kNumuRes =1           # Numu CC Resonant interaction\n",
        "    kNumuDIS = 2          # Numu CC DIS interaction\n",
        "    kNumuOther = 3        # Numu CC, other than above\n",
        "    kNueQE = 4            # Nue CC QE interaction\n",
        "    kNueRes = 5           # Nue CC Resonant interaction\n",
        "    kNueDIS = 6           # Nue CC DIS interaction\n",
        "    kNueOther = 7         # Nue CC, other than above\n",
        "    kNutauQE = 8          # Nutau CC QE interaction\n",
        "    kNutauRes = 9         # Nutau CC Resonant interaction\n",
        "    kNutauDIS =10         # Nutau CC DIS interaction\n",
        "    kNutauOther =11       # Nutau CC, other than above\n",
        "    kNuElectronElastic = 12# NC Nu On E Scattering\n",
        "    kNC =13                # NC interaction\n",
        "    kCosmic =14           # Cosmic ray background\n",
        "    kOther =15            # Something else.  Tau?  Hopefully we don't use this\n",
        "    kNIntType=16          # Number of interaction types, used like a vector size\n",
        "\n",
        "    \n",
        "class FinalState(enum.Enum):\n",
        "    kNumu0tr0sh=0          # Numu CC - no track no shower\n",
        "    kNumu0tr1sh=1          # Numu CC - no track  1 shower\n",
        "    kNumu0tr2sh=enum.auto()          # Numu CC - no track  2 shower\n",
        "    kNumu0trMsh=enum.auto()          # Numu CC - no track 3+ shower\n",
        "    kNumu1tr0sh=enum.auto()          # Numu CC -  1 track no shower\n",
        "    kNumu1tr1sh=enum.auto()          # Numu CC -  1 track  1 shower\n",
        "    kNumu1tr2sh=enum.auto()          # Numu CC -  1 track  2 shower\n",
        "    kNumu1trMsh=enum.auto()          # Numu CC -  1 track 3+ shower\n",
        "    kNumu2tr0sh=enum.auto()          # Numu CC -  2 track no shower\n",
        "    kNumu2tr1sh=enum.auto()          # Numu CC -  2 track  1 shower\n",
        "    kNumu2tr2sh=enum.auto()          # Numu CC -  2 track  2 shower\n",
        "    kNumu2trMsh=enum.auto()          # Numu CC -  2 track 3+ shower\n",
        "    kNumuMtr0sh=enum.auto()          # Numu CC - 3+ track no showe\n",
        "    kNumuMtr1sh=enum.auto()          # Numu CC - 3+ track  1 shower\n",
        "    kNumuMtr2sh=enum.auto()          # Numu CC - 3+ track  2 showe\n",
        "    kNumuMtrMsh=enum.auto()          # Numu CC - 3+ track 3+ shower\n",
        "    kNue0tr0sh=enum.auto()           # Nue CC - no track no shower\n",
        "    kNue0tr1sh=enum.auto()           # Nue CC - no track  1 shower\n",
        "    kNue0tr2sh=enum.auto()           # Nue CC - no track  2 showe\n",
        "    kNue0trMsh=enum.auto()           # Nue CC - no track 3+ shower\n",
        "    kNue1tr0sh=enum.auto()           # Nue CC -  1 track no shower\n",
        "    kNue1tr1sh=enum.auto()           # Nue CC -  1 track  1 shower\n",
        "    kNue1tr2sh=enum.auto()           # Nue CC -  1 track  2 shower\n",
        "    kNue1trMsh=enum.auto()           # Nue CC -  1 track 3+ shower\n",
        "    kNue2tr0sh=enum.auto()           # Nue CC -  2 track no shower\n",
        "    kNue2tr1sh=enum.auto()           # Nue CC -  2 track  1 shower\n",
        "    kNue2tr2sh=enum.auto()           # Nue CC -  2 track  2 shower\n",
        "    kNue2trMsh=enum.auto()           # Nue CC -  2 track 3+ shower\n",
        "    kNueMtr0sh=enum.auto()           # Nue CC - 3+ track no shower\n",
        "    kNueMtr1sh=enum.auto()           # Nue CC - 3+ track  1 shower\n",
        "    kNueMtr2sh=enum.auto()           # Nue CC - 3+ track  2 shower\n",
        "    kNueMtrMsh=enum.auto()           # Nue CC - 3+ track 3+ shower\n",
        "    kNC0tr0sh=enum.auto()           # NC CC - no track no shower\n",
        "    kNC0tr1sh=enum.auto()           # NC CC - no track  1 shower\n",
        "    kNC0tr2sh=enum.auto()           # NC CC - no track  2 shower\n",
        "    kNC0trMsh=enum.auto()           # NC CC - no track 3+ shower\n",
        "    kNC1tr0sh=enum.auto()           # NC CC -  1 track no shower\n",
        "    kNC1tr1sh=enum.auto()           # NC CC -  1 track  1 shower\n",
        "    kNC1tr2sh=enum.auto()           # NC CC -  1 track  2 shower\n",
        "    kNC1trMsh=enum.auto()           # NC CC -  1 track 3+ shower\n",
        "    kNC2tr0sh=enum.auto()           # NC CC -  2 track no shower\n",
        "    kNC2tr1sh=enum.auto()           # NC CC -  2 track  1 shower\n",
        "    kNC2tr2sh=enum.auto()           # NC CC -  2 track  2 shower\n",
        "    kNC2trMsh=enum.auto()           # NC CC -  2 track 3+ shower\n",
        "    kNCMtr0sh=enum.auto()           # NC CC - 3+ track no shower\n",
        "    kNCMtr1sh=enum.auto()           # NC CC - 3+ track  1 shower\n",
        "    kNCMtr2sh=enum.auto()           # NC CC - 3+ track  2 shower\n",
        "    kNCMtrMsh=enum.auto()           # NC CC - 3+ track 3+ shower\n",
        "    kCosmicFS=enum.auto()           # Cosmic ray background\n",
        "    kOtherFS=enum.auto()            # Something else.  Tau?  Hopefully we don't use this\n",
        "    kNFStType=enum.auto()            # Number of interaction types, used like a vector size\n",
        "\n"
      ],
      "execution_count": null,
      "outputs": []
    },
    {
      "cell_type": "code",
      "metadata": {
        "id": "VzwAi6_bsR9R"
      },
      "source": [
        "def data_retriever(file_number):\r\n",
        "\r\n",
        "  model_lab=[]\r\n",
        "  model_in_1 = []\r\n",
        "  model_in_2 = []\r\n",
        "  \r\n",
        "  core = 'http://www.hep.ucl.ac.uk/undergrad/0056/other/projects/nova/neutrino'\r\n",
        "  counter = 1\r\n",
        "  end = '.h5'\r\n",
        "  f_name=[]\r\n",
        "  \r\n",
        "  #file_number=10\r\n",
        "\r\n",
        "  for i in tqdm(range(0,file_number)):\r\n",
        "\r\n",
        "          filename = \"neutrino\" + str(counter) + \".h5\"\r\n",
        "          f_name.append(filename)\r\n",
        "          urllib.request.urlretrieve(core+str(counter)+end, filename)\r\n",
        "          counter += 1\r\n",
        "          \r\n",
        "  return (f_name)"
      ],
      "execution_count": null,
      "outputs": []
    },
    {
      "cell_type": "code",
      "metadata": {
        "id": "4AxOlANZwvaI"
      },
      "source": [
        "def shuffle_data(labels, image_set_1, image_set_2):\r\n",
        "\r\n",
        "  c = list(zip(labels, image_set_1, image_set_2))\r\n",
        "  np.random.shuffle(c)\r\n",
        "  labels, image_set_1, image_set_2 = zip(*c)\r\n",
        "\r\n",
        "  return labels, image_set_1, image_set_2"
      ],
      "execution_count": null,
      "outputs": []
    },
    {
      "cell_type": "code",
      "metadata": {
        "id": "Acm4dBm-Lomj"
      },
      "source": [
        "def data (model_input_1, model_input_2, model_labels):\r\n",
        "\r\n",
        "  # Making arrays of all the data \r\n",
        "  model_in_1 = np.array(model_input_1)\r\n",
        "  model_in_2 = np.array(model_input_2)\r\n",
        "  model_lab = np.array(model_labels)\r\n",
        "  \r\n",
        "  # Using the train_test_split function shuffles the data as well, so the 0s and 1s will be shuffled \r\n",
        "  # Splitting the data into train and test data using 80% of the data for training and 20% for testing \r\n",
        "  tr_input_1, te_input_1 = train_test_split(model_in_1, train_size = 0.8, shuffle = False)\r\n",
        "  tr_input_2, te_input_2 = train_test_split(model_in_2, train_size = 0.8, shuffle = False)\r\n",
        "  tr_labels, te_labels = train_test_split(model_lab, train_size = 0.8, shuffle = False)\r\n",
        "\r\n",
        "  # Splitting the data into training and validation data sets using 80% of the training data for training and 20% for validation\r\n",
        "  train_input_1, val_input_1 = train_test_split(tr_input_1, train_size = 0.8, shuffle = False)\r\n",
        "  train_input_2, val_input_2 = train_test_split(tr_input_2, train_size = 0.8, shuffle = False)\r\n",
        "  train_labels, val_labels =train_test_split(tr_labels, train_size = 0.8, shuffle = False)\r\n",
        "\r\n",
        "  # Normalizing the images to be between 0 and 1 pixels and converting the arrays to the same data type  \r\n",
        "  train_input_1 = train_input_1.astype('float32') / 255.0\r\n",
        "  val_input_1 = val_input_1.astype('float32') / 255.0\r\n",
        "  test_input_1 = te_input_1.astype('float32') / 255.0\r\n",
        "\r\n",
        "  train_input_2 = train_input_2.astype('float32') / 255.0\r\n",
        "  val_input_2 = val_input_2.astype('float32') / 255.0\r\n",
        "  test_input_2 = te_input_2.astype('float32') / 255.0\r\n",
        "\r\n",
        "  train_labels = train_labels.astype('float32')\r\n",
        "  val_labels = val_labels.astype('float32')\r\n",
        "  test_labels = te_labels.astype('float32')\r\n",
        "\r\n",
        "  return (train_input_1, test_input_1, val_input_1, train_input_2, test_input_2, val_input_2, train_labels, val_labels, test_labels)\r\n"
      ],
      "execution_count": null,
      "outputs": []
    },
    {
      "cell_type": "code",
      "metadata": {
        "id": "0VMuMoY2HF7d"
      },
      "source": [
        "def create_convolution_layers(input_img, input_shape):\r\n",
        "\r\n",
        "  keras.backend.clear_session\r\n",
        "  model = Conv2D(8, (3, 3), padding='same', input_shape=input_shape[1:])(input_img)\r\n",
        "  model = MaxPooling2D((2, 2),padding='same')(model)\r\n",
        "  \r\n",
        "  model = Conv2D(16, (3, 3), padding='same')(model)\r\n",
        "  model = MaxPooling2D(pool_size=(2, 2),padding='same')(model)\r\n",
        "    \r\n",
        "  model = Conv2D(32, (3, 3), padding='same')(model)\r\n",
        "  model = MaxPooling2D(pool_size=(2, 2),padding='same')(model)\r\n",
        "  model = Dropout(0.4)(model)\r\n",
        "\r\n",
        "    \r\n",
        "  return model"
      ],
      "execution_count": null,
      "outputs": []
    },
    {
      "cell_type": "code",
      "metadata": {
        "id": "RVkOsC-Vu4ku"
      },
      "source": [
        "def create_convolution_layers_2(input_img, input_shape):\r\n",
        "\r\n",
        "  keras.backend.clear_session\r\n",
        "  model = Conv2D(8, (3, 3), activation = \"relu\", padding='same', input_shape=input_shape[1:])(input_img)\r\n",
        "  model = MaxPooling2D((2, 2),padding='same')(model)\r\n",
        "  model = Dropout(0.25)(model)\r\n",
        "  \r\n",
        "  model = Conv2D(16, (3, 3), padding='same')(model)\r\n",
        "  model = MaxPooling2D(pool_size=(2, 2),padding='same')(model)\r\n",
        "  model = Dropout(0.25)(model)\r\n",
        "    \r\n",
        "  model = Conv2D(32, (3, 3), padding='same')(model)\r\n",
        "  model = MaxPooling2D(pool_size=(2, 2),padding='same')(model)\r\n",
        "  model = Dropout(0.4)(model)\r\n",
        "\r\n",
        "    \r\n",
        "  return model"
      ],
      "execution_count": null,
      "outputs": []
    },
    {
      "cell_type": "code",
      "metadata": {
        "id": "vCWqLbvPHq99"
      },
      "source": [
        "def concatenating (model_input_1):\r\n",
        "\r\n",
        "  xy_input = Input(shape=np.shape(model_input_1)[1:])\r\n",
        "  xy_model = create_convolution_layers(xy_input, np.shape(model_input_1)[1:])\r\n",
        "\r\n",
        "  yz_input = Input(shape=np.shape(model_input_1)[1:])\r\n",
        "  yz_model = create_convolution_layers(yz_input, np.shape(model_input_1)[1:])\r\n",
        "\r\n",
        "  conv = concatenate([xy_model, yz_model])\r\n",
        "  conv = Flatten()(conv)\r\n",
        "\r\n",
        "  dense = Dense(32, activation = \"relu\")(conv)\r\n",
        "  dense = Dropout(0.5)(dense)\r\n",
        "  dense = Dense(64, activation = \"relu\")(dense)\r\n",
        "  dense = Dropout(0.5)(dense)\r\n",
        "  dense = Dense(32, activation = \"relu\")(dense)\r\n",
        "  dense = Dropout(0.5)(dense)\r\n",
        "\r\n",
        "  output = Dense(1, activation =\"sigmoid\")(dense)\r\n",
        "\r\n",
        "  model = Model(inputs = [xy_input, yz_input], outputs = [output])\r\n",
        "\r\n",
        "\r\n",
        "  model.compile(loss=tf.keras.losses.binary_crossentropy,\r\n",
        "                optimizer='adam',\r\n",
        "                metrics=['accuracy']) \r\n",
        "\r\n",
        "  model.summary()\r\n",
        "\r\n",
        "  return model "
      ],
      "execution_count": null,
      "outputs": []
    },
    {
      "cell_type": "markdown",
      "metadata": {
        "id": "5a8uAxfJ5iar"
      },
      "source": [
        "# 1. Write a machine learning algorithm to determine the energy of the neutrino"
      ]
    },
    {
      "cell_type": "code",
      "metadata": {
        "colab": {
          "base_uri": "https://localhost:8080/",
          "height": 351,
          "referenced_widgets": [
            "d7963b7b7f3c454189dd5bbe7122e4dd",
            "3e2a01ea5a7c44efb124f2be2ee58b3b",
            "530fc03721ff4df0beec92c7f83f6616",
            "07cd234a7e7a4c9ba3d59525b4cdedeb",
            "fabfb7e3fbc3414ca4873af5b8c3dfc7",
            "96f3c9c969b94fa880fcadfb1782e496",
            "67ba5d827af84615a11387a4acf9064c",
            "7980be79fe4b419c9fee19f12bd95ff9"
          ]
        },
        "id": "Dutt-O5-WjmP",
        "outputId": "858635b0-5334-4808-aca4-6288d2396862"
      },
      "source": [
        "files_e1 = data_retriever(200)"
      ],
      "execution_count": null,
      "outputs": [
        {
          "output_type": "display_data",
          "data": {
            "application/vnd.jupyter.widget-view+json": {
              "model_id": "d7963b7b7f3c454189dd5bbe7122e4dd",
              "version_major": 2,
              "version_minor": 0
            },
            "text/plain": [
              "HBox(children=(FloatProgress(value=0.0, max=200.0), HTML(value='')))"
            ]
          },
          "metadata": {
            "tags": []
          }
        },
        {
          "output_type": "stream",
          "text": [
            "\n"
          ],
          "name": "stdout"
        },
        {
          "output_type": "error",
          "ename": "KeyboardInterrupt",
          "evalue": "ignored",
          "traceback": [
            "\u001b[0;31m---------------------------------------------------------------------------\u001b[0m",
            "\u001b[0;31mKeyboardInterrupt\u001b[0m                         Traceback (most recent call last)",
            "\u001b[0;32m<ipython-input-8-68ce17ffd5c2>\u001b[0m in \u001b[0;36m<module>\u001b[0;34m()\u001b[0m\n\u001b[0;32m----> 1\u001b[0;31m \u001b[0mfiles_e1\u001b[0m \u001b[0;34m=\u001b[0m \u001b[0mdata_retriever\u001b[0m\u001b[0;34m(\u001b[0m\u001b[0;36m200\u001b[0m\u001b[0;34m)\u001b[0m\u001b[0;34m\u001b[0m\u001b[0;34m\u001b[0m\u001b[0m\n\u001b[0m",
            "\u001b[0;32m<ipython-input-3-f3bd4d73ea08>\u001b[0m in \u001b[0;36mdata_retriever\u001b[0;34m(file_number)\u001b[0m\n\u001b[1;32m     16\u001b[0m           \u001b[0mfilename\u001b[0m \u001b[0;34m=\u001b[0m \u001b[0;34m\"neutrino\"\u001b[0m \u001b[0;34m+\u001b[0m \u001b[0mstr\u001b[0m\u001b[0;34m(\u001b[0m\u001b[0mcounter\u001b[0m\u001b[0;34m)\u001b[0m \u001b[0;34m+\u001b[0m \u001b[0;34m\".h5\"\u001b[0m\u001b[0;34m\u001b[0m\u001b[0;34m\u001b[0m\u001b[0m\n\u001b[1;32m     17\u001b[0m           \u001b[0mf_name\u001b[0m\u001b[0;34m.\u001b[0m\u001b[0mappend\u001b[0m\u001b[0;34m(\u001b[0m\u001b[0mfilename\u001b[0m\u001b[0;34m)\u001b[0m\u001b[0;34m\u001b[0m\u001b[0;34m\u001b[0m\u001b[0m\n\u001b[0;32m---> 18\u001b[0;31m           \u001b[0murllib\u001b[0m\u001b[0;34m.\u001b[0m\u001b[0mrequest\u001b[0m\u001b[0;34m.\u001b[0m\u001b[0murlretrieve\u001b[0m\u001b[0;34m(\u001b[0m\u001b[0mcore\u001b[0m\u001b[0;34m+\u001b[0m\u001b[0mstr\u001b[0m\u001b[0;34m(\u001b[0m\u001b[0mcounter\u001b[0m\u001b[0;34m)\u001b[0m\u001b[0;34m+\u001b[0m\u001b[0mend\u001b[0m\u001b[0;34m,\u001b[0m \u001b[0mfilename\u001b[0m\u001b[0;34m)\u001b[0m\u001b[0;34m\u001b[0m\u001b[0;34m\u001b[0m\u001b[0m\n\u001b[0m\u001b[1;32m     19\u001b[0m           \u001b[0mcounter\u001b[0m \u001b[0;34m+=\u001b[0m \u001b[0;36m1\u001b[0m\u001b[0;34m\u001b[0m\u001b[0;34m\u001b[0m\u001b[0m\n\u001b[1;32m     20\u001b[0m \u001b[0;34m\u001b[0m\u001b[0m\n",
            "\u001b[0;32m/usr/lib/python3.6/urllib/request.py\u001b[0m in \u001b[0;36murlretrieve\u001b[0;34m(url, filename, reporthook, data)\u001b[0m\n\u001b[1;32m    275\u001b[0m \u001b[0;34m\u001b[0m\u001b[0m\n\u001b[1;32m    276\u001b[0m             \u001b[0;32mwhile\u001b[0m \u001b[0;32mTrue\u001b[0m\u001b[0;34m:\u001b[0m\u001b[0;34m\u001b[0m\u001b[0;34m\u001b[0m\u001b[0m\n\u001b[0;32m--> 277\u001b[0;31m                 \u001b[0mblock\u001b[0m \u001b[0;34m=\u001b[0m \u001b[0mfp\u001b[0m\u001b[0;34m.\u001b[0m\u001b[0mread\u001b[0m\u001b[0;34m(\u001b[0m\u001b[0mbs\u001b[0m\u001b[0;34m)\u001b[0m\u001b[0;34m\u001b[0m\u001b[0;34m\u001b[0m\u001b[0m\n\u001b[0m\u001b[1;32m    278\u001b[0m                 \u001b[0;32mif\u001b[0m \u001b[0;32mnot\u001b[0m \u001b[0mblock\u001b[0m\u001b[0;34m:\u001b[0m\u001b[0;34m\u001b[0m\u001b[0;34m\u001b[0m\u001b[0m\n\u001b[1;32m    279\u001b[0m                     \u001b[0;32mbreak\u001b[0m\u001b[0;34m\u001b[0m\u001b[0;34m\u001b[0m\u001b[0m\n",
            "\u001b[0;32m/usr/lib/python3.6/http/client.py\u001b[0m in \u001b[0;36mread\u001b[0;34m(self, amt)\u001b[0m\n\u001b[1;32m    461\u001b[0m             \u001b[0;31m# Amount is given, implement using readinto\u001b[0m\u001b[0;34m\u001b[0m\u001b[0;34m\u001b[0m\u001b[0;34m\u001b[0m\u001b[0m\n\u001b[1;32m    462\u001b[0m             \u001b[0mb\u001b[0m \u001b[0;34m=\u001b[0m \u001b[0mbytearray\u001b[0m\u001b[0;34m(\u001b[0m\u001b[0mamt\u001b[0m\u001b[0;34m)\u001b[0m\u001b[0;34m\u001b[0m\u001b[0;34m\u001b[0m\u001b[0m\n\u001b[0;32m--> 463\u001b[0;31m             \u001b[0mn\u001b[0m \u001b[0;34m=\u001b[0m \u001b[0mself\u001b[0m\u001b[0;34m.\u001b[0m\u001b[0mreadinto\u001b[0m\u001b[0;34m(\u001b[0m\u001b[0mb\u001b[0m\u001b[0;34m)\u001b[0m\u001b[0;34m\u001b[0m\u001b[0;34m\u001b[0m\u001b[0m\n\u001b[0m\u001b[1;32m    464\u001b[0m             \u001b[0;32mreturn\u001b[0m \u001b[0mmemoryview\u001b[0m\u001b[0;34m(\u001b[0m\u001b[0mb\u001b[0m\u001b[0;34m)\u001b[0m\u001b[0;34m[\u001b[0m\u001b[0;34m:\u001b[0m\u001b[0mn\u001b[0m\u001b[0;34m]\u001b[0m\u001b[0;34m.\u001b[0m\u001b[0mtobytes\u001b[0m\u001b[0;34m(\u001b[0m\u001b[0;34m)\u001b[0m\u001b[0;34m\u001b[0m\u001b[0;34m\u001b[0m\u001b[0m\n\u001b[1;32m    465\u001b[0m         \u001b[0;32melse\u001b[0m\u001b[0;34m:\u001b[0m\u001b[0;34m\u001b[0m\u001b[0;34m\u001b[0m\u001b[0m\n",
            "\u001b[0;32m/usr/lib/python3.6/http/client.py\u001b[0m in \u001b[0;36mreadinto\u001b[0;34m(self, b)\u001b[0m\n\u001b[1;32m    505\u001b[0m         \u001b[0;31m# connection, and the user is reading more bytes than will be provided\u001b[0m\u001b[0;34m\u001b[0m\u001b[0;34m\u001b[0m\u001b[0;34m\u001b[0m\u001b[0m\n\u001b[1;32m    506\u001b[0m         \u001b[0;31m# (for example, reading in 1k chunks)\u001b[0m\u001b[0;34m\u001b[0m\u001b[0;34m\u001b[0m\u001b[0;34m\u001b[0m\u001b[0m\n\u001b[0;32m--> 507\u001b[0;31m         \u001b[0mn\u001b[0m \u001b[0;34m=\u001b[0m \u001b[0mself\u001b[0m\u001b[0;34m.\u001b[0m\u001b[0mfp\u001b[0m\u001b[0;34m.\u001b[0m\u001b[0mreadinto\u001b[0m\u001b[0;34m(\u001b[0m\u001b[0mb\u001b[0m\u001b[0;34m)\u001b[0m\u001b[0;34m\u001b[0m\u001b[0;34m\u001b[0m\u001b[0m\n\u001b[0m\u001b[1;32m    508\u001b[0m         \u001b[0;32mif\u001b[0m \u001b[0;32mnot\u001b[0m \u001b[0mn\u001b[0m \u001b[0;32mand\u001b[0m \u001b[0mb\u001b[0m\u001b[0;34m:\u001b[0m\u001b[0;34m\u001b[0m\u001b[0;34m\u001b[0m\u001b[0m\n\u001b[1;32m    509\u001b[0m             \u001b[0;31m# Ideally, we would raise IncompleteRead if the content-length\u001b[0m\u001b[0;34m\u001b[0m\u001b[0;34m\u001b[0m\u001b[0;34m\u001b[0m\u001b[0m\n",
            "\u001b[0;32m/usr/lib/python3.6/socket.py\u001b[0m in \u001b[0;36mreadinto\u001b[0;34m(self, b)\u001b[0m\n\u001b[1;32m    584\u001b[0m         \u001b[0;32mwhile\u001b[0m \u001b[0;32mTrue\u001b[0m\u001b[0;34m:\u001b[0m\u001b[0;34m\u001b[0m\u001b[0;34m\u001b[0m\u001b[0m\n\u001b[1;32m    585\u001b[0m             \u001b[0;32mtry\u001b[0m\u001b[0;34m:\u001b[0m\u001b[0;34m\u001b[0m\u001b[0;34m\u001b[0m\u001b[0m\n\u001b[0;32m--> 586\u001b[0;31m                 \u001b[0;32mreturn\u001b[0m \u001b[0mself\u001b[0m\u001b[0;34m.\u001b[0m\u001b[0m_sock\u001b[0m\u001b[0;34m.\u001b[0m\u001b[0mrecv_into\u001b[0m\u001b[0;34m(\u001b[0m\u001b[0mb\u001b[0m\u001b[0;34m)\u001b[0m\u001b[0;34m\u001b[0m\u001b[0;34m\u001b[0m\u001b[0m\n\u001b[0m\u001b[1;32m    587\u001b[0m             \u001b[0;32mexcept\u001b[0m \u001b[0mtimeout\u001b[0m\u001b[0;34m:\u001b[0m\u001b[0;34m\u001b[0m\u001b[0;34m\u001b[0m\u001b[0m\n\u001b[1;32m    588\u001b[0m                 \u001b[0mself\u001b[0m\u001b[0;34m.\u001b[0m\u001b[0m_timeout_occurred\u001b[0m \u001b[0;34m=\u001b[0m \u001b[0;32mTrue\u001b[0m\u001b[0;34m\u001b[0m\u001b[0;34m\u001b[0m\u001b[0m\n",
            "\u001b[0;31mKeyboardInterrupt\u001b[0m: "
          ]
        }
      ]
    },
    {
      "cell_type": "code",
      "metadata": {
        "colab": {
          "base_uri": "https://localhost:8080/",
          "height": 65,
          "referenced_widgets": [
            "2ac9973ba9f8416993d0139ba64a0505",
            "ac0916cd9dd942698bed938bed65b1f8",
            "c39ff2b411ad4db4becff60ffb59f598",
            "433ed1bdd97e433bba1ddf6f944d9215",
            "52e56dc87c2e4d1083f536083d21ba73",
            "31da82cc5ce64fd18644f5f595b4a0fa",
            "3406cbc138a94e0b9e32415960ba80ac",
            "71c6d60d0afd45568b209c5696a07a37"
          ]
        },
        "id": "i5K5cgTK46SL",
        "outputId": "1bf02b63-368a-40bb-8875-13bbae2e4469"
      },
      "source": [
        "## Putting all the neutrino energies into an array\r\n",
        "\r\n",
        "nu_energy=[]\r\n",
        "\r\n",
        "for filename in tqdm(files_e1):\r\n",
        "  df=h5py.File(filename, 'r')\r\n",
        "\r\n",
        "  for i in range(len(df['cvnmap'])):\r\n",
        "    nu_energy.append(int(df['neutrino']['nuenergy'][i]))"
      ],
      "execution_count": null,
      "outputs": [
        {
          "output_type": "display_data",
          "data": {
            "application/vnd.jupyter.widget-view+json": {
              "model_id": "2ac9973ba9f8416993d0139ba64a0505",
              "version_major": 2,
              "version_minor": 0
            },
            "text/plain": [
              "HBox(children=(FloatProgress(value=0.0, max=200.0), HTML(value='')))"
            ]
          },
          "metadata": {
            "tags": []
          }
        },
        {
          "output_type": "stream",
          "text": [
            "\n"
          ],
          "name": "stdout"
        }
      ]
    },
    {
      "cell_type": "code",
      "metadata": {
        "colab": {
          "base_uri": "https://localhost:8080/"
        },
        "id": "nBIrwzpd88YI",
        "outputId": "bfc2f701-12b7-4b0a-a862-517c82a1523c"
      },
      "source": [
        "print(\"Maximum energy:\", np.max(nu_energy))\r\n",
        "print(\"Minimum energy:\", np.min(nu_energy))"
      ],
      "execution_count": null,
      "outputs": [
        {
          "output_type": "stream",
          "text": [
            "Maximum energy: 101\n",
            "Minimum energy: 0\n"
          ],
          "name": "stdout"
        }
      ]
    },
    {
      "cell_type": "code",
      "metadata": {
        "id": "Yq9pV91pEsJ4"
      },
      "source": [
        "max_energy = np.max(nu_energy)\r\n",
        "\r\n",
        "# normalizing all the energies \r\n",
        "nu_energy = nu_energy/max_energy"
      ],
      "execution_count": null,
      "outputs": []
    },
    {
      "cell_type": "code",
      "metadata": {
        "colab": {
          "base_uri": "https://localhost:8080/"
        },
        "id": "64zmYFeOE3ai",
        "outputId": "de2b5f98-9649-4983-d000-5d39700f3299"
      },
      "source": [
        "# Making sure it is normalized\r\n",
        "\r\n",
        "print(\"Maximum energy:\", np.max(nu_energy))\r\n",
        "print(\"Minimum energy:\", np.min(nu_energy))"
      ],
      "execution_count": null,
      "outputs": [
        {
          "output_type": "stream",
          "text": [
            "Maximum energy: 1.0\n",
            "Minimum energy: 0.0\n"
          ],
          "name": "stdout"
        }
      ]
    },
    {
      "cell_type": "code",
      "metadata": {
        "colab": {
          "base_uri": "https://localhost:8080/"
        },
        "id": "tb64Ay4uKLEJ",
        "outputId": "c014bd5e-f030-4dc0-c781-f4246652ea12"
      },
      "source": [
        "np.shape (nu_energy)"
      ],
      "execution_count": null,
      "outputs": [
        {
          "output_type": "execute_result",
          "data": {
            "text/plain": [
              "(1395088,)"
            ]
          },
          "metadata": {
            "tags": []
          },
          "execution_count": 22
        }
      ]
    },
    {
      "cell_type": "markdown",
      "metadata": {
        "id": "nQWiQlzKLq0k"
      },
      "source": [
        "Now that I have understood the data and the task a bit I am properly going to prepare the data. This is a regression problem where we have a continuos data set of interest, from 0 to 1. "
      ]
    },
    {
      "cell_type": "code",
      "metadata": {
        "colab": {
          "base_uri": "https://localhost:8080/",
          "height": 65,
          "referenced_widgets": [
            "4aa8b30c127f463a9185763e735d4be2",
            "8bef7afdc0724604b3bc86e4210f67bb",
            "c65c325f24804ad98dc9cbff3f0f9ce3",
            "5a9da82e73cd40459178dd4b377fb418",
            "6502ffddfe22418f812ad496fee64e8c",
            "ba08a2da0df24057a5189d5f88a12b7d",
            "9bc5a17d9e1145dc9add4fc90bbaf2e9",
            "bce3164fb6904ddabbc471045042ab5e"
          ]
        },
        "id": "wfyI4ce7Log_",
        "outputId": "fd6efb5d-35ef-4c2b-ff20-a95c3dd74f16"
      },
      "source": [
        "# Loading the data \r\n",
        "\r\n",
        "files_e1_2 = data_retriever(5)"
      ],
      "execution_count": null,
      "outputs": [
        {
          "output_type": "display_data",
          "data": {
            "application/vnd.jupyter.widget-view+json": {
              "model_id": "4aa8b30c127f463a9185763e735d4be2",
              "version_major": 2,
              "version_minor": 0
            },
            "text/plain": [
              "HBox(children=(FloatProgress(value=0.0, max=5.0), HTML(value='')))"
            ]
          },
          "metadata": {
            "tags": []
          }
        },
        {
          "output_type": "stream",
          "text": [
            "\n"
          ],
          "name": "stdout"
        }
      ]
    },
    {
      "cell_type": "code",
      "metadata": {
        "colab": {
          "base_uri": "https://localhost:8080/",
          "height": 65,
          "referenced_widgets": [
            "f07bc644a13a48428b5d9f6aaa107832",
            "d447a9029da348c3b3a5ee2b8554cffc",
            "334fe8887f37439eb77cd583d6f64818",
            "e225d5420d1141b0a245060f8a92e290",
            "88c153bc9c634653ab50798fb2c4ca56",
            "eacc9a25d2ce4f999efe342997958a92",
            "c15c5d02168b4ac1b09836bff98d9f3e",
            "c4b58048c24d4de6990e5c71cfbd5dd2"
          ]
        },
        "id": "CoA8uabwMULA",
        "outputId": "f066979e-6714-44f0-b362-7816188b3221"
      },
      "source": [
        "nu_energy_labels=[]\r\n",
        "nu_energy_input_1=[]\r\n",
        "nu_energy_input_2=[]\r\n",
        "\r\n",
        "\r\n",
        "for filename in tqdm(files_e1_2):\r\n",
        "  df=h5py.File(filename, 'r')\r\n",
        "\r\n",
        "  for i in range(len(df['cvnmap'])):\r\n",
        "    model = df['cvnmap'][i].reshape((2,100,80))\r\n",
        "    nu_energy_input_1.append(model[0])\r\n",
        "    nu_energy_input_2.append(model[1])\r\n",
        "    nu_energy_labels.append(int(df['neutrino']['nuenergy'][i]))"
      ],
      "execution_count": null,
      "outputs": [
        {
          "output_type": "display_data",
          "data": {
            "application/vnd.jupyter.widget-view+json": {
              "model_id": "f07bc644a13a48428b5d9f6aaa107832",
              "version_major": 2,
              "version_minor": 0
            },
            "text/plain": [
              "HBox(children=(FloatProgress(value=0.0, max=5.0), HTML(value='')))"
            ]
          },
          "metadata": {
            "tags": []
          }
        },
        {
          "output_type": "stream",
          "text": [
            "\n"
          ],
          "name": "stdout"
        }
      ]
    },
    {
      "cell_type": "code",
      "metadata": {
        "colab": {
          "base_uri": "https://localhost:8080/"
        },
        "id": "4t5VRCalOe-R",
        "outputId": "679dc19b-1642-4e56-9215-32aae7c416bf"
      },
      "source": [
        "print(np.shape(nu_energy_labels))\r\n",
        "print(np.shape(nu_energy_input_1))\r\n",
        "print(np.shape(nu_energy_input_1))"
      ],
      "execution_count": null,
      "outputs": [
        {
          "output_type": "stream",
          "text": [
            "(34759,)\n",
            "(34759, 100, 80)\n",
            "(34759, 100, 80)\n"
          ],
          "name": "stdout"
        }
      ]
    },
    {
      "cell_type": "code",
      "metadata": {
        "id": "ZgEgXY15Op5t"
      },
      "source": [
        "nu_energy_input_1 = tf.expand_dims(nu_energy_input_1, axis = 3)\r\n",
        "nu_energy_input_2 = tf.expand_dims(nu_energy_input_2, axis = 3)"
      ],
      "execution_count": null,
      "outputs": []
    },
    {
      "cell_type": "code",
      "metadata": {
        "id": "CDuq0POzscJg"
      },
      "source": [
        "nu_energy_labels=nu_energy_labels/np.max(nu_energy_labels)"
      ],
      "execution_count": null,
      "outputs": []
    },
    {
      "cell_type": "code",
      "metadata": {
        "id": "FOP2jpaZLlnR"
      },
      "source": [
        "train_input_1_nuenergy, test_input_1_nuenergy, val_input_1_nuenergy, train_input_2_nuenergy, test_input_2_nuenergy, val_input_2_nuenergy, train_labels_nuenergy, val_labels_nuenergy, test_labels_nuenergy = data(nu_energy_input_1, nu_energy_input_2, nu_energy_labels)"
      ],
      "execution_count": null,
      "outputs": []
    },
    {
      "cell_type": "code",
      "metadata": {
        "id": "WGVeXaJBuui9"
      },
      "source": [
        "input_shape=np.shape(nu_energy_input_1)"
      ],
      "execution_count": null,
      "outputs": []
    },
    {
      "cell_type": "code",
      "metadata": {
        "colab": {
          "base_uri": "https://localhost:8080/"
        },
        "id": "aNEsKpCjO28I",
        "outputId": "ad8e1f3d-f06a-4691-cbeb-5d147bfa8f1a"
      },
      "source": [
        "xy_input = Input(shape=input_shape[1:])\r\n",
        "xy_model = create_convolution_layers(xy_input, input_shape[1:])\r\n",
        "\r\n",
        "yz_input = Input(shape=input_shape[1:])\r\n",
        "yz_model = create_convolution_layers(yz_input, input_shape[1:])\r\n",
        "\r\n",
        "conv = concatenate([xy_model, yz_model])\r\n",
        "conv = Flatten()(conv)\r\n",
        "\r\n",
        "dense = Dense(128)(conv)\r\n",
        "\r\n",
        "output = Dense(1, activation =\"linear\")(dense)\r\n",
        "\r\n",
        "model = Model(inputs = [xy_input, yz_input], outputs = [output])\r\n",
        "\r\n",
        "\r\n",
        "model.compile(loss='mse',\r\n",
        "              optimizer=tf.keras.optimizers.RMSprop(0.001),\r\n",
        "              metrics=['mae' # mean absolute error\r\n",
        "              , 'mse']) # mean squared error \r\n",
        "\r\n",
        "model.summary()"
      ],
      "execution_count": null,
      "outputs": [
        {
          "output_type": "stream",
          "text": [
            "Model: \"model\"\n",
            "__________________________________________________________________________________________________\n",
            "Layer (type)                    Output Shape         Param #     Connected to                     \n",
            "==================================================================================================\n",
            "input_1 (InputLayer)            [(None, 100, 80, 1)] 0                                            \n",
            "__________________________________________________________________________________________________\n",
            "input_2 (InputLayer)            [(None, 100, 80, 1)] 0                                            \n",
            "__________________________________________________________________________________________________\n",
            "conv2d (Conv2D)                 (None, 100, 80, 8)   80          input_1[0][0]                    \n",
            "__________________________________________________________________________________________________\n",
            "conv2d_3 (Conv2D)               (None, 100, 80, 8)   80          input_2[0][0]                    \n",
            "__________________________________________________________________________________________________\n",
            "max_pooling2d (MaxPooling2D)    (None, 50, 40, 8)    0           conv2d[0][0]                     \n",
            "__________________________________________________________________________________________________\n",
            "max_pooling2d_3 (MaxPooling2D)  (None, 50, 40, 8)    0           conv2d_3[0][0]                   \n",
            "__________________________________________________________________________________________________\n",
            "conv2d_1 (Conv2D)               (None, 50, 40, 16)   1168        max_pooling2d[0][0]              \n",
            "__________________________________________________________________________________________________\n",
            "conv2d_4 (Conv2D)               (None, 50, 40, 16)   1168        max_pooling2d_3[0][0]            \n",
            "__________________________________________________________________________________________________\n",
            "max_pooling2d_1 (MaxPooling2D)  (None, 25, 20, 16)   0           conv2d_1[0][0]                   \n",
            "__________________________________________________________________________________________________\n",
            "max_pooling2d_4 (MaxPooling2D)  (None, 25, 20, 16)   0           conv2d_4[0][0]                   \n",
            "__________________________________________________________________________________________________\n",
            "conv2d_2 (Conv2D)               (None, 25, 20, 32)   4640        max_pooling2d_1[0][0]            \n",
            "__________________________________________________________________________________________________\n",
            "conv2d_5 (Conv2D)               (None, 25, 20, 32)   4640        max_pooling2d_4[0][0]            \n",
            "__________________________________________________________________________________________________\n",
            "max_pooling2d_2 (MaxPooling2D)  (None, 13, 10, 32)   0           conv2d_2[0][0]                   \n",
            "__________________________________________________________________________________________________\n",
            "max_pooling2d_5 (MaxPooling2D)  (None, 13, 10, 32)   0           conv2d_5[0][0]                   \n",
            "__________________________________________________________________________________________________\n",
            "dropout (Dropout)               (None, 13, 10, 32)   0           max_pooling2d_2[0][0]            \n",
            "__________________________________________________________________________________________________\n",
            "dropout_1 (Dropout)             (None, 13, 10, 32)   0           max_pooling2d_5[0][0]            \n",
            "__________________________________________________________________________________________________\n",
            "concatenate (Concatenate)       (None, 13, 10, 64)   0           dropout[0][0]                    \n",
            "                                                                 dropout_1[0][0]                  \n",
            "__________________________________________________________________________________________________\n",
            "flatten (Flatten)               (None, 8320)         0           concatenate[0][0]                \n",
            "__________________________________________________________________________________________________\n",
            "dense (Dense)                   (None, 128)          1065088     flatten[0][0]                    \n",
            "__________________________________________________________________________________________________\n",
            "dense_1 (Dense)                 (None, 1)            129         dense[0][0]                      \n",
            "==================================================================================================\n",
            "Total params: 1,076,993\n",
            "Trainable params: 1,076,993\n",
            "Non-trainable params: 0\n",
            "__________________________________________________________________________________________________\n"
          ],
          "name": "stdout"
        }
      ]
    },
    {
      "cell_type": "code",
      "metadata": {
        "colab": {
          "base_uri": "https://localhost:8080/"
        },
        "id": "J0vjRXN9vPf0",
        "outputId": "fdaedb75-0391-4b6a-99bb-c0c694c36f00"
      },
      "source": [
        "history_E1 = model.fit(x=[train_input_1_nuenergy,train_input_2_nuenergy],y=train_labels_nuenergy, batch_size=32, epochs=35,validation_data=([val_input_1_nuenergy,val_input_2_nuenergy],val_labels_nuenergy) )"
      ],
      "execution_count": null,
      "outputs": [
        {
          "output_type": "stream",
          "text": [
            "Epoch 1/35\n",
            "696/696 [==============================] - 12s 8ms/step - loss: 0.0954 - mae: 0.1413 - mse: 0.0954 - val_loss: 0.0146 - val_mae: 0.0771 - val_mse: 0.0146\n",
            "Epoch 2/35\n",
            "696/696 [==============================] - 5s 7ms/step - loss: 0.0123 - mae: 0.0813 - mse: 0.0123 - val_loss: 0.0196 - val_mae: 0.0982 - val_mse: 0.0196\n",
            "Epoch 3/35\n",
            "696/696 [==============================] - 5s 7ms/step - loss: 0.0117 - mae: 0.0793 - mse: 0.0117 - val_loss: 0.0113 - val_mae: 0.0810 - val_mse: 0.0113\n",
            "Epoch 4/35\n",
            "696/696 [==============================] - 5s 7ms/step - loss: 0.0109 - mae: 0.0763 - mse: 0.0109 - val_loss: 0.0112 - val_mae: 0.0827 - val_mse: 0.0112\n",
            "Epoch 5/35\n",
            "696/696 [==============================] - 5s 7ms/step - loss: 0.0109 - mae: 0.0764 - mse: 0.0109 - val_loss: 0.0109 - val_mae: 0.0772 - val_mse: 0.0109\n",
            "Epoch 6/35\n",
            "696/696 [==============================] - 5s 7ms/step - loss: 0.0108 - mae: 0.0756 - mse: 0.0108 - val_loss: 0.0109 - val_mae: 0.0770 - val_mse: 0.0109\n",
            "Epoch 7/35\n",
            "696/696 [==============================] - 5s 7ms/step - loss: 0.0107 - mae: 0.0749 - mse: 0.0107 - val_loss: 0.0120 - val_mae: 0.0892 - val_mse: 0.0120\n",
            "Epoch 8/35\n",
            "696/696 [==============================] - 5s 7ms/step - loss: 0.0105 - mae: 0.0750 - mse: 0.0105 - val_loss: 0.0111 - val_mae: 0.0745 - val_mse: 0.0111\n",
            "Epoch 9/35\n",
            "696/696 [==============================] - 5s 7ms/step - loss: 0.0107 - mae: 0.0750 - mse: 0.0107 - val_loss: 0.0109 - val_mae: 0.0790 - val_mse: 0.0109\n",
            "Epoch 10/35\n",
            "696/696 [==============================] - 5s 7ms/step - loss: 0.0106 - mae: 0.0748 - mse: 0.0106 - val_loss: 0.0204 - val_mae: 0.1010 - val_mse: 0.0204\n",
            "Epoch 11/35\n",
            "696/696 [==============================] - 5s 7ms/step - loss: 0.0102 - mae: 0.0736 - mse: 0.0102 - val_loss: 0.0113 - val_mae: 0.0753 - val_mse: 0.0113\n",
            "Epoch 12/35\n",
            "696/696 [==============================] - 5s 7ms/step - loss: 0.0099 - mae: 0.0722 - mse: 0.0099 - val_loss: 0.0118 - val_mae: 0.0740 - val_mse: 0.0118\n",
            "Epoch 13/35\n",
            "696/696 [==============================] - 5s 7ms/step - loss: 0.0101 - mae: 0.0728 - mse: 0.0101 - val_loss: 0.0109 - val_mae: 0.0797 - val_mse: 0.0109\n",
            "Epoch 14/35\n",
            "696/696 [==============================] - 5s 7ms/step - loss: 0.0099 - mae: 0.0722 - mse: 0.0099 - val_loss: 0.0155 - val_mae: 0.0830 - val_mse: 0.0155\n",
            "Epoch 15/35\n",
            "696/696 [==============================] - 5s 7ms/step - loss: 0.0097 - mae: 0.0714 - mse: 0.0097 - val_loss: 0.0108 - val_mae: 0.0761 - val_mse: 0.0108\n",
            "Epoch 16/35\n",
            "696/696 [==============================] - 5s 7ms/step - loss: 0.0097 - mae: 0.0718 - mse: 0.0097 - val_loss: 0.0121 - val_mae: 0.0764 - val_mse: 0.0121\n",
            "Epoch 17/35\n",
            "696/696 [==============================] - 5s 7ms/step - loss: 0.0095 - mae: 0.0707 - mse: 0.0095 - val_loss: 0.0112 - val_mae: 0.0749 - val_mse: 0.0112\n",
            "Epoch 18/35\n",
            "696/696 [==============================] - 5s 7ms/step - loss: 0.0093 - mae: 0.0703 - mse: 0.0093 - val_loss: 0.0111 - val_mae: 0.0755 - val_mse: 0.0111\n",
            "Epoch 19/35\n",
            "696/696 [==============================] - 5s 7ms/step - loss: 0.0093 - mae: 0.0702 - mse: 0.0093 - val_loss: 0.0117 - val_mae: 0.0752 - val_mse: 0.0117\n",
            "Epoch 20/35\n",
            "696/696 [==============================] - 5s 7ms/step - loss: 0.0093 - mae: 0.0702 - mse: 0.0093 - val_loss: 0.0112 - val_mae: 0.0776 - val_mse: 0.0112\n",
            "Epoch 21/35\n",
            "696/696 [==============================] - 5s 7ms/step - loss: 0.0088 - mae: 0.0688 - mse: 0.0088 - val_loss: 0.0109 - val_mae: 0.0761 - val_mse: 0.0109\n",
            "Epoch 22/35\n",
            "696/696 [==============================] - 5s 7ms/step - loss: 0.0090 - mae: 0.0690 - mse: 0.0090 - val_loss: 0.0111 - val_mae: 0.0804 - val_mse: 0.0111\n",
            "Epoch 23/35\n",
            "696/696 [==============================] - 5s 7ms/step - loss: 0.0091 - mae: 0.0695 - mse: 0.0091 - val_loss: 0.0112 - val_mae: 0.0754 - val_mse: 0.0112\n",
            "Epoch 24/35\n",
            "696/696 [==============================] - 5s 7ms/step - loss: 0.0090 - mae: 0.0692 - mse: 0.0090 - val_loss: 0.0111 - val_mae: 0.0789 - val_mse: 0.0111\n",
            "Epoch 25/35\n",
            "696/696 [==============================] - 5s 7ms/step - loss: 0.0091 - mae: 0.0696 - mse: 0.0091 - val_loss: 0.0113 - val_mae: 0.0755 - val_mse: 0.0113\n",
            "Epoch 26/35\n",
            "696/696 [==============================] - 5s 7ms/step - loss: 0.0089 - mae: 0.0687 - mse: 0.0089 - val_loss: 0.0116 - val_mae: 0.0748 - val_mse: 0.0116\n",
            "Epoch 27/35\n",
            "696/696 [==============================] - 5s 8ms/step - loss: 0.0088 - mae: 0.0688 - mse: 0.0088 - val_loss: 0.0115 - val_mae: 0.0814 - val_mse: 0.0115\n",
            "Epoch 28/35\n",
            "696/696 [==============================] - 5s 7ms/step - loss: 0.0088 - mae: 0.0686 - mse: 0.0088 - val_loss: 0.0115 - val_mae: 0.0747 - val_mse: 0.0115\n",
            "Epoch 29/35\n",
            "696/696 [==============================] - 5s 7ms/step - loss: 0.0087 - mae: 0.0679 - mse: 0.0087 - val_loss: 0.0126 - val_mae: 0.0769 - val_mse: 0.0126\n",
            "Epoch 30/35\n",
            "696/696 [==============================] - 5s 7ms/step - loss: 0.0089 - mae: 0.0690 - mse: 0.0089 - val_loss: 0.0114 - val_mae: 0.0751 - val_mse: 0.0114\n",
            "Epoch 31/35\n",
            "696/696 [==============================] - 5s 7ms/step - loss: 0.0086 - mae: 0.0676 - mse: 0.0086 - val_loss: 0.0123 - val_mae: 0.0890 - val_mse: 0.0123\n",
            "Epoch 32/35\n",
            "696/696 [==============================] - 5s 7ms/step - loss: 0.0085 - mae: 0.0677 - mse: 0.0085 - val_loss: 0.0118 - val_mae: 0.0761 - val_mse: 0.0118\n",
            "Epoch 33/35\n",
            "696/696 [==============================] - 5s 7ms/step - loss: 0.0083 - mae: 0.0663 - mse: 0.0083 - val_loss: 0.0118 - val_mae: 0.0857 - val_mse: 0.0118\n",
            "Epoch 34/35\n",
            "696/696 [==============================] - 5s 7ms/step - loss: 0.0086 - mae: 0.0673 - mse: 0.0086 - val_loss: 0.0116 - val_mae: 0.0776 - val_mse: 0.0116\n",
            "Epoch 35/35\n",
            "696/696 [==============================] - 5s 7ms/step - loss: 0.0085 - mae: 0.0675 - mse: 0.0085 - val_loss: 0.0117 - val_mae: 0.0796 - val_mse: 0.0117\n"
          ],
          "name": "stdout"
        }
      ]
    },
    {
      "cell_type": "code",
      "metadata": {
        "colab": {
          "base_uri": "https://localhost:8080/",
          "height": 312
        },
        "id": "dSwKIMWXcUUD",
        "outputId": "fa126b7d-79e8-4dcb-9cde-4e74f8648c9a"
      },
      "source": [
        "plt.plot(history_E1.history['mse'], label='mean squared error')\r\n",
        "plt.plot(history_E1.history['val_mse'], label = 'val mean squared error')\r\n",
        "plt.xlabel('Epoch')\r\n",
        "plt.ylabel('mean squared error')\r\n",
        "plt.legend(loc='lower right')\r\n",
        "plt.grid()\r\n",
        "plt.title('MSE of the model')"
      ],
      "execution_count": null,
      "outputs": [
        {
          "output_type": "execute_result",
          "data": {
            "text/plain": [
              "Text(0.5, 1.0, 'MSE of the model')"
            ]
          },
          "metadata": {
            "tags": []
          },
          "execution_count": 18
        },
        {
          "output_type": "display_data",
          "data": {
            "image/png": "[encoded data removed]",
            "text/plain": [
              "<Figure size 432x288 with 1 Axes>"
            ]
          },
          "metadata": {
            "tags": []
          }
        }
      ]
    },
    {
      "cell_type": "markdown",
      "metadata": {
        "id": "OqfWfSTp6iZW"
      },
      "source": [
        "# 2. Write a machine learning algorithm to determine the flavour of the neutrino"
      ]
    },
    {
      "cell_type": "code",
      "metadata": {
        "colab": {
          "base_uri": "https://localhost:8080/",
          "height": 65,
          "referenced_widgets": [
            "aa93580118a44f5ab821a6735a20b63e",
            "668d6b44bc49400da05fc1019936d5e7",
            "e352c3e853294bb5bedb594f91c218c4",
            "6da6a296fb934781a6edf519c7ec8542",
            "a93ba7a9148a43e8bda05c60564847f6",
            "9be330c339f049598764c122f905a51f",
            "34950127a207443eb81c39c7d2f5f22e",
            "81c0a4dcbc514b2595be54a2e494dfac"
          ]
        },
        "id": "QCt5WINEcBYt",
        "outputId": "69e0f5c5-1ae6-463e-e53a-1eedbb3b3c8e"
      },
      "source": [
        "files_e2=data_retriever(200)"
      ],
      "execution_count": null,
      "outputs": [
        {
          "output_type": "display_data",
          "data": {
            "application/vnd.jupyter.widget-view+json": {
              "model_id": "aa93580118a44f5ab821a6735a20b63e",
              "version_major": 2,
              "version_minor": 0
            },
            "text/plain": [
              "HBox(children=(FloatProgress(value=0.0, max=200.0), HTML(value='')))"
            ]
          },
          "metadata": {
            "tags": []
          }
        },
        {
          "output_type": "stream",
          "text": [
            "\n"
          ],
          "name": "stdout"
        }
      ]
    },
    {
      "cell_type": "code",
      "metadata": {
        "colab": {
          "base_uri": "https://localhost:8080/",
          "height": 65,
          "referenced_widgets": [
            "97d3c6e3140d4f5db77ca0710adda8b9",
            "f97c556590ed42bbb486061ca2249d4a",
            "f84191a37f254a389431673f6731e5ae",
            "e8093e7608674736b8c7979b7758ec64",
            "9d5d14fd43b44534b324d3a0497d87b3",
            "ddc68fe4c59a406090e1e7e4d539e258",
            "89b4322c0daf46a787cdfdd32ebd1765",
            "c8b4283b65d049a0b11e465d58c8e678"
          ]
        },
        "id": "cOOo4DF8lx3J",
        "outputId": "29fcb981-5643-486a-9aa9-ddc2c02b4417"
      },
      "source": [
        "numu_counter = 0\r\n",
        "nue_counter = 0\r\n",
        "nutau_counter = 0\r\n",
        "other_counter = 0\r\n",
        "\r\n",
        "for filename in tqdm(files_e2):\r\n",
        "  df=h5py.File(filename, 'r')\r\n",
        "\r\n",
        "  for i in range(len(df['neutrino']['interaction'])):\r\n",
        "\r\n",
        "    if df['neutrino']['interaction'][i] <= 3:\r\n",
        "\r\n",
        "      numu_counter= numu_counter + 1\r\n",
        "\r\n",
        "    elif df['neutrino']['interaction'][i] > 4 and df['neutrino']['interaction'][i] <= 7:\r\n",
        "\r\n",
        "      nue_counter= nue_counter + 1\r\n",
        "\r\n",
        "    elif df['neutrino']['interaction'][i] > 7 and df['neutrino']['interaction'][i] <= 11:\r\n",
        "\r\n",
        "      nutau_counter= nutau_counter + 1\r\n",
        "\r\n",
        "    else:\r\n",
        "\r\n",
        "      other_counter = other_counter + 1\r\n",
        "\r\n",
        "totalevents = numu_counter + nue_counter + nutau_counter + other_counter"
      ],
      "execution_count": null,
      "outputs": [
        {
          "output_type": "display_data",
          "data": {
            "application/vnd.jupyter.widget-view+json": {
              "model_id": "97d3c6e3140d4f5db77ca0710adda8b9",
              "version_major": 2,
              "version_minor": 0
            },
            "text/plain": [
              "HBox(children=(FloatProgress(value=0.0, max=200.0), HTML(value='')))"
            ]
          },
          "metadata": {
            "tags": []
          }
        },
        {
          "output_type": "stream",
          "text": [
            "\n"
          ],
          "name": "stdout"
        }
      ]
    },
    {
      "cell_type": "code",
      "metadata": {
        "colab": {
          "base_uri": "https://localhost:8080/",
          "height": 101
        },
        "id": "TaplyXU5mAC0",
        "outputId": "05bde061-f46e-4708-fbb8-4352d36a4566"
      },
      "source": [
        "## Displaying the number of events and its percentages\r\n",
        "\r\n",
        "display(Math(r'There \\; are \\; {} \\; \\nu_\\mu \\; charged-current \\; events. \\; This \\; represents \\; {} \\% \\; of \\; the \\; events \\; in \\; {} \\; meta \\; data \\; files.'.format(numu_counter, round(((numu_counter / totalevents ) * 100),2), len(files_e2))))\r\n",
        "display(Math(r'There \\; are \\; {} \\; \\nu_\\tau \\; charged-current \\; events. \\; This \\; represents \\; {} \\% \\; of \\; the \\; events \\; in \\; {} \\; meta \\; data \\; files.'.format(nutau_counter, round(((nutau_counter / totalevents ) * 100),2), len(files_e2))))\r\n",
        "display(Math(r'There \\; are \\; {} \\; \\nu_e \\; charged-current \\; events. \\; This \\; represents \\; {} \\% \\; of \\; the \\; events \\; in \\; {} \\; meta \\; data \\; files.'.format(nue_counter, round(((nue_counter / totalevents ) * 100),2), len(files_e2))))\r\n",
        "display(Math(r'There \\; are \\; {} \\; other \\; events. \\; This \\; represents \\; {} \\% \\; of \\; the \\; events \\; in \\; {} \\; meta \\; data \\; files.'.format(other_counter, round(((other_counter / totalevents ) * 100),2), len(files_e2))))"
      ],
      "execution_count": null,
      "outputs": [
        {
          "output_type": "display_data",
          "data": {
            "text/latex": "$$There \\; are \\; 1230495 \\; \\nu_\\mu \\; charged-current \\; events. \\; This \\; represents \\; 88.2 \\% \\; of \\; the \\; events \\; in \\; 200 \\; meta \\; data \\; files.$$",
            "text/plain": [
              "<IPython.core.display.Math object>"
            ]
          },
          "metadata": {
            "tags": []
          }
        },
        {
          "output_type": "display_data",
          "data": {
            "text/latex": "$$There \\; are \\; 0 \\; \\nu_\\tau \\; charged-current \\; events. \\; This \\; represents \\; 0.0 \\% \\; of \\; the \\; events \\; in \\; 200 \\; meta \\; data \\; files.$$",
            "text/plain": [
              "<IPython.core.display.Math object>"
            ]
          },
          "metadata": {
            "tags": []
          }
        },
        {
          "output_type": "display_data",
          "data": {
            "text/latex": "$$There \\; are \\; 15650 \\; \\nu_e \\; charged-current \\; events. \\; This \\; represents \\; 1.12 \\% \\; of \\; the \\; events \\; in \\; 200 \\; meta \\; data \\; files.$$",
            "text/plain": [
              "<IPython.core.display.Math object>"
            ]
          },
          "metadata": {
            "tags": []
          }
        },
        {
          "output_type": "display_data",
          "data": {
            "text/latex": "$$There \\; are \\; 148943 \\; other \\; events. \\; This \\; represents \\; 10.68 \\% \\; of \\; the \\; events \\; in \\; 200 \\; meta \\; data \\; files.$$",
            "text/plain": [
              "<IPython.core.display.Math object>"
            ]
          },
          "metadata": {
            "tags": []
          }
        }
      ]
    },
    {
      "cell_type": "markdown",
      "metadata": {
        "id": "O9SDFHTSfIHQ"
      },
      "source": [
        "As we can see from above there are no tau neutrinos, therefore this is just a binary classification where the network will be able to distinguish between electron and muon neutrinos. \r\n",
        "\r\n",
        "I am going to feed the network only with muon neutrino CC events and electron neutrino CC events (double check if this is the correct approach or I should include the rest of the data and make it like 0,1,2)"
      ]
    },
    {
      "cell_type": "code",
      "metadata": {
        "colab": {
          "base_uri": "https://localhost:8080/",
          "height": 65,
          "referenced_widgets": [
            "809aaf35cc544786a84459fed0efc635",
            "b1de964d716b4a72ae7607c024ebe28f",
            "935dec83f24840729adf6c35921666c9",
            "99407e88e0aa44c0ac852229b090eb60",
            "b7352b5775c641b0bf5b3ed137a310f1",
            "afbc3f4e458e429e812cd8d163f64e00",
            "1dfafd3c16b64835a74750d17c66f8a7",
            "e667335d37464d359314ae4a096dff75"
          ]
        },
        "id": "T8CrLzpNhxb-",
        "outputId": "e73e465f-2073-4587-eaf7-7e75bc445476"
      },
      "source": [
        "files_e2_1=data_retriever(80)"
      ],
      "execution_count": null,
      "outputs": [
        {
          "output_type": "display_data",
          "data": {
            "application/vnd.jupyter.widget-view+json": {
              "model_id": "809aaf35cc544786a84459fed0efc635",
              "version_major": 2,
              "version_minor": 0
            },
            "text/plain": [
              "HBox(children=(FloatProgress(value=0.0, max=80.0), HTML(value='')))"
            ]
          },
          "metadata": {
            "tags": []
          }
        },
        {
          "output_type": "stream",
          "text": [
            "\n"
          ],
          "name": "stdout"
        }
      ]
    },
    {
      "cell_type": "code",
      "metadata": {
        "id": "IGG133_AlD0R"
      },
      "source": [
        "files_e2_80, files_e2_20 = train_test_split(files_e2_1, train_size = 0.99)"
      ],
      "execution_count": null,
      "outputs": []
    },
    {
      "cell_type": "code",
      "metadata": {
        "colab": {
          "base_uri": "https://localhost:8080/",
          "height": 114,
          "referenced_widgets": [
            "8932d4f642bd48a790245a0b48a36796",
            "a3a52ddf82324bee8317992faff9058c",
            "be21284e38844e369066a4cf6e1652ae",
            "44bc84dfdddb48d9910f6d8fda34fe99",
            "e02f81147d8840f1a7950bc5788ec3e0",
            "42e3039600c047fc9f71d9ebb686e58b",
            "446980aa2555457c84358028306d2edc",
            "af603600e8594d12810fb5d2cd2482d0",
            "56978a32cc164ef4b235f798eb430cc2",
            "d75e5c2dac914cb794afda9c65c3fa40",
            "926d848d548d44c99292e5d7d0af1689",
            "e755df2836b14b978becd049704dc29a",
            "7552a0c4c5e94baf89d59029efc354d1",
            "1f6a2fe766cb4643a71da3686a30d28a",
            "9dd6e8617897424286759c1ba8a466b7",
            "9358d67ca59e44629447740dc1c875a5"
          ]
        },
        "id": "9mghguJTtGqv",
        "outputId": "d76cbe08-7365-4a37-e7ca-5de06cad23c8"
      },
      "source": [
        "e2_labels=[]\r\n",
        "e2_input_1=[]\r\n",
        "e2_input_2=[]\r\n",
        "\r\n",
        "for filename in tqdm(files_e2_20):\r\n",
        "  df=h5py.File(filename, 'r')\r\n",
        "\r\n",
        "  for i in range(len(df['neutrino']['interaction'])):\r\n",
        "    if df['neutrino']['interaction'][i] <=3:  # this is for muon neutrinos, between 0-3\r\n",
        "      model = df['cvnmap'][i].reshape((2,100,80))\r\n",
        "      e2_input_1.append(model[0])\r\n",
        "      e2_input_2.append(model[1])\r\n",
        "      e2_labels.append(int(1)) # appending a 1 to the labels for muon neutrinos \r\n",
        "\r\n",
        "    else:\r\n",
        "      pass\r\n",
        "\r\n",
        "for filename in tqdm(files_e2_80):\r\n",
        "  df=h5py.File(filename, 'r')\r\n",
        "  for i in range(len(df['neutrino']['interaction'])):\r\n",
        "    if df['neutrino']['interaction'][i] >=4 and df['neutrino']['interaction'][i] <= 7:  # this is for electron neutrinos, between 4-7\r\n",
        "      model = df['cvnmap'][i].reshape((2,100,80))\r\n",
        "      e2_input_1.append(model[0])\r\n",
        "      e2_input_2.append(model[1])\r\n",
        "      e2_labels.append(int(0)) # appending a 0 to the labels for electron neutrinos \r\n",
        "\r\n",
        "    else:\r\n",
        "      pass\r\n",
        "\r\n"
      ],
      "execution_count": null,
      "outputs": [
        {
          "output_type": "display_data",
          "data": {
            "application/vnd.jupyter.widget-view+json": {
              "model_id": "8932d4f642bd48a790245a0b48a36796",
              "version_major": 2,
              "version_minor": 0
            },
            "text/plain": [
              "HBox(children=(FloatProgress(value=0.0, max=1.0), HTML(value='')))"
            ]
          },
          "metadata": {
            "tags": []
          }
        },
        {
          "output_type": "stream",
          "text": [
            "\n"
          ],
          "name": "stdout"
        },
        {
          "output_type": "display_data",
          "data": {
            "application/vnd.jupyter.widget-view+json": {
              "model_id": "56978a32cc164ef4b235f798eb430cc2",
              "version_major": 2,
              "version_minor": 0
            },
            "text/plain": [
              "HBox(children=(FloatProgress(value=0.0, max=79.0), HTML(value='')))"
            ]
          },
          "metadata": {
            "tags": []
          }
        },
        {
          "output_type": "stream",
          "text": [
            "\n"
          ],
          "name": "stdout"
        }
      ]
    },
    {
      "cell_type": "code",
      "metadata": {
        "colab": {
          "base_uri": "https://localhost:8080/",
          "height": 334
        },
        "id": "2_hOfVYAjZiD",
        "outputId": "138906f1-1fff-492a-b37c-3f69795fd204"
      },
      "source": [
        "# checking if the data is balanced\r\n",
        "\r\n",
        "plt.hist(e2_labels)"
      ],
      "execution_count": null,
      "outputs": [
        {
          "output_type": "execute_result",
          "data": {
            "text/plain": [
              "(array([6735.,    0.,    0.,    0.,    0.,    0.,    0.,    0.,    0.,\n",
              "        6091.]),\n",
              " array([0. , 0.1, 0.2, 0.3, 0.4, 0.5, 0.6, 0.7, 0.8, 0.9, 1. ]),\n",
              " <a list of 10 Patch objects>)"
            ]
          },
          "metadata": {
            "tags": []
          },
          "execution_count": 52
        },
        {
          "output_type": "display_data",
          "data": {
            "image/png": "[encoded data removed]",
            "text/plain": [
              "<Figure size 432x288 with 1 Axes>"
            ]
          },
          "metadata": {
            "tags": []
          }
        }
      ]
    },
    {
      "cell_type": "markdown",
      "metadata": {
        "id": "WC1lGt4zk0-Z"
      },
      "source": [
        "As expected there are too many muon neutrino events, I need to balance it out as I did in task 1. "
      ]
    },
    {
      "cell_type": "code",
      "metadata": {
        "id": "1Nloo5zCuTrv"
      },
      "source": [
        "e2_labels, e2_input_1, e2_input_2 = shuffle_data(e2_labels, e2_input_1, e2_input_2)"
      ],
      "execution_count": null,
      "outputs": []
    },
    {
      "cell_type": "code",
      "metadata": {
        "id": "jOf-fKZEugGB"
      },
      "source": [
        "e2_input_1 = tf.expand_dims(e2_input_1, axis = 3)\r\n",
        "e2_input_2 = tf.expand_dims(e2_input_2, axis = 3)"
      ],
      "execution_count": null,
      "outputs": []
    },
    {
      "cell_type": "code",
      "metadata": {
        "id": "dpIAHjOnulpg"
      },
      "source": [
        "train_input_1_e2, test_input_1_e2, val_input_1_e2, train_input_2_e2, test_input_2_e2, val_input_2_e2, train_labels_e2, val_labels_e2, test_labels_e2 = data(e2_input_1, e2_input_2, e2_labels)"
      ],
      "execution_count": null,
      "outputs": []
    },
    {
      "cell_type": "code",
      "metadata": {
        "colab": {
          "base_uri": "https://localhost:8080/"
        },
        "id": "mUsFNVw6vC4A",
        "outputId": "7c481f34-ae13-41a2-a5e9-55daf1135043"
      },
      "source": [
        "input_shape_e2=np.shape(e2_input_1)\r\n",
        "xy_input = Input(shape=input_shape_e2[1:])\r\n",
        "xy_model = create_convolution_layers_2(xy_input, input_shape_e2[1:])\r\n",
        "\r\n",
        "yz_input = Input(shape=input_shape_e2[1:])\r\n",
        "yz_model = create_convolution_layers_2(yz_input, input_shape_e2[1:])\r\n",
        "\r\n",
        "conv = concatenate([xy_model, yz_model])\r\n",
        "conv = Flatten()(conv)\r\n",
        "\r\n",
        "dense = Dense(32, activation = \"relu\")(conv)\r\n",
        "dense = Dropout(0.5)(dense)\r\n",
        "dense = Dense(64, activation = \"relu\")(dense)\r\n",
        "dense = Dropout(0.5)(dense)\r\n",
        "dense = Dense(32, activation = \"relu\")(dense)\r\n",
        "dense = Dropout(0.5)(dense)\r\n",
        "\r\n",
        "output = Dense(1, activation =\"sigmoid\")(dense)\r\n",
        "\r\n",
        "model = Model(inputs = [xy_input, yz_input], outputs = [output])\r\n",
        "\r\n",
        "\r\n",
        "model.compile(loss=tf.keras.losses.binary_crossentropy,\r\n",
        "              optimizer='adam',\r\n",
        "              metrics=['accuracy']) \r\n",
        "\r\n",
        "model.summary()"
      ],
      "execution_count": null,
      "outputs": [
        {
          "output_type": "stream",
          "text": [
            "Model: \"model_1\"\n",
            "__________________________________________________________________________________________________\n",
            "Layer (type)                    Output Shape         Param #     Connected to                     \n",
            "==================================================================================================\n",
            "input_3 (InputLayer)            [(None, 100, 80, 1)] 0                                            \n",
            "__________________________________________________________________________________________________\n",
            "input_4 (InputLayer)            [(None, 100, 80, 1)] 0                                            \n",
            "__________________________________________________________________________________________________\n",
            "conv2d_6 (Conv2D)               (None, 100, 80, 8)   80          input_3[0][0]                    \n",
            "__________________________________________________________________________________________________\n",
            "conv2d_9 (Conv2D)               (None, 100, 80, 8)   80          input_4[0][0]                    \n",
            "__________________________________________________________________________________________________\n",
            "max_pooling2d_6 (MaxPooling2D)  (None, 50, 40, 8)    0           conv2d_6[0][0]                   \n",
            "__________________________________________________________________________________________________\n",
            "max_pooling2d_9 (MaxPooling2D)  (None, 50, 40, 8)    0           conv2d_9[0][0]                   \n",
            "__________________________________________________________________________________________________\n",
            "dropout_2 (Dropout)             (None, 50, 40, 8)    0           max_pooling2d_6[0][0]            \n",
            "__________________________________________________________________________________________________\n",
            "dropout_5 (Dropout)             (None, 50, 40, 8)    0           max_pooling2d_9[0][0]            \n",
            "__________________________________________________________________________________________________\n",
            "conv2d_7 (Conv2D)               (None, 50, 40, 16)   1168        dropout_2[0][0]                  \n",
            "__________________________________________________________________________________________________\n",
            "conv2d_10 (Conv2D)              (None, 50, 40, 16)   1168        dropout_5[0][0]                  \n",
            "__________________________________________________________________________________________________\n",
            "max_pooling2d_7 (MaxPooling2D)  (None, 25, 20, 16)   0           conv2d_7[0][0]                   \n",
            "__________________________________________________________________________________________________\n",
            "max_pooling2d_10 (MaxPooling2D) (None, 25, 20, 16)   0           conv2d_10[0][0]                  \n",
            "__________________________________________________________________________________________________\n",
            "dropout_3 (Dropout)             (None, 25, 20, 16)   0           max_pooling2d_7[0][0]            \n",
            "__________________________________________________________________________________________________\n",
            "dropout_6 (Dropout)             (None, 25, 20, 16)   0           max_pooling2d_10[0][0]           \n",
            "__________________________________________________________________________________________________\n",
            "conv2d_8 (Conv2D)               (None, 25, 20, 32)   4640        dropout_3[0][0]                  \n",
            "__________________________________________________________________________________________________\n",
            "conv2d_11 (Conv2D)              (None, 25, 20, 32)   4640        dropout_6[0][0]                  \n",
            "__________________________________________________________________________________________________\n",
            "max_pooling2d_8 (MaxPooling2D)  (None, 13, 10, 32)   0           conv2d_8[0][0]                   \n",
            "__________________________________________________________________________________________________\n",
            "max_pooling2d_11 (MaxPooling2D) (None, 13, 10, 32)   0           conv2d_11[0][0]                  \n",
            "__________________________________________________________________________________________________\n",
            "dropout_4 (Dropout)             (None, 13, 10, 32)   0           max_pooling2d_8[0][0]            \n",
            "__________________________________________________________________________________________________\n",
            "dropout_7 (Dropout)             (None, 13, 10, 32)   0           max_pooling2d_11[0][0]           \n",
            "__________________________________________________________________________________________________\n",
            "concatenate_1 (Concatenate)     (None, 13, 10, 64)   0           dropout_4[0][0]                  \n",
            "                                                                 dropout_7[0][0]                  \n",
            "__________________________________________________________________________________________________\n",
            "flatten_1 (Flatten)             (None, 8320)         0           concatenate_1[0][0]              \n",
            "__________________________________________________________________________________________________\n",
            "dense_2 (Dense)                 (None, 32)           266272      flatten_1[0][0]                  \n",
            "__________________________________________________________________________________________________\n",
            "dropout_8 (Dropout)             (None, 32)           0           dense_2[0][0]                    \n",
            "__________________________________________________________________________________________________\n",
            "dense_3 (Dense)                 (None, 64)           2112        dropout_8[0][0]                  \n",
            "__________________________________________________________________________________________________\n",
            "dropout_9 (Dropout)             (None, 64)           0           dense_3[0][0]                    \n",
            "__________________________________________________________________________________________________\n",
            "dense_4 (Dense)                 (None, 32)           2080        dropout_9[0][0]                  \n",
            "__________________________________________________________________________________________________\n",
            "dropout_10 (Dropout)            (None, 32)           0           dense_4[0][0]                    \n",
            "__________________________________________________________________________________________________\n",
            "dense_5 (Dense)                 (None, 1)            33          dropout_10[0][0]                 \n",
            "==================================================================================================\n",
            "Total params: 282,273\n",
            "Trainable params: 282,273\n",
            "Non-trainable params: 0\n",
            "__________________________________________________________________________________________________\n"
          ],
          "name": "stdout"
        }
      ]
    },
    {
      "cell_type": "code",
      "metadata": {
        "colab": {
          "base_uri": "https://localhost:8080/"
        },
        "id": "0nRQphgWolP4",
        "outputId": "9d3d20ad-ba2a-43b3-eadd-539baaf14b49"
      },
      "source": [
        "earlystopping = callbacks.EarlyStopping(monitor =\"val_loss\", mode =\"min\", patience = 5, restore_best_weights = True) \r\n",
        "\r\n",
        "history = model.fit(x=[train_input_1_e2,train_input_2_e2],y=train_labels_e2, batch_size=64, epochs=50,validation_data=([val_input_1_e2,val_input_2_e2],val_labels_e2), callbacks =[earlystopping] )"
      ],
      "execution_count": null,
      "outputs": [
        {
          "output_type": "stream",
          "text": [
            "Epoch 1/50\n",
            "129/129 [==============================] - 3s 13ms/step - loss: 0.6786 - accuracy: 0.5383 - val_loss: 0.5839 - val_accuracy: 0.6720\n",
            "Epoch 2/50\n",
            "129/129 [==============================] - 1s 11ms/step - loss: 0.5773 - accuracy: 0.7061 - val_loss: 0.5275 - val_accuracy: 0.7096\n",
            "Epoch 3/50\n",
            "129/129 [==============================] - 1s 11ms/step - loss: 0.5360 - accuracy: 0.7252 - val_loss: 0.5074 - val_accuracy: 0.7237\n",
            "Epoch 4/50\n",
            "129/129 [==============================] - 1s 11ms/step - loss: 0.5220 - accuracy: 0.7296 - val_loss: 0.4936 - val_accuracy: 0.7471\n",
            "Epoch 5/50\n",
            "129/129 [==============================] - 1s 11ms/step - loss: 0.5156 - accuracy: 0.7412 - val_loss: 0.4691 - val_accuracy: 0.7607\n",
            "Epoch 6/50\n",
            "129/129 [==============================] - 1s 11ms/step - loss: 0.4773 - accuracy: 0.7647 - val_loss: 0.4947 - val_accuracy: 0.7568\n",
            "Epoch 7/50\n",
            "129/129 [==============================] - 1s 11ms/step - loss: 0.4696 - accuracy: 0.7823 - val_loss: 0.4542 - val_accuracy: 0.7880\n",
            "Epoch 8/50\n",
            "129/129 [==============================] - 1s 11ms/step - loss: 0.4571 - accuracy: 0.7820 - val_loss: 0.4470 - val_accuracy: 0.7788\n",
            "Epoch 9/50\n",
            "129/129 [==============================] - 1s 11ms/step - loss: 0.4466 - accuracy: 0.7794 - val_loss: 0.4631 - val_accuracy: 0.7856\n",
            "Epoch 10/50\n",
            "129/129 [==============================] - 1s 11ms/step - loss: 0.4288 - accuracy: 0.7886 - val_loss: 0.4320 - val_accuracy: 0.7939\n",
            "Epoch 11/50\n",
            "129/129 [==============================] - 1s 11ms/step - loss: 0.4374 - accuracy: 0.7895 - val_loss: 0.4453 - val_accuracy: 0.7982\n",
            "Epoch 12/50\n",
            "129/129 [==============================] - 1s 11ms/step - loss: 0.4323 - accuracy: 0.8023 - val_loss: 0.4393 - val_accuracy: 0.7861\n",
            "Epoch 13/50\n",
            "129/129 [==============================] - 1s 11ms/step - loss: 0.4281 - accuracy: 0.7999 - val_loss: 0.4366 - val_accuracy: 0.7797\n",
            "Epoch 14/50\n",
            "129/129 [==============================] - 2s 12ms/step - loss: 0.4133 - accuracy: 0.8102 - val_loss: 0.4206 - val_accuracy: 0.7978\n",
            "Epoch 15/50\n",
            "129/129 [==============================] - 1s 11ms/step - loss: 0.4124 - accuracy: 0.8065 - val_loss: 0.4396 - val_accuracy: 0.8031\n",
            "Epoch 16/50\n",
            "129/129 [==============================] - 1s 11ms/step - loss: 0.4113 - accuracy: 0.8027 - val_loss: 0.4305 - val_accuracy: 0.7924\n",
            "Epoch 17/50\n",
            "129/129 [==============================] - 1s 11ms/step - loss: 0.4033 - accuracy: 0.8042 - val_loss: 0.4146 - val_accuracy: 0.8075\n",
            "Epoch 18/50\n",
            "129/129 [==============================] - 1s 11ms/step - loss: 0.3953 - accuracy: 0.8211 - val_loss: 0.4097 - val_accuracy: 0.8177\n",
            "Epoch 19/50\n",
            "129/129 [==============================] - 1s 11ms/step - loss: 0.3865 - accuracy: 0.8230 - val_loss: 0.4199 - val_accuracy: 0.8070\n",
            "Epoch 20/50\n",
            "129/129 [==============================] - 1s 11ms/step - loss: 0.3918 - accuracy: 0.8179 - val_loss: 0.4162 - val_accuracy: 0.8051\n",
            "Epoch 21/50\n",
            "129/129 [==============================] - 1s 11ms/step - loss: 0.4125 - accuracy: 0.8016 - val_loss: 0.4240 - val_accuracy: 0.8129\n",
            "Epoch 22/50\n",
            "129/129 [==============================] - 1s 11ms/step - loss: 0.3836 - accuracy: 0.8166 - val_loss: 0.4060 - val_accuracy: 0.8177\n",
            "Epoch 23/50\n",
            "129/129 [==============================] - 1s 11ms/step - loss: 0.3899 - accuracy: 0.8236 - val_loss: 0.4135 - val_accuracy: 0.8168\n",
            "Epoch 24/50\n",
            "129/129 [==============================] - 1s 11ms/step - loss: 0.3677 - accuracy: 0.8293 - val_loss: 0.4128 - val_accuracy: 0.8231\n",
            "Epoch 25/50\n",
            "129/129 [==============================] - 1s 11ms/step - loss: 0.3875 - accuracy: 0.8217 - val_loss: 0.4073 - val_accuracy: 0.8212\n",
            "Epoch 26/50\n",
            "129/129 [==============================] - 1s 11ms/step - loss: 0.3711 - accuracy: 0.8284 - val_loss: 0.4123 - val_accuracy: 0.8158\n",
            "Epoch 27/50\n",
            "129/129 [==============================] - 1s 11ms/step - loss: 0.3714 - accuracy: 0.8270 - val_loss: 0.4070 - val_accuracy: 0.8231\n"
          ],
          "name": "stdout"
        }
      ]
    },
    {
      "cell_type": "code",
      "metadata": {
        "colab": {
          "base_uri": "https://localhost:8080/"
        },
        "id": "dfv6xn39pMR9",
        "outputId": "07c95f50-131d-47a7-9832-cda6b4be39a8"
      },
      "source": [
        "test_loss, test_acc = model.evaluate([test_input_1_e2,test_input_2_e2],  test_labels_e2, verbose=2)"
      ],
      "execution_count": null,
      "outputs": [
        {
          "output_type": "stream",
          "text": [
            "81/81 - 0s - loss: 0.3890 - accuracy: 0.8270\n"
          ],
          "name": "stdout"
        }
      ]
    },
    {
      "cell_type": "code",
      "metadata": {
        "colab": {
          "base_uri": "https://localhost:8080/",
          "height": 312
        },
        "id": "rzPGxz5GvqNd",
        "outputId": "8c404bdf-85c7-4dd6-8037-1eb2d9da7dce"
      },
      "source": [
        "plt.plot(history.history['accuracy'], label='accuracy')\r\n",
        "plt.plot(history.history['val_accuracy'], label = 'val_accuracy')\r\n",
        "plt.xlabel('Epoch')\r\n",
        "plt.ylabel('Accuracy')\r\n",
        "plt.legend(loc='lower right')\r\n",
        "plt.grid()\r\n",
        "plt.title('Accuracy of model')"
      ],
      "execution_count": null,
      "outputs": [
        {
          "output_type": "execute_result",
          "data": {
            "text/plain": [
              "Text(0.5, 1.0, 'Accuracy of model')"
            ]
          },
          "metadata": {
            "tags": []
          },
          "execution_count": 61
        },
        {
          "output_type": "display_data",
          "data": {
            "image/png": "[encoded data removed]",
            "text/plain": [
              "<Figure size 432x288 with 1 Axes>"
            ]
          },
          "metadata": {
            "tags": []
          }
        }
      ]
    },
    {
      "cell_type": "markdown",
      "metadata": {
        "id": "UdLtpuwUq3XU"
      },
      "source": [
        "# 3. Write a machine learning algorithm to determine $y=$ lepton energy over neutrino energy"
      ]
    },
    {
      "cell_type": "code",
      "metadata": {
        "colab": {
          "base_uri": "https://localhost:8080/",
          "height": 65,
          "referenced_widgets": [
            "c0b8ebe3682444a9a63a06c2cd25835d",
            "ab96307468164f29af8f0ac6640334c3",
            "bc4ec8253c3b4c3faab3f75474ae7e52",
            "74292281f1a14f9d9fa56615d48c6edc",
            "f75c9cbf854b4200b1d92826383f3203",
            "e1a316d950e84e92bc5c07cd4d759580",
            "bb71239fb0c44bbfaa4933ee63a4273a",
            "c69d848782ca420e91a9b13aa5ab5b09"
          ]
        },
        "id": "PELvu6_euffJ",
        "outputId": "9afebca5-ad3b-4182-d6b5-ed574533b34b"
      },
      "source": [
        "files_e3=data_retriever(200)"
      ],
      "execution_count": null,
      "outputs": [
        {
          "output_type": "display_data",
          "data": {
            "application/vnd.jupyter.widget-view+json": {
              "model_id": "c0b8ebe3682444a9a63a06c2cd25835d",
              "version_major": 2,
              "version_minor": 0
            },
            "text/plain": [
              "HBox(children=(FloatProgress(value=0.0, max=200.0), HTML(value='')))"
            ]
          },
          "metadata": {
            "tags": []
          }
        },
        {
          "output_type": "stream",
          "text": [
            "\n"
          ],
          "name": "stdout"
        }
      ]
    },
    {
      "cell_type": "code",
      "metadata": {
        "colab": {
          "base_uri": "https://localhost:8080/",
          "height": 99,
          "referenced_widgets": [
            "fc983e4d95d342fcba19987a3a049526",
            "aac5d21a0e8449e98b0a7ba99526cf12",
            "7cca8fc792ea4cbabd2d697ef0bf3497",
            "c0a428b46dd8433e816b7bc96f099fcb",
            "1578f357ce904f3790e22f8586a52b18",
            "1410e5fd126841a0a956813333a1a2ce",
            "7c72c6802bf841ac82a98de00509c886",
            "72baa891a43c4d58a13f8b9ec187570e"
          ]
        },
        "id": "y3q1EDKSjtid",
        "outputId": "70e75ce4-dd14-4774-8ab7-06eb914e5fad"
      },
      "source": [
        "# Finding max and min lepton energy over neutrino energy (y)\r\n",
        "\r\n",
        "y_energy = [] # empty array for values of lepton energy over neutrino energy \r\n",
        "\r\n",
        "for filename in tqdm(files_e3):\r\n",
        "  df=h5py.File(filename, 'r')\r\n",
        "\r\n",
        "  for i in range(len(df['cvnmap'])):\r\n",
        "    y = df['neutrino']['lepenergy'][i] / df['neutrino']['nuenergy'][i] \r\n",
        "    y_energy.append(y)"
      ],
      "execution_count": null,
      "outputs": [
        {
          "output_type": "display_data",
          "data": {
            "application/vnd.jupyter.widget-view+json": {
              "model_id": "fc983e4d95d342fcba19987a3a049526",
              "version_major": 2,
              "version_minor": 0
            },
            "text/plain": [
              "HBox(children=(FloatProgress(value=0.0, max=200.0), HTML(value='')))"
            ]
          },
          "metadata": {
            "tags": []
          }
        },
        {
          "output_type": "stream",
          "text": [
            "/usr/local/lib/python3.6/dist-packages/ipykernel_launcher.py:9: RuntimeWarning: invalid value encountered in true_divide\n",
            "  if __name__ == '__main__':\n"
          ],
          "name": "stderr"
        },
        {
          "output_type": "stream",
          "text": [
            "\n"
          ],
          "name": "stdout"
        }
      ]
    },
    {
      "cell_type": "markdown",
      "metadata": {
        "id": "043mMGGN2HEU"
      },
      "source": [
        "I encountered an error dividing the values which means some of the energies, either lepton energy or neutrino energy have a value of 0. That is what I am finding in the code below. "
      ]
    },
    {
      "cell_type": "code",
      "metadata": {
        "colab": {
          "base_uri": "https://localhost:8080/",
          "height": 65,
          "referenced_widgets": [
            "805c54ceeef846ccb4670e3c1e232593",
            "665bd0c46a844b78aff5f6086d913816",
            "986ed9bb13814d84a6a719e0817ad1ec",
            "fc3d1bd6476e4fed9506ad6406d7c25c",
            "84d058222818417fafeef13173cfdf76",
            "e306d63ae4994c428156913ec4f3e559",
            "c1a68c6ca400453797476b0ea754a11a",
            "a6e80dc2ebda4c6b83a2b7ba5cd0237c"
          ]
        },
        "id": "YbCArAP71dCv",
        "outputId": "d843c847-a5d3-40f3-e3d4-a347f9f7658c"
      },
      "source": [
        "# Finding what type of interactions have 0 lepton energy or neutrino energy. \r\n",
        "\r\n",
        "lep=[]\r\n",
        "nu=[]\r\n",
        "for filename in tqdm(files_e3):\r\n",
        "  df=h5py.File(filename, 'r')\r\n",
        "\r\n",
        "  for i in range(len(df['cvnmap'])):\r\n",
        "    if df['neutrino']['lepenergy'][i] == 0:\r\n",
        "      lep.append(df['neutrino']['interaction'][i])\r\n",
        "    else:\r\n",
        "      pass\r\n",
        "  \r\n",
        "  for i in range(len(df['cvnmap'])):\r\n",
        "    if df['neutrino']['nuenergy'][i] == 0:\r\n",
        "      nu.append(df['neutrino']['interaction'][i])\r\n",
        "    else:\r\n",
        "      pass"
      ],
      "execution_count": null,
      "outputs": [
        {
          "output_type": "display_data",
          "data": {
            "application/vnd.jupyter.widget-view+json": {
              "model_id": "805c54ceeef846ccb4670e3c1e232593",
              "version_major": 2,
              "version_minor": 0
            },
            "text/plain": [
              "HBox(children=(FloatProgress(value=0.0, max=200.0), HTML(value='')))"
            ]
          },
          "metadata": {
            "tags": []
          }
        },
        {
          "output_type": "stream",
          "text": [
            "\n"
          ],
          "name": "stdout"
        }
      ]
    },
    {
      "cell_type": "code",
      "metadata": {
        "colab": {
          "base_uri": "https://localhost:8080/"
        },
        "id": "5WtbCoqp4ikR",
        "outputId": "011c7310-e834-4772-e33b-4e8a7b415ee2"
      },
      "source": [
        "nu.count(15)"
      ],
      "execution_count": null,
      "outputs": [
        {
          "output_type": "execute_result",
          "data": {
            "text/plain": [
              "11597"
            ]
          },
          "metadata": {
            "tags": []
          },
          "execution_count": 37
        }
      ]
    },
    {
      "cell_type": "markdown",
      "metadata": {
        "id": "fePN5e-248L1"
      },
      "source": [
        "There is lepton and neutrino energy 0 for interaction number 15. These need to be excluded from my code because if not I get an error. "
      ]
    },
    {
      "cell_type": "code",
      "metadata": {
        "colab": {
          "base_uri": "https://localhost:8080/",
          "height": 65,
          "referenced_widgets": [
            "e73eef6f09d846fab9df3d502805dd97",
            "8d8fff88747741d4869c43ef4a494788",
            "2d5ca69ee9334646844bf5d8218265ba",
            "5f27655c6dc84e0f99f963b062d451a9",
            "afcb0afc227d41cb9f5d3b09bcfd7166",
            "b71f62a52a304549b4c78809394bb653",
            "029b542b747044988891b954f8ec8115",
            "ae86a92054e54a809e752aef0495f868"
          ]
        },
        "id": "K9QhMWqW5ybv",
        "outputId": "a1cb0656-52ab-418a-fa91-5b1fd307d63d"
      },
      "source": [
        "# Finding max and min lepton energy over neutrino energy (y)\r\n",
        "\r\n",
        "y_energy = [] # empty array for values of lepton energy over neutrino energy \r\n",
        "\r\n",
        "for filename in tqdm(files_e3):\r\n",
        "  df=h5py.File(filename, 'r')\r\n",
        "\r\n",
        "  for i in range(len(df['cvnmap'])):\r\n",
        "    if df['neutrino']['interaction'][i] < 15 or df['neutrino']['interaction'][i] == 16:\r\n",
        "      y = df['neutrino']['lepenergy'][i] / df['neutrino']['nuenergy'][i] \r\n",
        "      y_energy.append(y)\r\n",
        "    else:\r\n",
        "      pass"
      ],
      "execution_count": null,
      "outputs": [
        {
          "output_type": "display_data",
          "data": {
            "application/vnd.jupyter.widget-view+json": {
              "model_id": "e73eef6f09d846fab9df3d502805dd97",
              "version_major": 2,
              "version_minor": 0
            },
            "text/plain": [
              "HBox(children=(FloatProgress(value=0.0, max=200.0), HTML(value='')))"
            ]
          },
          "metadata": {
            "tags": []
          }
        },
        {
          "output_type": "stream",
          "text": [
            "\n"
          ],
          "name": "stdout"
        }
      ]
    },
    {
      "cell_type": "code",
      "metadata": {
        "colab": {
          "base_uri": "https://localhost:8080/"
        },
        "id": "YiXVL2wi1G-l",
        "outputId": "508c5ef0-e2eb-476d-94e3-4756ecb22296"
      },
      "source": [
        "print('Maximum energy for y:', np.max(y_energy))\r\n",
        "print('Minimum energy for y:', np.min(y_energy))\r\n",
        "\r\n",
        "max = np.max(y_energy)"
      ],
      "execution_count": null,
      "outputs": [
        {
          "output_type": "stream",
          "text": [
            "Maximum energy for y: 1.0226585\n",
            "Minimum energy for y: 0.0007331721\n"
          ],
          "name": "stdout"
        }
      ]
    },
    {
      "cell_type": "code",
      "metadata": {
        "colab": {
          "base_uri": "https://localhost:8080/",
          "height": 65,
          "referenced_widgets": [
            "760e5dd54d614d3394b42941e343f715",
            "657298e31b774244b3cedc4e91a2e043",
            "cbd48e22bdf941259dabda97005b31ce",
            "145bfc5aa9ff45ebb852fd29a30d576a",
            "93497e1153594f91ac433805be736875",
            "8d966f996e414d04bce53f9a34da7f76",
            "abdeea06686f4daf9a56f86b906adac9",
            "64cb74a0201f4016a8edf967b0ba996b"
          ]
        },
        "id": "sYxj0J8y_Jvh",
        "outputId": "26e49120-59d0-46ea-c538-b3697ac4eb2a"
      },
      "source": [
        "files_e3_2=data_retriever(10)"
      ],
      "execution_count": null,
      "outputs": [
        {
          "output_type": "display_data",
          "data": {
            "application/vnd.jupyter.widget-view+json": {
              "model_id": "760e5dd54d614d3394b42941e343f715",
              "version_major": 2,
              "version_minor": 0
            },
            "text/plain": [
              "HBox(children=(FloatProgress(value=0.0, max=10.0), HTML(value='')))"
            ]
          },
          "metadata": {
            "tags": []
          }
        },
        {
          "output_type": "stream",
          "text": [
            "\n"
          ],
          "name": "stdout"
        }
      ]
    },
    {
      "cell_type": "code",
      "metadata": {
        "colab": {
          "background_save": true,
          "base_uri": "https://localhost:8080/",
          "height": 49,
          "referenced_widgets": [
            "2bc0ce756b484d8092b192c39730962f",
            "3685d1fa351d4680ad65aab789031534",
            "3961051865a141d6b494da59f1adf311",
            "374ccccf1205454ab5e203cdf1a3fce0",
            "22569285b3104325afb02efc6b26522b",
            "13948e79af5a4007a4aaadfbda676f84",
            "fe516409a9234f64b6b341005edd805e",
            "1472ea86aa38401d84e56ab9d1f417d1"
          ]
        },
        "id": "eDEtJH8zwxLw",
        "outputId": "bc5e3dba-3974-453b-e5b8-b43ce650037d"
      },
      "source": [
        "# Finding max and min lepton energy over neutrino energy (y)\r\n",
        "\r\n",
        "y_energy_labels = [] # empty array for values of lepton energy over neutrino energy \r\n",
        "y_energy_input_1=[]\r\n",
        "y_energy_input_2=[]\r\n",
        "\r\n",
        "for filename in tqdm(files_e3_2):\r\n",
        "  df=h5py.File(filename, 'r')\r\n",
        "\r\n",
        "  for i in range(len(df['cvnmap'])):\r\n",
        "    if df['neutrino']['interaction'][i] < 15 or df['neutrino']['interaction'][i] == 16:\r\n",
        "      y = df['neutrino']['lepenergy'][i] / df['neutrino']['nuenergy'][i] \r\n",
        "      y_energy_labels.append(y)\r\n",
        "      model = df['cvnmap'][i].reshape((2,100,80))\r\n",
        "      y_energy_input_1.append(model[0])\r\n",
        "      y_energy_input_2.append(model[1])\r\n",
        "    else:\r\n",
        "      pass"
      ],
      "execution_count": null,
      "outputs": [
        {
          "output_type": "display_data",
          "data": {
            "application/vnd.jupyter.widget-view+json": {
              "model_id": "2bc0ce756b484d8092b192c39730962f",
              "version_major": 2,
              "version_minor": 0
            },
            "text/plain": [
              "HBox(children=(FloatProgress(value=0.0, max=10.0), HTML(value='')))"
            ]
          },
          "metadata": {
            "tags": []
          }
        },
        {
          "output_type": "stream",
          "text": [
            "\n"
          ],
          "name": "stdout"
        }
      ]
    },
    {
      "cell_type": "code",
      "metadata": {
        "colab": {
          "base_uri": "https://localhost:8080/",
          "height": 336
        },
        "id": "tK-LrU8kBrhl",
        "outputId": "c51beec1-53ed-4983-bbe6-547f4e590667"
      },
      "source": [
        "y_energy_labels=y_energy_labels/np.max(y_energy_labels)"
      ],
      "execution_count": null,
      "outputs": [
        {
          "output_type": "error",
          "ename": "ValueError",
          "evalue": "ignored",
          "traceback": [
            "\u001b[0;31m---------------------------------------------------------------------------\u001b[0m",
            "\u001b[0;31mValueError\u001b[0m                                Traceback (most recent call last)",
            "\u001b[0;32m<ipython-input-45-291304384823>\u001b[0m in \u001b[0;36m<module>\u001b[0;34m()\u001b[0m\n\u001b[0;32m----> 1\u001b[0;31m \u001b[0my_energy_labels\u001b[0m\u001b[0;34m=\u001b[0m\u001b[0my_energy_labels\u001b[0m\u001b[0;34m/\u001b[0m\u001b[0mnp\u001b[0m\u001b[0;34m.\u001b[0m\u001b[0mmax\u001b[0m\u001b[0;34m(\u001b[0m\u001b[0my_energy_labels\u001b[0m\u001b[0;34m)\u001b[0m\u001b[0;34m\u001b[0m\u001b[0;34m\u001b[0m\u001b[0m\n\u001b[0m",
            "\u001b[0;32m<__array_function__ internals>\u001b[0m in \u001b[0;36mamax\u001b[0;34m(*args, **kwargs)\u001b[0m\n",
            "\u001b[0;32m/usr/local/lib/python3.6/dist-packages/numpy/core/fromnumeric.py\u001b[0m in \u001b[0;36mamax\u001b[0;34m(a, axis, out, keepdims, initial, where)\u001b[0m\n\u001b[1;32m   2704\u001b[0m     \"\"\"\n\u001b[1;32m   2705\u001b[0m     return _wrapreduction(a, np.maximum, 'max', axis, None, out,\n\u001b[0;32m-> 2706\u001b[0;31m                           keepdims=keepdims, initial=initial, where=where)\n\u001b[0m\u001b[1;32m   2707\u001b[0m \u001b[0;34m\u001b[0m\u001b[0m\n\u001b[1;32m   2708\u001b[0m \u001b[0;34m\u001b[0m\u001b[0m\n",
            "\u001b[0;32m/usr/local/lib/python3.6/dist-packages/numpy/core/fromnumeric.py\u001b[0m in \u001b[0;36m_wrapreduction\u001b[0;34m(obj, ufunc, method, axis, dtype, out, **kwargs)\u001b[0m\n\u001b[1;32m     85\u001b[0m                 \u001b[0;32mreturn\u001b[0m \u001b[0mreduction\u001b[0m\u001b[0;34m(\u001b[0m\u001b[0maxis\u001b[0m\u001b[0;34m=\u001b[0m\u001b[0maxis\u001b[0m\u001b[0;34m,\u001b[0m \u001b[0mout\u001b[0m\u001b[0;34m=\u001b[0m\u001b[0mout\u001b[0m\u001b[0;34m,\u001b[0m \u001b[0;34m**\u001b[0m\u001b[0mpasskwargs\u001b[0m\u001b[0;34m)\u001b[0m\u001b[0;34m\u001b[0m\u001b[0;34m\u001b[0m\u001b[0m\n\u001b[1;32m     86\u001b[0m \u001b[0;34m\u001b[0m\u001b[0m\n\u001b[0;32m---> 87\u001b[0;31m     \u001b[0;32mreturn\u001b[0m \u001b[0mufunc\u001b[0m\u001b[0;34m.\u001b[0m\u001b[0mreduce\u001b[0m\u001b[0;34m(\u001b[0m\u001b[0mobj\u001b[0m\u001b[0;34m,\u001b[0m \u001b[0maxis\u001b[0m\u001b[0;34m,\u001b[0m \u001b[0mdtype\u001b[0m\u001b[0;34m,\u001b[0m \u001b[0mout\u001b[0m\u001b[0;34m,\u001b[0m \u001b[0;34m**\u001b[0m\u001b[0mpasskwargs\u001b[0m\u001b[0;34m)\u001b[0m\u001b[0;34m\u001b[0m\u001b[0;34m\u001b[0m\u001b[0m\n\u001b[0m\u001b[1;32m     88\u001b[0m \u001b[0;34m\u001b[0m\u001b[0m\n\u001b[1;32m     89\u001b[0m \u001b[0;34m\u001b[0m\u001b[0m\n",
            "\u001b[0;31mValueError\u001b[0m: zero-size array to reduction operation maximum which has no identity"
          ]
        }
      ]
    },
    {
      "cell_type": "markdown",
      "metadata": {
        "id": "HP9qL1zR__oo"
      },
      "source": [
        "# 4. Write a machine learning algorithm to determine the number of protons or pions"
      ]
    },
    {
      "cell_type": "code",
      "metadata": {
        "id": "0IPD42_vADxm"
      },
      "source": [
        ""
      ],
      "execution_count": null,
      "outputs": []
    }
  ]
}